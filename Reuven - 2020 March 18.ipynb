{
 "cells": [
  {
   "cell_type": "code",
   "execution_count": null,
   "metadata": {},
   "outputs": [],
   "source": [
    "# None\n",
    "# True/False (bool)\n",
    "# int / float\n",
    "\n",
    "# sequences:\n",
    "# all (a) indexable, (b) sliceable, (c) iterable\n",
    "# we can use \"in\" to search in them\n",
    "\n",
    "# - str  -- contains any number of characters, and is IMMUTABLE\n",
    "# - list -- contains any number of any items, and is mutable\n",
    "#     -- typically used for a series of the same type\n",
    "# - tuple  -- contains any number of any items, and is IMMUTABLE\n",
    "#     -- typically used for a series of different types\n",
    "\n",
    "# iterate with a \"for\" loop over every item in an iterable\n",
    "\n",
    "for one_item in thing:\n",
    "    print(one_item)\n",
    "    \n",
    "# use \"break\" to get out of a loop\n",
    "# use \"continue\" to finish the current iteration, but not leave the loop\n",
    "#   meaning: go onto the next iteration\n",
    "\n",
    "# while loops continue to iterate until the condition is False\n",
    "\n",
    "x = 5\n",
    "while x > 0:\n",
    "    print(x)\n",
    "    x -= 1"
   ]
  },
  {
   "cell_type": "code",
   "execution_count": null,
   "metadata": {},
   "outputs": [],
   "source": [
    "# build a simple address book!\n",
    "# our address book will contain first name, last name, e-mail address\n",
    "# it will be a list of tuples\n",
    "\n",
    "[\n",
    "    ('Reuven', 'Lerner', 'reuven@lerner.co.il'),\n",
    "    ('John', 'Doe', 'john@doe.com'),\n",
    "]\n",
    "\n",
    "\n",
    "# (1) Create an empty list, called \"people\"\n",
    "# (2) Ask the user to enter a command -- could be:\n",
    "\n",
    "# while True -- asks an infinite number of times\n",
    "\n",
    "# get input from the user (hint: use the \"input\" function)\n",
    "# compare it with 'q' -- then we quit from the loop\n",
    "# compare it with 'a' -- then we add a new person\n",
    "#   ask first name\n",
    "#   ask last name\n",
    "#   ask e-mail address\n",
    "#   create a tuple with these three values\n",
    "#   stick that tuple onto the end of our \"people\" list\n",
    "# go back for another command!\n",
    "\n",
    "\n",
    "# - q (quit) \n",
    "# - a (add a new person -- ask three questions, use the answers\n",
    "#    to create a tuple, and add the tuple to the list)\n",
    "\n",
    "# Ask the user 3 questions (first/last/e-mail), stick the\n",
    "# answers into a tuple, and add that tuple to a list\n",
    "\n",
    "Command: q\n",
    "Bye\n",
    "\n",
    "Command: a\n",
    "Enter first name: Reuven\n",
    "Enter last name: Lerner\n",
    "Enter email address: reuven@lerner.co.il\n",
    "    \n",
    "# The program will use these three answers to create a tuple,\n",
    "# and will add that tuple to the \"people\" list\n",
    "\n",
    "# remember, you can add something (anything!) to a list with\n",
    "# the list.append method: mylist.append(5)\n"
   ]
  },
  {
   "cell_type": "code",
   "execution_count": 1,
   "metadata": {},
   "outputs": [
    {
     "name": "stdout",
     "output_type": "stream",
     "text": [
      "Enter a command: a\n",
      "Enter first name: Reuven\n",
      "Enter last name: Lerner\n",
      "Enter e-mail address: reuven@lerner.co.il\n",
      "Enter a command: a\n",
      "Enter first name: John\n",
      "Enter last name: Doe\n",
      "Enter e-mail address: john@doe.com\n",
      "Enter a command: q\n"
     ]
    }
   ],
   "source": [
    "people = []\n",
    "\n",
    "while True:\n",
    "    print(people)\n",
    "    user_choice = input(\"Enter a command: \").strip()\n",
    "    \n",
    "    if user_choice == 'q':\n",
    "        break\n",
    "        \n",
    "    elif user_choice == 'a':\n",
    "        first_name = input(\"Enter first name: \").strip()\n",
    "        last_name = input(\"Enter last name: \").strip()\n",
    "        email = input(\"Enter e-mail address: \").strip()\n",
    "        \n",
    "        new_person = (first_name, last_name, email)\n",
    "        people.append(new_person)\n",
    "        \n",
    "elif user_choice == 'l':\n",
    "    # go through each person -- meaning, a \"for\" loop on the \"people\"\n",
    "    # list... getting one tuple at a time\n",
    "    # retrieve the fields from the tuple (t[0], t[1], t[2])\n",
    "    # and then print them\n",
    "    \n",
    "    \n",
    "# (1) add an \"l\" command (list all people)\n",
    "#   show all people in our address book by last name, first name (email)\n",
    "\n",
    "elif user_choice == 'l':\n",
    "    # ask for a search string\n",
    "    # go through each person -- meaning, a \"for\" loop on the \"people\"\n",
    "    # list... getting one tuple at a time\n",
    "    # retrieve the fields from the tuple (t[0], t[1], t[2])\n",
    "    # and then print them *IF* either t[0] or t[1] contains \n",
    "    #  the search string\n",
    "\n",
    "# (2) add an \"f\" command (find)\n",
    "#   ask the user what they want to search for\n",
    "#   show all people, just like in \"l\", but only if the first\n",
    "#    and/or last names include the string that the person requested"
   ]
  },
  {
   "cell_type": "code",
   "execution_count": 2,
   "metadata": {},
   "outputs": [
    {
     "data": {
      "text/plain": [
       "[('Reuven', 'Lerner', 'reuven@lerner.co.il'), ('John', 'Doe', 'john@doe.com')]"
      ]
     },
     "execution_count": 2,
     "metadata": {},
     "output_type": "execute_result"
    }
   ],
   "source": [
    "people\n"
   ]
  },
  {
   "cell_type": "code",
   "execution_count": 6,
   "metadata": {},
   "outputs": [
    {
     "name": "stdout",
     "output_type": "stream",
     "text": [
      "Enter a command: l\n",
      "Lerner    , Reuven    : reuven@lerner.co.il\n",
      "Doe       , John      : john@doe.com\n",
      "Enter a command: q\n"
     ]
    }
   ],
   "source": [
    "# people = []\n",
    "\n",
    "while True:\n",
    "#     print(people)\n",
    "    user_choice = input(\"Enter a command: \").strip()\n",
    "    \n",
    "    if user_choice == 'q':\n",
    "        break\n",
    "        \n",
    "    elif user_choice == 'a':\n",
    "        first_name = input(\"Enter first name: \").strip()\n",
    "        last_name = input(\"Enter last name: \").strip()\n",
    "        email = input(\"Enter e-mail address: \").strip()\n",
    "        \n",
    "        new_person = (first_name, last_name, email)\n",
    "        people.append(new_person)\n",
    "        \n",
    "    elif user_choice == 'l':\n",
    "        for one_person in people:\n",
    "            first_name = one_person[0]\n",
    "            last_name = one_person[1]\n",
    "            email = one_person[2]\n",
    "            \n",
    "            print(f'{last_name:10}, {first_name:10}: {email}')\n",
    "        "
   ]
  },
  {
   "cell_type": "code",
   "execution_count": 7,
   "metadata": {},
   "outputs": [
    {
     "data": {
      "text/plain": [
       "[10, 20, 30]"
      ]
     },
     "execution_count": 7,
     "metadata": {},
     "output_type": "execute_result"
    }
   ],
   "source": [
    "mylist = [10, 20, 30]\n",
    "\n",
    "x = mylist\n",
    "x"
   ]
  },
  {
   "cell_type": "code",
   "execution_count": 8,
   "metadata": {},
   "outputs": [],
   "source": [
    "x,y,z = mylist  # unpacking -- 3 values -> 3 variables"
   ]
  },
  {
   "cell_type": "code",
   "execution_count": 9,
   "metadata": {},
   "outputs": [
    {
     "data": {
      "text/plain": [
       "10"
      ]
     },
     "execution_count": 9,
     "metadata": {},
     "output_type": "execute_result"
    }
   ],
   "source": [
    "x"
   ]
  },
  {
   "cell_type": "code",
   "execution_count": 10,
   "metadata": {},
   "outputs": [
    {
     "data": {
      "text/plain": [
       "20"
      ]
     },
     "execution_count": 10,
     "metadata": {},
     "output_type": "execute_result"
    }
   ],
   "source": [
    "y"
   ]
  },
  {
   "cell_type": "code",
   "execution_count": 11,
   "metadata": {},
   "outputs": [
    {
     "data": {
      "text/plain": [
       "30"
      ]
     },
     "execution_count": 11,
     "metadata": {},
     "output_type": "execute_result"
    }
   ],
   "source": [
    "z"
   ]
  },
  {
   "cell_type": "code",
   "execution_count": 13,
   "metadata": {},
   "outputs": [
    {
     "name": "stdout",
     "output_type": "stream",
     "text": [
      "Enter a command: f\n",
      "Enter search string: e\n",
      "Lerner    , Reuven    : reuven@lerner.co.il\n",
      "Doe       , John      : john@doe.com\n",
      "Enter a command: f\n",
      "Enter search string: D\n",
      "Doe       , John      : john@doe.com\n",
      "Enter a command: q\n"
     ]
    }
   ],
   "source": [
    "# people = []\n",
    "\n",
    "while True:\n",
    "#     print(people)\n",
    "    user_choice = input(\"Enter a command: \").strip()\n",
    "    \n",
    "    if user_choice == 'q':\n",
    "        break\n",
    "        \n",
    "    elif user_choice == 'a':\n",
    "        first_name = input(\"Enter first name: \").strip()\n",
    "        last_name = input(\"Enter last name: \").strip()\n",
    "        email = input(\"Enter e-mail address: \").strip()\n",
    "        \n",
    "        new_person = (first_name, last_name, email)\n",
    "        people.append(new_person)\n",
    "        \n",
    "    elif user_choice == 'l':\n",
    "        for one_person in people:\n",
    "            first_name, last_name, email = one_person\n",
    "            \n",
    "            print(f'{last_name:10}, {first_name:10}: {email}')\n",
    "\n",
    "    elif user_choice == 'f':\n",
    "        look_for = input(\"Enter search string: \").strip()\n",
    "        for one_person in people:\n",
    "            first_name, last_name, email = one_person\n",
    "            \n",
    "            if look_for in first_name or look_for in last_name:\n",
    "                print(f'{last_name:10}, {first_name:10}: {email}')        "
   ]
  },
  {
   "cell_type": "code",
   "execution_count": 14,
   "metadata": {},
   "outputs": [
    {
     "data": {
      "text/plain": [
       "[('Reuven', 'Lerner', 'reuven@lerner.co.il'), ('John', 'Doe', 'john@doe.com')]"
      ]
     },
     "execution_count": 14,
     "metadata": {},
     "output_type": "execute_result"
    }
   ],
   "source": [
    "people"
   ]
  },
  {
   "cell_type": "code",
   "execution_count": 15,
   "metadata": {},
   "outputs": [
    {
     "data": {
      "text/plain": [
       "False"
      ]
     },
     "execution_count": 15,
     "metadata": {},
     "output_type": "execute_result"
    }
   ],
   "source": [
    "'Lerner' in people\n"
   ]
  },
  {
   "cell_type": "code",
   "execution_count": 16,
   "metadata": {},
   "outputs": [
    {
     "data": {
      "text/plain": [
       "[('Reuven', 'Lerner', 'reuven@lerner.co.il'), ('John', 'Doe', 'john@doe.com')]"
      ]
     },
     "execution_count": 16,
     "metadata": {},
     "output_type": "execute_result"
    }
   ],
   "source": [
    "people"
   ]
  },
  {
   "cell_type": "code",
   "execution_count": 17,
   "metadata": {},
   "outputs": [],
   "source": [
    "# computer science theory has big-O notation \n",
    "# means: how long does it take to do something?\n",
    "\n",
    "# searching through a list of size n takes O(n) time\n",
    "# meaning: a longer list takes more time\n",
    "\n",
    "# another kind of data structure, the \"dictionary\" that has\n",
    "# O(1) time -- meaning constant time.  \n",
    "# Meaning: No matter how many items it contains, it takes the same\n",
    "# time to search."
   ]
  },
  {
   "cell_type": "code",
   "execution_count": 18,
   "metadata": {},
   "outputs": [],
   "source": [
    "# dict is a Python data structure that:\n",
    "# - gives really fast searching\n",
    "# - it lets us write code that's more readable than lists/tuples\n",
    "# - it works in pairs of data, known as keys and values"
   ]
  },
  {
   "cell_type": "code",
   "execution_count": 19,
   "metadata": {},
   "outputs": [],
   "source": [
    "mylist = [10, 20, 30, 40, 50]\n",
    "\n",
    "# dict lets me determine the indexes (we call them keys)\n",
    "# use curly braces to define a dict\n",
    "d = {5:200, 6:1000, 10: 250}"
   ]
  },
  {
   "cell_type": "code",
   "execution_count": 20,
   "metadata": {},
   "outputs": [
    {
     "data": {
      "text/plain": [
       "200"
      ]
     },
     "execution_count": 20,
     "metadata": {},
     "output_type": "execute_result"
    }
   ],
   "source": [
    "# to retrieve the value 200, I need to use the key 5\n",
    "d[5]"
   ]
  },
  {
   "cell_type": "code",
   "execution_count": 21,
   "metadata": {},
   "outputs": [
    {
     "data": {
      "text/plain": [
       "1000"
      ]
     },
     "execution_count": 21,
     "metadata": {},
     "output_type": "execute_result"
    }
   ],
   "source": [
    "# to retireve the key 1000, I need to use the key 6\n",
    "d[6]"
   ]
  },
  {
   "cell_type": "code",
   "execution_count": 22,
   "metadata": {},
   "outputs": [],
   "source": [
    "# dict keys are:\n",
    "# - unique\n",
    "# - hashable (basically means immutable)"
   ]
  },
  {
   "cell_type": "code",
   "execution_count": 23,
   "metadata": {},
   "outputs": [
    {
     "data": {
      "text/plain": [
       "'Reuven'"
      ]
     },
     "execution_count": 23,
     "metadata": {},
     "output_type": "execute_result"
    }
   ],
   "source": [
    "person = {'first':'Reuven', 'last':'Lerner'}\n",
    "\n",
    "person['first']"
   ]
  },
  {
   "cell_type": "code",
   "execution_count": 24,
   "metadata": {},
   "outputs": [
    {
     "data": {
      "text/plain": [
       "2"
      ]
     },
     "execution_count": 24,
     "metadata": {},
     "output_type": "execute_result"
    }
   ],
   "source": [
    "len(person)"
   ]
  },
  {
   "cell_type": "code",
   "execution_count": 25,
   "metadata": {},
   "outputs": [
    {
     "ename": "KeyError",
     "evalue": "'email'",
     "output_type": "error",
     "traceback": [
      "\u001b[0;31m---------------------------------------------------------------------------\u001b[0m",
      "\u001b[0;31mKeyError\u001b[0m                                  Traceback (most recent call last)",
      "\u001b[0;32m<ipython-input-25-d070676ff27f>\u001b[0m in \u001b[0;36m<module>\u001b[0;34m\u001b[0m\n\u001b[0;32m----> 1\u001b[0;31m \u001b[0mperson\u001b[0m\u001b[0;34m[\u001b[0m\u001b[0;34m'email'\u001b[0m\u001b[0;34m]\u001b[0m\u001b[0;34m\u001b[0m\u001b[0;34m\u001b[0m\u001b[0m\n\u001b[0m",
      "\u001b[0;31mKeyError\u001b[0m: 'email'"
     ]
    }
   ],
   "source": [
    "person['email']"
   ]
  },
  {
   "cell_type": "code",
   "execution_count": 26,
   "metadata": {},
   "outputs": [
    {
     "data": {
      "text/plain": [
       "False"
      ]
     },
     "execution_count": 26,
     "metadata": {},
     "output_type": "execute_result"
    }
   ],
   "source": [
    "'email' in person  # checks the keys, NOT the values!"
   ]
  },
  {
   "cell_type": "code",
   "execution_count": 27,
   "metadata": {},
   "outputs": [
    {
     "data": {
      "text/plain": [
       "True"
      ]
     },
     "execution_count": 27,
     "metadata": {},
     "output_type": "execute_result"
    }
   ],
   "source": [
    "'first' in person"
   ]
  },
  {
   "cell_type": "code",
   "execution_count": 28,
   "metadata": {},
   "outputs": [
    {
     "name": "stdout",
     "output_type": "stream",
     "text": [
      "Reuven\n"
     ]
    }
   ],
   "source": [
    "if 'first' in person:\n",
    "    print(person['first'])"
   ]
  },
  {
   "cell_type": "code",
   "execution_count": null,
   "metadata": {},
   "outputs": [],
   "source": [
    "# restaurant\n",
    "# create a dict in which the keys are menu items, and the values\n",
    "#  are prices.\n",
    "\n",
    "# ask the user, repeatedly, what they want to order\n",
    "# - if they give an empty string, tell them the amount of their bill\n",
    "# - if they name something on the menu, print the price and the\n",
    "#  new total\n",
    "# - if they name something not on the menu, scold them appropriately\n",
    "\n",
    "Order: tea\n",
    "tea costs 10, total is 10\n",
    "Order: sandwich\n",
    "sandwich costs 15, total is 25\n",
    "Order: elephant\n",
    "We are fresh out of elephant today\n",
    "Order: <enter>\n",
    "Your total is 25\n"
   ]
  },
  {
   "cell_type": "code",
   "execution_count": 29,
   "metadata": {},
   "outputs": [],
   "source": [
    "mydict = {'egg':10}"
   ]
  },
  {
   "cell_type": "code",
   "execution_count": 30,
   "metadata": {},
   "outputs": [
    {
     "ename": "NameError",
     "evalue": "name 'egg' is not defined",
     "output_type": "error",
     "traceback": [
      "\u001b[0;31m---------------------------------------------------------------------------\u001b[0m",
      "\u001b[0;31mNameError\u001b[0m                                 Traceback (most recent call last)",
      "\u001b[0;32m<ipython-input-30-23a13a4e03b4>\u001b[0m in \u001b[0;36m<module>\u001b[0;34m\u001b[0m\n\u001b[0;32m----> 1\u001b[0;31m \u001b[0mmydict\u001b[0m \u001b[0;34m=\u001b[0m \u001b[0;34m{\u001b[0m\u001b[0megg\u001b[0m\u001b[0;34m:\u001b[0m\u001b[0;36m10\u001b[0m\u001b[0;34m}\u001b[0m\u001b[0;34m\u001b[0m\u001b[0;34m\u001b[0m\u001b[0m\n\u001b[0m",
      "\u001b[0;31mNameError\u001b[0m: name 'egg' is not defined"
     ]
    }
   ],
   "source": [
    "mydict = {egg:10}"
   ]
  },
  {
   "cell_type": "code",
   "execution_count": 31,
   "metadata": {},
   "outputs": [
    {
     "name": "stdout",
     "output_type": "stream",
     "text": [
      "a\n",
      "Enter something: something\n",
      "b\n"
     ]
    }
   ],
   "source": [
    "print('a')\n",
    "x = input(\"Enter something: \")\n",
    "print('b')"
   ]
  },
  {
   "cell_type": "code",
   "execution_count": 36,
   "metadata": {},
   "outputs": [
    {
     "name": "stdout",
     "output_type": "stream",
     "text": [
      "What would you like to order? tea\n",
      "Price is 5, total is 5\n",
      "What would you like to order? asdfafa\n",
      "We do not serve asdfafa here\n",
      "What would you like to order? \n",
      "Total = 5\n"
     ]
    }
   ],
   "source": [
    "total = 0\n",
    "menu = {'tea':5,'sandwich':15,'cake':10}\n",
    "\n",
    "while True:\n",
    "    item = input(\"What would you like to order? \")\n",
    "\n",
    "    # if item == '':\n",
    "    if not item:  # takes advantage of the fact that '' is False in an \"if\"\n",
    "        break\n",
    "\n",
    "    elif item in menu:\n",
    "        price = menu[item]\n",
    "        total += price\n",
    "        print(f'Price is {price}, total is {total}')\n",
    "              \n",
    "    else:\n",
    "        print(f'We do not serve {item} here')\n",
    "\n",
    "print(f'Total = {total}')"
   ]
  },
  {
   "cell_type": "code",
   "execution_count": 39,
   "metadata": {},
   "outputs": [
    {
     "name": "stdout",
     "output_type": "stream",
     "text": [
      "What would you like to order? asdfa\n",
      "We do not serve asdfa here\n",
      "What would you like to order? \n",
      "Total = 0\n"
     ]
    }
   ],
   "source": [
    "total = 0\n",
    "menu = {'tea':5,'sandwich':15,'cake':10}\n",
    "\n",
    "while item := input(\"What would you like to order? \").strip():\n",
    "\n",
    "    if item in menu:\n",
    "        price = menu[item]\n",
    "        total += price\n",
    "        print(f'Price is {price}, total is {total}')\n",
    "              \n",
    "    else:\n",
    "        print(f'We do not serve {item} here')\n",
    "\n",
    "print(f'Total = {total}')"
   ]
  },
  {
   "cell_type": "code",
   "execution_count": 40,
   "metadata": {},
   "outputs": [
    {
     "data": {
      "text/plain": [
       "{'a': 10}"
      ]
     },
     "execution_count": 40,
     "metadata": {},
     "output_type": "execute_result"
    }
   ],
   "source": [
    "d = {}         # empty dict\n",
    "d['a'] = 10    # adds the key-value pair 'a':10 to the dict\n",
    "d"
   ]
  },
  {
   "cell_type": "code",
   "execution_count": 41,
   "metadata": {},
   "outputs": [
    {
     "data": {
      "text/plain": [
       "1"
      ]
     },
     "execution_count": 41,
     "metadata": {},
     "output_type": "execute_result"
    }
   ],
   "source": [
    "len(d)   # how many pairs?  (Not how many pieces of data)"
   ]
  },
  {
   "cell_type": "code",
   "execution_count": 42,
   "metadata": {},
   "outputs": [
    {
     "data": {
      "text/plain": [
       "{'a': 10, 'b': 20}"
      ]
     },
     "execution_count": 42,
     "metadata": {},
     "output_type": "execute_result"
    }
   ],
   "source": [
    "d['b'] = 20  # add the key-value pair 'b':20\n",
    "d"
   ]
  },
  {
   "cell_type": "code",
   "execution_count": 43,
   "metadata": {},
   "outputs": [],
   "source": [
    "d['b'] = 3333    # replace the value of 'b' with 3333"
   ]
  },
  {
   "cell_type": "code",
   "execution_count": 44,
   "metadata": {},
   "outputs": [
    {
     "data": {
      "text/plain": [
       "{'a': 10, 'b': 3333}"
      ]
     },
     "execution_count": 44,
     "metadata": {},
     "output_type": "execute_result"
    }
   ],
   "source": [
    "d"
   ]
  },
  {
   "cell_type": "code",
   "execution_count": 45,
   "metadata": {},
   "outputs": [
    {
     "data": {
      "text/plain": [
       "{'a': 10, 'b': 3333}"
      ]
     },
     "execution_count": 45,
     "metadata": {},
     "output_type": "execute_result"
    }
   ],
   "source": [
    "d"
   ]
  },
  {
   "cell_type": "code",
   "execution_count": 47,
   "metadata": {},
   "outputs": [
    {
     "data": {
      "text/plain": [
       "{'a': 20, 'b': 3333}"
      ]
     },
     "execution_count": 47,
     "metadata": {},
     "output_type": "execute_result"
    }
   ],
   "source": [
    "d['a'] += 5   # d['a'] = d['a'] + 5    ... d['a'] = 20\n",
    "d"
   ]
  },
  {
   "cell_type": "code",
   "execution_count": 48,
   "metadata": {},
   "outputs": [
    {
     "ename": "KeyError",
     "evalue": "'q'",
     "output_type": "error",
     "traceback": [
      "\u001b[0;31m---------------------------------------------------------------------------\u001b[0m",
      "\u001b[0;31mKeyError\u001b[0m                                  Traceback (most recent call last)",
      "\u001b[0;32m<ipython-input-48-e189ee83cd4b>\u001b[0m in \u001b[0;36m<module>\u001b[0;34m\u001b[0m\n\u001b[0;32m----> 1\u001b[0;31m \u001b[0md\u001b[0m\u001b[0;34m[\u001b[0m\u001b[0;34m'q'\u001b[0m\u001b[0;34m]\u001b[0m \u001b[0;34m+=\u001b[0m \u001b[0;36m5\u001b[0m   \u001b[0;31m# d['q'] = d['q'] + 5\u001b[0m\u001b[0;34m\u001b[0m\u001b[0;34m\u001b[0m\u001b[0m\n\u001b[0m",
      "\u001b[0;31mKeyError\u001b[0m: 'q'"
     ]
    }
   ],
   "source": [
    "d['q'] += 5   # d['q'] = d['q'] + 5"
   ]
  },
  {
   "cell_type": "code",
   "execution_count": 49,
   "metadata": {},
   "outputs": [
    {
     "data": {
      "text/plain": [
       "True"
      ]
     },
     "execution_count": 49,
     "metadata": {},
     "output_type": "execute_result"
    }
   ],
   "source": [
    "'a' in d"
   ]
  },
  {
   "cell_type": "code",
   "execution_count": 50,
   "metadata": {},
   "outputs": [
    {
     "data": {
      "text/plain": [
       "False"
      ]
     },
     "execution_count": 50,
     "metadata": {},
     "output_type": "execute_result"
    }
   ],
   "source": [
    "'q' in d"
   ]
  },
  {
   "cell_type": "code",
   "execution_count": null,
   "metadata": {},
   "outputs": [],
   "source": [
    "# (1) Create an empty dictionary, called \"rainfall\"\n",
    "# (2) Ask the user, repeatedly to enter a city name\n",
    "#  (it can be any city -- we're not limiting the user in advance)\n",
    "# (3) If the city is empty, we stop asking and print the \n",
    "#  \"rainfall\" dict\n",
    "# (4) If the city is not empty, we ask for how many mm rain \n",
    "#  fell in that city\n",
    "\n",
    "City: Jerusalem\n",
    "Rain: 2\n",
    "City: Tel Aviv\n",
    "Rain: 3\n",
    "City: Jerusalem\n",
    "Rain: 4\n",
    "City: <enter>\n",
    "{'Jerusalem': 6, 'Tel Aviv': 3}"
   ]
  },
  {
   "cell_type": "code",
   "execution_count": 51,
   "metadata": {},
   "outputs": [],
   "source": [
    "x = 5"
   ]
  },
  {
   "cell_type": "code",
   "execution_count": 52,
   "metadata": {},
   "outputs": [],
   "source": [
    "x = 'abcd'"
   ]
  },
  {
   "cell_type": "code",
   "execution_count": 53,
   "metadata": {},
   "outputs": [],
   "source": [
    "d = {'a':1, 'b':'cde', 'x':[10, 20, 30]}"
   ]
  },
  {
   "cell_type": "code",
   "execution_count": 57,
   "metadata": {},
   "outputs": [
    {
     "name": "stdout",
     "output_type": "stream",
     "text": [
      "Enter city name: Jerusalem\n",
      "Enter mm rain: 2\n",
      "Enter city name: Tel Aviv\n",
      "Enter mm rain: 3\n",
      "Enter city name: Jerusalem\n",
      "Enter mm rain: 4\n",
      "Enter city name: \n",
      "{'Jerusalem': 6, 'Tel Aviv': 3}\n"
     ]
    }
   ],
   "source": [
    "# Mypy \n",
    "\n",
    "rainfall = {}\n",
    "\n",
    "while True:\n",
    "    city_name = input(\"Enter city name: \").strip()\n",
    "    \n",
    "    if not city_name:\n",
    "        break\n",
    "        \n",
    "    mm_rain = input(\"Enter mm rain: \").strip()\n",
    "    mm_rain = int(mm_rain)\n",
    "    \n",
    "    if city_name in rainfall:\n",
    "        rainfall[city_name] += mm_rain\n",
    "    else:\n",
    "        rainfall[city_name] = mm_rain\n",
    "    \n",
    "print(rainfall)"
   ]
  },
  {
   "cell_type": "code",
   "execution_count": 58,
   "metadata": {},
   "outputs": [
    {
     "name": "stdout",
     "output_type": "stream",
     "text": [
      "a\n",
      "b\n",
      "c\n"
     ]
    }
   ],
   "source": [
    "d = {'a':1, 'b':2, 'c':3}\n",
    "\n",
    "for one_item in d:\n",
    "    print(one_item)"
   ]
  },
  {
   "cell_type": "code",
   "execution_count": 59,
   "metadata": {},
   "outputs": [
    {
     "data": {
      "text/plain": [
       "['a', 'b', 'c', 'd']"
      ]
     },
     "execution_count": 59,
     "metadata": {},
     "output_type": "execute_result"
    }
   ],
   "source": [
    "list('abcd')"
   ]
  },
  {
   "cell_type": "code",
   "execution_count": 60,
   "metadata": {},
   "outputs": [
    {
     "data": {
      "text/plain": [
       "['a', 'b', 'c']"
      ]
     },
     "execution_count": 60,
     "metadata": {},
     "output_type": "execute_result"
    }
   ],
   "source": [
    "list(d)"
   ]
  },
  {
   "cell_type": "code",
   "execution_count": 61,
   "metadata": {},
   "outputs": [
    {
     "name": "stdout",
     "output_type": "stream",
     "text": [
      "a: 1\n",
      "b: 2\n",
      "c: 3\n"
     ]
    }
   ],
   "source": [
    "for key in d:\n",
    "    print(f'{key}: {d[key]}')"
   ]
  },
  {
   "cell_type": "code",
   "execution_count": 62,
   "metadata": {},
   "outputs": [
    {
     "name": "stdout",
     "output_type": "stream",
     "text": [
      "a: 1\n",
      "b: 2\n",
      "c: 3\n"
     ]
    }
   ],
   "source": [
    "# dict.items returns two things with each iteration:\n",
    "# a key and a value!\n",
    "\n",
    "for key, value in d.items():\n",
    "    print(f'{key}: {value}')"
   ]
  },
  {
   "cell_type": "code",
   "execution_count": 63,
   "metadata": {},
   "outputs": [
    {
     "name": "stdout",
     "output_type": "stream",
     "text": [
      "{}\n",
      "Enter city name: Jerusalem\n",
      "Enter mm rain: 2\n",
      "{'Jerusalem': [2]}\n",
      "Enter city name: Tel Aviv\n",
      "Enter mm rain: 3\n",
      "{'Jerusalem': [2], 'Tel Aviv': [3]}\n",
      "Enter city name: Jerusalem\n",
      "Enter mm rain: 4\n",
      "{'Jerusalem': [2, 4], 'Tel Aviv': [3]}\n",
      "Enter city name: \n",
      "{'Jerusalem': [2, 4], 'Tel Aviv': [3]}\n"
     ]
    }
   ],
   "source": [
    "# Mypy \n",
    "\n",
    "rainfall = {}\n",
    "\n",
    "while True:\n",
    "    print(rainfall)\n",
    "    city_name = input(\"Enter city name: \").strip()\n",
    "    \n",
    "    if not city_name:\n",
    "        break\n",
    "        \n",
    "    mm_rain = input(\"Enter mm rain: \").strip()\n",
    "    mm_rain = int(mm_rain)\n",
    "    \n",
    "    if city_name in rainfall:\n",
    "        rainfall[city_name].append(mm_rain)\n",
    "    else:\n",
    "        rainfall[city_name] = [mm_rain]\n",
    "    \n",
    "print(rainfall)"
   ]
  },
  {
   "cell_type": "code",
   "execution_count": 64,
   "metadata": {},
   "outputs": [
    {
     "data": {
      "text/plain": [
       "{'Jerusalem': [2, 4], 'Tel Aviv': [3]}"
      ]
     },
     "execution_count": 64,
     "metadata": {},
     "output_type": "execute_result"
    }
   ],
   "source": [
    "rainfall"
   ]
  },
  {
   "cell_type": "code",
   "execution_count": 66,
   "metadata": {},
   "outputs": [
    {
     "name": "stdout",
     "output_type": "stream",
     "text": [
      "Jerusalem\n",
      "\t2\n",
      "\t4\n",
      "Tel Aviv\n",
      "\t3\n"
     ]
    }
   ],
   "source": [
    "for key, all_values in rainfall.items():\n",
    "    print(key)\n",
    "    for one_value in all_values:\n",
    "        print(f'\\t{one_value}')"
   ]
  },
  {
   "cell_type": "code",
   "execution_count": null,
   "metadata": {},
   "outputs": [],
   "source": [
    "# travel exercise\n",
    "# Create an empty dict -- the keys will be country names\n",
    "#  and the values will be lists of cities\n",
    "all_places = {}\n",
    "\n",
    "# Repeatedly ask the user to enter (in one line/one string)\n",
    "# a city, country where they have visited\n",
    "\n",
    "one_place = input(\"Enter a city, country: \").strip()\n",
    "\n",
    "# Break that apart (hint: use str.split) into two parts,\n",
    "# and use the country as the dict key, appending the city\n",
    "# onto the list of cities\n",
    "\n",
    "fields = one_place.split(',')  # this returns a list of two strings\n",
    "fields[0]  # this will be the city\n",
    "fields[1]  # this will be the country\n",
    "\n",
    "# Now, you're going to stick this into the dict\n",
    "# If the key is the country and the value is a list,\n",
    "# you'll want to do something like\n",
    "all_places[fields[1]].append(fields[0])\n",
    "\n",
    "\n",
    "# When the user presses <enter> use a loop to show each\n",
    "# country, and then the cities in that country you visited"
   ]
  },
  {
   "cell_type": "code",
   "execution_count": 67,
   "metadata": {},
   "outputs": [],
   "source": [
    "travell = {'lon': 22}\n"
   ]
  },
  {
   "cell_type": "code",
   "execution_count": 68,
   "metadata": {},
   "outputs": [
    {
     "data": {
      "text/plain": [
       "22"
      ]
     },
     "execution_count": 68,
     "metadata": {},
     "output_type": "execute_result"
    }
   ],
   "source": [
    "travell['lon']   # retrieve the value associated with 'lon' in travell"
   ]
  },
  {
   "cell_type": "code",
   "execution_count": 69,
   "metadata": {},
   "outputs": [
    {
     "ename": "NameError",
     "evalue": "name 'lon' is not defined",
     "output_type": "error",
     "traceback": [
      "\u001b[0;31m---------------------------------------------------------------------------\u001b[0m",
      "\u001b[0;31mNameError\u001b[0m                                 Traceback (most recent call last)",
      "\u001b[0;32m<ipython-input-69-74ac269aedfc>\u001b[0m in \u001b[0;36m<module>\u001b[0;34m\u001b[0m\n\u001b[0;32m----> 1\u001b[0;31m \u001b[0mtravell\u001b[0m\u001b[0;34m[\u001b[0m\u001b[0mlon\u001b[0m\u001b[0;34m]\u001b[0m  \u001b[0;31m# retrieve the value associated with the value of the lon variable\u001b[0m\u001b[0;34m\u001b[0m\u001b[0;34m\u001b[0m\u001b[0m\n\u001b[0m",
      "\u001b[0;31mNameError\u001b[0m: name 'lon' is not defined"
     ]
    }
   ],
   "source": [
    "travell[lon]  # retrieve the value associated with the value of the lon variable"
   ]
  },
  {
   "cell_type": "code",
   "execution_count": 70,
   "metadata": {},
   "outputs": [
    {
     "ename": "TypeError",
     "evalue": "'dict' object is not callable",
     "output_type": "error",
     "traceback": [
      "\u001b[0;31m---------------------------------------------------------------------------\u001b[0m",
      "\u001b[0;31mTypeError\u001b[0m                                 Traceback (most recent call last)",
      "\u001b[0;32m<ipython-input-70-082ed197702f>\u001b[0m in \u001b[0;36m<module>\u001b[0;34m\u001b[0m\n\u001b[0;32m----> 1\u001b[0;31m \u001b[0mtravell\u001b[0m\u001b[0;34m(\u001b[0m\u001b[0;34m'lon'\u001b[0m\u001b[0;34m)\u001b[0m  \u001b[0;31m# execute the travell function, passing 'lon' as an argument\u001b[0m\u001b[0;34m\u001b[0m\u001b[0;34m\u001b[0m\u001b[0m\n\u001b[0m",
      "\u001b[0;31mTypeError\u001b[0m: 'dict' object is not callable"
     ]
    }
   ],
   "source": [
    "travell('lon')  # execute the travell function, passing 'lon' as an argument"
   ]
  },
  {
   "cell_type": "code",
   "execution_count": 72,
   "metadata": {},
   "outputs": [
    {
     "name": "stdout",
     "output_type": "stream",
     "text": [
      "Enter a city, country: Beijing,China\n",
      "Enter a city, country: Shanghai,China\n",
      "Enter a city, country: Jerusalem,Israel\n",
      "Enter a city, country: Tel Aviv,Israel\n",
      "Enter a city, country: \n"
     ]
    }
   ],
   "source": [
    "all_places = {}\n",
    "\n",
    "while True:\n",
    "    one_place = input(\"Enter a city, country: \").strip()\n",
    "    \n",
    "    if not one_place:\n",
    "        break\n",
    "        \n",
    "    fields = one_place.split(',')\n",
    "    city_name = fields[0]\n",
    "    country_name = fields[1]\n",
    "    \n",
    "    # make sure there's a list associated with our country\n",
    "    if country_name not in all_places:\n",
    "        all_places[country_name] = []\n",
    "\n",
    "    all_places[country_name].append(city_name)"
   ]
  },
  {
   "cell_type": "code",
   "execution_count": 73,
   "metadata": {},
   "outputs": [
    {
     "name": "stdout",
     "output_type": "stream",
     "text": [
      "China\n",
      "\tBeijing\n",
      "\tShanghai\n",
      "Israel\n",
      "\tJerusalem\n",
      "\tTel Aviv\n"
     ]
    }
   ],
   "source": [
    "for country_name, all_cities in all_places.items():\n",
    "    print(country_name)\n",
    "    for one_city in all_cities:\n",
    "        print(f'\\t{one_city}')"
   ]
  },
  {
   "cell_type": "code",
   "execution_count": 74,
   "metadata": {},
   "outputs": [
    {
     "data": {
      "text/plain": [
       "{'China': ['Beijing', 'Shanghai'], 'Israel': ['Jerusalem', 'Tel Aviv']}"
      ]
     },
     "execution_count": 74,
     "metadata": {},
     "output_type": "execute_result"
    }
   ],
   "source": [
    "all_places"
   ]
  },
  {
   "cell_type": "code",
   "execution_count": 75,
   "metadata": {},
   "outputs": [
    {
     "data": {
      "text/plain": [
       "True"
      ]
     },
     "execution_count": 75,
     "metadata": {},
     "output_type": "execute_result"
    }
   ],
   "source": [
    "'China' in all_places"
   ]
  },
  {
   "cell_type": "code",
   "execution_count": 76,
   "metadata": {},
   "outputs": [
    {
     "data": {
      "text/plain": [
       "False"
      ]
     },
     "execution_count": 76,
     "metadata": {},
     "output_type": "execute_result"
    }
   ],
   "source": [
    "'Wherever' in all_places"
   ]
  },
  {
   "cell_type": "code",
   "execution_count": 79,
   "metadata": {},
   "outputs": [
    {
     "data": {
      "text/plain": [
       "False"
      ]
     },
     "execution_count": 79,
     "metadata": {},
     "output_type": "execute_result"
    }
   ],
   "source": [
    "'Tel Aviv' in all_places"
   ]
  },
  {
   "cell_type": "code",
   "execution_count": 80,
   "metadata": {},
   "outputs": [
    {
     "data": {
      "text/plain": [
       "False"
      ]
     },
     "execution_count": 80,
     "metadata": {},
     "output_type": "execute_result"
    }
   ],
   "source": [
    "'Tel Aviv' in all_places.values()"
   ]
  },
  {
   "cell_type": "code",
   "execution_count": null,
   "metadata": {},
   "outputs": [],
   "source": [
    "rainfall = {'London':50, 'Portsmouth':20}\n",
    "\n",
    "sam = 'London'\n",
    "\n",
    "##The following prints 50, as sam is a variable to the string London, where London is a key to the value 50\n",
    "rainfall[sam]   # same as rainfall['London']\n",
    "\n",
    "\n",
    "##The following errors as we are looking for the KEY of sam in rainfall & there is no key\n",
    "rainfall['sam']\n",
    "\n",
    "##The following is not valid as () calls a function.\n",
    "rainfall()\n"
   ]
  },
  {
   "cell_type": "code",
   "execution_count": null,
   "metadata": {},
   "outputs": [],
   "source": [
    "# clock = 90\n",
    "# while clock > 0:         # busy wait -- busy wait loop\n",
    "#   wait 1\n",
    "#   clock -= 1\n"
   ]
  },
  {
   "cell_type": "code",
   "execution_count": 81,
   "metadata": {},
   "outputs": [],
   "source": [
    "# filehandle -- in Python, we just call it a \"file object\""
   ]
  },
  {
   "cell_type": "code",
   "execution_count": 83,
   "metadata": {},
   "outputs": [],
   "source": [
    "# to read from a file, we'll need to create a file object for reading\n",
    "# I use the \"open\" function to indicate which file I want to read\n",
    "\n",
    "f = open('/etc/passwd')    # opens /etc/passwd for reading -- read is default"
   ]
  },
  {
   "cell_type": "code",
   "execution_count": 86,
   "metadata": {},
   "outputs": [],
   "source": [
    "f = open('/etc/passwd', 'r') # explicitly say I want to read the file"
   ]
  },
  {
   "cell_type": "code",
   "execution_count": 85,
   "metadata": {},
   "outputs": [
    {
     "data": {
      "text/plain": [
       "'root:x:0:0:root:/root:/bin/bash\\ndaemon:x:1:1:daemon:/usr/sbin:/usr/sbin/nologin\\nbin:x:2:2:bin:/bin:/usr/sbin/nologin\\nsys:x:3:3:sys:/dev:/usr/sbin/nologin\\nsync:x:4:65534:sync:/bin:/bin/sync\\ngames:x:5:60:games:/usr/games:/usr/sbin/nologin\\nman:x:6:12:man:/var/cache/man:/usr/sbin/nologin\\nlp:x:7:7:lp:/var/spool/lpd:/usr/sbin/nologin\\nmail:x:8:8:mail:/var/mail:/usr/sbin/nologin\\nnews:x:9:9:news:/var/spool/news:/usr/sbin/nologin\\nuucp:x:10:10:uucp:/var/spool/uucp:/usr/sbin/nologin\\nproxy:x:13:13:proxy:/bin:/usr/sbin/nologin\\nwww-data:x:33:33:www-data:/var/www:/usr/sbin/nologin\\nbackup:x:34:34:backup:/var/backups:/usr/sbin/nologin\\nlist:x:38:38:Mailing List Manager:/var/list:/usr/sbin/nologin\\nirc:x:39:39:ircd:/var/run/ircd:/usr/sbin/nologin\\ngnats:x:41:41:Gnats Bug-Reporting System (admin):/var/lib/gnats:/usr/sbin/nologin\\nnobody:x:65534:65534:nobody:/nonexistent:/usr/sbin/nologin\\nsystemd-network:x:100:102:systemd Network Management,,,:/run/systemd/netif:/usr/sbin/nologin\\nsystemd-resolve:x:101:103:systemd Resolver,,,:/run/systemd/resolve:/usr/sbin/nologin\\nsyslog:x:102:106::/home/syslog:/usr/sbin/nologin\\nmessagebus:x:103:107::/nonexistent:/usr/sbin/nologin\\n_apt:x:104:65534::/nonexistent:/usr/sbin/nologin\\nlxd:x:105:65534::/var/lib/lxd/:/bin/false\\nuuidd:x:106:110::/run/uuidd:/usr/sbin/nologin\\ndnsmasq:x:107:65534:dnsmasq,,,:/var/lib/misc:/usr/sbin/nologin\\nlandscape:x:108:112::/var/lib/landscape:/usr/sbin/nologin\\nsshd:x:109:65534::/run/sshd:/usr/sbin/nologin\\npollinate:x:110:1::/var/cache/pollinate:/bin/false\\nstudent:x:1000:1000:,,,:/home/student:/bin/bash\\n'"
      ]
     },
     "execution_count": 85,
     "metadata": {},
     "output_type": "execute_result"
    }
   ],
   "source": [
    "# to read the file's contents, use the \"read\" method\n",
    "f.read()  # returns a string with the file's contents"
   ]
  },
  {
   "cell_type": "code",
   "execution_count": 87,
   "metadata": {
    "collapsed": true
   },
   "outputs": [
    {
     "name": "stdout",
     "output_type": "stream",
     "text": [
      "root:x:0:0:root:/root:/bin/bash\n",
      "daemon:x:1:1:daemon:/usr/sbin:/usr/sbin/nologin\n",
      "bin:x:2:2:bin:/bin:/usr/sbin/nologin\n",
      "sys:x:3:3:sys:/dev:/usr/sbin/nologin\n",
      "sync:x:4:65534:sync:/bin:/bin/sync\n",
      "games:x:5:60:games:/usr/games:/usr/sbin/nologin\n",
      "man:x:6:12:man:/var/cache/man:/usr/sbin/nologin\n",
      "lp:x:7:7:lp:/var/spool/lpd:/usr/sbin/nologin\n",
      "mail:x:8:8:mail:/var/mail:/usr/sbin/nologin\n",
      "news:x:9:9:news:/var/spool/news:/usr/sbin/nologin\n",
      "uucp:x:10:10:uucp:/var/spool/uucp:/usr/sbin/nologin\n",
      "proxy:x:13:13:proxy:/bin:/usr/sbin/nologin\n",
      "www-data:x:33:33:www-data:/var/www:/usr/sbin/nologin\n",
      "backup:x:34:34:backup:/var/backups:/usr/sbin/nologin\n",
      "list:x:38:38:Mailing List Manager:/var/list:/usr/sbin/nologin\n",
      "irc:x:39:39:ircd:/var/run/ircd:/usr/sbin/nologin\n",
      "gnats:x:41:41:Gnats Bug-Reporting System (admin):/var/lib/gnats:/usr/sbin/nologin\n",
      "nobody:x:65534:65534:nobody:/nonexistent:/usr/sbin/nologin\n",
      "systemd-network:x:100:102:systemd Network Management,,,:/run/systemd/netif:/usr/sbin/nologin\n",
      "systemd-resolve:x:101:103:systemd Resolver,,,:/run/systemd/resolve:/usr/sbin/nologin\n",
      "syslog:x:102:106::/home/syslog:/usr/sbin/nologin\n",
      "messagebus:x:103:107::/nonexistent:/usr/sbin/nologin\n",
      "_apt:x:104:65534::/nonexistent:/usr/sbin/nologin\n",
      "lxd:x:105:65534::/var/lib/lxd/:/bin/false\n",
      "uuidd:x:106:110::/run/uuidd:/usr/sbin/nologin\n",
      "dnsmasq:x:107:65534:dnsmasq,,,:/var/lib/misc:/usr/sbin/nologin\n",
      "landscape:x:108:112::/var/lib/landscape:/usr/sbin/nologin\n",
      "sshd:x:109:65534::/run/sshd:/usr/sbin/nologin\n",
      "pollinate:x:110:1::/var/cache/pollinate:/bin/false\n",
      "student:x:1000:1000:,,,:/home/student:/bin/bash\n",
      "\n"
     ]
    }
   ],
   "source": [
    "print(f.read())"
   ]
  },
  {
   "cell_type": "code",
   "execution_count": 2,
   "metadata": {},
   "outputs": [
    {
     "name": "stdout",
     "output_type": "stream",
     "text": [
      "root:x:0:0:root:/root:/bin/bash\n",
      "daemon:x:1:1:daemon:/usr/sbin:/usr/sbin/nologin\n",
      "bin:x:2:2:bin:/bin:/usr/sbin/nologin\n",
      "sys:x:3:3:sys:/dev:/usr/sbin/nologin\n",
      "sync:x:4:65534:sync:/bin:/bin/sync\n",
      "games:x:5:60:games:/usr/games:/usr/sbin/nologin\n",
      "man:x:6:12:man:/var/cache/man:/usr/sbin/nologin\n",
      "lp:x:7:7:lp:/var/spool/lpd:/usr/sbin/nologin\n",
      "mail:x:8:8:mail:/var/mail:/usr/sbin/nologin\n",
      "news:x:9:9:news:/var/spool/news:/usr/sbin/nologin\n",
      "uucp:x:10:10:uucp:/var/spool/uucp:/usr/sbin/nologin\n",
      "proxy:x:13:13:proxy:/bin:/usr/sbin/nologin\n",
      "www-data:x:33:33:www-data:/var/www:/usr/sbin/nologin\n",
      "backup:x:34:34:backup:/var/backups:/usr/sbin/nologin\n",
      "list:x:38:38:Mailing List Manager:/var/list:/usr/sbin/nologin\n",
      "irc:x:39:39:ircd:/var/run/ircd:/usr/sbin/nologin\n",
      "gnats:x:41:41:Gnats Bug-Reporting System (admin):/var/lib/gnats:/usr/sbin/nologin\n",
      "nobody:x:65534:65534:nobody:/nonexistent:/usr/sbin/nologin\n",
      "systemd-network:x:100:102:systemd Network Management,,,:/run/systemd/netif:/usr/sbin/nologin\n",
      "systemd-resolve:x:101:103:systemd Resolver,,,:/run/systemd/resolve:/usr/sbin/nologin\n",
      "syslog:x:102:106::/home/syslog:/usr/sbin/nologin\n",
      "messagebus:x:103:107::/nonexistent:/usr/sbin/nologin\n",
      "_apt:x:104:65534::/nonexistent:/usr/sbin/nologin\n",
      "lxd:x:105:65534::/var/lib/lxd/:/bin/false\n",
      "uuidd:x:106:110::/run/uuidd:/usr/sbin/nologin\n",
      "dnsmasq:x:107:65534:dnsmasq,,,:/var/lib/misc:/usr/sbin/nologin\n",
      "landscape:x:108:112::/var/lib/landscape:/usr/sbin/nologin\n",
      "sshd:x:109:65534::/run/sshd:/usr/sbin/nologin\n",
      "pollinate:x:110:1::/var/cache/pollinate:/bin/false\n",
      "student:x:1000:1000:,,,:/home/student:/bin/bash\n"
     ]
    }
   ],
   "source": [
    "# best option is to treat the file object as an iterator\n",
    "f = open('/etc/passwd')\n",
    "\n",
    "for one_item in f:   # retrieve, one line at a time, from the file\n",
    "    print(one_item, end='')  # don't add a \\n when printing each line"
   ]
  },
  {
   "cell_type": "code",
   "execution_count": 3,
   "metadata": {},
   "outputs": [
    {
     "name": "stdout",
     "output_type": "stream",
     "text": [
      "root:x:0:0:root:/root:/bin/bash\n",
      "daemon:x:1:1:daemon:/usr/sbin:/usr/sbin/nologin\n",
      "bin:x:2:2:bin:/bin:/usr/sbin/nologin\n",
      "sys:x:3:3:sys:/dev:/usr/sbin/nologin\n",
      "sync:x:4:65534:sync:/bin:/bin/sync\n",
      "games:x:5:60:games:/usr/games:/usr/sbin/nologin\n",
      "man:x:6:12:man:/var/cache/man:/usr/sbin/nologin\n",
      "lp:x:7:7:lp:/var/spool/lpd:/usr/sbin/nologin\n",
      "mail:x:8:8:mail:/var/mail:/usr/sbin/nologin\n",
      "news:x:9:9:news:/var/spool/news:/usr/sbin/nologin\n",
      "uucp:x:10:10:uucp:/var/spool/uucp:/usr/sbin/nologin\n",
      "proxy:x:13:13:proxy:/bin:/usr/sbin/nologin\n",
      "www-data:x:33:33:www-data:/var/www:/usr/sbin/nologin\n",
      "backup:x:34:34:backup:/var/backups:/usr/sbin/nologin\n",
      "list:x:38:38:Mailing List Manager:/var/list:/usr/sbin/nologin\n",
      "irc:x:39:39:ircd:/var/run/ircd:/usr/sbin/nologin\n",
      "gnats:x:41:41:Gnats Bug-Reporting System (admin):/var/lib/gnats:/usr/sbin/nologin\n",
      "nobody:x:65534:65534:nobody:/nonexistent:/usr/sbin/nologin\n",
      "systemd-network:x:100:102:systemd Network Management,,,:/run/systemd/netif:/usr/sbin/nologin\n",
      "systemd-resolve:x:101:103:systemd Resolver,,,:/run/systemd/resolve:/usr/sbin/nologin\n",
      "syslog:x:102:106::/home/syslog:/usr/sbin/nologin\n",
      "messagebus:x:103:107::/nonexistent:/usr/sbin/nologin\n",
      "_apt:x:104:65534::/nonexistent:/usr/sbin/nologin\n",
      "lxd:x:105:65534::/var/lib/lxd/:/bin/false\n",
      "uuidd:x:106:110::/run/uuidd:/usr/sbin/nologin\n",
      "dnsmasq:x:107:65534:dnsmasq,,,:/var/lib/misc:/usr/sbin/nologin\n",
      "landscape:x:108:112::/var/lib/landscape:/usr/sbin/nologin\n",
      "sshd:x:109:65534::/run/sshd:/usr/sbin/nologin\n",
      "pollinate:x:110:1::/var/cache/pollinate:/bin/false\n",
      "student:x:1000:1000:,,,:/home/student:/bin/bash\n"
     ]
    }
   ],
   "source": [
    "for one_line in open('/etc/passwd'):\n",
    "    print(one_line, end='')"
   ]
  },
  {
   "cell_type": "code",
   "execution_count": 6,
   "metadata": {},
   "outputs": [
    {
     "name": "stdout",
     "output_type": "stream",
     "text": [
      "root\n",
      "daemon\n",
      "bin\n",
      "sys\n",
      "sync\n",
      "games\n",
      "man\n",
      "lp\n",
      "mail\n",
      "news\n",
      "uucp\n",
      "proxy\n",
      "www-data\n",
      "backup\n",
      "list\n",
      "irc\n",
      "gnats\n",
      "nobody\n",
      "systemd-network\n",
      "systemd-resolve\n",
      "syslog\n",
      "messagebus\n",
      "_apt\n",
      "lxd\n",
      "uuidd\n",
      "dnsmasq\n",
      "landscape\n",
      "sshd\n",
      "pollinate\n",
      "student\n"
     ]
    }
   ],
   "source": [
    "for one_line in open('/etc/passwd'):\n",
    "    print(one_line.split(\":\")[0])"
   ]
  },
  {
   "cell_type": "code",
   "execution_count": 8,
   "metadata": {},
   "outputs": [
    {
     "name": "stdout",
     "output_type": "stream",
     "text": [
      "b'root:x:0:0:root:/root:/bin/bash\\n'\n",
      "b'daemon:x:1:1:daemon:/usr/sbin:/usr/sbin/nologin\\n'\n",
      "b'bin:x:2:2:bin:/bin:/usr/sbin/nologin\\n'\n",
      "b'sys:x:3:3:sys:/dev:/usr/sbin/nologin\\n'\n",
      "b'sync:x:4:65534:sync:/bin:/bin/sync\\n'\n",
      "b'games:x:5:60:games:/usr/games:/usr/sbin/nologin\\n'\n",
      "b'man:x:6:12:man:/var/cache/man:/usr/sbin/nologin\\n'\n",
      "b'lp:x:7:7:lp:/var/spool/lpd:/usr/sbin/nologin\\n'\n",
      "b'mail:x:8:8:mail:/var/mail:/usr/sbin/nologin\\n'\n",
      "b'news:x:9:9:news:/var/spool/news:/usr/sbin/nologin\\n'\n",
      "b'uucp:x:10:10:uucp:/var/spool/uucp:/usr/sbin/nologin\\n'\n",
      "b'proxy:x:13:13:proxy:/bin:/usr/sbin/nologin\\n'\n",
      "b'www-data:x:33:33:www-data:/var/www:/usr/sbin/nologin\\n'\n",
      "b'backup:x:34:34:backup:/var/backups:/usr/sbin/nologin\\n'\n",
      "b'list:x:38:38:Mailing List Manager:/var/list:/usr/sbin/nologin\\n'\n",
      "b'irc:x:39:39:ircd:/var/run/ircd:/usr/sbin/nologin\\n'\n",
      "b'gnats:x:41:41:Gnats Bug-Reporting System (admin):/var/lib/gnats:/usr/sbin/nologin\\n'\n",
      "b'nobody:x:65534:65534:nobody:/nonexistent:/usr/sbin/nologin\\n'\n",
      "b'systemd-network:x:100:102:systemd Network Management,,,:/run/systemd/netif:/usr/sbin/nologin\\n'\n",
      "b'systemd-resolve:x:101:103:systemd Resolver,,,:/run/systemd/resolve:/usr/sbin/nologin\\n'\n",
      "b'syslog:x:102:106::/home/syslog:/usr/sbin/nologin\\n'\n",
      "b'messagebus:x:103:107::/nonexistent:/usr/sbin/nologin\\n'\n",
      "b'_apt:x:104:65534::/nonexistent:/usr/sbin/nologin\\n'\n",
      "b'lxd:x:105:65534::/var/lib/lxd/:/bin/false\\n'\n",
      "b'uuidd:x:106:110::/run/uuidd:/usr/sbin/nologin\\n'\n",
      "b'dnsmasq:x:107:65534:dnsmasq,,,:/var/lib/misc:/usr/sbin/nologin\\n'\n",
      "b'landscape:x:108:112::/var/lib/landscape:/usr/sbin/nologin\\n'\n",
      "b'sshd:x:109:65534::/run/sshd:/usr/sbin/nologin\\n'\n",
      "b'pollinate:x:110:1::/var/cache/pollinate:/bin/false\\n'\n",
      "b'student:x:1000:1000:,,,:/home/student:/bin/bash\\n'\n"
     ]
    }
   ],
   "source": [
    "for one_line in open('/etc/passwd', 'rb'):\n",
    "    print(one_line)"
   ]
  },
  {
   "cell_type": "code",
   "execution_count": 9,
   "metadata": {},
   "outputs": [
    {
     "name": "stdout",
     "output_type": "stream",
     "text": [
      "linux-etc-passwd.txt  mini-access-log.txt  nums.txt  shoe-data.txt  wcfile.txt\r\n"
     ]
    }
   ],
   "source": [
    "%ls *.txt"
   ]
  },
  {
   "cell_type": "code",
   "execution_count": 10,
   "metadata": {
    "scrolled": true
   },
   "outputs": [
    {
     "name": "stdout",
     "output_type": "stream",
     "text": [
      "67.218.116.165 - - [30/Jan/2010:00:03:18 +0200] \"GET /robots.txt HTTP/1.0\" 200 99 \"-\" \"Mozilla/5.0 (Twiceler-0.9 http://www.cuil.com/twiceler/robot.html)\"\r\n",
      "66.249.71.65 - - [30/Jan/2010:00:12:06 +0200] \"GET /browse/one_node/1557 HTTP/1.1\" 200 39208 \"-\" \"Mozilla/5.0 (compatible; Googlebot/2.1; +http://www.google.com/bot.html)\"\r\n",
      "65.55.106.183 - - [30/Jan/2010:01:29:23 +0200] \"GET /robots.txt HTTP/1.1\" 200 99 \"-\" \"msnbot/2.0b (+http://search.msn.com/msnbot.htm)\"\r\n",
      "65.55.106.183 - - [30/Jan/2010:01:30:06 +0200] \"GET /browse/one_model/2162 HTTP/1.1\" 200 2181 \"-\" \"msnbot/2.0b (+http://search.msn.com/msnbot.htm)\"\r\n",
      "66.249.71.65 - - [30/Jan/2010:02:07:14 +0200] \"GET /browse/browse_applet_tab/2593 HTTP/1.1\" 200 10305 \"-\" \"Mozilla/5.0 (compatible; Googlebot/2.1; +http://www.google.com/bot.html)\"\r\n",
      "66.249.71.65 - - [30/Jan/2010:02:10:39 +0200] \"GET /browse/browse_files_tab/2499?tab=true HTTP/1.1\" 200 446 \"-\" \"Mozilla/5.0 (compatible; Googlebot/2.1; +http://www.google.com/bot.html)\"\r\n",
      "66.249.65.12 - - [30/Jan/2010:03:13:34 +0200] \"GET /robots.txt HTTP/1.1\" 200 99 \"-\" \"Mozilla/5.0 (compatible; Googlebot/2.1; +http://www.google.com/bot.html)\"\r\n",
      "66.249.65.12 - - [30/Jan/2010:03:13:34 +0200] \"GET /browse/one_node/2715 HTTP/1.1\" 200 26433 \"-\" \"Mozilla/5.0 (compatible; Googlebot/2.1; +http://www.google.com/bot.html)\"\r\n",
      "66.249.65.12 - - [30/Jan/2010:03:43:39 +0200] \"GET /browse/download_model/1969 HTTP/1.1\" 200 31713 \"-\" \"Mozilla/5.0 (compatible; Googlebot/2.1; +http://www.google.com/bot.html)\"\r\n",
      "66.249.65.12 - - [30/Jan/2010:04:05:43 +0200] \"GET /browse/one_node/1406 HTTP/1.1\" 302 118 \"-\" \"Mozilla/5.0 (compatible; Googlebot/2.1; +http://www.google.com/bot.html)\"\r\n"
     ]
    }
   ],
   "source": [
    "!head mini-access-log.txt"
   ]
  },
  {
   "cell_type": "code",
   "execution_count": null,
   "metadata": {},
   "outputs": [],
   "source": [
    "# (1) Open and iterate over mini-access-log.txt\n",
    "# (2) Print the IP addresses that appeared there\n",
    "\n",
    "# (3) BONUS: Create an empty dict.  As you iterate over the file,\n",
    "#  count how many times each IP address appears."
   ]
  },
  {
   "cell_type": "code",
   "execution_count": 11,
   "metadata": {},
   "outputs": [
    {
     "ename": "FileNotFoundError",
     "evalue": "[Errno 2] No such file or directory: '/asdfafafa'",
     "output_type": "error",
     "traceback": [
      "\u001b[0;31m---------------------------------------------------------------------------\u001b[0m",
      "\u001b[0;31mFileNotFoundError\u001b[0m                         Traceback (most recent call last)",
      "\u001b[0;32m<ipython-input-11-1df96a1cab0e>\u001b[0m in \u001b[0;36m<module>\u001b[0;34m\u001b[0m\n\u001b[0;32m----> 1\u001b[0;31m \u001b[0mopen\u001b[0m\u001b[0;34m(\u001b[0m\u001b[0;34m'/asdfafafa'\u001b[0m\u001b[0;34m)\u001b[0m\u001b[0;34m\u001b[0m\u001b[0;34m\u001b[0m\u001b[0m\n\u001b[0m",
      "\u001b[0;31mFileNotFoundError\u001b[0m: [Errno 2] No such file or directory: '/asdfafafa'"
     ]
    }
   ],
   "source": [
    "open('/asdfafafa')"
   ]
  },
  {
   "cell_type": "code",
   "execution_count": 12,
   "metadata": {},
   "outputs": [
    {
     "name": "stdout",
     "output_type": "stream",
     "text": [
      "\u001b[0m\u001b[01;34mbin\u001b[0m/   \u001b[01;34mhome\u001b[0m/            \u001b[01;34mlib64\u001b[0m/       \u001b[01;34mopt\u001b[0m/   \u001b[01;34msbin\u001b[0m/  \u001b[30;42mtmp\u001b[0m/      \u001b[01;36mvmlinuz.old\u001b[0m@\r\n",
      "\u001b[01;34mboot\u001b[0m/  \u001b[01;36minitrd.img\u001b[0m@      \u001b[01;34mlost+found\u001b[0m/  \u001b[01;34mproc\u001b[0m/  \u001b[01;34msnap\u001b[0m/  \u001b[01;34musr\u001b[0m/\r\n",
      "\u001b[01;34mdev\u001b[0m/   \u001b[01;36minitrd.img.old\u001b[0m@  \u001b[01;34mmedia\u001b[0m/       \u001b[01;34mroot\u001b[0m/  \u001b[01;34msrv\u001b[0m/   \u001b[01;34mvar\u001b[0m/\r\n",
      "\u001b[01;34metc\u001b[0m/   \u001b[01;34mlib\u001b[0m/             \u001b[01;34mmnt\u001b[0m/         \u001b[01;34mrun\u001b[0m/   \u001b[01;34msys\u001b[0m/   \u001b[01;36mvmlinuz\u001b[0m@\r\n"
     ]
    }
   ],
   "source": [
    "%ls /"
   ]
  },
  {
   "cell_type": "code",
   "execution_count": 13,
   "metadata": {},
   "outputs": [
    {
     "ename": "PermissionError",
     "evalue": "[Errno 13] Permission denied: '/boot/System.map-4.15.0-91-generic'",
     "output_type": "error",
     "traceback": [
      "\u001b[0;31m---------------------------------------------------------------------------\u001b[0m",
      "\u001b[0;31mPermissionError\u001b[0m                           Traceback (most recent call last)",
      "\u001b[0;32m<ipython-input-13-323317f8e23d>\u001b[0m in \u001b[0;36m<module>\u001b[0;34m\u001b[0m\n\u001b[0;32m----> 1\u001b[0;31m \u001b[0mopen\u001b[0m\u001b[0;34m(\u001b[0m\u001b[0;34m'/boot/System.map-4.15.0-91-generic'\u001b[0m\u001b[0;34m)\u001b[0m\u001b[0;34m\u001b[0m\u001b[0;34m\u001b[0m\u001b[0m\n\u001b[0m",
      "\u001b[0;31mPermissionError\u001b[0m: [Errno 13] Permission denied: '/boot/System.map-4.15.0-91-generic'"
     ]
    }
   ],
   "source": [
    "open('/boot/System.map-4.15.0-91-generic')"
   ]
  },
  {
   "cell_type": "code",
   "execution_count": 16,
   "metadata": {},
   "outputs": [
    {
     "data": {
      "text/plain": [
       "<_io.TextIOWrapper name='/etc/passwd' mode='r' encoding='UTF-8'>"
      ]
     },
     "execution_count": 16,
     "metadata": {},
     "output_type": "execute_result"
    }
   ],
   "source": [
    "open('/etc/passwd')"
   ]
  },
  {
   "cell_type": "code",
   "execution_count": 19,
   "metadata": {},
   "outputs": [
    {
     "data": {
      "text/plain": [
       "<_io.TextIOWrapper name='/etc/passwd' mode='r' encoding='UTF-8'>"
      ]
     },
     "execution_count": 19,
     "metadata": {},
     "output_type": "execute_result"
    }
   ],
   "source": [
    "filename = '/etc/passwd'\n",
    "f = open(filename)  # what we call a \"file object\", others call \"a file handle\""
   ]
  },
  {
   "cell_type": "code",
   "execution_count": 22,
   "metadata": {
    "collapsed": true
   },
   "outputs": [
    {
     "name": "stdout",
     "output_type": "stream",
     "text": [
      "67.218.116.165\n",
      "66.249.71.65\n",
      "65.55.106.183\n",
      "65.55.106.183\n",
      "66.249.71.65\n",
      "66.249.71.65\n",
      "66.249.65.12\n",
      "66.249.65.12\n",
      "66.249.65.12\n",
      "66.249.65.12\n",
      "66.249.65.12\n",
      "65.55.106.131\n",
      "65.55.106.131\n",
      "66.249.65.12\n",
      "66.249.65.12\n",
      "66.249.65.12\n",
      "66.249.65.12\n",
      "66.249.65.12\n",
      "66.249.65.12\n",
      "66.249.65.12\n",
      "65.55.106.186\n",
      "65.55.106.186\n",
      "66.249.65.12\n",
      "66.249.65.12\n",
      "66.249.65.12\n",
      "74.52.245.146\n",
      "74.52.245.146\n",
      "66.249.65.43\n",
      "66.249.65.43\n",
      "66.249.65.43\n",
      "66.249.65.12\n",
      "66.249.65.12\n",
      "66.249.65.12\n",
      "66.249.65.12\n",
      "66.249.65.12\n",
      "66.249.65.12\n",
      "65.55.207.25\n",
      "65.55.207.25\n",
      "66.249.65.12\n",
      "66.249.65.12\n",
      "66.249.65.12\n",
      "66.249.65.12\n",
      "66.249.65.12\n",
      "66.249.65.12\n",
      "66.249.65.12\n",
      "65.55.207.94\n",
      "65.55.207.94\n",
      "66.249.65.12\n",
      "65.55.207.71\n",
      "66.249.65.12\n",
      "66.249.65.12\n",
      "66.249.65.12\n",
      "98.242.170.241\n",
      "66.249.65.38\n",
      "66.249.65.38\n",
      "66.249.65.38\n",
      "66.249.65.38\n",
      "66.249.65.38\n",
      "66.249.65.38\n",
      "66.249.65.38\n",
      "66.249.65.38\n",
      "66.249.65.38\n",
      "66.249.65.38\n",
      "66.249.65.38\n",
      "66.249.65.38\n",
      "66.249.65.38\n",
      "66.249.65.38\n",
      "66.249.65.38\n",
      "66.249.65.38\n",
      "66.249.65.38\n",
      "66.249.65.38\n",
      "66.249.65.38\n",
      "66.249.65.38\n",
      "66.249.65.38\n",
      "66.249.65.38\n",
      "66.249.65.38\n",
      "66.249.65.38\n",
      "66.249.65.38\n",
      "66.249.65.38\n",
      "65.55.207.126\n",
      "65.55.207.126\n",
      "66.249.65.38\n",
      "66.249.65.38\n",
      "66.249.65.38\n",
      "66.249.65.38\n",
      "82.34.9.20\n",
      "82.34.9.20\n",
      "66.249.65.38\n",
      "66.249.65.38\n",
      "66.249.65.38\n",
      "66.249.65.38\n",
      "66.249.65.38\n",
      "66.249.65.38\n",
      "66.249.65.38\n",
      "66.249.65.38\n",
      "66.249.65.38\n",
      "65.55.106.155\n",
      "65.55.106.155\n",
      "66.249.65.38\n",
      "66.249.65.38\n",
      "66.249.65.38\n",
      "66.249.65.38\n",
      "66.249.65.38\n",
      "65.55.207.77\n",
      "65.55.207.77\n",
      "66.249.65.38\n",
      "67.218.116.165\n",
      "66.249.65.38\n",
      "208.80.193.28\n",
      "66.249.65.38\n",
      "66.249.65.38\n",
      "66.249.65.38\n",
      "66.249.65.38\n",
      "66.249.65.38\n",
      "66.249.65.38\n",
      "66.249.65.38\n",
      "66.249.65.38\n",
      "66.249.65.38\n",
      "89.248.172.58\n",
      "89.248.172.58\n",
      "89.248.172.58\n",
      "89.248.172.58\n",
      "89.248.172.58\n",
      "89.248.172.58\n",
      "89.248.172.58\n",
      "89.248.172.58\n",
      "89.248.172.58\n",
      "89.248.172.58\n",
      "89.248.172.58\n",
      "89.248.172.58\n",
      "89.248.172.58\n",
      "89.248.172.58\n",
      "89.248.172.58\n",
      "89.248.172.58\n",
      "89.248.172.58\n",
      "89.248.172.58\n",
      "89.248.172.58\n",
      "89.248.172.58\n",
      "89.248.172.58\n",
      "89.248.172.58\n",
      "66.249.65.38\n",
      "66.249.65.38\n",
      "66.249.65.38\n",
      "66.249.65.38\n",
      "66.249.65.38\n",
      "66.249.65.38\n",
      "66.249.65.38\n",
      "66.249.65.38\n",
      "66.249.65.38\n",
      "66.249.65.38\n",
      "66.249.65.38\n",
      "66.249.65.38\n",
      "66.249.65.38\n",
      "66.249.65.38\n",
      "66.249.65.38\n",
      "66.249.65.38\n",
      "66.249.65.38\n",
      "66.249.65.38\n",
      "66.249.65.38\n",
      "66.249.65.38\n",
      "66.249.65.38\n",
      "66.249.65.38\n",
      "66.249.65.38\n",
      "66.249.65.38\n",
      "66.249.65.38\n",
      "66.249.65.38\n",
      "66.249.65.38\n",
      "66.249.65.38\n",
      "66.249.65.38\n",
      "67.195.112.35\n",
      "67.195.112.35\n",
      "67.195.112.35\n",
      "67.195.112.35\n",
      "67.195.112.35\n",
      "67.195.112.35\n",
      "67.195.112.35\n",
      "67.195.112.35\n",
      "67.195.112.35\n",
      "67.195.112.35\n",
      "67.195.112.35\n",
      "67.195.112.35\n",
      "67.195.112.35\n",
      "67.195.112.35\n",
      "67.195.112.35\n",
      "67.195.112.35\n",
      "66.249.65.38\n",
      "65.55.207.50\n",
      "65.55.207.50\n",
      "65.55.207.50\n",
      "66.249.65.38\n",
      "66.249.65.38\n",
      "66.249.65.38\n",
      "66.249.65.38\n",
      "66.249.65.38\n",
      "66.249.65.38\n",
      "65.55.215.75\n",
      "65.55.215.75\n",
      "66.249.65.38\n",
      "66.249.65.38\n",
      "66.249.65.38\n",
      "66.249.65.38\n",
      "66.249.65.38\n",
      "66.249.65.38\n",
      "66.249.65.38\n",
      "66.249.65.38\n",
      "66.249.65.38\n"
     ]
    }
   ],
   "source": [
    "filename = 'mini-access-log.txt'\n",
    "\n",
    "for one_line in open(filename):\n",
    "    print(  one_line.split()[0]    )"
   ]
  },
  {
   "cell_type": "code",
   "execution_count": 23,
   "metadata": {},
   "outputs": [
    {
     "name": "stdout",
     "output_type": "stream",
     "text": [
      "67.218.116.165: 2\n",
      "66.249.71.65: 3\n",
      "65.55.106.183: 2\n",
      "66.249.65.12: 32\n",
      "65.55.106.131: 2\n",
      "65.55.106.186: 2\n",
      "74.52.245.146: 2\n",
      "66.249.65.43: 3\n",
      "65.55.207.25: 2\n",
      "65.55.207.94: 2\n",
      "65.55.207.71: 1\n",
      "98.242.170.241: 1\n",
      "66.249.65.38: 100\n",
      "65.55.207.126: 2\n",
      "82.34.9.20: 2\n",
      "65.55.106.155: 2\n",
      "65.55.207.77: 2\n",
      "208.80.193.28: 1\n",
      "89.248.172.58: 22\n",
      "67.195.112.35: 16\n",
      "65.55.207.50: 3\n",
      "65.55.215.75: 2\n"
     ]
    }
   ],
   "source": [
    "counts = {}\n",
    "for one_line in open(filename):\n",
    "    ip_address = one_line.split()[0]\n",
    "    \n",
    "    if ip_address not in counts:\n",
    "        counts[ip_address] = 1\n",
    "    else:\n",
    "        counts[ip_address] += 1\n",
    "        \n",
    "# print a report\n",
    "for key, value in counts.items():\n",
    "    print(f'{key}: {value}')"
   ]
  },
  {
   "cell_type": "code",
   "execution_count": 24,
   "metadata": {},
   "outputs": [
    {
     "name": "stdout",
     "output_type": "stream",
     "text": [
      "linux-etc-passwd.txt  mini-access-log.txt  nums.txt  shoe-data.txt  wcfile.txt\r\n"
     ]
    }
   ],
   "source": [
    "%ls *txt"
   ]
  },
  {
   "cell_type": "code",
   "execution_count": 26,
   "metadata": {
    "collapsed": true
   },
   "outputs": [
    {
     "name": "stdout",
     "output_type": "stream",
     "text": [
      "# This is a comment\r\n",
      "# You should ignore me\r\n",
      "root:x:0:0:root:/root:/bin/bash\r\n",
      "daemon:x:1:1:daemon:/usr/sbin:/usr/sbin/nologin\r\n",
      "bin:x:2:2:bin:/bin:/usr/sbin/nologin\r\n",
      "sys:x:3:3:sys:/dev:/usr/sbin/nologin\r\n",
      "sync:x:4:65534:sync:/bin:/bin/sync\r\n",
      "games:x:5:60:games:/usr/games:/usr/sbin/nologin\r\n",
      "man:x:6:12:man:/var/cache/man:/usr/sbin/nologin\r\n",
      "lp:x:7:7:lp:/var/spool/lpd:/usr/sbin/nologin\r\n",
      "mail:x:8:8:mail:/var/mail:/usr/sbin/nologin\r\n",
      "\r\n",
      "\r\n",
      "\r\n",
      "news:x:9:9:news:/var/spool/news:/usr/sbin/nologin\r\n",
      "uucp:x:10:10:uucp:/var/spool/uucp:/usr/sbin/nologin\r\n",
      "proxy:x:13:13:proxy:/bin:/usr/sbin/nologin\r\n",
      "www-data:x:33:33:www-data:/var/www:/usr/sbin/nologin\r\n",
      "backup:x:34:34:backup:/var/backups:/usr/sbin/nologin\r\n",
      "list:x:38:38:Mailing List Manager:/var/list:/usr/sbin/nologin\r\n",
      "irc:x:39:39:ircd:/var/run/ircd:/usr/sbin/nologin\r\n",
      "gnats:x:41:41:Gnats Bug-Reporting System (admin):/var/lib/gnats:/usr/sbin/nologin\r\n",
      "\r\n",
      "nobody:x:65534:65534:nobody:/nonexistent:/usr/sbin/nologin\r\n",
      "syslog:x:101:104::/home/syslog:/bin/false\r\n",
      "messagebus:x:102:106::/var/run/dbus:/bin/false\r\n",
      "landscape:x:103:109::/var/lib/landscape:/bin/false\r\n",
      "jci:x:955:955::/home/jci:/bin/bash\r\n",
      "sshd:x:104:65534::/var/run/sshd:/usr/sbin/nologin\r\n",
      "user:x:1000:1000:user,,,:/home/user:/bin/bash\r\n",
      "reuven:x:1001:1001:Reuven M. Lerner,,,:/home/reuven:/bin/bash\r\n",
      "postfix:x:105:113::/var/spool/postfix:/bin/false\r\n",
      "colord:x:106:116:colord colour management daemon,,,:/var/lib/colord:/bin/false\r\n",
      "postgres:x:107:117:PostgreSQL administrator,,,:/var/lib/postgresql:/bin/bash\r\n",
      "dovecot:x:108:119:Dovecot mail server,,,:/usr/lib/dovecot:/bin/false\r\n",
      "dovenull:x:109:120:Dovecot login user,,,:/nonexistent:/bin/false\r\n",
      "postgrey:x:110:121::/var/lib/postgrey:/bin/false\r\n",
      "debian-spamd:x:111:122::/var/lib/spamassassin:/bin/sh\r\n",
      "memcache:x:113:124:Memcached,,,:/nonexistent:/bin/false\r\n",
      "genadi:x:1002:1003:Genadi Reznichenko,,,:/home/genadi:/bin/bash\r\n",
      "shira:x:1003:1004:Shira Friedman,,,:/home/shira:/bin/bash\r\n",
      "atara:x:1004:1005:Atara Lerner-Friedman,,,:/home/atara:/bin/bash\r\n",
      "shikma:x:1005:1006:Shikma Lerner-Friedman,,,:/home/shikma:/bin/bash\r\n",
      "amotz:x:1006:1007:Amotz Lerner-Friedman,,,:/home/amotz:/bin/bash\r\n",
      "mysql:x:114:125:MySQL Server,,,:/nonexistent:/bin/false\r\n",
      "clamav:x:115:126::/var/lib/clamav:/bin/false\r\n",
      "amavis:x:116:127:AMaViS system user,,,:/var/lib/amavis:/bin/sh\r\n",
      "opendkim:x:117:128::/var/run/opendkim:/bin/false\r\n",
      "gitlab-redis:x:999:1009::/var/opt/gitlab/redis:/bin/nologin\r\n",
      "gitlab-psql:x:998:1010::/var/opt/gitlab/postgresql:/bin/sh\r\n",
      "git:x:1007:1008:GitLab,,,:/home/git:/bin/bash\r\n",
      "opendmarc:x:118:129::/var/run/opendmarc:/bin/false\r\n",
      "dkim-milter-python:x:119:130::/var/run/dkim-milter-python:/bin/false\r\n",
      "deploy:x:1008:1011:Deploy,,,:/home/deploy:/bin/bash\r\n",
      "redis:x:112:123:redis server,,,:/var/lib/redis:/bin/false\r\n"
     ]
    }
   ],
   "source": [
    "%cat linux-etc-passwd.txt"
   ]
  },
  {
   "cell_type": "code",
   "execution_count": 3,
   "metadata": {},
   "outputs": [
    {
     "name": "stdout",
     "output_type": "stream",
     "text": [
      "root\n",
      "daemon\n",
      "bin\n",
      "sys\n",
      "sync\n",
      "games\n",
      "man\n",
      "lp\n",
      "mail\n",
      "news\n",
      "uucp\n",
      "proxy\n",
      "www-data\n",
      "backup\n",
      "list\n",
      "irc\n",
      "gnats\n",
      "nobody\n",
      "syslog\n",
      "messagebus\n",
      "landscape\n",
      "jci\n",
      "sshd\n",
      "user\n",
      "reuven\n",
      "postfix\n",
      "colord\n",
      "postgres\n",
      "dovecot\n",
      "dovenull\n",
      "postgrey\n",
      "debian-spamd\n",
      "memcache\n",
      "genadi\n",
      "shira\n",
      "atara\n",
      "shikma\n",
      "amotz\n",
      "mysql\n",
      "clamav\n",
      "amavis\n",
      "opendkim\n",
      "gitlab-redis\n",
      "gitlab-psql\n",
      "git\n",
      "opendmarc\n",
      "dkim-milter-python\n",
      "deploy\n",
      "redis\n"
     ]
    }
   ],
   "source": [
    "# Modify this code, so that we don't print any\n",
    "# lines with comments (i.e., starting with #) or\n",
    "# lines containing only whitespace\n",
    "\n",
    "# Hint: when you use str.strip() on a string containing\n",
    "# only whitespace, you get an empty string back.\n",
    "\n",
    "for one_line in open('linux-etc-passwd.txt'):\n",
    "    # ignore comments\n",
    "    if one_line[0] == '#':\n",
    "        continue\n",
    "    \n",
    "    # ignore blank lines\n",
    "    if not one_line.strip():\n",
    "        continue\n",
    "    \n",
    "    print(one_line.split(\":\")[0])"
   ]
  },
  {
   "cell_type": "code",
   "execution_count": null,
   "metadata": {},
   "outputs": [],
   "source": [
    "for line in open('linux-etc-passwd.txt'):\n",
    "    \n",
    "    if '#' in line.strip().split(':')[0]:\n",
    "        continue\n",
    "    elif line.strip().split(':')[0] in '':\n",
    "        continue\n",
    "    else:\n",
    "        print(line.strip().split(':')[0])\n"
   ]
  },
  {
   "cell_type": "code",
   "execution_count": 7,
   "metadata": {},
   "outputs": [],
   "source": [
    "line = '# This is a comment\\n'"
   ]
  },
  {
   "cell_type": "code",
   "execution_count": 8,
   "metadata": {},
   "outputs": [
    {
     "data": {
      "text/plain": [
       "'# This is a comment'"
      ]
     },
     "execution_count": 8,
     "metadata": {},
     "output_type": "execute_result"
    }
   ],
   "source": [
    "line.strip().split(\":\")"
   ]
  },
  {
   "cell_type": "code",
   "execution_count": null,
   "metadata": {},
   "outputs": [],
   "source": []
  }
 ],
 "metadata": {
  "kernelspec": {
   "display_name": "Python 3",
   "language": "python",
   "name": "python3"
  },
  "language_info": {
   "codemirror_mode": {
    "name": "ipython",
    "version": 3
   },
   "file_extension": ".py",
   "mimetype": "text/x-python",
   "name": "python",
   "nbconvert_exporter": "python",
   "pygments_lexer": "ipython3",
   "version": "3.8.0"
  }
 },
 "nbformat": 4,
 "nbformat_minor": 4
}
