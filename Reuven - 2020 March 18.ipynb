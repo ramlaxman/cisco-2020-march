{
 "cells": [
  {
   "cell_type": "code",
   "execution_count": null,
   "metadata": {},
   "outputs": [],
   "source": [
    "# None\n",
    "# True/False (bool)\n",
    "# int / float\n",
    "\n",
    "# sequences:\n",
    "# all (a) indexable, (b) sliceable, (c) iterable\n",
    "# we can use \"in\" to search in them\n",
    "\n",
    "# - str  -- contains any number of characters, and is IMMUTABLE\n",
    "# - list -- contains any number of any items, and is mutable\n",
    "#     -- typically used for a series of the same type\n",
    "# - tuple  -- contains any number of any items, and is IMMUTABLE\n",
    "#     -- typically used for a series of different types\n",
    "\n",
    "# iterate with a \"for\" loop over every item in an iterable\n",
    "\n",
    "for one_item in thing:\n",
    "    print(one_item)\n",
    "    \n",
    "# use \"break\" to get out of a loop\n",
    "# use \"continue\" to finish the current iteration, but not leave the loop\n",
    "#   meaning: go onto the next iteration\n",
    "\n",
    "# while loops continue to iterate until the condition is False\n",
    "\n",
    "x = 5\n",
    "while x > 0:\n",
    "    print(x)\n",
    "    x -= 1"
   ]
  },
  {
   "cell_type": "code",
   "execution_count": null,
   "metadata": {},
   "outputs": [],
   "source": [
    "# build a simple address book!\n",
    "# our address book will contain first name, last name, e-mail address\n",
    "# it will be a list of tuples\n",
    "\n",
    "[\n",
    "    ('Reuven', 'Lerner', 'reuven@lerner.co.il'),\n",
    "    ('John', 'Doe', 'john@doe.com'),\n",
    "]\n",
    "\n",
    "\n",
    "# (1) Create an empty list, called \"people\"\n",
    "# (2) Ask the user to enter a command -- could be:\n",
    "\n",
    "# while True -- asks an infinite number of times\n",
    "\n",
    "# get input from the user (hint: use the \"input\" function)\n",
    "# compare it with 'q' -- then we quit from the loop\n",
    "# compare it with 'a' -- then we add a new person\n",
    "#   ask first name\n",
    "#   ask last name\n",
    "#   ask e-mail address\n",
    "#   create a tuple with these three values\n",
    "#   stick that tuple onto the end of our \"people\" list\n",
    "# go back for another command!\n",
    "\n",
    "\n",
    "# - q (quit) \n",
    "# - a (add a new person -- ask three questions, use the answers\n",
    "#    to create a tuple, and add the tuple to the list)\n",
    "\n",
    "# Ask the user 3 questions (first/last/e-mail), stick the\n",
    "# answers into a tuple, and add that tuple to a list\n",
    "\n",
    "Command: q\n",
    "Bye\n",
    "\n",
    "Command: a\n",
    "Enter first name: Reuven\n",
    "Enter last name: Lerner\n",
    "Enter email address: reuven@lerner.co.il\n",
    "    \n",
    "# The program will use these three answers to create a tuple,\n",
    "# and will add that tuple to the \"people\" list\n",
    "\n",
    "# remember, you can add something (anything!) to a list with\n",
    "# the list.append method: mylist.append(5)\n"
   ]
  },
  {
   "cell_type": "code",
   "execution_count": 1,
   "metadata": {},
   "outputs": [
    {
     "name": "stdout",
     "output_type": "stream",
     "text": [
      "Enter a command: a\n",
      "Enter first name: Reuven\n",
      "Enter last name: Lerner\n",
      "Enter e-mail address: reuven@lerner.co.il\n",
      "Enter a command: a\n",
      "Enter first name: John\n",
      "Enter last name: Doe\n",
      "Enter e-mail address: john@doe.com\n",
      "Enter a command: q\n"
     ]
    }
   ],
   "source": [
    "people = []\n",
    "\n",
    "while True:\n",
    "    print(people)\n",
    "    user_choice = input(\"Enter a command: \").strip()\n",
    "    \n",
    "    if user_choice == 'q':\n",
    "        break\n",
    "        \n",
    "    elif user_choice == 'a':\n",
    "        first_name = input(\"Enter first name: \").strip()\n",
    "        last_name = input(\"Enter last name: \").strip()\n",
    "        email = input(\"Enter e-mail address: \").strip()\n",
    "        \n",
    "        new_person = (first_name, last_name, email)\n",
    "        people.append(new_person)\n",
    "        \n",
    "elif user_choice == 'l':\n",
    "    # go through each person -- meaning, a \"for\" loop on the \"people\"\n",
    "    # list... getting one tuple at a time\n",
    "    # retrieve the fields from the tuple (t[0], t[1], t[2])\n",
    "    # and then print them\n",
    "    \n",
    "    \n",
    "# (1) add an \"l\" command (list all people)\n",
    "#   show all people in our address book by last name, first name (email)\n",
    "\n",
    "elif user_choice == 'l':\n",
    "    # ask for a search string\n",
    "    # go through each person -- meaning, a \"for\" loop on the \"people\"\n",
    "    # list... getting one tuple at a time\n",
    "    # retrieve the fields from the tuple (t[0], t[1], t[2])\n",
    "    # and then print them *IF* either t[0] or t[1] contains \n",
    "    #  the search string\n",
    "\n",
    "# (2) add an \"f\" command (find)\n",
    "#   ask the user what they want to search for\n",
    "#   show all people, just like in \"l\", but only if the first\n",
    "#    and/or last names include the string that the person requested"
   ]
  },
  {
   "cell_type": "code",
   "execution_count": 2,
   "metadata": {},
   "outputs": [
    {
     "data": {
      "text/plain": [
       "[('Reuven', 'Lerner', 'reuven@lerner.co.il'), ('John', 'Doe', 'john@doe.com')]"
      ]
     },
     "execution_count": 2,
     "metadata": {},
     "output_type": "execute_result"
    }
   ],
   "source": [
    "people\n"
   ]
  },
  {
   "cell_type": "code",
   "execution_count": 6,
   "metadata": {},
   "outputs": [
    {
     "name": "stdout",
     "output_type": "stream",
     "text": [
      "Enter a command: l\n",
      "Lerner    , Reuven    : reuven@lerner.co.il\n",
      "Doe       , John      : john@doe.com\n",
      "Enter a command: q\n"
     ]
    }
   ],
   "source": [
    "# people = []\n",
    "\n",
    "while True:\n",
    "#     print(people)\n",
    "    user_choice = input(\"Enter a command: \").strip()\n",
    "    \n",
    "    if user_choice == 'q':\n",
    "        break\n",
    "        \n",
    "    elif user_choice == 'a':\n",
    "        first_name = input(\"Enter first name: \").strip()\n",
    "        last_name = input(\"Enter last name: \").strip()\n",
    "        email = input(\"Enter e-mail address: \").strip()\n",
    "        \n",
    "        new_person = (first_name, last_name, email)\n",
    "        people.append(new_person)\n",
    "        \n",
    "    elif user_choice == 'l':\n",
    "        for one_person in people:\n",
    "            first_name = one_person[0]\n",
    "            last_name = one_person[1]\n",
    "            email = one_person[2]\n",
    "            \n",
    "            print(f'{last_name:10}, {first_name:10}: {email}')\n",
    "        "
   ]
  },
  {
   "cell_type": "code",
   "execution_count": 7,
   "metadata": {},
   "outputs": [
    {
     "data": {
      "text/plain": [
       "[10, 20, 30]"
      ]
     },
     "execution_count": 7,
     "metadata": {},
     "output_type": "execute_result"
    }
   ],
   "source": [
    "mylist = [10, 20, 30]\n",
    "\n",
    "x = mylist\n",
    "x"
   ]
  },
  {
   "cell_type": "code",
   "execution_count": 8,
   "metadata": {},
   "outputs": [],
   "source": [
    "x,y,z = mylist  # unpacking -- 3 values -> 3 variables"
   ]
  },
  {
   "cell_type": "code",
   "execution_count": 9,
   "metadata": {},
   "outputs": [
    {
     "data": {
      "text/plain": [
       "10"
      ]
     },
     "execution_count": 9,
     "metadata": {},
     "output_type": "execute_result"
    }
   ],
   "source": [
    "x"
   ]
  },
  {
   "cell_type": "code",
   "execution_count": 10,
   "metadata": {},
   "outputs": [
    {
     "data": {
      "text/plain": [
       "20"
      ]
     },
     "execution_count": 10,
     "metadata": {},
     "output_type": "execute_result"
    }
   ],
   "source": [
    "y"
   ]
  },
  {
   "cell_type": "code",
   "execution_count": 11,
   "metadata": {},
   "outputs": [
    {
     "data": {
      "text/plain": [
       "30"
      ]
     },
     "execution_count": 11,
     "metadata": {},
     "output_type": "execute_result"
    }
   ],
   "source": [
    "z"
   ]
  },
  {
   "cell_type": "code",
   "execution_count": 13,
   "metadata": {},
   "outputs": [
    {
     "name": "stdout",
     "output_type": "stream",
     "text": [
      "Enter a command: f\n",
      "Enter search string: e\n",
      "Lerner    , Reuven    : reuven@lerner.co.il\n",
      "Doe       , John      : john@doe.com\n",
      "Enter a command: f\n",
      "Enter search string: D\n",
      "Doe       , John      : john@doe.com\n",
      "Enter a command: q\n"
     ]
    }
   ],
   "source": [
    "# people = []\n",
    "\n",
    "while True:\n",
    "#     print(people)\n",
    "    user_choice = input(\"Enter a command: \").strip()\n",
    "    \n",
    "    if user_choice == 'q':\n",
    "        break\n",
    "        \n",
    "    elif user_choice == 'a':\n",
    "        first_name = input(\"Enter first name: \").strip()\n",
    "        last_name = input(\"Enter last name: \").strip()\n",
    "        email = input(\"Enter e-mail address: \").strip()\n",
    "        \n",
    "        new_person = (first_name, last_name, email)\n",
    "        people.append(new_person)\n",
    "        \n",
    "    elif user_choice == 'l':\n",
    "        for one_person in people:\n",
    "            first_name, last_name, email = one_person\n",
    "            \n",
    "            print(f'{last_name:10}, {first_name:10}: {email}')\n",
    "\n",
    "    elif user_choice == 'f':\n",
    "        look_for = input(\"Enter search string: \").strip()\n",
    "        for one_person in people:\n",
    "            first_name, last_name, email = one_person\n",
    "            \n",
    "            if look_for in first_name or look_for in last_name:\n",
    "                print(f'{last_name:10}, {first_name:10}: {email}')        "
   ]
  },
  {
   "cell_type": "code",
   "execution_count": 14,
   "metadata": {},
   "outputs": [
    {
     "data": {
      "text/plain": [
       "[('Reuven', 'Lerner', 'reuven@lerner.co.il'), ('John', 'Doe', 'john@doe.com')]"
      ]
     },
     "execution_count": 14,
     "metadata": {},
     "output_type": "execute_result"
    }
   ],
   "source": [
    "people"
   ]
  },
  {
   "cell_type": "code",
   "execution_count": 15,
   "metadata": {},
   "outputs": [
    {
     "data": {
      "text/plain": [
       "False"
      ]
     },
     "execution_count": 15,
     "metadata": {},
     "output_type": "execute_result"
    }
   ],
   "source": [
    "'Lerner' in people\n"
   ]
  },
  {
   "cell_type": "code",
   "execution_count": 16,
   "metadata": {},
   "outputs": [
    {
     "data": {
      "text/plain": [
       "[('Reuven', 'Lerner', 'reuven@lerner.co.il'), ('John', 'Doe', 'john@doe.com')]"
      ]
     },
     "execution_count": 16,
     "metadata": {},
     "output_type": "execute_result"
    }
   ],
   "source": [
    "people"
   ]
  },
  {
   "cell_type": "code",
   "execution_count": 17,
   "metadata": {},
   "outputs": [],
   "source": [
    "# computer science theory has big-O notation \n",
    "# means: how long does it take to do something?\n",
    "\n",
    "# searching through a list of size n takes O(n) time\n",
    "# meaning: a longer list takes more time\n",
    "\n",
    "# another kind of data structure, the \"dictionary\" that has\n",
    "# O(1) time -- meaning constant time.  \n",
    "# Meaning: No matter how many items it contains, it takes the same\n",
    "# time to search."
   ]
  },
  {
   "cell_type": "code",
   "execution_count": null,
   "metadata": {},
   "outputs": [],
   "source": [
    "# dict is a Python data structure that:\n",
    "# - gives really fast searching\n",
    "# - it lets us write code that's more readable than lists/t"
   ]
  }
 ],
 "metadata": {
  "kernelspec": {
   "display_name": "Python 3",
   "language": "python",
   "name": "python3"
  },
  "language_info": {
   "codemirror_mode": {
    "name": "ipython",
    "version": 3
   },
   "file_extension": ".py",
   "mimetype": "text/x-python",
   "name": "python",
   "nbconvert_exporter": "python",
   "pygments_lexer": "ipython3",
   "version": "3.8.0"
  }
 },
 "nbformat": 4,
 "nbformat_minor": 4
}
