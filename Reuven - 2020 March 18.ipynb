{
 "cells": [
  {
   "cell_type": "code",
   "execution_count": null,
   "metadata": {},
   "outputs": [],
   "source": [
    "# None\n",
    "# True/False (bool)\n",
    "# int / float\n",
    "\n",
    "# sequences:\n",
    "# all (a) indexable, (b) sliceable, (c) iterable\n",
    "# we can use \"in\" to search in them\n",
    "\n",
    "# - str  -- contains any number of characters, and is IMMUTABLE\n",
    "# - list -- contains any number of any items, and is mutable\n",
    "#     -- typically used for a series of the same type\n",
    "# - tuple  -- contains any number of any items, and is IMMUTABLE\n",
    "#     -- typically used for a series of different types\n",
    "\n",
    "# iterate with a \"for\" loop over every item in an iterable\n",
    "\n",
    "for one_item in thing:\n",
    "    print(one_item)\n",
    "    \n",
    "# use \"break\" to get out of a loop\n",
    "# use \"continue\" to finish the current iteration, but not leave the loop\n",
    "#   meaning: go onto the next iteration\n",
    "\n",
    "# while loops continue to iterate until the condition is False\n",
    "\n",
    "x = 5\n",
    "while x > 0:\n",
    "    print(x)\n",
    "    x -= 1"
   ]
  },
  {
   "cell_type": "code",
   "execution_count": null,
   "metadata": {},
   "outputs": [],
   "source": [
    "# build a simple address book!\n",
    "# our address book will contain first name, last name, e-mail address\n",
    "# it will be a list of tuples\n",
    "\n",
    "[\n",
    "    ('Reuven', 'Lerner', 'reuven@lerner.co.il'),\n",
    "    ('John', 'Doe', 'john@doe.com'),\n",
    "]\n",
    "\n",
    "\n",
    "# (1) Create an empty list, called \"people\"\n",
    "# (2) Ask the user to enter a command -- could be:\n",
    "\n",
    "# while True -- asks an infinite number of times\n",
    "\n",
    "# get input from the user (hint: use the \"input\" function)\n",
    "# compare it with 'q' -- then we quit from the loop\n",
    "# compare it with 'a' -- then we add a new person\n",
    "#   ask first name\n",
    "#   ask last name\n",
    "#   ask e-mail address\n",
    "#   create a tuple with these three values\n",
    "#   stick that tuple onto the end of our \"people\" list\n",
    "# go back for another command!\n",
    "\n",
    "\n",
    "# - q (quit) \n",
    "# - a (add a new person -- ask three questions, use the answers\n",
    "#    to create a tuple, and add the tuple to the list)\n",
    "\n",
    "# Ask the user 3 questions (first/last/e-mail), stick the\n",
    "# answers into a tuple, and add that tuple to a list\n",
    "\n",
    "Command: q\n",
    "Bye\n",
    "\n",
    "Command: a\n",
    "Enter first name: Reuven\n",
    "Enter last name: Lerner\n",
    "Enter email address: reuven@lerner.co.il\n",
    "    \n",
    "# The program will use these three answers to create a tuple,\n",
    "# and will add that tuple to the \"people\" list\n",
    "\n",
    "# remember, you can add something (anything!) to a list with\n",
    "# the list.append method: mylist.append(5)\n"
   ]
  },
  {
   "cell_type": "code",
   "execution_count": 1,
   "metadata": {},
   "outputs": [
    {
     "name": "stdout",
     "output_type": "stream",
     "text": [
      "Enter a command: a\n",
      "Enter first name: Reuven\n",
      "Enter last name: Lerner\n",
      "Enter e-mail address: reuven@lerner.co.il\n",
      "Enter a command: a\n",
      "Enter first name: John\n",
      "Enter last name: Doe\n",
      "Enter e-mail address: john@doe.com\n",
      "Enter a command: q\n"
     ]
    }
   ],
   "source": [
    "people = []\n",
    "\n",
    "while True:\n",
    "    print(people)\n",
    "    user_choice = input(\"Enter a command: \").strip()\n",
    "    \n",
    "    if user_choice == 'q':\n",
    "        break\n",
    "        \n",
    "    elif user_choice == 'a':\n",
    "        first_name = input(\"Enter first name: \").strip()\n",
    "        last_name = input(\"Enter last name: \").strip()\n",
    "        email = input(\"Enter e-mail address: \").strip()\n",
    "        \n",
    "        new_person = (first_name, last_name, email)\n",
    "        people.append(new_person)\n",
    "        \n",
    "elif user_choice == 'l':\n",
    "    # go through each person -- meaning, a \"for\" loop on the \"people\"\n",
    "    # list... getting one tuple at a time\n",
    "    # retrieve the fields from the tuple (t[0], t[1], t[2])\n",
    "    # and then print them\n",
    "    \n",
    "    \n",
    "# (1) add an \"l\" command (list all people)\n",
    "#   show all people in our address book by last name, first name (email)\n",
    "\n",
    "elif user_choice == 'l':\n",
    "    # ask for a search string\n",
    "    # go through each person -- meaning, a \"for\" loop on the \"people\"\n",
    "    # list... getting one tuple at a time\n",
    "    # retrieve the fields from the tuple (t[0], t[1], t[2])\n",
    "    # and then print them *IF* either t[0] or t[1] contains \n",
    "    #  the search string\n",
    "\n",
    "# (2) add an \"f\" command (find)\n",
    "#   ask the user what they want to search for\n",
    "#   show all people, just like in \"l\", but only if the first\n",
    "#    and/or last names include the string that the person requested"
   ]
  },
  {
   "cell_type": "code",
   "execution_count": 2,
   "metadata": {},
   "outputs": [
    {
     "data": {
      "text/plain": [
       "[('Reuven', 'Lerner', 'reuven@lerner.co.il'), ('John', 'Doe', 'john@doe.com')]"
      ]
     },
     "execution_count": 2,
     "metadata": {},
     "output_type": "execute_result"
    }
   ],
   "source": [
    "people\n"
   ]
  },
  {
   "cell_type": "code",
   "execution_count": 6,
   "metadata": {},
   "outputs": [
    {
     "name": "stdout",
     "output_type": "stream",
     "text": [
      "Enter a command: l\n",
      "Lerner    , Reuven    : reuven@lerner.co.il\n",
      "Doe       , John      : john@doe.com\n",
      "Enter a command: q\n"
     ]
    }
   ],
   "source": [
    "# people = []\n",
    "\n",
    "while True:\n",
    "#     print(people)\n",
    "    user_choice = input(\"Enter a command: \").strip()\n",
    "    \n",
    "    if user_choice == 'q':\n",
    "        break\n",
    "        \n",
    "    elif user_choice == 'a':\n",
    "        first_name = input(\"Enter first name: \").strip()\n",
    "        last_name = input(\"Enter last name: \").strip()\n",
    "        email = input(\"Enter e-mail address: \").strip()\n",
    "        \n",
    "        new_person = (first_name, last_name, email)\n",
    "        people.append(new_person)\n",
    "        \n",
    "    elif user_choice == 'l':\n",
    "        for one_person in people:\n",
    "            first_name = one_person[0]\n",
    "            last_name = one_person[1]\n",
    "            email = one_person[2]\n",
    "            \n",
    "            print(f'{last_name:10}, {first_name:10}: {email}')\n",
    "        "
   ]
  },
  {
   "cell_type": "code",
   "execution_count": 7,
   "metadata": {},
   "outputs": [
    {
     "data": {
      "text/plain": [
       "[10, 20, 30]"
      ]
     },
     "execution_count": 7,
     "metadata": {},
     "output_type": "execute_result"
    }
   ],
   "source": [
    "mylist = [10, 20, 30]\n",
    "\n",
    "x = mylist\n",
    "x"
   ]
  },
  {
   "cell_type": "code",
   "execution_count": 8,
   "metadata": {},
   "outputs": [],
   "source": [
    "x,y,z = mylist  # unpacking -- 3 values -> 3 variables"
   ]
  },
  {
   "cell_type": "code",
   "execution_count": 9,
   "metadata": {},
   "outputs": [
    {
     "data": {
      "text/plain": [
       "10"
      ]
     },
     "execution_count": 9,
     "metadata": {},
     "output_type": "execute_result"
    }
   ],
   "source": [
    "x"
   ]
  },
  {
   "cell_type": "code",
   "execution_count": 10,
   "metadata": {},
   "outputs": [
    {
     "data": {
      "text/plain": [
       "20"
      ]
     },
     "execution_count": 10,
     "metadata": {},
     "output_type": "execute_result"
    }
   ],
   "source": [
    "y"
   ]
  },
  {
   "cell_type": "code",
   "execution_count": 11,
   "metadata": {},
   "outputs": [
    {
     "data": {
      "text/plain": [
       "30"
      ]
     },
     "execution_count": 11,
     "metadata": {},
     "output_type": "execute_result"
    }
   ],
   "source": [
    "z"
   ]
  },
  {
   "cell_type": "code",
   "execution_count": 13,
   "metadata": {},
   "outputs": [
    {
     "name": "stdout",
     "output_type": "stream",
     "text": [
      "Enter a command: f\n",
      "Enter search string: e\n",
      "Lerner    , Reuven    : reuven@lerner.co.il\n",
      "Doe       , John      : john@doe.com\n",
      "Enter a command: f\n",
      "Enter search string: D\n",
      "Doe       , John      : john@doe.com\n",
      "Enter a command: q\n"
     ]
    }
   ],
   "source": [
    "# people = []\n",
    "\n",
    "while True:\n",
    "#     print(people)\n",
    "    user_choice = input(\"Enter a command: \").strip()\n",
    "    \n",
    "    if user_choice == 'q':\n",
    "        break\n",
    "        \n",
    "    elif user_choice == 'a':\n",
    "        first_name = input(\"Enter first name: \").strip()\n",
    "        last_name = input(\"Enter last name: \").strip()\n",
    "        email = input(\"Enter e-mail address: \").strip()\n",
    "        \n",
    "        new_person = (first_name, last_name, email)\n",
    "        people.append(new_person)\n",
    "        \n",
    "    elif user_choice == 'l':\n",
    "        for one_person in people:\n",
    "            first_name, last_name, email = one_person\n",
    "            \n",
    "            print(f'{last_name:10}, {first_name:10}: {email}')\n",
    "\n",
    "    elif user_choice == 'f':\n",
    "        look_for = input(\"Enter search string: \").strip()\n",
    "        for one_person in people:\n",
    "            first_name, last_name, email = one_person\n",
    "            \n",
    "            if look_for in first_name or look_for in last_name:\n",
    "                print(f'{last_name:10}, {first_name:10}: {email}')        "
   ]
  },
  {
   "cell_type": "code",
   "execution_count": 14,
   "metadata": {},
   "outputs": [
    {
     "data": {
      "text/plain": [
       "[('Reuven', 'Lerner', 'reuven@lerner.co.il'), ('John', 'Doe', 'john@doe.com')]"
      ]
     },
     "execution_count": 14,
     "metadata": {},
     "output_type": "execute_result"
    }
   ],
   "source": [
    "people"
   ]
  },
  {
   "cell_type": "code",
   "execution_count": 15,
   "metadata": {},
   "outputs": [
    {
     "data": {
      "text/plain": [
       "False"
      ]
     },
     "execution_count": 15,
     "metadata": {},
     "output_type": "execute_result"
    }
   ],
   "source": [
    "'Lerner' in people\n"
   ]
  },
  {
   "cell_type": "code",
   "execution_count": 16,
   "metadata": {},
   "outputs": [
    {
     "data": {
      "text/plain": [
       "[('Reuven', 'Lerner', 'reuven@lerner.co.il'), ('John', 'Doe', 'john@doe.com')]"
      ]
     },
     "execution_count": 16,
     "metadata": {},
     "output_type": "execute_result"
    }
   ],
   "source": [
    "people"
   ]
  },
  {
   "cell_type": "code",
   "execution_count": 17,
   "metadata": {},
   "outputs": [],
   "source": [
    "# computer science theory has big-O notation \n",
    "# means: how long does it take to do something?\n",
    "\n",
    "# searching through a list of size n takes O(n) time\n",
    "# meaning: a longer list takes more time\n",
    "\n",
    "# another kind of data structure, the \"dictionary\" that has\n",
    "# O(1) time -- meaning constant time.  \n",
    "# Meaning: No matter how many items it contains, it takes the same\n",
    "# time to search."
   ]
  },
  {
   "cell_type": "code",
   "execution_count": 18,
   "metadata": {},
   "outputs": [],
   "source": [
    "# dict is a Python data structure that:\n",
    "# - gives really fast searching\n",
    "# - it lets us write code that's more readable than lists/tuples\n",
    "# - it works in pairs of data, known as keys and values"
   ]
  },
  {
   "cell_type": "code",
   "execution_count": 19,
   "metadata": {},
   "outputs": [],
   "source": [
    "mylist = [10, 20, 30, 40, 50]\n",
    "\n",
    "# dict lets me determine the indexes (we call them keys)\n",
    "# use curly braces to define a dict\n",
    "d = {5:200, 6:1000, 10: 250}"
   ]
  },
  {
   "cell_type": "code",
   "execution_count": 20,
   "metadata": {},
   "outputs": [
    {
     "data": {
      "text/plain": [
       "200"
      ]
     },
     "execution_count": 20,
     "metadata": {},
     "output_type": "execute_result"
    }
   ],
   "source": [
    "# to retrieve the value 200, I need to use the key 5\n",
    "d[5]"
   ]
  },
  {
   "cell_type": "code",
   "execution_count": 21,
   "metadata": {},
   "outputs": [
    {
     "data": {
      "text/plain": [
       "1000"
      ]
     },
     "execution_count": 21,
     "metadata": {},
     "output_type": "execute_result"
    }
   ],
   "source": [
    "# to retireve the key 1000, I need to use the key 6\n",
    "d[6]"
   ]
  },
  {
   "cell_type": "code",
   "execution_count": 22,
   "metadata": {},
   "outputs": [],
   "source": [
    "# dict keys are:\n",
    "# - unique\n",
    "# - hashable (basically means immutable)"
   ]
  },
  {
   "cell_type": "code",
   "execution_count": 23,
   "metadata": {},
   "outputs": [
    {
     "data": {
      "text/plain": [
       "'Reuven'"
      ]
     },
     "execution_count": 23,
     "metadata": {},
     "output_type": "execute_result"
    }
   ],
   "source": [
    "person = {'first':'Reuven', 'last':'Lerner'}\n",
    "\n",
    "person['first']"
   ]
  },
  {
   "cell_type": "code",
   "execution_count": 24,
   "metadata": {},
   "outputs": [
    {
     "data": {
      "text/plain": [
       "2"
      ]
     },
     "execution_count": 24,
     "metadata": {},
     "output_type": "execute_result"
    }
   ],
   "source": [
    "len(person)"
   ]
  },
  {
   "cell_type": "code",
   "execution_count": 25,
   "metadata": {},
   "outputs": [
    {
     "ename": "KeyError",
     "evalue": "'email'",
     "output_type": "error",
     "traceback": [
      "\u001b[0;31m---------------------------------------------------------------------------\u001b[0m",
      "\u001b[0;31mKeyError\u001b[0m                                  Traceback (most recent call last)",
      "\u001b[0;32m<ipython-input-25-d070676ff27f>\u001b[0m in \u001b[0;36m<module>\u001b[0;34m\u001b[0m\n\u001b[0;32m----> 1\u001b[0;31m \u001b[0mperson\u001b[0m\u001b[0;34m[\u001b[0m\u001b[0;34m'email'\u001b[0m\u001b[0;34m]\u001b[0m\u001b[0;34m\u001b[0m\u001b[0;34m\u001b[0m\u001b[0m\n\u001b[0m",
      "\u001b[0;31mKeyError\u001b[0m: 'email'"
     ]
    }
   ],
   "source": [
    "person['email']"
   ]
  },
  {
   "cell_type": "code",
   "execution_count": 26,
   "metadata": {},
   "outputs": [
    {
     "data": {
      "text/plain": [
       "False"
      ]
     },
     "execution_count": 26,
     "metadata": {},
     "output_type": "execute_result"
    }
   ],
   "source": [
    "'email' in person  # checks the keys, NOT the values!"
   ]
  },
  {
   "cell_type": "code",
   "execution_count": 27,
   "metadata": {},
   "outputs": [
    {
     "data": {
      "text/plain": [
       "True"
      ]
     },
     "execution_count": 27,
     "metadata": {},
     "output_type": "execute_result"
    }
   ],
   "source": [
    "'first' in person"
   ]
  },
  {
   "cell_type": "code",
   "execution_count": 28,
   "metadata": {},
   "outputs": [
    {
     "name": "stdout",
     "output_type": "stream",
     "text": [
      "Reuven\n"
     ]
    }
   ],
   "source": [
    "if 'first' in person:\n",
    "    print(person['first'])"
   ]
  },
  {
   "cell_type": "code",
   "execution_count": null,
   "metadata": {},
   "outputs": [],
   "source": [
    "# restaurant\n",
    "# create a dict in which the keys are menu items, and the values\n",
    "#  are prices.\n",
    "\n",
    "# ask the user, repeatedly, what they want to order\n",
    "# - if they give an empty string, tell them the amount of their bill\n",
    "# - if they name something on the menu, print the price and the\n",
    "#  new total\n",
    "# - if they name something not on the menu, scold them appropriately\n",
    "\n",
    "Order: tea\n",
    "tea costs 10, total is 10\n",
    "Order: sandwich\n",
    "sandwich costs 15, total is 25\n",
    "Order: elephant\n",
    "We are fresh out of elephant today\n",
    "Order: <enter>\n",
    "Your total is 25\n"
   ]
  },
  {
   "cell_type": "code",
   "execution_count": 29,
   "metadata": {},
   "outputs": [],
   "source": [
    "mydict = {'egg':10}"
   ]
  },
  {
   "cell_type": "code",
   "execution_count": 30,
   "metadata": {},
   "outputs": [
    {
     "ename": "NameError",
     "evalue": "name 'egg' is not defined",
     "output_type": "error",
     "traceback": [
      "\u001b[0;31m---------------------------------------------------------------------------\u001b[0m",
      "\u001b[0;31mNameError\u001b[0m                                 Traceback (most recent call last)",
      "\u001b[0;32m<ipython-input-30-23a13a4e03b4>\u001b[0m in \u001b[0;36m<module>\u001b[0;34m\u001b[0m\n\u001b[0;32m----> 1\u001b[0;31m \u001b[0mmydict\u001b[0m \u001b[0;34m=\u001b[0m \u001b[0;34m{\u001b[0m\u001b[0megg\u001b[0m\u001b[0;34m:\u001b[0m\u001b[0;36m10\u001b[0m\u001b[0;34m}\u001b[0m\u001b[0;34m\u001b[0m\u001b[0;34m\u001b[0m\u001b[0m\n\u001b[0m",
      "\u001b[0;31mNameError\u001b[0m: name 'egg' is not defined"
     ]
    }
   ],
   "source": [
    "mydict = {egg:10}"
   ]
  },
  {
   "cell_type": "code",
   "execution_count": 31,
   "metadata": {},
   "outputs": [
    {
     "name": "stdout",
     "output_type": "stream",
     "text": [
      "a\n",
      "Enter something: something\n",
      "b\n"
     ]
    }
   ],
   "source": [
    "print('a')\n",
    "x = input(\"Enter something: \")\n",
    "print('b')"
   ]
  },
  {
   "cell_type": "code",
   "execution_count": 36,
   "metadata": {},
   "outputs": [
    {
     "name": "stdout",
     "output_type": "stream",
     "text": [
      "What would you like to order? tea\n",
      "Price is 5, total is 5\n",
      "What would you like to order? asdfafa\n",
      "We do not serve asdfafa here\n",
      "What would you like to order? \n",
      "Total = 5\n"
     ]
    }
   ],
   "source": [
    "total = 0\n",
    "menu = {'tea':5,'sandwich':15,'cake':10}\n",
    "\n",
    "while True:\n",
    "    item = input(\"What would you like to order? \")\n",
    "\n",
    "    # if item == '':\n",
    "    if not item:  # takes advantage of the fact that '' is False in an \"if\"\n",
    "        break\n",
    "\n",
    "    elif item in menu:\n",
    "        price = menu[item]\n",
    "        total += price\n",
    "        print(f'Price is {price}, total is {total}')\n",
    "              \n",
    "    else:\n",
    "        print(f'We do not serve {item} here')\n",
    "\n",
    "print(f'Total = {total}')"
   ]
  },
  {
   "cell_type": "code",
   "execution_count": 39,
   "metadata": {},
   "outputs": [
    {
     "name": "stdout",
     "output_type": "stream",
     "text": [
      "What would you like to order? asdfa\n",
      "We do not serve asdfa here\n",
      "What would you like to order? \n",
      "Total = 0\n"
     ]
    }
   ],
   "source": [
    "total = 0\n",
    "menu = {'tea':5,'sandwich':15,'cake':10}\n",
    "\n",
    "while item := input(\"What would you like to order? \").strip():\n",
    "\n",
    "    if item in menu:\n",
    "        price = menu[item]\n",
    "        total += price\n",
    "        print(f'Price is {price}, total is {total}')\n",
    "              \n",
    "    else:\n",
    "        print(f'We do not serve {item} here')\n",
    "\n",
    "print(f'Total = {total}')"
   ]
  },
  {
   "cell_type": "code",
   "execution_count": 40,
   "metadata": {},
   "outputs": [
    {
     "data": {
      "text/plain": [
       "{'a': 10}"
      ]
     },
     "execution_count": 40,
     "metadata": {},
     "output_type": "execute_result"
    }
   ],
   "source": [
    "d = {}         # empty dict\n",
    "d['a'] = 10    # adds the key-value pair 'a':10 to the dict\n",
    "d"
   ]
  },
  {
   "cell_type": "code",
   "execution_count": 41,
   "metadata": {},
   "outputs": [
    {
     "data": {
      "text/plain": [
       "1"
      ]
     },
     "execution_count": 41,
     "metadata": {},
     "output_type": "execute_result"
    }
   ],
   "source": [
    "len(d)   # how many pairs?  (Not how many pieces of data)"
   ]
  },
  {
   "cell_type": "code",
   "execution_count": 42,
   "metadata": {},
   "outputs": [
    {
     "data": {
      "text/plain": [
       "{'a': 10, 'b': 20}"
      ]
     },
     "execution_count": 42,
     "metadata": {},
     "output_type": "execute_result"
    }
   ],
   "source": [
    "d['b'] = 20  # add the key-value pair 'b':20\n",
    "d"
   ]
  },
  {
   "cell_type": "code",
   "execution_count": 43,
   "metadata": {},
   "outputs": [],
   "source": [
    "d['b'] = 3333    # replace the value of 'b' with 3333"
   ]
  },
  {
   "cell_type": "code",
   "execution_count": 44,
   "metadata": {},
   "outputs": [
    {
     "data": {
      "text/plain": [
       "{'a': 10, 'b': 3333}"
      ]
     },
     "execution_count": 44,
     "metadata": {},
     "output_type": "execute_result"
    }
   ],
   "source": [
    "d"
   ]
  },
  {
   "cell_type": "code",
   "execution_count": 45,
   "metadata": {},
   "outputs": [
    {
     "data": {
      "text/plain": [
       "{'a': 10, 'b': 3333}"
      ]
     },
     "execution_count": 45,
     "metadata": {},
     "output_type": "execute_result"
    }
   ],
   "source": [
    "d"
   ]
  },
  {
   "cell_type": "code",
   "execution_count": 47,
   "metadata": {},
   "outputs": [
    {
     "data": {
      "text/plain": [
       "{'a': 20, 'b': 3333}"
      ]
     },
     "execution_count": 47,
     "metadata": {},
     "output_type": "execute_result"
    }
   ],
   "source": [
    "d['a'] += 5   # d['a'] = d['a'] + 5    ... d['a'] = 20\n",
    "d"
   ]
  },
  {
   "cell_type": "code",
   "execution_count": 48,
   "metadata": {},
   "outputs": [
    {
     "ename": "KeyError",
     "evalue": "'q'",
     "output_type": "error",
     "traceback": [
      "\u001b[0;31m---------------------------------------------------------------------------\u001b[0m",
      "\u001b[0;31mKeyError\u001b[0m                                  Traceback (most recent call last)",
      "\u001b[0;32m<ipython-input-48-e189ee83cd4b>\u001b[0m in \u001b[0;36m<module>\u001b[0;34m\u001b[0m\n\u001b[0;32m----> 1\u001b[0;31m \u001b[0md\u001b[0m\u001b[0;34m[\u001b[0m\u001b[0;34m'q'\u001b[0m\u001b[0;34m]\u001b[0m \u001b[0;34m+=\u001b[0m \u001b[0;36m5\u001b[0m   \u001b[0;31m# d['q'] = d['q'] + 5\u001b[0m\u001b[0;34m\u001b[0m\u001b[0;34m\u001b[0m\u001b[0m\n\u001b[0m",
      "\u001b[0;31mKeyError\u001b[0m: 'q'"
     ]
    }
   ],
   "source": [
    "d['q'] += 5   # d['q'] = d['q'] + 5"
   ]
  },
  {
   "cell_type": "code",
   "execution_count": 49,
   "metadata": {},
   "outputs": [
    {
     "data": {
      "text/plain": [
       "True"
      ]
     },
     "execution_count": 49,
     "metadata": {},
     "output_type": "execute_result"
    }
   ],
   "source": [
    "'a' in d"
   ]
  },
  {
   "cell_type": "code",
   "execution_count": 50,
   "metadata": {},
   "outputs": [
    {
     "data": {
      "text/plain": [
       "False"
      ]
     },
     "execution_count": 50,
     "metadata": {},
     "output_type": "execute_result"
    }
   ],
   "source": [
    "'q' in d"
   ]
  },
  {
   "cell_type": "code",
   "execution_count": null,
   "metadata": {},
   "outputs": [],
   "source": [
    "# (1) Create an empty dictionary, called \"rainfall\"\n",
    "# (2) Ask the user, repeatedly to enter a city name\n",
    "#  (it can be any city -- we're not limiting the user in advance)\n",
    "# (3) If the city is empty, we stop asking and print the \n",
    "#  \"rainfall\" dict\n",
    "# (4) If the city is not empty, we ask for how many mm rain \n",
    "#  fell in that city\n",
    "\n",
    "City: Jerusalem\n",
    "Rain: 2\n",
    "City: Tel Aviv\n",
    "Rain: 3\n",
    "City: Jerusalem\n",
    "Rain: 4\n",
    "City: <enter>\n",
    "{'Jerusalem': 6, 'Tel Aviv': 3}"
   ]
  },
  {
   "cell_type": "code",
   "execution_count": 51,
   "metadata": {},
   "outputs": [],
   "source": [
    "x = 5"
   ]
  },
  {
   "cell_type": "code",
   "execution_count": 52,
   "metadata": {},
   "outputs": [],
   "source": [
    "x = 'abcd'"
   ]
  },
  {
   "cell_type": "code",
   "execution_count": 53,
   "metadata": {},
   "outputs": [],
   "source": [
    "d = {'a':1, 'b':'cde', 'x':[10, 20, 30]}"
   ]
  },
  {
   "cell_type": "code",
   "execution_count": 57,
   "metadata": {},
   "outputs": [
    {
     "name": "stdout",
     "output_type": "stream",
     "text": [
      "Enter city name: Jerusalem\n",
      "Enter mm rain: 2\n",
      "Enter city name: Tel Aviv\n",
      "Enter mm rain: 3\n",
      "Enter city name: Jerusalem\n",
      "Enter mm rain: 4\n",
      "Enter city name: \n",
      "{'Jerusalem': 6, 'Tel Aviv': 3}\n"
     ]
    }
   ],
   "source": [
    "# Mypy \n",
    "\n",
    "rainfall = {}\n",
    "\n",
    "while True:\n",
    "    city_name = input(\"Enter city name: \").strip()\n",
    "    \n",
    "    if not city_name:\n",
    "        break\n",
    "        \n",
    "    mm_rain = input(\"Enter mm rain: \").strip()\n",
    "    mm_rain = int(mm_rain)\n",
    "    \n",
    "    if city_name in rainfall:\n",
    "        rainfall[city_name] += mm_rain\n",
    "    else:\n",
    "        rainfall[city_name] = mm_rain\n",
    "    \n",
    "print(rainfall)"
   ]
  },
  {
   "cell_type": "code",
   "execution_count": 58,
   "metadata": {},
   "outputs": [
    {
     "name": "stdout",
     "output_type": "stream",
     "text": [
      "a\n",
      "b\n",
      "c\n"
     ]
    }
   ],
   "source": [
    "d = {'a':1, 'b':2, 'c':3}\n",
    "\n",
    "for one_item in d:\n",
    "    print(one_item)"
   ]
  },
  {
   "cell_type": "code",
   "execution_count": 59,
   "metadata": {},
   "outputs": [
    {
     "data": {
      "text/plain": [
       "['a', 'b', 'c', 'd']"
      ]
     },
     "execution_count": 59,
     "metadata": {},
     "output_type": "execute_result"
    }
   ],
   "source": [
    "list('abcd')"
   ]
  },
  {
   "cell_type": "code",
   "execution_count": 60,
   "metadata": {},
   "outputs": [
    {
     "data": {
      "text/plain": [
       "['a', 'b', 'c']"
      ]
     },
     "execution_count": 60,
     "metadata": {},
     "output_type": "execute_result"
    }
   ],
   "source": [
    "list(d)"
   ]
  },
  {
   "cell_type": "code",
   "execution_count": 61,
   "metadata": {},
   "outputs": [
    {
     "name": "stdout",
     "output_type": "stream",
     "text": [
      "a: 1\n",
      "b: 2\n",
      "c: 3\n"
     ]
    }
   ],
   "source": [
    "for key in d:\n",
    "    print(f'{key}: {d[key]}')"
   ]
  },
  {
   "cell_type": "code",
   "execution_count": 62,
   "metadata": {},
   "outputs": [
    {
     "name": "stdout",
     "output_type": "stream",
     "text": [
      "a: 1\n",
      "b: 2\n",
      "c: 3\n"
     ]
    }
   ],
   "source": [
    "# dict.items returns two things with each iteration:\n",
    "# a key and a value!\n",
    "\n",
    "for key, value in d.items():\n",
    "    print(f'{key}: {value}')"
   ]
  },
  {
   "cell_type": "code",
   "execution_count": 63,
   "metadata": {},
   "outputs": [
    {
     "name": "stdout",
     "output_type": "stream",
     "text": [
      "{}\n",
      "Enter city name: Jerusalem\n",
      "Enter mm rain: 2\n",
      "{'Jerusalem': [2]}\n",
      "Enter city name: Tel Aviv\n",
      "Enter mm rain: 3\n",
      "{'Jerusalem': [2], 'Tel Aviv': [3]}\n",
      "Enter city name: Jerusalem\n",
      "Enter mm rain: 4\n",
      "{'Jerusalem': [2, 4], 'Tel Aviv': [3]}\n",
      "Enter city name: \n",
      "{'Jerusalem': [2, 4], 'Tel Aviv': [3]}\n"
     ]
    }
   ],
   "source": [
    "# Mypy \n",
    "\n",
    "rainfall = {}\n",
    "\n",
    "while True:\n",
    "    print(rainfall)\n",
    "    city_name = input(\"Enter city name: \").strip()\n",
    "    \n",
    "    if not city_name:\n",
    "        break\n",
    "        \n",
    "    mm_rain = input(\"Enter mm rain: \").strip()\n",
    "    mm_rain = int(mm_rain)\n",
    "    \n",
    "    if city_name in rainfall:\n",
    "        rainfall[city_name].append(mm_rain)\n",
    "    else:\n",
    "        rainfall[city_name] = [mm_rain]\n",
    "    \n",
    "print(rainfall)"
   ]
  },
  {
   "cell_type": "code",
   "execution_count": 64,
   "metadata": {},
   "outputs": [
    {
     "data": {
      "text/plain": [
       "{'Jerusalem': [2, 4], 'Tel Aviv': [3]}"
      ]
     },
     "execution_count": 64,
     "metadata": {},
     "output_type": "execute_result"
    }
   ],
   "source": [
    "rainfall"
   ]
  },
  {
   "cell_type": "code",
   "execution_count": 66,
   "metadata": {},
   "outputs": [
    {
     "name": "stdout",
     "output_type": "stream",
     "text": [
      "Jerusalem\n",
      "\t2\n",
      "\t4\n",
      "Tel Aviv\n",
      "\t3\n"
     ]
    }
   ],
   "source": [
    "for key, all_values in rainfall.items():\n",
    "    print(key)\n",
    "    for one_value in all_values:\n",
    "        print(f'\\t{one_value}')"
   ]
  },
  {
   "cell_type": "code",
   "execution_count": null,
   "metadata": {},
   "outputs": [],
   "source": [
    "# travel exercise\n",
    "# Create an empty dict -- the keys will be country names\n",
    "#  and the values will be lists of cities\n",
    "all_places = {}\n",
    "\n",
    "# Repeatedly ask the user to enter (in one line/one string)\n",
    "# a city, country where they have visited\n",
    "\n",
    "one_place = input(\"Enter a city, country: \").strip()\n",
    "\n",
    "# Break that apart (hint: use str.split) into two parts,\n",
    "# and use the country as the dict key, appending the city\n",
    "# onto the list of cities\n",
    "\n",
    "fields = one_place.split(',')  # this returns a list of two strings\n",
    "fields[0]  # this will be the city\n",
    "fields[1]  # this will be the country\n",
    "\n",
    "# Now, you're going to stick this into the dict\n",
    "# If the key is the country and the value is a list,\n",
    "# you'll want to do something like\n",
    "all_places[fields[1]].append(fields[0])\n",
    "\n",
    "\n",
    "# When the user presses <enter> use a loop to show each\n",
    "# country, and then the cities in that country you visited"
   ]
  },
  {
   "cell_type": "code",
   "execution_count": 67,
   "metadata": {},
   "outputs": [],
   "source": [
    "travell = {'lon': 22}\n"
   ]
  },
  {
   "cell_type": "code",
   "execution_count": 68,
   "metadata": {},
   "outputs": [
    {
     "data": {
      "text/plain": [
       "22"
      ]
     },
     "execution_count": 68,
     "metadata": {},
     "output_type": "execute_result"
    }
   ],
   "source": [
    "travell['lon']   # retrieve the value associated with 'lon' in travell"
   ]
  },
  {
   "cell_type": "code",
   "execution_count": 69,
   "metadata": {},
   "outputs": [
    {
     "ename": "NameError",
     "evalue": "name 'lon' is not defined",
     "output_type": "error",
     "traceback": [
      "\u001b[0;31m---------------------------------------------------------------------------\u001b[0m",
      "\u001b[0;31mNameError\u001b[0m                                 Traceback (most recent call last)",
      "\u001b[0;32m<ipython-input-69-74ac269aedfc>\u001b[0m in \u001b[0;36m<module>\u001b[0;34m\u001b[0m\n\u001b[0;32m----> 1\u001b[0;31m \u001b[0mtravell\u001b[0m\u001b[0;34m[\u001b[0m\u001b[0mlon\u001b[0m\u001b[0;34m]\u001b[0m  \u001b[0;31m# retrieve the value associated with the value of the lon variable\u001b[0m\u001b[0;34m\u001b[0m\u001b[0;34m\u001b[0m\u001b[0m\n\u001b[0m",
      "\u001b[0;31mNameError\u001b[0m: name 'lon' is not defined"
     ]
    }
   ],
   "source": [
    "travell[lon]  # retrieve the value associated with the value of the lon variable"
   ]
  },
  {
   "cell_type": "code",
   "execution_count": 70,
   "metadata": {},
   "outputs": [
    {
     "ename": "TypeError",
     "evalue": "'dict' object is not callable",
     "output_type": "error",
     "traceback": [
      "\u001b[0;31m---------------------------------------------------------------------------\u001b[0m",
      "\u001b[0;31mTypeError\u001b[0m                                 Traceback (most recent call last)",
      "\u001b[0;32m<ipython-input-70-082ed197702f>\u001b[0m in \u001b[0;36m<module>\u001b[0;34m\u001b[0m\n\u001b[0;32m----> 1\u001b[0;31m \u001b[0mtravell\u001b[0m\u001b[0;34m(\u001b[0m\u001b[0;34m'lon'\u001b[0m\u001b[0;34m)\u001b[0m  \u001b[0;31m# execute the travell function, passing 'lon' as an argument\u001b[0m\u001b[0;34m\u001b[0m\u001b[0;34m\u001b[0m\u001b[0m\n\u001b[0m",
      "\u001b[0;31mTypeError\u001b[0m: 'dict' object is not callable"
     ]
    }
   ],
   "source": [
    "travell('lon')  # execute the travell function, passing 'lon' as an argument"
   ]
  },
  {
   "cell_type": "code",
   "execution_count": null,
   "metadata": {},
   "outputs": [],
   "source": [
    "all_places = {}\n",
    "\n",
    "while True:\n",
    "    one_place = input(\"Enter a city, country: \").strip()\n",
    "    \n",
    "    if not one_place:\n",
    "        break\n",
    "        \n",
    "    fields = one_place.split(',')\n",
    "    city_name = fields[0]\n",
    "    country_name = fields[1]\n",
    "    \n",
    "    # make sure there's a list associated with our country\n",
    "    if country_name not in all_places:\n",
    "        all_places[country_name] = []\n",
    "\n",
    "    all_places[country_name].append(city_name)"
   ]
  }
 ],
 "metadata": {
  "kernelspec": {
   "display_name": "Python 3",
   "language": "python",
   "name": "python3"
  },
  "language_info": {
   "codemirror_mode": {
    "name": "ipython",
    "version": 3
   },
   "file_extension": ".py",
   "mimetype": "text/x-python",
   "name": "python",
   "nbconvert_exporter": "python",
   "pygments_lexer": "ipython3",
   "version": "3.8.0"
  }
 },
 "nbformat": 4,
 "nbformat_minor": 4
}
