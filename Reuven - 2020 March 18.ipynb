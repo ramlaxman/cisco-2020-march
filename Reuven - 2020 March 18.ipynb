{
 "cells": [
  {
   "cell_type": "code",
   "execution_count": null,
   "metadata": {},
   "outputs": [],
   "source": [
    "# None\n",
    "# True/False (bool)\n",
    "# int / float\n",
    "\n",
    "# sequences:\n",
    "# all (a) indexable, (b) sliceable, (c) iterable\n",
    "# we can use \"in\" to search in them\n",
    "\n",
    "# - str  -- contains any number of characters, and is IMMUTABLE\n",
    "# - list -- contains any number of any items, and is mutable\n",
    "# - tuple  -- contains any number of any items, and is IMMUTABLE"
   ]
  }
 ],
 "metadata": {
  "kernelspec": {
   "display_name": "Python 3",
   "language": "python",
   "name": "python3"
  },
  "language_info": {
   "codemirror_mode": {
    "name": "ipython",
    "version": 3
   },
   "file_extension": ".py",
   "mimetype": "text/x-python",
   "name": "python",
   "nbconvert_exporter": "python",
   "pygments_lexer": "ipython3",
   "version": "3.8.0"
  }
 },
 "nbformat": 4,
 "nbformat_minor": 4
}
