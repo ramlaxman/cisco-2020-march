{
 "cells": [
  {
   "cell_type": "code",
   "execution_count": null,
   "metadata": {},
   "outputs": [],
   "source": [
    "# When you install the Python language, you're installing:\n",
    "# - the \"python\" / python3 executable\n",
    "# - the \"pip\"/ pip3 program, to install 3rd-party modules/packages\n",
    "# - a whole bunch of Python packages, aka the \"standard library\"\n",
    "\n",
    "# on a Mac, you can install via a DMG or via Homebrew\n",
    "\n",
    "# You can also say:\n",
    "\n",
    "# python3 -m pip install XYZ\n",
    "\n",
    "# that's the same as\n",
    "\n",
    "# pip3 install XYZ\n",
    "\n",
    "\n",
    "# PyCharm -- any problems installing that?\n"
   ]
  },
  {
   "cell_type": "code",
   "execution_count": null,
   "metadata": {},
   "outputs": [],
   "source": []
  }
 ],
 "metadata": {
  "kernelspec": {
   "display_name": "Python 3",
   "language": "python",
   "name": "python3"
  },
  "language_info": {
   "codemirror_mode": {
    "name": "ipython",
    "version": 3
   },
   "file_extension": ".py",
   "mimetype": "text/x-python",
   "name": "python",
   "nbconvert_exporter": "python",
   "pygments_lexer": "ipython3",
   "version": "3.8.0"
  }
 },
 "nbformat": 4,
 "nbformat_minor": 4
}
