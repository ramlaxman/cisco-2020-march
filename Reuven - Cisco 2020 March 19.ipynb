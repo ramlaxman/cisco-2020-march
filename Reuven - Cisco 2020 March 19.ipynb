{
 "cells": [
  {
   "cell_type": "code",
   "execution_count": null,
   "metadata": {},
   "outputs": [],
   "source": [
    "# When you install the Python language, you're installing:\n",
    "# - the \"python\" / python3 executable\n",
    "# - the \"pip\"/ pip3 program, to install 3rd-party modules/packages\n",
    "# - a whole bunch of Python packages, aka the \"standard library\"\n",
    "\n",
    "# on a Mac, you can install via a DMG or via Homebrew\n",
    "\n",
    "# You can also say:\n",
    "\n",
    "# python3 -m pip install XYZ\n",
    "\n",
    "# that's the same as\n",
    "\n",
    "# pip3 install XYZ\n",
    "\n",
    "\n",
    "# PyCharm -- any problems installing that?\n"
   ]
  },
  {
   "cell_type": "code",
   "execution_count": 1,
   "metadata": {},
   "outputs": [
    {
     "data": {
      "text/plain": [
       "4"
      ]
     },
     "execution_count": 1,
     "metadata": {},
     "output_type": "execute_result"
    }
   ],
   "source": [
    "len('abcd')"
   ]
  },
  {
   "cell_type": "code",
   "execution_count": 2,
   "metadata": {},
   "outputs": [
    {
     "name": "stdout",
     "output_type": "stream",
     "text": [
      "hello\n"
     ]
    }
   ],
   "source": [
    "# advantages of functions:\n",
    "# (1) DRY -- don't repeat yourself\n",
    "# (2) power of abstraction \n",
    "\n",
    "print('hello')"
   ]
  },
  {
   "cell_type": "code",
   "execution_count": 4,
   "metadata": {},
   "outputs": [],
   "source": [
    "# define a function with \"def\"\n",
    "\n",
    "def hello():\n",
    "    print(\"Hello!\")   \n",
    "    print(\"Hello, again!\")"
   ]
  },
  {
   "cell_type": "code",
   "execution_count": 5,
   "metadata": {},
   "outputs": [
    {
     "name": "stdout",
     "output_type": "stream",
     "text": [
      "10\n",
      "Hello!\n",
      "Hello, again!\n",
      "11\n"
     ]
    }
   ],
   "source": [
    "print(10)\n",
    "hello()\n",
    "print(11)"
   ]
  },
  {
   "cell_type": "code",
   "execution_count": 6,
   "metadata": {},
   "outputs": [
    {
     "data": {
      "text/plain": [
       "<function __main__.hello()>"
      ]
     },
     "execution_count": 6,
     "metadata": {},
     "output_type": "execute_result"
    }
   ],
   "source": [
    "hello"
   ]
  },
  {
   "cell_type": "code",
   "execution_count": 7,
   "metadata": {},
   "outputs": [],
   "source": [
    "# (1) Write a \"hello\" function that takes no arguments\n",
    "# (2) In the function, ask the user for their name\n",
    "# (3) Ask the user to enter a number\n",
    "# (4) Print a greeting to the user that number of times"
   ]
  },
  {
   "cell_type": "code",
   "execution_count": 8,
   "metadata": {},
   "outputs": [],
   "source": [
    "def hello():\n",
    "    name = input(\"Enter your name: \").strip()\n",
    "    n = input(\"Enter a number: \")\n",
    "    \n",
    "    for i in range(int(n)):\n",
    "        print(f'Hello, {name}')"
   ]
  },
  {
   "cell_type": "code",
   "execution_count": 9,
   "metadata": {},
   "outputs": [
    {
     "name": "stdout",
     "output_type": "stream",
     "text": [
      "Enter your name: Reuven\n",
      "Enter a number: 5\n",
      "Hello, Reuven\n",
      "Hello, Reuven\n",
      "Hello, Reuven\n",
      "Hello, Reuven\n",
      "Hello, Reuven\n"
     ]
    }
   ],
   "source": [
    "hello()  # note: parentheses mean that the function should be executed"
   ]
  },
  {
   "cell_type": "code",
   "execution_count": 10,
   "metadata": {},
   "outputs": [
    {
     "ename": "NameError",
     "evalue": "name 'name' is not defined",
     "output_type": "error",
     "traceback": [
      "\u001b[0;31m---------------------------------------------------------------------------\u001b[0m",
      "\u001b[0;31mNameError\u001b[0m                                 Traceback (most recent call last)",
      "\u001b[0;32m<ipython-input-10-9bc0cb2ed6de>\u001b[0m in \u001b[0;36m<module>\u001b[0;34m\u001b[0m\n\u001b[0;32m----> 1\u001b[0;31m \u001b[0mname\u001b[0m\u001b[0;34m\u001b[0m\u001b[0;34m\u001b[0m\u001b[0m\n\u001b[0m",
      "\u001b[0;31mNameError\u001b[0m: name 'name' is not defined"
     ]
    }
   ],
   "source": [
    "name"
   ]
  },
  {
   "cell_type": "code",
   "execution_count": 14,
   "metadata": {},
   "outputs": [],
   "source": [
    "def hello(name):\n",
    "    print(f'Hello, {name}!')"
   ]
  },
  {
   "cell_type": "code",
   "execution_count": 15,
   "metadata": {},
   "outputs": [
    {
     "name": "stdout",
     "output_type": "stream",
     "text": [
      "Hello, Reuven!\n"
     ]
    }
   ],
   "source": [
    "hello('Reuven')"
   ]
  },
  {
   "cell_type": "code",
   "execution_count": 16,
   "metadata": {},
   "outputs": [
    {
     "name": "stdout",
     "output_type": "stream",
     "text": [
      "Hello, world!\n"
     ]
    }
   ],
   "source": [
    "hello('world')"
   ]
  },
  {
   "cell_type": "code",
   "execution_count": 17,
   "metadata": {},
   "outputs": [],
   "source": [
    "def hello(first, last):\n",
    "    print(f'Hello, {first} {last}!')"
   ]
  },
  {
   "cell_type": "code",
   "execution_count": 18,
   "metadata": {},
   "outputs": [
    {
     "name": "stdout",
     "output_type": "stream",
     "text": [
      "Hello, out there!\n"
     ]
    }
   ],
   "source": [
    "hello('out', 'there')"
   ]
  },
  {
   "cell_type": "code",
   "execution_count": 19,
   "metadata": {},
   "outputs": [
    {
     "name": "stdout",
     "output_type": "stream",
     "text": [
      "Hello, abcd efgh!\n"
     ]
    }
   ],
   "source": [
    "hello('abcd', 'efgh')"
   ]
  },
  {
   "cell_type": "code",
   "execution_count": null,
   "metadata": {},
   "outputs": [],
   "source": [
    "hello(sam, 5)   # LEGB -- local, (enclosing), global, builtins"
   ]
  },
  {
   "cell_type": "code",
   "execution_count": 2,
   "metadata": {},
   "outputs": [],
   "source": [
    "def hello():\n",
    "    name = input(\"Enter your name: \").strip()\n",
    "    n = input(\"Enter a number: \")\n",
    "    \n",
    "    for i in range(int(n)):\n",
    "        print(f'Hello, {name}')  \n"
   ]
  },
  {
   "cell_type": "code",
   "execution_count": 3,
   "metadata": {},
   "outputs": [
    {
     "name": "stdout",
     "output_type": "stream",
     "text": [
      "Enter your name: Reuven\n",
      "Enter a number: 3\n",
      "Hello, Reuven\n",
      "Hello, Reuven\n",
      "Hello, Reuven\n"
     ]
    }
   ],
   "source": [
    "hello()"
   ]
  },
  {
   "cell_type": "code",
   "execution_count": null,
   "metadata": {},
   "outputs": [],
   "source": []
  },
  {
   "cell_type": "code",
   "execution_count": 4,
   "metadata": {},
   "outputs": [
    {
     "name": "stdout",
     "output_type": "stream",
     "text": [
      "Hello, Reuven\n",
      "Hello, Reuven\n",
      "Hello, Reuven\n",
      "Hello, Reuven\n",
      "Hello, Reuven\n"
     ]
    }
   ],
   "source": [
    "def hello(name, n):\n",
    "    for i in range(int(n)):\n",
    "        print(f'Hello, {name}')\n",
    "        \n",
    "# Modify this version of \"hello\" so that it takes two arguments, \n",
    "# name and n, and then uses them.\n",
    "\n",
    "hello('Reuven', 5)"
   ]
  },
  {
   "cell_type": "code",
   "execution_count": 5,
   "metadata": {},
   "outputs": [
    {
     "name": "stdout",
     "output_type": "stream",
     "text": [
      "0\n",
      "1\n",
      "Hello, 1\n",
      "2\n",
      "Hello, 2\n",
      "Hello, 2\n",
      "3\n",
      "Hello, 3\n",
      "Hello, 3\n",
      "Hello, 3\n",
      "4\n",
      "Hello, 4\n",
      "Hello, 4\n",
      "Hello, 4\n",
      "Hello, 4\n"
     ]
    }
   ],
   "source": [
    "for i in range(5):\n",
    "    print(i)\n",
    "    hello(i, i)"
   ]
  },
  {
   "cell_type": "code",
   "execution_count": 6,
   "metadata": {},
   "outputs": [],
   "source": [
    "def hello(name):\n",
    "    print(f'Hello, {name}')"
   ]
  },
  {
   "cell_type": "code",
   "execution_count": 7,
   "metadata": {},
   "outputs": [
    {
     "name": "stdout",
     "output_type": "stream",
     "text": [
      "Hello, out there\n"
     ]
    }
   ],
   "source": [
    "hello('out there')"
   ]
  },
  {
   "cell_type": "code",
   "execution_count": 8,
   "metadata": {},
   "outputs": [
    {
     "data": {
      "text/plain": [
       "5"
      ]
     },
     "execution_count": 8,
     "metadata": {},
     "output_type": "execute_result"
    }
   ],
   "source": [
    "x = len('abcde')\n",
    "x"
   ]
  },
  {
   "cell_type": "code",
   "execution_count": 9,
   "metadata": {},
   "outputs": [
    {
     "data": {
      "text/plain": [
       "'ABCDE'"
      ]
     },
     "execution_count": 9,
     "metadata": {},
     "output_type": "execute_result"
    }
   ],
   "source": [
    "s = 'abcde'\n",
    "x = 'ABCDE'"
   ]
  },
  {
   "cell_type": "code",
   "execution_count": 10,
   "metadata": {},
   "outputs": [
    {
     "name": "stdout",
     "output_type": "stream",
     "text": [
      "Hello, Reuven\n"
     ]
    }
   ],
   "source": [
    "x = hello('Reuven')"
   ]
  },
  {
   "cell_type": "code",
   "execution_count": 12,
   "metadata": {},
   "outputs": [
    {
     "name": "stdout",
     "output_type": "stream",
     "text": [
      "None\n"
     ]
    }
   ],
   "source": [
    "print(x)"
   ]
  },
  {
   "cell_type": "code",
   "execution_count": 13,
   "metadata": {},
   "outputs": [],
   "source": [
    "# a function can *return* one value, and only one value\n",
    "#   (although that value can be a list, dict, tuple, etc)\n",
    "\n",
    "# a function can *print* any values it wants.  These aren't returned,\n",
    "#  but just printed on the screen\n",
    "\n",
    "# a Python function that doesn't explicitly return a value returns None."
   ]
  },
  {
   "cell_type": "code",
   "execution_count": 15,
   "metadata": {},
   "outputs": [],
   "source": [
    "def hello(name):\n",
    "    return f'Hello, {name}'"
   ]
  },
  {
   "cell_type": "code",
   "execution_count": 17,
   "metadata": {},
   "outputs": [],
   "source": [
    "x = hello('Reuven')"
   ]
  },
  {
   "cell_type": "code",
   "execution_count": 18,
   "metadata": {},
   "outputs": [
    {
     "data": {
      "text/plain": [
       "'Hello, Reuven'"
      ]
     },
     "execution_count": 18,
     "metadata": {},
     "output_type": "execute_result"
    }
   ],
   "source": [
    "x"
   ]
  },
  {
   "cell_type": "code",
   "execution_count": 24,
   "metadata": {},
   "outputs": [],
   "source": [
    "# Write a \"mysum\" function that takes a list or tuple of numbers\n",
    "# and returns the total of those numbers.\n",
    "\n",
    "# (1) Assume that each element of the list/tuple is an integer/float\n",
    "# (2) You want to return the total, not print it\n",
    "# (3) Don't use the built-in \"sum\" function!\n",
    "\n",
    "def mysum(numbers):\n",
    "    total = 0\n",
    "    for one_number in numbers:\n",
    "        total += int(one_number)\n",
    "    return total"
   ]
  },
  {
   "cell_type": "code",
   "execution_count": 20,
   "metadata": {},
   "outputs": [
    {
     "data": {
      "text/plain": [
       "60"
      ]
     },
     "execution_count": 20,
     "metadata": {},
     "output_type": "execute_result"
    }
   ],
   "source": [
    "mysum( [10, 20, 30] )"
   ]
  },
  {
   "cell_type": "code",
   "execution_count": 21,
   "metadata": {},
   "outputs": [
    {
     "data": {
      "text/plain": [
       "752"
      ]
     },
     "execution_count": 21,
     "metadata": {},
     "output_type": "execute_result"
    }
   ],
   "source": [
    "mysum( [100, 150, 200, 302] )"
   ]
  },
  {
   "cell_type": "code",
   "execution_count": 22,
   "metadata": {},
   "outputs": [
    {
     "data": {
      "text/plain": [
       "60"
      ]
     },
     "execution_count": 22,
     "metadata": {},
     "output_type": "execute_result"
    }
   ],
   "source": [
    "mysum( (10, 20, 30) )"
   ]
  },
  {
   "cell_type": "code",
   "execution_count": 23,
   "metadata": {},
   "outputs": [
    {
     "data": {
      "text/plain": [
       "['10', '20', '30']"
      ]
     },
     "execution_count": 23,
     "metadata": {},
     "output_type": "execute_result"
    }
   ],
   "source": [
    "'10 20 30'.split()  # always returns  a list of strings"
   ]
  },
  {
   "cell_type": "code",
   "execution_count": 25,
   "metadata": {},
   "outputs": [
    {
     "data": {
      "text/plain": [
       "60"
      ]
     },
     "execution_count": 25,
     "metadata": {},
     "output_type": "execute_result"
    }
   ],
   "source": [
    "mysum('10 20 30'.split())  "
   ]
  },
  {
   "cell_type": "code",
   "execution_count": 26,
   "metadata": {},
   "outputs": [],
   "source": [
    "def hello(name):\n",
    "    return f'Hello, {name}'"
   ]
  },
  {
   "cell_type": "code",
   "execution_count": 27,
   "metadata": {},
   "outputs": [
    {
     "data": {
      "text/plain": [
       "'Hello, Reuven'"
      ]
     },
     "execution_count": 27,
     "metadata": {},
     "output_type": "execute_result"
    }
   ],
   "source": [
    "hello('Reuven')"
   ]
  },
  {
   "cell_type": "code",
   "execution_count": 28,
   "metadata": {},
   "outputs": [
    {
     "data": {
      "text/plain": [
       "'Hello, 12345'"
      ]
     },
     "execution_count": 28,
     "metadata": {},
     "output_type": "execute_result"
    }
   ],
   "source": [
    "hello(12345)"
   ]
  },
  {
   "cell_type": "code",
   "execution_count": 29,
   "metadata": {},
   "outputs": [
    {
     "data": {
      "text/plain": [
       "'Hello, [10, 20, 30]'"
      ]
     },
     "execution_count": 29,
     "metadata": {},
     "output_type": "execute_result"
    }
   ],
   "source": [
    "hello([10, 20, 30])"
   ]
  },
  {
   "cell_type": "code",
   "execution_count": 30,
   "metadata": {},
   "outputs": [
    {
     "data": {
      "text/plain": [
       "'Hello, <function hello at 0x7feb1810bc10>'"
      ]
     },
     "execution_count": 30,
     "metadata": {},
     "output_type": "execute_result"
    }
   ],
   "source": [
    "hello(hello)"
   ]
  },
  {
   "cell_type": "code",
   "execution_count": 31,
   "metadata": {},
   "outputs": [],
   "source": [
    "def add(a, b):\n",
    "    return a + b"
   ]
  },
  {
   "cell_type": "code",
   "execution_count": 32,
   "metadata": {},
   "outputs": [
    {
     "data": {
      "text/plain": [
       "8"
      ]
     },
     "execution_count": 32,
     "metadata": {},
     "output_type": "execute_result"
    }
   ],
   "source": [
    "add(5, 3)"
   ]
  },
  {
   "cell_type": "code",
   "execution_count": 33,
   "metadata": {},
   "outputs": [],
   "source": [
    "def add3(a, b, c):\n",
    "    return a + b + c"
   ]
  },
  {
   "cell_type": "code",
   "execution_count": 34,
   "metadata": {},
   "outputs": [],
   "source": [
    "def longest_word(s):\n",
    "    output = ''\n",
    "    for one_word in s.split():\n",
    "        if len(one_word) > len(output):\n",
    "            output = one_word\n",
    "    \n",
    "    return output"
   ]
  },
  {
   "cell_type": "code",
   "execution_count": 35,
   "metadata": {},
   "outputs": [
    {
     "data": {
      "text/plain": [
       "'sentence'"
      ]
     },
     "execution_count": 35,
     "metadata": {},
     "output_type": "execute_result"
    }
   ],
   "source": [
    "longest_word('this is a very boring sentence for me to write')"
   ]
  },
  {
   "cell_type": "code",
   "execution_count": 36,
   "metadata": {},
   "outputs": [],
   "source": [
    "# Define a \"calc\" function that takes 3 arguments:\n",
    "# - a, first number\n",
    "# - b, second number\n",
    "# - op, a string which is \"+\" or \"-\"\n",
    "\n",
    "# it'll return the result of that operator on these numbers\n",
    "\n",
    "def calc(a, b, op):\n",
    "    if op == '+':\n",
    "        return a + b\n",
    "    elif op == '-':\n",
    "        return a - b\n",
    "    else:\n",
    "        print(\"Bad operator!  Returning None\")\n",
    "        return None"
   ]
  },
  {
   "cell_type": "code",
   "execution_count": 37,
   "metadata": {},
   "outputs": [
    {
     "data": {
      "text/plain": [
       "13"
      ]
     },
     "execution_count": 37,
     "metadata": {},
     "output_type": "execute_result"
    }
   ],
   "source": [
    "calc(10, 3, '+')"
   ]
  },
  {
   "cell_type": "code",
   "execution_count": 38,
   "metadata": {},
   "outputs": [
    {
     "data": {
      "text/plain": [
       "7"
      ]
     },
     "execution_count": 38,
     "metadata": {},
     "output_type": "execute_result"
    }
   ],
   "source": [
    "calc(10, 3, '-')"
   ]
  },
  {
   "cell_type": "code",
   "execution_count": 40,
   "metadata": {},
   "outputs": [
    {
     "data": {
      "text/plain": [
       "-2"
      ]
     },
     "execution_count": 40,
     "metadata": {},
     "output_type": "execute_result"
    }
   ],
   "source": [
    "def calc(a, b, op='+'):\n",
    "    if op == '+':\n",
    "        return a + b\n",
    "    elif op == '-':\n",
    "        return a - b\n",
    "    else:\n",
    "        print(\"Bad operator!  Returning None\")\n",
    "        return None\n",
    "\n",
    "calc(3, 5, '-')  # subtract 3-5"
   ]
  },
  {
   "cell_type": "code",
   "execution_count": 41,
   "metadata": {},
   "outputs": [
    {
     "data": {
      "text/plain": [
       "8"
      ]
     },
     "execution_count": 41,
     "metadata": {},
     "output_type": "execute_result"
    }
   ],
   "source": [
    "calc(3, 5)       # add 3 + 5, because '+' is the default value for op"
   ]
  },
  {
   "cell_type": "code",
   "execution_count": 43,
   "metadata": {},
   "outputs": [
    {
     "data": {
      "text/plain": [
       "60"
      ]
     },
     "execution_count": 43,
     "metadata": {},
     "output_type": "execute_result"
    }
   ],
   "source": [
    "sum([10, 20, 30])"
   ]
  },
  {
   "cell_type": "code",
   "execution_count": 44,
   "metadata": {},
   "outputs": [
    {
     "data": {
      "text/plain": [
       "67"
      ]
     },
     "execution_count": 44,
     "metadata": {},
     "output_type": "execute_result"
    }
   ],
   "source": [
    "sum([10, 20, 30], 7)"
   ]
  },
  {
   "cell_type": "code",
   "execution_count": 45,
   "metadata": {},
   "outputs": [
    {
     "data": {
      "text/plain": [
       "[-2, 5, 7, 8, 10, 12, 13]"
      ]
     },
     "execution_count": 45,
     "metadata": {},
     "output_type": "execute_result"
    }
   ],
   "source": [
    "mylist = [10, 5, 7, 13, 12, -2, 8]\n",
    "sorted(mylist)"
   ]
  },
  {
   "cell_type": "code",
   "execution_count": 46,
   "metadata": {},
   "outputs": [
    {
     "name": "stdout",
     "output_type": "stream",
     "text": [
      "Help on built-in function sorted in module builtins:\n",
      "\n",
      "sorted(iterable, /, *, key=None, reverse=False)\n",
      "    Return a new list containing all items from the iterable in ascending order.\n",
      "    \n",
      "    A custom key function can be supplied to customize the sort order, and the\n",
      "    reverse flag can be set to request the result in descending order.\n",
      "\n"
     ]
    }
   ],
   "source": [
    "help(sorted)"
   ]
  },
  {
   "cell_type": "code",
   "execution_count": 47,
   "metadata": {},
   "outputs": [
    {
     "data": {
      "text/plain": [
       "[-2, 5, 7, 8, 10, 12, 13]"
      ]
     },
     "execution_count": 47,
     "metadata": {},
     "output_type": "execute_result"
    }
   ],
   "source": [
    "sorted(mylist)"
   ]
  },
  {
   "cell_type": "code",
   "execution_count": 48,
   "metadata": {},
   "outputs": [
    {
     "data": {
      "text/plain": [
       "[13, 12, 10, 8, 7, 5, -2]"
      ]
     },
     "execution_count": 48,
     "metadata": {},
     "output_type": "execute_result"
    }
   ],
   "source": [
    "sorted(mylist, reverse=True)"
   ]
  },
  {
   "cell_type": "code",
   "execution_count": 49,
   "metadata": {},
   "outputs": [
    {
     "data": {
      "text/plain": [
       "13"
      ]
     },
     "execution_count": 49,
     "metadata": {},
     "output_type": "execute_result"
    }
   ],
   "source": [
    "def add(a, b):\n",
    "    return a + b\n",
    "\n",
    "add(10, 3)"
   ]
  },
  {
   "cell_type": "code",
   "execution_count": 50,
   "metadata": {},
   "outputs": [
    {
     "data": {
      "text/plain": [
       "13"
      ]
     },
     "execution_count": 50,
     "metadata": {},
     "output_type": "execute_result"
    }
   ],
   "source": [
    "def add(a, b=10):\n",
    "    return a + b\n",
    "\n",
    "add(10, 3)"
   ]
  },
  {
   "cell_type": "code",
   "execution_count": 51,
   "metadata": {},
   "outputs": [
    {
     "data": {
      "text/plain": [
       "20"
      ]
     },
     "execution_count": 51,
     "metadata": {},
     "output_type": "execute_result"
    }
   ],
   "source": [
    "add(10)"
   ]
  },
  {
   "cell_type": "code",
   "execution_count": 52,
   "metadata": {},
   "outputs": [
    {
     "ename": "SyntaxError",
     "evalue": "non-default argument follows default argument (<ipython-input-52-f92cd9facc39>, line 1)",
     "output_type": "error",
     "traceback": [
      "\u001b[0;36m  File \u001b[0;32m\"<ipython-input-52-f92cd9facc39>\"\u001b[0;36m, line \u001b[0;32m1\u001b[0m\n\u001b[0;31m    def add(a=10, b):\u001b[0m\n\u001b[0m            ^\u001b[0m\n\u001b[0;31mSyntaxError\u001b[0m\u001b[0;31m:\u001b[0m non-default argument follows default argument\n"
     ]
    }
   ],
   "source": [
    "# defaults must all be at the END\n",
    "\n",
    "def add(a=10, b):  # two parameters: a had a default value, b didn't  -- ILLEGAL\n",
    "    return a + b\n",
    "\n",
    "add(10, 3)"
   ]
  },
  {
   "cell_type": "code",
   "execution_count": 53,
   "metadata": {},
   "outputs": [
    {
     "data": {
      "text/plain": [
       "['a', 'b', 'c', 'j', 'q']"
      ]
     },
     "execution_count": 53,
     "metadata": {},
     "output_type": "execute_result"
    }
   ],
   "source": [
    "sorted('bqcaj')"
   ]
  },
  {
   "cell_type": "code",
   "execution_count": 54,
   "metadata": {},
   "outputs": [
    {
     "name": "stdout",
     "output_type": "stream",
     "text": [
      "5\r\n",
      "\t10     \r\n",
      "\t20\r\n",
      "  \t3\r\n",
      "\t\t   \t20        \r\n",
      "\r\n",
      " 25\r\n"
     ]
    }
   ],
   "source": [
    "%cat nums.txt"
   ]
  },
  {
   "cell_type": "code",
   "execution_count": 55,
   "metadata": {},
   "outputs": [
    {
     "data": {
      "text/plain": [
       "['\\t\\t   \\t20        \\n',\n",
       " '\\t10     \\n',\n",
       " '\\t20\\n',\n",
       " '\\n',\n",
       " '  \\t3\\n',\n",
       " ' 25\\n',\n",
       " '5\\n']"
      ]
     },
     "execution_count": 55,
     "metadata": {},
     "output_type": "execute_result"
    }
   ],
   "source": [
    "sorted(open('nums.txt'))"
   ]
  },
  {
   "cell_type": "code",
   "execution_count": 56,
   "metadata": {},
   "outputs": [
    {
     "name": "stdout",
     "output_type": "stream",
     "text": [
      "gps.txt               mini-access-log.txt  rmlfile.txt    wcfile.txt\r\n",
      "linux-etc-passwd.txt  nums.txt             shoe-data.txt\r\n"
     ]
    }
   ],
   "source": [
    "%ls *.txt"
   ]
  },
  {
   "cell_type": "code",
   "execution_count": null,
   "metadata": {},
   "outputs": [],
   "source": [
    "# Write a function called write_config.  It takes three arguments:\n",
    "\n",
    "# - string (filename)\n",
    "# - dictionary  (d)\n",
    "# - a string (sep), has a default value of \"=\"\n",
    "\n",
    "# This function is going to write into our filename each of the \n",
    "# name-value pairs in our dictionary.  Each pair will be written\n",
    "# on one line, separated by \"sep\".  If the caller doesn't specify,\n",
    "# then \"sep\" will be \"=\".\n",
    "\n",
    "d = {'a':1, 'b':2, 'c':3}\n",
    "write_config('myconfig.txt', d)\n",
    "\n",
    "# given the above, myconfig.txt will look like:\n",
    "a=1\n",
    "b=2\n",
    "c=3\n",
    "\n",
    "# but if I call\n",
    "write_config('myconfig.txt', d, '::')\n",
    "\n",
    "# it'll instead look like\n",
    "a::1\n",
    "b::2\n",
    "c::3\n",
    "        \n",
    "#Reminder: We can open a file for writing, and write to it, as follows:\n",
    "with open('outfile.txt', 'w') as f:\n",
    "    f.write('my content\\n')\n",
    "        \n",
    "        \n",
    "# In the function:\n",
    "# (1) Open the file for writing\n",
    "# (2) Go through each key-value pair in the dict\n",
    "# (3) Write that key-value pair to the output file, using the separator\n"
   ]
  },
  {
   "cell_type": "code",
   "execution_count": 57,
   "metadata": {},
   "outputs": [],
   "source": [
    "def write_config(filename, d, sep='='):\n",
    "    with open(filename, 'w') as f:\n",
    "        for key, value in d.items():\n",
    "            f.write(f'{key}{sep}{value}\\n')\n",
    "    "
   ]
  },
  {
   "cell_type": "code",
   "execution_count": 59,
   "metadata": {},
   "outputs": [],
   "source": [
    "d = {'a':1, 'b':2, 'c':3}\n",
    "write_config('myconfig.txt', d, sep=':::')"
   ]
  },
  {
   "cell_type": "code",
   "execution_count": 60,
   "metadata": {},
   "outputs": [
    {
     "name": "stdout",
     "output_type": "stream",
     "text": [
      "a:::1\r\n",
      "b:::2\r\n",
      "c:::3\r\n"
     ]
    }
   ],
   "source": [
    "%cat myconfig.txt"
   ]
  },
  {
   "cell_type": "code",
   "execution_count": 61,
   "metadata": {},
   "outputs": [],
   "source": [
    "# library -- a collection of functions that many programs will want to use\n",
    "# in Python, we call these libraries \"modules\""
   ]
  },
  {
   "cell_type": "code",
   "execution_count": 62,
   "metadata": {},
   "outputs": [],
   "source": [
    "import random   # load the \"random\" module, making its functions available to us"
   ]
  },
  {
   "cell_type": "code",
   "execution_count": 63,
   "metadata": {},
   "outputs": [
    {
     "data": {
      "text/plain": [
       "22"
      ]
     },
     "execution_count": 63,
     "metadata": {},
     "output_type": "execute_result"
    }
   ],
   "source": [
    "random.randint(1, 100)"
   ]
  },
  {
   "cell_type": "code",
   "execution_count": 64,
   "metadata": {},
   "outputs": [
    {
     "data": {
      "text/plain": [
       "'d'"
      ]
     },
     "execution_count": 64,
     "metadata": {},
     "output_type": "execute_result"
    }
   ],
   "source": [
    "random.choice('abcdefg')"
   ]
  },
  {
   "cell_type": "code",
   "execution_count": 65,
   "metadata": {},
   "outputs": [],
   "source": [
    "import os   # operating system module -- communicating with your computer's OS\n"
   ]
  },
  {
   "cell_type": "code",
   "execution_count": 66,
   "metadata": {
    "collapsed": true
   },
   "outputs": [
    {
     "name": "stdout",
     "output_type": "stream",
     "text": [
      "Help on module os:\n",
      "\n",
      "NAME\n",
      "    os - OS routines for NT or Posix depending on what system we're on.\n",
      "\n",
      "MODULE REFERENCE\n",
      "    https://docs.python.org/3.8/library/os\n",
      "    \n",
      "    The following documentation is automatically generated from the Python\n",
      "    source files.  It may be incomplete, incorrect or include features that\n",
      "    are considered implementation detail and may vary between Python\n",
      "    implementations.  When in doubt, consult the module reference at the\n",
      "    location listed above.\n",
      "\n",
      "DESCRIPTION\n",
      "    This exports:\n",
      "      - all functions from posix or nt, e.g. unlink, stat, etc.\n",
      "      - os.path is either posixpath or ntpath\n",
      "      - os.name is either 'posix' or 'nt'\n",
      "      - os.curdir is a string representing the current directory (always '.')\n",
      "      - os.pardir is a string representing the parent directory (always '..')\n",
      "      - os.sep is the (or a most common) pathname separator ('/' or '\\\\')\n",
      "      - os.extsep is the extension separator (always '.')\n",
      "      - os.altsep is the alternate pathname separator (None or '/')\n",
      "      - os.pathsep is the component separator used in $PATH etc\n",
      "      - os.linesep is the line separator in text files ('\\r' or '\\n' or '\\r\\n')\n",
      "      - os.defpath is the default search path for executables\n",
      "      - os.devnull is the file path of the null device ('/dev/null', etc.)\n",
      "    \n",
      "    Programs that import and use 'os' stand a better chance of being\n",
      "    portable between different platforms.  Of course, they must then\n",
      "    only use functions that are defined by all platforms (e.g., unlink\n",
      "    and opendir), and leave all pathname manipulation to os.path\n",
      "    (e.g., split and join).\n",
      "\n",
      "CLASSES\n",
      "    builtins.Exception(builtins.BaseException)\n",
      "        builtins.OSError\n",
      "    builtins.object\n",
      "        posix.DirEntry\n",
      "    builtins.tuple(builtins.object)\n",
      "        stat_result\n",
      "        statvfs_result\n",
      "        terminal_size\n",
      "        posix.sched_param\n",
      "        posix.times_result\n",
      "        posix.uname_result\n",
      "        posix.waitid_result\n",
      "    \n",
      "    class DirEntry(builtins.object)\n",
      "     |  Methods defined here:\n",
      "     |  \n",
      "     |  __fspath__(self, /)\n",
      "     |      Returns the path for the entry.\n",
      "     |  \n",
      "     |  __repr__(self, /)\n",
      "     |      Return repr(self).\n",
      "     |  \n",
      "     |  inode(self, /)\n",
      "     |      Return inode of the entry; cached per entry.\n",
      "     |  \n",
      "     |  is_dir(self, /, *, follow_symlinks=True)\n",
      "     |      Return True if the entry is a directory; cached per entry.\n",
      "     |  \n",
      "     |  is_file(self, /, *, follow_symlinks=True)\n",
      "     |      Return True if the entry is a file; cached per entry.\n",
      "     |  \n",
      "     |  is_symlink(self, /)\n",
      "     |      Return True if the entry is a symbolic link; cached per entry.\n",
      "     |  \n",
      "     |  stat(self, /, *, follow_symlinks=True)\n",
      "     |      Return stat_result object for the entry; cached per entry.\n",
      "     |  \n",
      "     |  ----------------------------------------------------------------------\n",
      "     |  Data descriptors defined here:\n",
      "     |  \n",
      "     |  name\n",
      "     |      the entry's base filename, relative to scandir() \"path\" argument\n",
      "     |  \n",
      "     |  path\n",
      "     |      the entry's full path name; equivalent to os.path.join(scandir_path, entry.name)\n",
      "    \n",
      "    error = class OSError(Exception)\n",
      "     |  Base class for I/O related errors.\n",
      "     |  \n",
      "     |  Method resolution order:\n",
      "     |      OSError\n",
      "     |      Exception\n",
      "     |      BaseException\n",
      "     |      object\n",
      "     |  \n",
      "     |  Built-in subclasses:\n",
      "     |      BlockingIOError\n",
      "     |      ChildProcessError\n",
      "     |      ConnectionError\n",
      "     |      FileExistsError\n",
      "     |      ... and 7 other subclasses\n",
      "     |  \n",
      "     |  Methods defined here:\n",
      "     |  \n",
      "     |  __init__(self, /, *args, **kwargs)\n",
      "     |      Initialize self.  See help(type(self)) for accurate signature.\n",
      "     |  \n",
      "     |  __reduce__(...)\n",
      "     |      Helper for pickle.\n",
      "     |  \n",
      "     |  __str__(self, /)\n",
      "     |      Return str(self).\n",
      "     |  \n",
      "     |  ----------------------------------------------------------------------\n",
      "     |  Static methods defined here:\n",
      "     |  \n",
      "     |  __new__(*args, **kwargs) from builtins.type\n",
      "     |      Create and return a new object.  See help(type) for accurate signature.\n",
      "     |  \n",
      "     |  ----------------------------------------------------------------------\n",
      "     |  Data descriptors defined here:\n",
      "     |  \n",
      "     |  characters_written\n",
      "     |  \n",
      "     |  errno\n",
      "     |      POSIX exception code\n",
      "     |  \n",
      "     |  filename\n",
      "     |      exception filename\n",
      "     |  \n",
      "     |  filename2\n",
      "     |      second exception filename\n",
      "     |  \n",
      "     |  strerror\n",
      "     |      exception strerror\n",
      "     |  \n",
      "     |  ----------------------------------------------------------------------\n",
      "     |  Methods inherited from BaseException:\n",
      "     |  \n",
      "     |  __delattr__(self, name, /)\n",
      "     |      Implement delattr(self, name).\n",
      "     |  \n",
      "     |  __getattribute__(self, name, /)\n",
      "     |      Return getattr(self, name).\n",
      "     |  \n",
      "     |  __repr__(self, /)\n",
      "     |      Return repr(self).\n",
      "     |  \n",
      "     |  __setattr__(self, name, value, /)\n",
      "     |      Implement setattr(self, name, value).\n",
      "     |  \n",
      "     |  __setstate__(...)\n",
      "     |  \n",
      "     |  with_traceback(...)\n",
      "     |      Exception.with_traceback(tb) --\n",
      "     |      set self.__traceback__ to tb and return self.\n",
      "     |  \n",
      "     |  ----------------------------------------------------------------------\n",
      "     |  Data descriptors inherited from BaseException:\n",
      "     |  \n",
      "     |  __cause__\n",
      "     |      exception cause\n",
      "     |  \n",
      "     |  __context__\n",
      "     |      exception context\n",
      "     |  \n",
      "     |  __dict__\n",
      "     |  \n",
      "     |  __suppress_context__\n",
      "     |  \n",
      "     |  __traceback__\n",
      "     |  \n",
      "     |  args\n",
      "    \n",
      "    class sched_param(builtins.tuple)\n",
      "     |  sched_param(iterable=(), /)\n",
      "     |  \n",
      "     |  Current has only one field: sched_priority\");\n",
      "     |  \n",
      "     |  sched_priority\n",
      "     |    A scheduling parameter.\n",
      "     |  \n",
      "     |  Method resolution order:\n",
      "     |      sched_param\n",
      "     |      builtins.tuple\n",
      "     |      builtins.object\n",
      "     |  \n",
      "     |  Methods defined here:\n",
      "     |  \n",
      "     |  __reduce__(...)\n",
      "     |      Helper for pickle.\n",
      "     |  \n",
      "     |  __repr__(self, /)\n",
      "     |      Return repr(self).\n",
      "     |  \n",
      "     |  ----------------------------------------------------------------------\n",
      "     |  Static methods defined here:\n",
      "     |  \n",
      "     |  __new__(*args, **kwargs) from builtins.type\n",
      "     |      Create and return a new object.  See help(type) for accurate signature.\n",
      "     |  \n",
      "     |  ----------------------------------------------------------------------\n",
      "     |  Data descriptors defined here:\n",
      "     |  \n",
      "     |  sched_priority\n",
      "     |      the scheduling priority\n",
      "     |  \n",
      "     |  ----------------------------------------------------------------------\n",
      "     |  Data and other attributes defined here:\n",
      "     |  \n",
      "     |  n_fields = 1\n",
      "     |  \n",
      "     |  n_sequence_fields = 1\n",
      "     |  \n",
      "     |  n_unnamed_fields = 0\n",
      "     |  \n",
      "     |  ----------------------------------------------------------------------\n",
      "     |  Methods inherited from builtins.tuple:\n",
      "     |  \n",
      "     |  __add__(self, value, /)\n",
      "     |      Return self+value.\n",
      "     |  \n",
      "     |  __contains__(self, key, /)\n",
      "     |      Return key in self.\n",
      "     |  \n",
      "     |  __eq__(self, value, /)\n",
      "     |      Return self==value.\n",
      "     |  \n",
      "     |  __ge__(self, value, /)\n",
      "     |      Return self>=value.\n",
      "     |  \n",
      "     |  __getattribute__(self, name, /)\n",
      "     |      Return getattr(self, name).\n",
      "     |  \n",
      "     |  __getitem__(self, key, /)\n",
      "     |      Return self[key].\n",
      "     |  \n",
      "     |  __getnewargs__(self, /)\n",
      "     |  \n",
      "     |  __gt__(self, value, /)\n",
      "     |      Return self>value.\n",
      "     |  \n",
      "     |  __hash__(self, /)\n",
      "     |      Return hash(self).\n",
      "     |  \n",
      "     |  __iter__(self, /)\n",
      "     |      Implement iter(self).\n",
      "     |  \n",
      "     |  __le__(self, value, /)\n",
      "     |      Return self<=value.\n",
      "     |  \n",
      "     |  __len__(self, /)\n",
      "     |      Return len(self).\n",
      "     |  \n",
      "     |  __lt__(self, value, /)\n",
      "     |      Return self<value.\n",
      "     |  \n",
      "     |  __mul__(self, value, /)\n",
      "     |      Return self*value.\n",
      "     |  \n",
      "     |  __ne__(self, value, /)\n",
      "     |      Return self!=value.\n",
      "     |  \n",
      "     |  __rmul__(self, value, /)\n",
      "     |      Return value*self.\n",
      "     |  \n",
      "     |  count(self, value, /)\n",
      "     |      Return number of occurrences of value.\n",
      "     |  \n",
      "     |  index(self, value, start=0, stop=9223372036854775807, /)\n",
      "     |      Return first index of value.\n",
      "     |      \n",
      "     |      Raises ValueError if the value is not present.\n",
      "    \n",
      "    class stat_result(builtins.tuple)\n",
      "     |  stat_result(iterable=(), /)\n",
      "     |  \n",
      "     |  stat_result: Result from stat, fstat, or lstat.\n",
      "     |  \n",
      "     |  This object may be accessed either as a tuple of\n",
      "     |    (mode, ino, dev, nlink, uid, gid, size, atime, mtime, ctime)\n",
      "     |  or via the attributes st_mode, st_ino, st_dev, st_nlink, st_uid, and so on.\n",
      "     |  \n",
      "     |  Posix/windows: If your platform supports st_blksize, st_blocks, st_rdev,\n",
      "     |  or st_flags, they are available as attributes only.\n",
      "     |  \n",
      "     |  See os.stat for more information.\n",
      "     |  \n",
      "     |  Method resolution order:\n",
      "     |      stat_result\n",
      "     |      builtins.tuple\n",
      "     |      builtins.object\n",
      "     |  \n",
      "     |  Methods defined here:\n",
      "     |  \n",
      "     |  __reduce__(...)\n",
      "     |      Helper for pickle.\n",
      "     |  \n",
      "     |  __repr__(self, /)\n",
      "     |      Return repr(self).\n",
      "     |  \n",
      "     |  ----------------------------------------------------------------------\n",
      "     |  Static methods defined here:\n",
      "     |  \n",
      "     |  __new__(*args, **kwargs) from builtins.type\n",
      "     |      Create and return a new object.  See help(type) for accurate signature.\n",
      "     |  \n",
      "     |  ----------------------------------------------------------------------\n",
      "     |  Data descriptors defined here:\n",
      "     |  \n",
      "     |  st_atime\n",
      "     |      time of last access\n",
      "     |  \n",
      "     |  st_atime_ns\n",
      "     |      time of last access in nanoseconds\n",
      "     |  \n",
      "     |  st_blksize\n",
      "     |      blocksize for filesystem I/O\n",
      "     |  \n",
      "     |  st_blocks\n",
      "     |      number of blocks allocated\n",
      "     |  \n",
      "     |  st_ctime\n",
      "     |      time of last change\n",
      "     |  \n",
      "     |  st_ctime_ns\n",
      "     |      time of last change in nanoseconds\n",
      "     |  \n",
      "     |  st_dev\n",
      "     |      device\n",
      "     |  \n",
      "     |  st_gid\n",
      "     |      group ID of owner\n",
      "     |  \n",
      "     |  st_ino\n",
      "     |      inode\n",
      "     |  \n",
      "     |  st_mode\n",
      "     |      protection bits\n",
      "     |  \n",
      "     |  st_mtime\n",
      "     |      time of last modification\n",
      "     |  \n",
      "     |  st_mtime_ns\n",
      "     |      time of last modification in nanoseconds\n",
      "     |  \n",
      "     |  st_nlink\n",
      "     |      number of hard links\n",
      "     |  \n",
      "     |  st_rdev\n",
      "     |      device type (if inode device)\n",
      "     |  \n",
      "     |  st_size\n",
      "     |      total size, in bytes\n",
      "     |  \n",
      "     |  st_uid\n",
      "     |      user ID of owner\n",
      "     |  \n",
      "     |  ----------------------------------------------------------------------\n",
      "     |  Data and other attributes defined here:\n",
      "     |  \n",
      "     |  n_fields = 19\n",
      "     |  \n",
      "     |  n_sequence_fields = 10\n",
      "     |  \n",
      "     |  n_unnamed_fields = 3\n",
      "     |  \n",
      "     |  ----------------------------------------------------------------------\n",
      "     |  Methods inherited from builtins.tuple:\n",
      "     |  \n",
      "     |  __add__(self, value, /)\n",
      "     |      Return self+value.\n",
      "     |  \n",
      "     |  __contains__(self, key, /)\n",
      "     |      Return key in self.\n",
      "     |  \n",
      "     |  __eq__(self, value, /)\n",
      "     |      Return self==value.\n",
      "     |  \n",
      "     |  __ge__(self, value, /)\n",
      "     |      Return self>=value.\n",
      "     |  \n",
      "     |  __getattribute__(self, name, /)\n",
      "     |      Return getattr(self, name).\n",
      "     |  \n",
      "     |  __getitem__(self, key, /)\n",
      "     |      Return self[key].\n",
      "     |  \n",
      "     |  __getnewargs__(self, /)\n",
      "     |  \n",
      "     |  __gt__(self, value, /)\n",
      "     |      Return self>value.\n",
      "     |  \n",
      "     |  __hash__(self, /)\n",
      "     |      Return hash(self).\n",
      "     |  \n",
      "     |  __iter__(self, /)\n",
      "     |      Implement iter(self).\n",
      "     |  \n",
      "     |  __le__(self, value, /)\n",
      "     |      Return self<=value.\n",
      "     |  \n",
      "     |  __len__(self, /)\n",
      "     |      Return len(self).\n",
      "     |  \n",
      "     |  __lt__(self, value, /)\n",
      "     |      Return self<value.\n",
      "     |  \n",
      "     |  __mul__(self, value, /)\n",
      "     |      Return self*value.\n",
      "     |  \n",
      "     |  __ne__(self, value, /)\n",
      "     |      Return self!=value.\n",
      "     |  \n",
      "     |  __rmul__(self, value, /)\n",
      "     |      Return value*self.\n",
      "     |  \n",
      "     |  count(self, value, /)\n",
      "     |      Return number of occurrences of value.\n",
      "     |  \n",
      "     |  index(self, value, start=0, stop=9223372036854775807, /)\n",
      "     |      Return first index of value.\n",
      "     |      \n",
      "     |      Raises ValueError if the value is not present.\n",
      "    \n",
      "    class statvfs_result(builtins.tuple)\n",
      "     |  statvfs_result(iterable=(), /)\n",
      "     |  \n",
      "     |  statvfs_result: Result from statvfs or fstatvfs.\n",
      "     |  \n",
      "     |  This object may be accessed either as a tuple of\n",
      "     |    (bsize, frsize, blocks, bfree, bavail, files, ffree, favail, flag, namemax),\n",
      "     |  or via the attributes f_bsize, f_frsize, f_blocks, f_bfree, and so on.\n",
      "     |  \n",
      "     |  See os.statvfs for more information.\n",
      "     |  \n",
      "     |  Method resolution order:\n",
      "     |      statvfs_result\n",
      "     |      builtins.tuple\n",
      "     |      builtins.object\n",
      "     |  \n",
      "     |  Methods defined here:\n",
      "     |  \n",
      "     |  __reduce__(...)\n",
      "     |      Helper for pickle.\n",
      "     |  \n",
      "     |  __repr__(self, /)\n",
      "     |      Return repr(self).\n",
      "     |  \n",
      "     |  ----------------------------------------------------------------------\n",
      "     |  Static methods defined here:\n",
      "     |  \n",
      "     |  __new__(*args, **kwargs) from builtins.type\n",
      "     |      Create and return a new object.  See help(type) for accurate signature.\n",
      "     |  \n",
      "     |  ----------------------------------------------------------------------\n",
      "     |  Data descriptors defined here:\n",
      "     |  \n",
      "     |  f_bavail\n",
      "     |  \n",
      "     |  f_bfree\n",
      "     |  \n",
      "     |  f_blocks\n",
      "     |  \n",
      "     |  f_bsize\n",
      "     |  \n",
      "     |  f_favail\n",
      "     |  \n",
      "     |  f_ffree\n",
      "     |  \n",
      "     |  f_files\n",
      "     |  \n",
      "     |  f_flag\n",
      "     |  \n",
      "     |  f_frsize\n",
      "     |  \n",
      "     |  f_fsid\n",
      "     |  \n",
      "     |  f_namemax\n",
      "     |  \n",
      "     |  ----------------------------------------------------------------------\n",
      "     |  Data and other attributes defined here:\n",
      "     |  \n",
      "     |  n_fields = 11\n",
      "     |  \n",
      "     |  n_sequence_fields = 10\n",
      "     |  \n",
      "     |  n_unnamed_fields = 0\n",
      "     |  \n",
      "     |  ----------------------------------------------------------------------\n",
      "     |  Methods inherited from builtins.tuple:\n",
      "     |  \n",
      "     |  __add__(self, value, /)\n",
      "     |      Return self+value.\n",
      "     |  \n",
      "     |  __contains__(self, key, /)\n",
      "     |      Return key in self.\n",
      "     |  \n",
      "     |  __eq__(self, value, /)\n",
      "     |      Return self==value.\n",
      "     |  \n",
      "     |  __ge__(self, value, /)\n",
      "     |      Return self>=value.\n",
      "     |  \n",
      "     |  __getattribute__(self, name, /)\n",
      "     |      Return getattr(self, name).\n",
      "     |  \n",
      "     |  __getitem__(self, key, /)\n",
      "     |      Return self[key].\n",
      "     |  \n",
      "     |  __getnewargs__(self, /)\n",
      "     |  \n",
      "     |  __gt__(self, value, /)\n",
      "     |      Return self>value.\n",
      "     |  \n",
      "     |  __hash__(self, /)\n",
      "     |      Return hash(self).\n",
      "     |  \n",
      "     |  __iter__(self, /)\n",
      "     |      Implement iter(self).\n",
      "     |  \n",
      "     |  __le__(self, value, /)\n",
      "     |      Return self<=value.\n",
      "     |  \n",
      "     |  __len__(self, /)\n",
      "     |      Return len(self).\n",
      "     |  \n",
      "     |  __lt__(self, value, /)\n",
      "     |      Return self<value.\n",
      "     |  \n",
      "     |  __mul__(self, value, /)\n",
      "     |      Return self*value.\n",
      "     |  \n",
      "     |  __ne__(self, value, /)\n",
      "     |      Return self!=value.\n",
      "     |  \n",
      "     |  __rmul__(self, value, /)\n",
      "     |      Return value*self.\n",
      "     |  \n",
      "     |  count(self, value, /)\n",
      "     |      Return number of occurrences of value.\n",
      "     |  \n",
      "     |  index(self, value, start=0, stop=9223372036854775807, /)\n",
      "     |      Return first index of value.\n",
      "     |      \n",
      "     |      Raises ValueError if the value is not present.\n",
      "    \n",
      "    class terminal_size(builtins.tuple)\n",
      "     |  terminal_size(iterable=(), /)\n",
      "     |  \n",
      "     |  A tuple of (columns, lines) for holding terminal window size\n",
      "     |  \n",
      "     |  Method resolution order:\n",
      "     |      terminal_size\n",
      "     |      builtins.tuple\n",
      "     |      builtins.object\n",
      "     |  \n",
      "     |  Methods defined here:\n",
      "     |  \n",
      "     |  __reduce__(...)\n",
      "     |      Helper for pickle.\n",
      "     |  \n",
      "     |  __repr__(self, /)\n",
      "     |      Return repr(self).\n",
      "     |  \n",
      "     |  ----------------------------------------------------------------------\n",
      "     |  Static methods defined here:\n",
      "     |  \n",
      "     |  __new__(*args, **kwargs) from builtins.type\n",
      "     |      Create and return a new object.  See help(type) for accurate signature.\n",
      "     |  \n",
      "     |  ----------------------------------------------------------------------\n",
      "     |  Data descriptors defined here:\n",
      "     |  \n",
      "     |  columns\n",
      "     |      width of the terminal window in characters\n",
      "     |  \n",
      "     |  lines\n",
      "     |      height of the terminal window in characters\n",
      "     |  \n",
      "     |  ----------------------------------------------------------------------\n",
      "     |  Data and other attributes defined here:\n",
      "     |  \n",
      "     |  n_fields = 2\n",
      "     |  \n",
      "     |  n_sequence_fields = 2\n",
      "     |  \n",
      "     |  n_unnamed_fields = 0\n",
      "     |  \n",
      "     |  ----------------------------------------------------------------------\n",
      "     |  Methods inherited from builtins.tuple:\n",
      "     |  \n",
      "     |  __add__(self, value, /)\n",
      "     |      Return self+value.\n",
      "     |  \n",
      "     |  __contains__(self, key, /)\n",
      "     |      Return key in self.\n",
      "     |  \n",
      "     |  __eq__(self, value, /)\n",
      "     |      Return self==value.\n",
      "     |  \n",
      "     |  __ge__(self, value, /)\n",
      "     |      Return self>=value.\n",
      "     |  \n",
      "     |  __getattribute__(self, name, /)\n",
      "     |      Return getattr(self, name).\n",
      "     |  \n",
      "     |  __getitem__(self, key, /)\n",
      "     |      Return self[key].\n",
      "     |  \n",
      "     |  __getnewargs__(self, /)\n",
      "     |  \n",
      "     |  __gt__(self, value, /)\n",
      "     |      Return self>value.\n",
      "     |  \n",
      "     |  __hash__(self, /)\n",
      "     |      Return hash(self).\n",
      "     |  \n",
      "     |  __iter__(self, /)\n",
      "     |      Implement iter(self).\n",
      "     |  \n",
      "     |  __le__(self, value, /)\n",
      "     |      Return self<=value.\n",
      "     |  \n",
      "     |  __len__(self, /)\n",
      "     |      Return len(self).\n",
      "     |  \n",
      "     |  __lt__(self, value, /)\n",
      "     |      Return self<value.\n",
      "     |  \n",
      "     |  __mul__(self, value, /)\n",
      "     |      Return self*value.\n",
      "     |  \n",
      "     |  __ne__(self, value, /)\n",
      "     |      Return self!=value.\n",
      "     |  \n",
      "     |  __rmul__(self, value, /)\n",
      "     |      Return value*self.\n",
      "     |  \n",
      "     |  count(self, value, /)\n",
      "     |      Return number of occurrences of value.\n",
      "     |  \n",
      "     |  index(self, value, start=0, stop=9223372036854775807, /)\n",
      "     |      Return first index of value.\n",
      "     |      \n",
      "     |      Raises ValueError if the value is not present.\n",
      "    \n",
      "    class times_result(builtins.tuple)\n",
      "     |  times_result(iterable=(), /)\n",
      "     |  \n",
      "     |  times_result: Result from os.times().\n",
      "     |  \n",
      "     |  This object may be accessed either as a tuple of\n",
      "     |    (user, system, children_user, children_system, elapsed),\n",
      "     |  or via the attributes user, system, children_user, children_system,\n",
      "     |  and elapsed.\n",
      "     |  \n",
      "     |  See os.times for more information.\n",
      "     |  \n",
      "     |  Method resolution order:\n",
      "     |      times_result\n",
      "     |      builtins.tuple\n",
      "     |      builtins.object\n",
      "     |  \n",
      "     |  Methods defined here:\n",
      "     |  \n",
      "     |  __reduce__(...)\n",
      "     |      Helper for pickle.\n",
      "     |  \n",
      "     |  __repr__(self, /)\n",
      "     |      Return repr(self).\n",
      "     |  \n",
      "     |  ----------------------------------------------------------------------\n",
      "     |  Static methods defined here:\n",
      "     |  \n",
      "     |  __new__(*args, **kwargs) from builtins.type\n",
      "     |      Create and return a new object.  See help(type) for accurate signature.\n",
      "     |  \n",
      "     |  ----------------------------------------------------------------------\n",
      "     |  Data descriptors defined here:\n",
      "     |  \n",
      "     |  children_system\n",
      "     |      system time of children\n",
      "     |  \n",
      "     |  children_user\n",
      "     |      user time of children\n",
      "     |  \n",
      "     |  elapsed\n",
      "     |      elapsed time since an arbitrary point in the past\n",
      "     |  \n",
      "     |  system\n",
      "     |      system time\n",
      "     |  \n",
      "     |  user\n",
      "     |      user time\n",
      "     |  \n",
      "     |  ----------------------------------------------------------------------\n",
      "     |  Data and other attributes defined here:\n",
      "     |  \n",
      "     |  n_fields = 5\n",
      "     |  \n",
      "     |  n_sequence_fields = 5\n",
      "     |  \n",
      "     |  n_unnamed_fields = 0\n",
      "     |  \n",
      "     |  ----------------------------------------------------------------------\n",
      "     |  Methods inherited from builtins.tuple:\n",
      "     |  \n",
      "     |  __add__(self, value, /)\n",
      "     |      Return self+value.\n",
      "     |  \n",
      "     |  __contains__(self, key, /)\n",
      "     |      Return key in self.\n",
      "     |  \n",
      "     |  __eq__(self, value, /)\n",
      "     |      Return self==value.\n",
      "     |  \n",
      "     |  __ge__(self, value, /)\n",
      "     |      Return self>=value.\n",
      "     |  \n",
      "     |  __getattribute__(self, name, /)\n",
      "     |      Return getattr(self, name).\n",
      "     |  \n",
      "     |  __getitem__(self, key, /)\n",
      "     |      Return self[key].\n",
      "     |  \n",
      "     |  __getnewargs__(self, /)\n",
      "     |  \n",
      "     |  __gt__(self, value, /)\n",
      "     |      Return self>value.\n",
      "     |  \n",
      "     |  __hash__(self, /)\n",
      "     |      Return hash(self).\n",
      "     |  \n",
      "     |  __iter__(self, /)\n",
      "     |      Implement iter(self).\n",
      "     |  \n",
      "     |  __le__(self, value, /)\n",
      "     |      Return self<=value.\n",
      "     |  \n",
      "     |  __len__(self, /)\n",
      "     |      Return len(self).\n",
      "     |  \n",
      "     |  __lt__(self, value, /)\n",
      "     |      Return self<value.\n",
      "     |  \n",
      "     |  __mul__(self, value, /)\n",
      "     |      Return self*value.\n",
      "     |  \n",
      "     |  __ne__(self, value, /)\n",
      "     |      Return self!=value.\n",
      "     |  \n",
      "     |  __rmul__(self, value, /)\n",
      "     |      Return value*self.\n",
      "     |  \n",
      "     |  count(self, value, /)\n",
      "     |      Return number of occurrences of value.\n",
      "     |  \n",
      "     |  index(self, value, start=0, stop=9223372036854775807, /)\n",
      "     |      Return first index of value.\n",
      "     |      \n",
      "     |      Raises ValueError if the value is not present.\n",
      "    \n",
      "    class uname_result(builtins.tuple)\n",
      "     |  uname_result(iterable=(), /)\n",
      "     |  \n",
      "     |  uname_result: Result from os.uname().\n",
      "     |  \n",
      "     |  This object may be accessed either as a tuple of\n",
      "     |    (sysname, nodename, release, version, machine),\n",
      "     |  or via the attributes sysname, nodename, release, version, and machine.\n",
      "     |  \n",
      "     |  See os.uname for more information.\n",
      "     |  \n",
      "     |  Method resolution order:\n",
      "     |      uname_result\n",
      "     |      builtins.tuple\n",
      "     |      builtins.object\n",
      "     |  \n",
      "     |  Methods defined here:\n",
      "     |  \n",
      "     |  __reduce__(...)\n",
      "     |      Helper for pickle.\n",
      "     |  \n",
      "     |  __repr__(self, /)\n",
      "     |      Return repr(self).\n",
      "     |  \n",
      "     |  ----------------------------------------------------------------------\n",
      "     |  Static methods defined here:\n",
      "     |  \n",
      "     |  __new__(*args, **kwargs) from builtins.type\n",
      "     |      Create and return a new object.  See help(type) for accurate signature.\n",
      "     |  \n",
      "     |  ----------------------------------------------------------------------\n",
      "     |  Data descriptors defined here:\n",
      "     |  \n",
      "     |  machine\n",
      "     |      hardware identifier\n",
      "     |  \n",
      "     |  nodename\n",
      "     |      name of machine on network (implementation-defined)\n",
      "     |  \n",
      "     |  release\n",
      "     |      operating system release\n",
      "     |  \n",
      "     |  sysname\n",
      "     |      operating system name\n",
      "     |  \n",
      "     |  version\n",
      "     |      operating system version\n",
      "     |  \n",
      "     |  ----------------------------------------------------------------------\n",
      "     |  Data and other attributes defined here:\n",
      "     |  \n",
      "     |  n_fields = 5\n",
      "     |  \n",
      "     |  n_sequence_fields = 5\n",
      "     |  \n",
      "     |  n_unnamed_fields = 0\n",
      "     |  \n",
      "     |  ----------------------------------------------------------------------\n",
      "     |  Methods inherited from builtins.tuple:\n",
      "     |  \n",
      "     |  __add__(self, value, /)\n",
      "     |      Return self+value.\n",
      "     |  \n",
      "     |  __contains__(self, key, /)\n",
      "     |      Return key in self.\n",
      "     |  \n",
      "     |  __eq__(self, value, /)\n",
      "     |      Return self==value.\n",
      "     |  \n",
      "     |  __ge__(self, value, /)\n",
      "     |      Return self>=value.\n",
      "     |  \n",
      "     |  __getattribute__(self, name, /)\n",
      "     |      Return getattr(self, name).\n",
      "     |  \n",
      "     |  __getitem__(self, key, /)\n",
      "     |      Return self[key].\n",
      "     |  \n",
      "     |  __getnewargs__(self, /)\n",
      "     |  \n",
      "     |  __gt__(self, value, /)\n",
      "     |      Return self>value.\n",
      "     |  \n",
      "     |  __hash__(self, /)\n",
      "     |      Return hash(self).\n",
      "     |  \n",
      "     |  __iter__(self, /)\n",
      "     |      Implement iter(self).\n",
      "     |  \n",
      "     |  __le__(self, value, /)\n",
      "     |      Return self<=value.\n",
      "     |  \n",
      "     |  __len__(self, /)\n",
      "     |      Return len(self).\n",
      "     |  \n",
      "     |  __lt__(self, value, /)\n",
      "     |      Return self<value.\n",
      "     |  \n",
      "     |  __mul__(self, value, /)\n",
      "     |      Return self*value.\n",
      "     |  \n",
      "     |  __ne__(self, value, /)\n",
      "     |      Return self!=value.\n",
      "     |  \n",
      "     |  __rmul__(self, value, /)\n",
      "     |      Return value*self.\n",
      "     |  \n",
      "     |  count(self, value, /)\n",
      "     |      Return number of occurrences of value.\n",
      "     |  \n",
      "     |  index(self, value, start=0, stop=9223372036854775807, /)\n",
      "     |      Return first index of value.\n",
      "     |      \n",
      "     |      Raises ValueError if the value is not present.\n",
      "    \n",
      "    class waitid_result(builtins.tuple)\n",
      "     |  waitid_result(iterable=(), /)\n",
      "     |  \n",
      "     |  waitid_result: Result from waitid.\n",
      "     |  \n",
      "     |  This object may be accessed either as a tuple of\n",
      "     |    (si_pid, si_uid, si_signo, si_status, si_code),\n",
      "     |  or via the attributes si_pid, si_uid, and so on.\n",
      "     |  \n",
      "     |  See os.waitid for more information.\n",
      "     |  \n",
      "     |  Method resolution order:\n",
      "     |      waitid_result\n",
      "     |      builtins.tuple\n",
      "     |      builtins.object\n",
      "     |  \n",
      "     |  Methods defined here:\n",
      "     |  \n",
      "     |  __reduce__(...)\n",
      "     |      Helper for pickle.\n",
      "     |  \n",
      "     |  __repr__(self, /)\n",
      "     |      Return repr(self).\n",
      "     |  \n",
      "     |  ----------------------------------------------------------------------\n",
      "     |  Static methods defined here:\n",
      "     |  \n",
      "     |  __new__(*args, **kwargs) from builtins.type\n",
      "     |      Create and return a new object.  See help(type) for accurate signature.\n",
      "     |  \n",
      "     |  ----------------------------------------------------------------------\n",
      "     |  Data descriptors defined here:\n",
      "     |  \n",
      "     |  si_code\n",
      "     |  \n",
      "     |  si_pid\n",
      "     |  \n",
      "     |  si_signo\n",
      "     |  \n",
      "     |  si_status\n",
      "     |  \n",
      "     |  si_uid\n",
      "     |  \n",
      "     |  ----------------------------------------------------------------------\n",
      "     |  Data and other attributes defined here:\n",
      "     |  \n",
      "     |  n_fields = 5\n",
      "     |  \n",
      "     |  n_sequence_fields = 5\n",
      "     |  \n",
      "     |  n_unnamed_fields = 0\n",
      "     |  \n",
      "     |  ----------------------------------------------------------------------\n",
      "     |  Methods inherited from builtins.tuple:\n",
      "     |  \n",
      "     |  __add__(self, value, /)\n",
      "     |      Return self+value.\n",
      "     |  \n",
      "     |  __contains__(self, key, /)\n",
      "     |      Return key in self.\n",
      "     |  \n",
      "     |  __eq__(self, value, /)\n",
      "     |      Return self==value.\n",
      "     |  \n",
      "     |  __ge__(self, value, /)\n",
      "     |      Return self>=value.\n",
      "     |  \n",
      "     |  __getattribute__(self, name, /)\n",
      "     |      Return getattr(self, name).\n",
      "     |  \n",
      "     |  __getitem__(self, key, /)\n",
      "     |      Return self[key].\n",
      "     |  \n",
      "     |  __getnewargs__(self, /)\n",
      "     |  \n",
      "     |  __gt__(self, value, /)\n",
      "     |      Return self>value.\n",
      "     |  \n",
      "     |  __hash__(self, /)\n",
      "     |      Return hash(self).\n",
      "     |  \n",
      "     |  __iter__(self, /)\n",
      "     |      Implement iter(self).\n",
      "     |  \n",
      "     |  __le__(self, value, /)\n",
      "     |      Return self<=value.\n",
      "     |  \n",
      "     |  __len__(self, /)\n",
      "     |      Return len(self).\n",
      "     |  \n",
      "     |  __lt__(self, value, /)\n",
      "     |      Return self<value.\n",
      "     |  \n",
      "     |  __mul__(self, value, /)\n",
      "     |      Return self*value.\n",
      "     |  \n",
      "     |  __ne__(self, value, /)\n",
      "     |      Return self!=value.\n",
      "     |  \n",
      "     |  __rmul__(self, value, /)\n",
      "     |      Return value*self.\n",
      "     |  \n",
      "     |  count(self, value, /)\n",
      "     |      Return number of occurrences of value.\n",
      "     |  \n",
      "     |  index(self, value, start=0, stop=9223372036854775807, /)\n",
      "     |      Return first index of value.\n",
      "     |      \n",
      "     |      Raises ValueError if the value is not present.\n",
      "\n",
      "FUNCTIONS\n",
      "    WCOREDUMP(status, /)\n",
      "        Return True if the process returning status was dumped to a core file.\n",
      "    \n",
      "    WEXITSTATUS(status)\n",
      "        Return the process return code from status.\n",
      "    \n",
      "    WIFCONTINUED(status)\n",
      "        Return True if a particular process was continued from a job control stop.\n",
      "        \n",
      "        Return True if the process returning status was continued from a\n",
      "        job control stop.\n",
      "    \n",
      "    WIFEXITED(status)\n",
      "        Return True if the process returning status exited via the exit() system call.\n",
      "    \n",
      "    WIFSIGNALED(status)\n",
      "        Return True if the process returning status was terminated by a signal.\n",
      "    \n",
      "    WIFSTOPPED(status)\n",
      "        Return True if the process returning status was stopped.\n",
      "    \n",
      "    WSTOPSIG(status)\n",
      "        Return the signal that stopped the process that provided the status value.\n",
      "    \n",
      "    WTERMSIG(status)\n",
      "        Return the signal that terminated the process that provided the status value.\n",
      "    \n",
      "    _exit(status)\n",
      "        Exit to the system with specified status, without normal exit processing.\n",
      "    \n",
      "    abort()\n",
      "        Abort the interpreter immediately.\n",
      "        \n",
      "        This function 'dumps core' or otherwise fails in the hardest way possible\n",
      "        on the hosting operating system.  This function never returns.\n",
      "    \n",
      "    access(path, mode, *, dir_fd=None, effective_ids=False, follow_symlinks=True)\n",
      "        Use the real uid/gid to test for access to a path.\n",
      "        \n",
      "          path\n",
      "            Path to be tested; can be string, bytes, or a path-like object.\n",
      "          mode\n",
      "            Operating-system mode bitfield.  Can be F_OK to test existence,\n",
      "            or the inclusive-OR of R_OK, W_OK, and X_OK.\n",
      "          dir_fd\n",
      "            If not None, it should be a file descriptor open to a directory,\n",
      "            and path should be relative; path will then be relative to that\n",
      "            directory.\n",
      "          effective_ids\n",
      "            If True, access will use the effective uid/gid instead of\n",
      "            the real uid/gid.\n",
      "          follow_symlinks\n",
      "            If False, and the last element of the path is a symbolic link,\n",
      "            access will examine the symbolic link itself instead of the file\n",
      "            the link points to.\n",
      "        \n",
      "        dir_fd, effective_ids, and follow_symlinks may not be implemented\n",
      "          on your platform.  If they are unavailable, using them will raise a\n",
      "          NotImplementedError.\n",
      "        \n",
      "        Note that most operations will use the effective uid/gid, therefore this\n",
      "          routine can be used in a suid/sgid environment to test if the invoking user\n",
      "          has the specified access to the path.\n",
      "    \n",
      "    chdir(path)\n",
      "        Change the current working directory to the specified path.\n",
      "        \n",
      "        path may always be specified as a string.\n",
      "        On some platforms, path may also be specified as an open file descriptor.\n",
      "          If this functionality is unavailable, using it raises an exception.\n",
      "    \n",
      "    chmod(path, mode, *, dir_fd=None, follow_symlinks=True)\n",
      "        Change the access permissions of a file.\n",
      "        \n",
      "          path\n",
      "            Path to be modified.  May always be specified as a str, bytes, or a path-like object.\n",
      "            On some platforms, path may also be specified as an open file descriptor.\n",
      "            If this functionality is unavailable, using it raises an exception.\n",
      "          mode\n",
      "            Operating-system mode bitfield.\n",
      "          dir_fd\n",
      "            If not None, it should be a file descriptor open to a directory,\n",
      "            and path should be relative; path will then be relative to that\n",
      "            directory.\n",
      "          follow_symlinks\n",
      "            If False, and the last element of the path is a symbolic link,\n",
      "            chmod will modify the symbolic link itself instead of the file\n",
      "            the link points to.\n",
      "        \n",
      "        It is an error to use dir_fd or follow_symlinks when specifying path as\n",
      "          an open file descriptor.\n",
      "        dir_fd and follow_symlinks may not be implemented on your platform.\n",
      "          If they are unavailable, using them will raise a NotImplementedError.\n",
      "    \n",
      "    chown(path, uid, gid, *, dir_fd=None, follow_symlinks=True)\n",
      "        Change the owner and group id of path to the numeric uid and gid.\\\n",
      "        \n",
      "          path\n",
      "            Path to be examined; can be string, bytes, a path-like object, or open-file-descriptor int.\n",
      "          dir_fd\n",
      "            If not None, it should be a file descriptor open to a directory,\n",
      "            and path should be relative; path will then be relative to that\n",
      "            directory.\n",
      "          follow_symlinks\n",
      "            If False, and the last element of the path is a symbolic link,\n",
      "            stat will examine the symbolic link itself instead of the file\n",
      "            the link points to.\n",
      "        \n",
      "        path may always be specified as a string.\n",
      "        On some platforms, path may also be specified as an open file descriptor.\n",
      "          If this functionality is unavailable, using it raises an exception.\n",
      "        If dir_fd is not None, it should be a file descriptor open to a directory,\n",
      "          and path should be relative; path will then be relative to that directory.\n",
      "        If follow_symlinks is False, and the last element of the path is a symbolic\n",
      "          link, chown will modify the symbolic link itself instead of the file the\n",
      "          link points to.\n",
      "        It is an error to use dir_fd or follow_symlinks when specifying path as\n",
      "          an open file descriptor.\n",
      "        dir_fd and follow_symlinks may not be implemented on your platform.\n",
      "          If they are unavailable, using them will raise a NotImplementedError.\n",
      "    \n",
      "    chroot(path)\n",
      "        Change root directory to path.\n",
      "    \n",
      "    close(fd)\n",
      "        Close a file descriptor.\n",
      "    \n",
      "    closerange(fd_low, fd_high, /)\n",
      "        Closes all file descriptors in [fd_low, fd_high), ignoring errors.\n",
      "    \n",
      "    confstr(name, /)\n",
      "        Return a string-valued system configuration variable.\n",
      "    \n",
      "    copy_file_range(src, dst, count, offset_src=None, offset_dst=None)\n",
      "        Copy count bytes from one file descriptor to another.\n",
      "        \n",
      "          src\n",
      "            Source file descriptor.\n",
      "          dst\n",
      "            Destination file descriptor.\n",
      "          count\n",
      "            Number of bytes to copy.\n",
      "          offset_src\n",
      "            Starting offset in src.\n",
      "          offset_dst\n",
      "            Starting offset in dst.\n",
      "        \n",
      "        If offset_src is None, then src is read from the current position;\n",
      "        respectively for offset_dst.\n",
      "    \n",
      "    cpu_count()\n",
      "        Return the number of CPUs in the system; return None if indeterminable.\n",
      "        \n",
      "        This number is not equivalent to the number of CPUs the current process can\n",
      "        use.  The number of usable CPUs can be obtained with\n",
      "        ``len(os.sched_getaffinity(0))``\n",
      "    \n",
      "    ctermid()\n",
      "        Return the name of the controlling terminal for this process.\n",
      "    \n",
      "    device_encoding(fd)\n",
      "        Return a string describing the encoding of a terminal's file descriptor.\n",
      "        \n",
      "        The file descriptor must be attached to a terminal.\n",
      "        If the device is not a terminal, return None.\n",
      "    \n",
      "    dup(fd, /)\n",
      "        Return a duplicate of a file descriptor.\n",
      "    \n",
      "    dup2(fd, fd2, inheritable=True)\n",
      "        Duplicate file descriptor.\n",
      "    \n",
      "    execl(file, *args)\n",
      "        execl(file, *args)\n",
      "        \n",
      "        Execute the executable file with argument list args, replacing the\n",
      "        current process.\n",
      "    \n",
      "    execle(file, *args)\n",
      "        execle(file, *args, env)\n",
      "        \n",
      "        Execute the executable file with argument list args and\n",
      "        environment env, replacing the current process.\n",
      "    \n",
      "    execlp(file, *args)\n",
      "        execlp(file, *args)\n",
      "        \n",
      "        Execute the executable file (which is searched for along $PATH)\n",
      "        with argument list args, replacing the current process.\n",
      "    \n",
      "    execlpe(file, *args)\n",
      "        execlpe(file, *args, env)\n",
      "        \n",
      "        Execute the executable file (which is searched for along $PATH)\n",
      "        with argument list args and environment env, replacing the current\n",
      "        process.\n",
      "    \n",
      "    execv(path, argv, /)\n",
      "        Execute an executable path with arguments, replacing current process.\n",
      "        \n",
      "        path\n",
      "          Path of executable file.\n",
      "        argv\n",
      "          Tuple or list of strings.\n",
      "    \n",
      "    execve(path, argv, env)\n",
      "        Execute an executable path with arguments, replacing current process.\n",
      "        \n",
      "        path\n",
      "          Path of executable file.\n",
      "        argv\n",
      "          Tuple or list of strings.\n",
      "        env\n",
      "          Dictionary of strings mapping to strings.\n",
      "    \n",
      "    execvp(file, args)\n",
      "        execvp(file, args)\n",
      "        \n",
      "        Execute the executable file (which is searched for along $PATH)\n",
      "        with argument list args, replacing the current process.\n",
      "        args may be a list or tuple of strings.\n",
      "    \n",
      "    execvpe(file, args, env)\n",
      "        execvpe(file, args, env)\n",
      "        \n",
      "        Execute the executable file (which is searched for along $PATH)\n",
      "        with argument list args and environment env, replacing the\n",
      "        current process.\n",
      "        args may be a list or tuple of strings.\n",
      "    \n",
      "    fchdir(fd)\n",
      "        Change to the directory of the given file descriptor.\n",
      "        \n",
      "        fd must be opened on a directory, not a file.\n",
      "        Equivalent to os.chdir(fd).\n",
      "    \n",
      "    fchmod(fd, mode)\n",
      "        Change the access permissions of the file given by file descriptor fd.\n",
      "        \n",
      "        Equivalent to os.chmod(fd, mode).\n",
      "    \n",
      "    fchown(fd, uid, gid)\n",
      "        Change the owner and group id of the file specified by file descriptor.\n",
      "        \n",
      "        Equivalent to os.chown(fd, uid, gid).\n",
      "    \n",
      "    fdatasync(fd)\n",
      "        Force write of fd to disk without forcing update of metadata.\n",
      "    \n",
      "    fdopen(fd, *args, **kwargs)\n",
      "        # Supply os.fdopen()\n",
      "    \n",
      "    fork()\n",
      "        Fork a child process.\n",
      "        \n",
      "        Return 0 to child process and PID of child to parent process.\n",
      "    \n",
      "    forkpty()\n",
      "        Fork a new process with a new pseudo-terminal as controlling tty.\n",
      "        \n",
      "        Returns a tuple of (pid, master_fd).\n",
      "        Like fork(), return pid of 0 to the child process,\n",
      "        and pid of child to the parent process.\n",
      "        To both, return fd of newly opened pseudo-terminal.\n",
      "    \n",
      "    fpathconf(fd, name, /)\n",
      "        Return the configuration limit name for the file descriptor fd.\n",
      "        \n",
      "        If there is no limit, return -1.\n",
      "    \n",
      "    fsdecode(filename)\n",
      "        Decode filename (an os.PathLike, bytes, or str) from the filesystem\n",
      "        encoding with 'surrogateescape' error handler, return str unchanged. On\n",
      "        Windows, use 'strict' error handler if the file system encoding is\n",
      "        'mbcs' (which is the default encoding).\n",
      "    \n",
      "    fsencode(filename)\n",
      "        Encode filename (an os.PathLike, bytes, or str) to the filesystem\n",
      "        encoding with 'surrogateescape' error handler, return bytes unchanged.\n",
      "        On Windows, use 'strict' error handler if the file system encoding is\n",
      "        'mbcs' (which is the default encoding).\n",
      "    \n",
      "    fspath(path)\n",
      "        Return the file system path representation of the object.\n",
      "        \n",
      "        If the object is str or bytes, then allow it to pass through as-is. If the\n",
      "        object defines __fspath__(), then return the result of that method. All other\n",
      "        types raise a TypeError.\n",
      "    \n",
      "    fstat(fd)\n",
      "        Perform a stat system call on the given file descriptor.\n",
      "        \n",
      "        Like stat(), but for an open file descriptor.\n",
      "        Equivalent to os.stat(fd).\n",
      "    \n",
      "    fstatvfs(fd, /)\n",
      "        Perform an fstatvfs system call on the given fd.\n",
      "        \n",
      "        Equivalent to statvfs(fd).\n",
      "    \n",
      "    fsync(fd)\n",
      "        Force write of fd to disk.\n",
      "    \n",
      "    ftruncate(fd, length, /)\n",
      "        Truncate a file, specified by file descriptor, to a specific length.\n",
      "    \n",
      "    fwalk(top='.', topdown=True, onerror=None, *, follow_symlinks=False, dir_fd=None)\n",
      "        Directory tree generator.\n",
      "        \n",
      "        This behaves exactly like walk(), except that it yields a 4-tuple\n",
      "        \n",
      "            dirpath, dirnames, filenames, dirfd\n",
      "        \n",
      "        `dirpath`, `dirnames` and `filenames` are identical to walk() output,\n",
      "        and `dirfd` is a file descriptor referring to the directory `dirpath`.\n",
      "        \n",
      "        The advantage of fwalk() over walk() is that it's safe against symlink\n",
      "        races (when follow_symlinks is False).\n",
      "        \n",
      "        If dir_fd is not None, it should be a file descriptor open to a directory,\n",
      "          and top should be relative; top will then be relative to that directory.\n",
      "          (dir_fd is always supported for fwalk.)\n",
      "        \n",
      "        Caution:\n",
      "        Since fwalk() yields file descriptors, those are only valid until the\n",
      "        next iteration step, so you should dup() them if you want to keep them\n",
      "        for a longer period.\n",
      "        \n",
      "        Example:\n",
      "        \n",
      "        import os\n",
      "        for root, dirs, files, rootfd in os.fwalk('python/Lib/email'):\n",
      "            print(root, \"consumes\", end=\"\")\n",
      "            print(sum(os.stat(name, dir_fd=rootfd).st_size for name in files),\n",
      "                  end=\"\")\n",
      "            print(\"bytes in\", len(files), \"non-directory files\")\n",
      "            if 'CVS' in dirs:\n",
      "                dirs.remove('CVS')  # don't visit CVS directories\n",
      "    \n",
      "    get_blocking(fd, /)\n",
      "        Get the blocking mode of the file descriptor.\n",
      "        \n",
      "        Return False if the O_NONBLOCK flag is set, True if the flag is cleared.\n",
      "    \n",
      "    get_exec_path(env=None)\n",
      "        Returns the sequence of directories that will be searched for the\n",
      "        named executable (similar to a shell) when launching a process.\n",
      "        \n",
      "        *env* must be an environment variable dict or None.  If *env* is None,\n",
      "        os.environ will be used.\n",
      "    \n",
      "    get_inheritable(fd, /)\n",
      "        Get the close-on-exe flag of the specified file descriptor.\n",
      "    \n",
      "    get_terminal_size(...)\n",
      "        Return the size of the terminal window as (columns, lines).\n",
      "        \n",
      "        The optional argument fd (default standard output) specifies\n",
      "        which file descriptor should be queried.\n",
      "        \n",
      "        If the file descriptor is not connected to a terminal, an OSError\n",
      "        is thrown.\n",
      "        \n",
      "        This function will only be defined if an implementation is\n",
      "        available for this system.\n",
      "        \n",
      "        shutil.get_terminal_size is the high-level function which should\n",
      "        normally be used, os.get_terminal_size is the low-level implementation.\n",
      "    \n",
      "    getcwd()\n",
      "        Return a unicode string representing the current working directory.\n",
      "    \n",
      "    getcwdb()\n",
      "        Return a bytes string representing the current working directory.\n",
      "    \n",
      "    getegid()\n",
      "        Return the current process's effective group id.\n",
      "    \n",
      "    getenv(key, default=None)\n",
      "        Get an environment variable, return None if it doesn't exist.\n",
      "        The optional second argument can specify an alternate default.\n",
      "        key, default and the result are str.\n",
      "    \n",
      "    getenvb(key, default=None)\n",
      "        Get an environment variable, return None if it doesn't exist.\n",
      "        The optional second argument can specify an alternate default.\n",
      "        key, default and the result are bytes.\n",
      "    \n",
      "    geteuid()\n",
      "        Return the current process's effective user id.\n",
      "    \n",
      "    getgid()\n",
      "        Return the current process's group id.\n",
      "    \n",
      "    getgrouplist(...)\n",
      "        getgrouplist(user, group) -> list of groups to which a user belongs\n",
      "        \n",
      "        Returns a list of groups to which a user belongs.\n",
      "        \n",
      "            user: username to lookup\n",
      "            group: base group id of the user\n",
      "    \n",
      "    getgroups()\n",
      "        Return list of supplemental group IDs for the process.\n",
      "    \n",
      "    getloadavg()\n",
      "        Return average recent system load information.\n",
      "        \n",
      "        Return the number of processes in the system run queue averaged over\n",
      "        the last 1, 5, and 15 minutes as a tuple of three floats.\n",
      "        Raises OSError if the load average was unobtainable.\n",
      "    \n",
      "    getlogin()\n",
      "        Return the actual login name.\n",
      "    \n",
      "    getpgid(pid)\n",
      "        Call the system call getpgid(), and return the result.\n",
      "    \n",
      "    getpgrp()\n",
      "        Return the current process group id.\n",
      "    \n",
      "    getpid()\n",
      "        Return the current process id.\n",
      "    \n",
      "    getppid()\n",
      "        Return the parent's process id.\n",
      "        \n",
      "        If the parent process has already exited, Windows machines will still\n",
      "        return its id; others systems will return the id of the 'init' process (1).\n",
      "    \n",
      "    getpriority(which, who)\n",
      "        Return program scheduling priority.\n",
      "    \n",
      "    getrandom(size, flags=0)\n",
      "        Obtain a series of random bytes.\n",
      "    \n",
      "    getresgid()\n",
      "        Return a tuple of the current process's real, effective, and saved group ids.\n",
      "    \n",
      "    getresuid()\n",
      "        Return a tuple of the current process's real, effective, and saved user ids.\n",
      "    \n",
      "    getsid(pid, /)\n",
      "        Call the system call getsid(pid) and return the result.\n",
      "    \n",
      "    getuid()\n",
      "        Return the current process's user id.\n",
      "    \n",
      "    getxattr(path, attribute, *, follow_symlinks=True)\n",
      "        Return the value of extended attribute attribute on path.\n",
      "        \n",
      "        path may be either a string, a path-like object, or an open file descriptor.\n",
      "        If follow_symlinks is False, and the last element of the path is a symbolic\n",
      "          link, getxattr will examine the symbolic link itself instead of the file\n",
      "          the link points to.\n",
      "    \n",
      "    initgroups(...)\n",
      "        initgroups(username, gid) -> None\n",
      "        \n",
      "        Call the system initgroups() to initialize the group access list with all of\n",
      "        the groups of which the specified username is a member, plus the specified\n",
      "        group id.\n",
      "    \n",
      "    isatty(fd, /)\n",
      "        Return True if the fd is connected to a terminal.\n",
      "        \n",
      "        Return True if the file descriptor is an open file descriptor\n",
      "        connected to the slave end of a terminal.\n",
      "    \n",
      "    kill(pid, signal, /)\n",
      "        Kill a process with a signal.\n",
      "    \n",
      "    killpg(pgid, signal, /)\n",
      "        Kill a process group with a signal.\n",
      "    \n",
      "    lchown(path, uid, gid)\n",
      "        Change the owner and group id of path to the numeric uid and gid.\n",
      "        \n",
      "        This function will not follow symbolic links.\n",
      "        Equivalent to os.chown(path, uid, gid, follow_symlinks=False).\n",
      "    \n",
      "    link(src, dst, *, src_dir_fd=None, dst_dir_fd=None, follow_symlinks=True)\n",
      "        Create a hard link to a file.\n",
      "        \n",
      "        If either src_dir_fd or dst_dir_fd is not None, it should be a file\n",
      "          descriptor open to a directory, and the respective path string (src or dst)\n",
      "          should be relative; the path will then be relative to that directory.\n",
      "        If follow_symlinks is False, and the last element of src is a symbolic\n",
      "          link, link will create a link to the symbolic link itself instead of the\n",
      "          file the link points to.\n",
      "        src_dir_fd, dst_dir_fd, and follow_symlinks may not be implemented on your\n",
      "          platform.  If they are unavailable, using them will raise a\n",
      "          NotImplementedError.\n",
      "    \n",
      "    listdir(path=None)\n",
      "        Return a list containing the names of the files in the directory.\n",
      "        \n",
      "        path can be specified as either str, bytes, or a path-like object.  If path is bytes,\n",
      "          the filenames returned will also be bytes; in all other circumstances\n",
      "          the filenames returned will be str.\n",
      "        If path is None, uses the path='.'.\n",
      "        On some platforms, path may also be specified as an open file descriptor;\\\n",
      "          the file descriptor must refer to a directory.\n",
      "          If this functionality is unavailable, using it raises NotImplementedError.\n",
      "        \n",
      "        The list is in arbitrary order.  It does not include the special\n",
      "        entries '.' and '..' even if they are present in the directory.\n",
      "    \n",
      "    listxattr(path=None, *, follow_symlinks=True)\n",
      "        Return a list of extended attributes on path.\n",
      "        \n",
      "        path may be either None, a string, a path-like object, or an open file descriptor.\n",
      "        if path is None, listxattr will examine the current directory.\n",
      "        If follow_symlinks is False, and the last element of the path is a symbolic\n",
      "          link, listxattr will examine the symbolic link itself instead of the file\n",
      "          the link points to.\n",
      "    \n",
      "    lockf(fd, command, length, /)\n",
      "        Apply, test or remove a POSIX lock on an open file descriptor.\n",
      "        \n",
      "        fd\n",
      "          An open file descriptor.\n",
      "        command\n",
      "          One of F_LOCK, F_TLOCK, F_ULOCK or F_TEST.\n",
      "        length\n",
      "          The number of bytes to lock, starting at the current position.\n",
      "    \n",
      "    lseek(fd, position, how, /)\n",
      "        Set the position of a file descriptor.  Return the new position.\n",
      "        \n",
      "        Return the new cursor position in number of bytes\n",
      "        relative to the beginning of the file.\n",
      "    \n",
      "    lstat(path, *, dir_fd=None)\n",
      "        Perform a stat system call on the given path, without following symbolic links.\n",
      "        \n",
      "        Like stat(), but do not follow symbolic links.\n",
      "        Equivalent to stat(path, follow_symlinks=False).\n",
      "    \n",
      "    major(device, /)\n",
      "        Extracts a device major number from a raw device number.\n",
      "    \n",
      "    makedev(major, minor, /)\n",
      "        Composes a raw device number from the major and minor device numbers.\n",
      "    \n",
      "    makedirs(name, mode=511, exist_ok=False)\n",
      "        makedirs(name [, mode=0o777][, exist_ok=False])\n",
      "        \n",
      "        Super-mkdir; create a leaf directory and all intermediate ones.  Works like\n",
      "        mkdir, except that any intermediate path segment (not just the rightmost)\n",
      "        will be created if it does not exist. If the target directory already\n",
      "        exists, raise an OSError if exist_ok is False. Otherwise no exception is\n",
      "        raised.  This is recursive.\n",
      "    \n",
      "    memfd_create(name, flags=1)\n",
      "    \n",
      "    minor(device, /)\n",
      "        Extracts a device minor number from a raw device number.\n",
      "    \n",
      "    mkdir(path, mode=511, *, dir_fd=None)\n",
      "        Create a directory.\n",
      "        \n",
      "        If dir_fd is not None, it should be a file descriptor open to a directory,\n",
      "          and path should be relative; path will then be relative to that directory.\n",
      "        dir_fd may not be implemented on your platform.\n",
      "          If it is unavailable, using it will raise a NotImplementedError.\n",
      "        \n",
      "        The mode argument is ignored on Windows.\n",
      "    \n",
      "    mkfifo(path, mode=438, *, dir_fd=None)\n",
      "        Create a \"fifo\" (a POSIX named pipe).\n",
      "        \n",
      "        If dir_fd is not None, it should be a file descriptor open to a directory,\n",
      "          and path should be relative; path will then be relative to that directory.\n",
      "        dir_fd may not be implemented on your platform.\n",
      "          If it is unavailable, using it will raise a NotImplementedError.\n",
      "    \n",
      "    mknod(path, mode=384, device=0, *, dir_fd=None)\n",
      "        Create a node in the file system.\n",
      "        \n",
      "        Create a node in the file system (file, device special file or named pipe)\n",
      "        at path.  mode specifies both the permissions to use and the\n",
      "        type of node to be created, being combined (bitwise OR) with one of\n",
      "        S_IFREG, S_IFCHR, S_IFBLK, and S_IFIFO.  If S_IFCHR or S_IFBLK is set on mode,\n",
      "        device defines the newly created device special file (probably using\n",
      "        os.makedev()).  Otherwise device is ignored.\n",
      "        \n",
      "        If dir_fd is not None, it should be a file descriptor open to a directory,\n",
      "          and path should be relative; path will then be relative to that directory.\n",
      "        dir_fd may not be implemented on your platform.\n",
      "          If it is unavailable, using it will raise a NotImplementedError.\n",
      "    \n",
      "    nice(increment, /)\n",
      "        Add increment to the priority of process and return the new priority.\n",
      "    \n",
      "    open(path, flags, mode=511, *, dir_fd=None)\n",
      "        Open a file for low level IO.  Returns a file descriptor (integer).\n",
      "        \n",
      "        If dir_fd is not None, it should be a file descriptor open to a directory,\n",
      "          and path should be relative; path will then be relative to that directory.\n",
      "        dir_fd may not be implemented on your platform.\n",
      "          If it is unavailable, using it will raise a NotImplementedError.\n",
      "    \n",
      "    openpty()\n",
      "        Open a pseudo-terminal.\n",
      "        \n",
      "        Return a tuple of (master_fd, slave_fd) containing open file descriptors\n",
      "        for both the master and slave ends.\n",
      "    \n",
      "    pathconf(path, name)\n",
      "        Return the configuration limit name for the file or directory path.\n",
      "        \n",
      "        If there is no limit, return -1.\n",
      "        On some platforms, path may also be specified as an open file descriptor.\n",
      "          If this functionality is unavailable, using it raises an exception.\n",
      "    \n",
      "    pipe()\n",
      "        Create a pipe.\n",
      "        \n",
      "        Returns a tuple of two file descriptors:\n",
      "          (read_fd, write_fd)\n",
      "    \n",
      "    pipe2(flags, /)\n",
      "        Create a pipe with flags set atomically.\n",
      "        \n",
      "        Returns a tuple of two file descriptors:\n",
      "          (read_fd, write_fd)\n",
      "        \n",
      "        flags can be constructed by ORing together one or more of these values:\n",
      "        O_NONBLOCK, O_CLOEXEC.\n",
      "    \n",
      "    popen(cmd, mode='r', buffering=-1)\n",
      "        # Supply os.popen()\n",
      "    \n",
      "    posix_fadvise(fd, offset, length, advice, /)\n",
      "        Announce an intention to access data in a specific pattern.\n",
      "        \n",
      "        Announce an intention to access data in a specific pattern, thus allowing\n",
      "        the kernel to make optimizations.\n",
      "        The advice applies to the region of the file specified by fd starting at\n",
      "        offset and continuing for length bytes.\n",
      "        advice is one of POSIX_FADV_NORMAL, POSIX_FADV_SEQUENTIAL,\n",
      "        POSIX_FADV_RANDOM, POSIX_FADV_NOREUSE, POSIX_FADV_WILLNEED, or\n",
      "        POSIX_FADV_DONTNEED.\n",
      "    \n",
      "    posix_fallocate(fd, offset, length, /)\n",
      "        Ensure a file has allocated at least a particular number of bytes on disk.\n",
      "        \n",
      "        Ensure that the file specified by fd encompasses a range of bytes\n",
      "        starting at offset bytes from the beginning and continuing for length bytes.\n",
      "    \n",
      "    posix_spawn(...)\n",
      "        Execute the program specified by path in a new process.\n",
      "        \n",
      "        path\n",
      "          Path of executable file.\n",
      "        argv\n",
      "          Tuple or list of strings.\n",
      "        env\n",
      "          Dictionary of strings mapping to strings.\n",
      "        file_actions\n",
      "          A sequence of file action tuples.\n",
      "        setpgroup\n",
      "          The pgroup to use with the POSIX_SPAWN_SETPGROUP flag.\n",
      "        resetids\n",
      "          If the value is `true` the POSIX_SPAWN_RESETIDS will be activated.\n",
      "        setsid\n",
      "          If the value is `true` the POSIX_SPAWN_SETSID or POSIX_SPAWN_SETSID_NP will be activated.\n",
      "        setsigmask\n",
      "          The sigmask to use with the POSIX_SPAWN_SETSIGMASK flag.\n",
      "        setsigdef\n",
      "          The sigmask to use with the POSIX_SPAWN_SETSIGDEF flag.\n",
      "        scheduler\n",
      "          A tuple with the scheduler policy (optional) and parameters.\n",
      "    \n",
      "    posix_spawnp(...)\n",
      "        Execute the program specified by path in a new process.\n",
      "        \n",
      "        path\n",
      "          Path of executable file.\n",
      "        argv\n",
      "          Tuple or list of strings.\n",
      "        env\n",
      "          Dictionary of strings mapping to strings.\n",
      "        file_actions\n",
      "          A sequence of file action tuples.\n",
      "        setpgroup\n",
      "          The pgroup to use with the POSIX_SPAWN_SETPGROUP flag.\n",
      "        resetids\n",
      "          If the value is `True` the POSIX_SPAWN_RESETIDS will be activated.\n",
      "        setsid\n",
      "          If the value is `True` the POSIX_SPAWN_SETSID or POSIX_SPAWN_SETSID_NP will be activated.\n",
      "        setsigmask\n",
      "          The sigmask to use with the POSIX_SPAWN_SETSIGMASK flag.\n",
      "        setsigdef\n",
      "          The sigmask to use with the POSIX_SPAWN_SETSIGDEF flag.\n",
      "        scheduler\n",
      "          A tuple with the scheduler policy (optional) and parameters.\n",
      "    \n",
      "    pread(fd, length, offset, /)\n",
      "        Read a number of bytes from a file descriptor starting at a particular offset.\n",
      "        \n",
      "        Read length bytes from file descriptor fd, starting at offset bytes from\n",
      "        the beginning of the file.  The file offset remains unchanged.\n",
      "    \n",
      "    preadv(fd, buffers, offset, flags=0, /)\n",
      "        Reads from a file descriptor into a number of mutable bytes-like objects.\n",
      "        \n",
      "        Combines the functionality of readv() and pread(). As readv(), it will\n",
      "        transfer data into each buffer until it is full and then move on to the next\n",
      "        buffer in the sequence to hold the rest of the data. Its fourth argument,\n",
      "        specifies the file offset at which the input operation is to be performed. It\n",
      "        will return the total number of bytes read (which can be less than the total\n",
      "        capacity of all the objects).\n",
      "        \n",
      "        The flags argument contains a bitwise OR of zero or more of the following flags:\n",
      "        \n",
      "        - RWF_HIPRI\n",
      "        - RWF_NOWAIT\n",
      "        \n",
      "        Using non-zero flags requires Linux 4.6 or newer.\n",
      "    \n",
      "    putenv(name, value, /)\n",
      "        Change or add an environment variable.\n",
      "    \n",
      "    pwrite(fd, buffer, offset, /)\n",
      "        Write bytes to a file descriptor starting at a particular offset.\n",
      "        \n",
      "        Write buffer to fd, starting at offset bytes from the beginning of\n",
      "        the file.  Returns the number of bytes writte.  Does not change the\n",
      "        current file offset.\n",
      "    \n",
      "    pwritev(fd, buffers, offset, flags=0, /)\n",
      "        Writes the contents of bytes-like objects to a file descriptor at a given offset.\n",
      "        \n",
      "        Combines the functionality of writev() and pwrite(). All buffers must be a sequence\n",
      "        of bytes-like objects. Buffers are processed in array order. Entire contents of first\n",
      "        buffer is written before proceeding to second, and so on. The operating system may\n",
      "        set a limit (sysconf() value SC_IOV_MAX) on the number of buffers that can be used.\n",
      "        This function writes the contents of each object to the file descriptor and returns\n",
      "        the total number of bytes written.\n",
      "        \n",
      "        The flags argument contains a bitwise OR of zero or more of the following flags:\n",
      "        \n",
      "        - RWF_DSYNC\n",
      "        - RWF_SYNC\n",
      "        \n",
      "        Using non-zero flags requires Linux 4.7 or newer.\n",
      "    \n",
      "    read(fd, length, /)\n",
      "        Read from a file descriptor.  Returns a bytes object.\n",
      "    \n",
      "    readlink(path, *, dir_fd=None)\n",
      "        Return a string representing the path to which the symbolic link points.\n",
      "        \n",
      "        If dir_fd is not None, it should be a file descriptor open to a directory,\n",
      "        and path should be relative; path will then be relative to that directory.\n",
      "        \n",
      "        dir_fd may not be implemented on your platform.  If it is unavailable,\n",
      "        using it will raise a NotImplementedError.\n",
      "    \n",
      "    readv(fd, buffers, /)\n",
      "        Read from a file descriptor fd into an iterable of buffers.\n",
      "        \n",
      "        The buffers should be mutable buffers accepting bytes.\n",
      "        readv will transfer data into each buffer until it is full\n",
      "        and then move on to the next buffer in the sequence to hold\n",
      "        the rest of the data.\n",
      "        \n",
      "        readv returns the total number of bytes read,\n",
      "        which may be less than the total capacity of all the buffers.\n",
      "    \n",
      "    register_at_fork(...)\n",
      "        Register callables to be called when forking a new process.\n",
      "        \n",
      "          before\n",
      "            A callable to be called in the parent before the fork() syscall.\n",
      "          after_in_child\n",
      "            A callable to be called in the child after fork().\n",
      "          after_in_parent\n",
      "            A callable to be called in the parent after fork().\n",
      "        \n",
      "        'before' callbacks are called in reverse order.\n",
      "        'after_in_child' and 'after_in_parent' callbacks are called in order.\n",
      "    \n",
      "    remove(path, *, dir_fd=None)\n",
      "        Remove a file (same as unlink()).\n",
      "        \n",
      "        If dir_fd is not None, it should be a file descriptor open to a directory,\n",
      "          and path should be relative; path will then be relative to that directory.\n",
      "        dir_fd may not be implemented on your platform.\n",
      "          If it is unavailable, using it will raise a NotImplementedError.\n",
      "    \n",
      "    removedirs(name)\n",
      "        removedirs(name)\n",
      "        \n",
      "        Super-rmdir; remove a leaf directory and all empty intermediate\n",
      "        ones.  Works like rmdir except that, if the leaf directory is\n",
      "        successfully removed, directories corresponding to rightmost path\n",
      "        segments will be pruned away until either the whole path is\n",
      "        consumed or an error occurs.  Errors during this latter phase are\n",
      "        ignored -- they generally mean that a directory was not empty.\n",
      "    \n",
      "    removexattr(path, attribute, *, follow_symlinks=True)\n",
      "        Remove extended attribute attribute on path.\n",
      "        \n",
      "        path may be either a string, a path-like object, or an open file descriptor.\n",
      "        If follow_symlinks is False, and the last element of the path is a symbolic\n",
      "          link, removexattr will modify the symbolic link itself instead of the file\n",
      "          the link points to.\n",
      "    \n",
      "    rename(src, dst, *, src_dir_fd=None, dst_dir_fd=None)\n",
      "        Rename a file or directory.\n",
      "        \n",
      "        If either src_dir_fd or dst_dir_fd is not None, it should be a file\n",
      "          descriptor open to a directory, and the respective path string (src or dst)\n",
      "          should be relative; the path will then be relative to that directory.\n",
      "        src_dir_fd and dst_dir_fd, may not be implemented on your platform.\n",
      "          If they are unavailable, using them will raise a NotImplementedError.\n",
      "    \n",
      "    renames(old, new)\n",
      "        renames(old, new)\n",
      "        \n",
      "        Super-rename; create directories as necessary and delete any left\n",
      "        empty.  Works like rename, except creation of any intermediate\n",
      "        directories needed to make the new pathname good is attempted\n",
      "        first.  After the rename, directories corresponding to rightmost\n",
      "        path segments of the old name will be pruned until either the\n",
      "        whole path is consumed or a nonempty directory is found.\n",
      "        \n",
      "        Note: this function can fail with the new directory structure made\n",
      "        if you lack permissions needed to unlink the leaf directory or\n",
      "        file.\n",
      "    \n",
      "    replace(src, dst, *, src_dir_fd=None, dst_dir_fd=None)\n",
      "        Rename a file or directory, overwriting the destination.\n",
      "        \n",
      "        If either src_dir_fd or dst_dir_fd is not None, it should be a file\n",
      "          descriptor open to a directory, and the respective path string (src or dst)\n",
      "          should be relative; the path will then be relative to that directory.\n",
      "        src_dir_fd and dst_dir_fd, may not be implemented on your platform.\n",
      "          If they are unavailable, using them will raise a NotImplementedError.\n",
      "    \n",
      "    rmdir(path, *, dir_fd=None)\n",
      "        Remove a directory.\n",
      "        \n",
      "        If dir_fd is not None, it should be a file descriptor open to a directory,\n",
      "          and path should be relative; path will then be relative to that directory.\n",
      "        dir_fd may not be implemented on your platform.\n",
      "          If it is unavailable, using it will raise a NotImplementedError.\n",
      "    \n",
      "    scandir(path=None)\n",
      "        Return an iterator of DirEntry objects for given path.\n",
      "        \n",
      "        path can be specified as either str, bytes, or a path-like object.  If path\n",
      "        is bytes, the names of yielded DirEntry objects will also be bytes; in\n",
      "        all other circumstances they will be str.\n",
      "        \n",
      "        If path is None, uses the path='.'.\n",
      "    \n",
      "    sched_get_priority_max(policy)\n",
      "        Get the maximum scheduling priority for policy.\n",
      "    \n",
      "    sched_get_priority_min(policy)\n",
      "        Get the minimum scheduling priority for policy.\n",
      "    \n",
      "    sched_getaffinity(pid, /)\n",
      "        Return the affinity of the process identified by pid (or the current process if zero).\n",
      "        \n",
      "        The affinity is returned as a set of CPU identifiers.\n",
      "    \n",
      "    sched_getparam(pid, /)\n",
      "        Returns scheduling parameters for the process identified by pid.\n",
      "        \n",
      "        If pid is 0, returns parameters for the calling process.\n",
      "        Return value is an instance of sched_param.\n",
      "    \n",
      "    sched_getscheduler(pid, /)\n",
      "        Get the scheduling policy for the process identifiedy by pid.\n",
      "        \n",
      "        Passing 0 for pid returns the scheduling policy for the calling process.\n",
      "    \n",
      "    sched_rr_get_interval(pid, /)\n",
      "        Return the round-robin quantum for the process identified by pid, in seconds.\n",
      "        \n",
      "        Value returned is a float.\n",
      "    \n",
      "    sched_setaffinity(pid, mask, /)\n",
      "        Set the CPU affinity of the process identified by pid to mask.\n",
      "        \n",
      "        mask should be an iterable of integers identifying CPUs.\n",
      "    \n",
      "    sched_setparam(pid, param, /)\n",
      "        Set scheduling parameters for the process identified by pid.\n",
      "        \n",
      "        If pid is 0, sets parameters for the calling process.\n",
      "        param should be an instance of sched_param.\n",
      "    \n",
      "    sched_setscheduler(pid, policy, param, /)\n",
      "        Set the scheduling policy for the process identified by pid.\n",
      "        \n",
      "        If pid is 0, the calling process is changed.\n",
      "        param is an instance of sched_param.\n",
      "    \n",
      "    sched_yield()\n",
      "        Voluntarily relinquish the CPU.\n",
      "    \n",
      "    sendfile(...)\n",
      "        sendfile(out, in, offset, count) -> byteswritten\n",
      "        sendfile(out, in, offset, count[, headers][, trailers], flags=0)\n",
      "                    -> byteswritten\n",
      "        Copy count bytes from file descriptor in to file descriptor out.\n",
      "    \n",
      "    set_blocking(fd, blocking, /)\n",
      "        Set the blocking mode of the specified file descriptor.\n",
      "        \n",
      "        Set the O_NONBLOCK flag if blocking is False,\n",
      "        clear the O_NONBLOCK flag otherwise.\n",
      "    \n",
      "    set_inheritable(fd, inheritable, /)\n",
      "        Set the inheritable flag of the specified file descriptor.\n",
      "    \n",
      "    setegid(egid, /)\n",
      "        Set the current process's effective group id.\n",
      "    \n",
      "    seteuid(euid, /)\n",
      "        Set the current process's effective user id.\n",
      "    \n",
      "    setgid(gid, /)\n",
      "        Set the current process's group id.\n",
      "    \n",
      "    setgroups(groups, /)\n",
      "        Set the groups of the current process to list.\n",
      "    \n",
      "    setpgid(pid, pgrp, /)\n",
      "        Call the system call setpgid(pid, pgrp).\n",
      "    \n",
      "    setpgrp()\n",
      "        Make the current process the leader of its process group.\n",
      "    \n",
      "    setpriority(which, who, priority)\n",
      "        Set program scheduling priority.\n",
      "    \n",
      "    setregid(rgid, egid, /)\n",
      "        Set the current process's real and effective group ids.\n",
      "    \n",
      "    setresgid(rgid, egid, sgid, /)\n",
      "        Set the current process's real, effective, and saved group ids.\n",
      "    \n",
      "    setresuid(ruid, euid, suid, /)\n",
      "        Set the current process's real, effective, and saved user ids.\n",
      "    \n",
      "    setreuid(ruid, euid, /)\n",
      "        Set the current process's real and effective user ids.\n",
      "    \n",
      "    setsid()\n",
      "        Call the system call setsid().\n",
      "    \n",
      "    setuid(uid, /)\n",
      "        Set the current process's user id.\n",
      "    \n",
      "    setxattr(path, attribute, value, flags=0, *, follow_symlinks=True)\n",
      "        Set extended attribute attribute on path to value.\n",
      "        \n",
      "        path may be either a string, a path-like object,  or an open file descriptor.\n",
      "        If follow_symlinks is False, and the last element of the path is a symbolic\n",
      "          link, setxattr will modify the symbolic link itself instead of the file\n",
      "          the link points to.\n",
      "    \n",
      "    spawnl(mode, file, *args)\n",
      "        spawnl(mode, file, *args) -> integer\n",
      "        \n",
      "        Execute file with arguments from args in a subprocess.\n",
      "        If mode == P_NOWAIT return the pid of the process.\n",
      "        If mode == P_WAIT return the process's exit code if it exits normally;\n",
      "        otherwise return -SIG, where SIG is the signal that killed it.\n",
      "    \n",
      "    spawnle(mode, file, *args)\n",
      "        spawnle(mode, file, *args, env) -> integer\n",
      "        \n",
      "        Execute file with arguments from args in a subprocess with the\n",
      "        supplied environment.\n",
      "        If mode == P_NOWAIT return the pid of the process.\n",
      "        If mode == P_WAIT return the process's exit code if it exits normally;\n",
      "        otherwise return -SIG, where SIG is the signal that killed it.\n",
      "    \n",
      "    spawnlp(mode, file, *args)\n",
      "        spawnlp(mode, file, *args) -> integer\n",
      "        \n",
      "        Execute file (which is looked for along $PATH) with arguments from\n",
      "        args in a subprocess with the supplied environment.\n",
      "        If mode == P_NOWAIT return the pid of the process.\n",
      "        If mode == P_WAIT return the process's exit code if it exits normally;\n",
      "        otherwise return -SIG, where SIG is the signal that killed it.\n",
      "    \n",
      "    spawnlpe(mode, file, *args)\n",
      "        spawnlpe(mode, file, *args, env) -> integer\n",
      "        \n",
      "        Execute file (which is looked for along $PATH) with arguments from\n",
      "        args in a subprocess with the supplied environment.\n",
      "        If mode == P_NOWAIT return the pid of the process.\n",
      "        If mode == P_WAIT return the process's exit code if it exits normally;\n",
      "        otherwise return -SIG, where SIG is the signal that killed it.\n",
      "    \n",
      "    spawnv(mode, file, args)\n",
      "        spawnv(mode, file, args) -> integer\n",
      "        \n",
      "        Execute file with arguments from args in a subprocess.\n",
      "        If mode == P_NOWAIT return the pid of the process.\n",
      "        If mode == P_WAIT return the process's exit code if it exits normally;\n",
      "        otherwise return -SIG, where SIG is the signal that killed it.\n",
      "    \n",
      "    spawnve(mode, file, args, env)\n",
      "        spawnve(mode, file, args, env) -> integer\n",
      "        \n",
      "        Execute file with arguments from args in a subprocess with the\n",
      "        specified environment.\n",
      "        If mode == P_NOWAIT return the pid of the process.\n",
      "        If mode == P_WAIT return the process's exit code if it exits normally;\n",
      "        otherwise return -SIG, where SIG is the signal that killed it.\n",
      "    \n",
      "    spawnvp(mode, file, args)\n",
      "        spawnvp(mode, file, args) -> integer\n",
      "        \n",
      "        Execute file (which is looked for along $PATH) with arguments from\n",
      "        args in a subprocess.\n",
      "        If mode == P_NOWAIT return the pid of the process.\n",
      "        If mode == P_WAIT return the process's exit code if it exits normally;\n",
      "        otherwise return -SIG, where SIG is the signal that killed it.\n",
      "    \n",
      "    spawnvpe(mode, file, args, env)\n",
      "        spawnvpe(mode, file, args, env) -> integer\n",
      "        \n",
      "        Execute file (which is looked for along $PATH) with arguments from\n",
      "        args in a subprocess with the supplied environment.\n",
      "        If mode == P_NOWAIT return the pid of the process.\n",
      "        If mode == P_WAIT return the process's exit code if it exits normally;\n",
      "        otherwise return -SIG, where SIG is the signal that killed it.\n",
      "    \n",
      "    stat(path, *, dir_fd=None, follow_symlinks=True)\n",
      "        Perform a stat system call on the given path.\n",
      "        \n",
      "          path\n",
      "            Path to be examined; can be string, bytes, a path-like object or\n",
      "            open-file-descriptor int.\n",
      "          dir_fd\n",
      "            If not None, it should be a file descriptor open to a directory,\n",
      "            and path should be a relative string; path will then be relative to\n",
      "            that directory.\n",
      "          follow_symlinks\n",
      "            If False, and the last element of the path is a symbolic link,\n",
      "            stat will examine the symbolic link itself instead of the file\n",
      "            the link points to.\n",
      "        \n",
      "        dir_fd and follow_symlinks may not be implemented\n",
      "          on your platform.  If they are unavailable, using them will raise a\n",
      "          NotImplementedError.\n",
      "        \n",
      "        It's an error to use dir_fd or follow_symlinks when specifying path as\n",
      "          an open file descriptor.\n",
      "    \n",
      "    statvfs(path)\n",
      "        Perform a statvfs system call on the given path.\n",
      "        \n",
      "        path may always be specified as a string.\n",
      "        On some platforms, path may also be specified as an open file descriptor.\n",
      "          If this functionality is unavailable, using it raises an exception.\n",
      "    \n",
      "    strerror(code, /)\n",
      "        Translate an error code to a message string.\n",
      "    \n",
      "    symlink(src, dst, target_is_directory=False, *, dir_fd=None)\n",
      "        Create a symbolic link pointing to src named dst.\n",
      "        \n",
      "        target_is_directory is required on Windows if the target is to be\n",
      "          interpreted as a directory.  (On Windows, symlink requires\n",
      "          Windows 6.0 or greater, and raises a NotImplementedError otherwise.)\n",
      "          target_is_directory is ignored on non-Windows platforms.\n",
      "        \n",
      "        If dir_fd is not None, it should be a file descriptor open to a directory,\n",
      "          and path should be relative; path will then be relative to that directory.\n",
      "        dir_fd may not be implemented on your platform.\n",
      "          If it is unavailable, using it will raise a NotImplementedError.\n",
      "    \n",
      "    sync()\n",
      "        Force write of everything to disk.\n",
      "    \n",
      "    sysconf(name, /)\n",
      "        Return an integer-valued system configuration variable.\n",
      "    \n",
      "    system(command)\n",
      "        Execute the command in a subshell.\n",
      "    \n",
      "    tcgetpgrp(fd, /)\n",
      "        Return the process group associated with the terminal specified by fd.\n",
      "    \n",
      "    tcsetpgrp(fd, pgid, /)\n",
      "        Set the process group associated with the terminal specified by fd.\n",
      "    \n",
      "    times()\n",
      "        Return a collection containing process timing information.\n",
      "        \n",
      "        The object returned behaves like a named tuple with these fields:\n",
      "          (utime, stime, cutime, cstime, elapsed_time)\n",
      "        All fields are floating point numbers.\n",
      "    \n",
      "    truncate(path, length)\n",
      "        Truncate a file, specified by path, to a specific length.\n",
      "        \n",
      "        On some platforms, path may also be specified as an open file descriptor.\n",
      "          If this functionality is unavailable, using it raises an exception.\n",
      "    \n",
      "    ttyname(fd, /)\n",
      "        Return the name of the terminal device connected to 'fd'.\n",
      "        \n",
      "        fd\n",
      "          Integer file descriptor handle.\n",
      "    \n",
      "    umask(mask, /)\n",
      "        Set the current numeric umask and return the previous umask.\n",
      "    \n",
      "    uname()\n",
      "        Return an object identifying the current operating system.\n",
      "        \n",
      "        The object behaves like a named tuple with the following fields:\n",
      "          (sysname, nodename, release, version, machine)\n",
      "    \n",
      "    unlink(path, *, dir_fd=None)\n",
      "        Remove a file (same as remove()).\n",
      "        \n",
      "        If dir_fd is not None, it should be a file descriptor open to a directory,\n",
      "          and path should be relative; path will then be relative to that directory.\n",
      "        dir_fd may not be implemented on your platform.\n",
      "          If it is unavailable, using it will raise a NotImplementedError.\n",
      "    \n",
      "    unsetenv(name, /)\n",
      "        Delete an environment variable.\n",
      "    \n",
      "    urandom(size, /)\n",
      "        Return a bytes object containing random bytes suitable for cryptographic use.\n",
      "    \n",
      "    utime(...)\n",
      "        Set the access and modified time of path.\n",
      "        \n",
      "        path may always be specified as a string.\n",
      "        On some platforms, path may also be specified as an open file descriptor.\n",
      "          If this functionality is unavailable, using it raises an exception.\n",
      "        \n",
      "        If times is not None, it must be a tuple (atime, mtime);\n",
      "            atime and mtime should be expressed as float seconds since the epoch.\n",
      "        If ns is specified, it must be a tuple (atime_ns, mtime_ns);\n",
      "            atime_ns and mtime_ns should be expressed as integer nanoseconds\n",
      "            since the epoch.\n",
      "        If times is None and ns is unspecified, utime uses the current time.\n",
      "        Specifying tuples for both times and ns is an error.\n",
      "        \n",
      "        If dir_fd is not None, it should be a file descriptor open to a directory,\n",
      "          and path should be relative; path will then be relative to that directory.\n",
      "        If follow_symlinks is False, and the last element of the path is a symbolic\n",
      "          link, utime will modify the symbolic link itself instead of the file the\n",
      "          link points to.\n",
      "        It is an error to use dir_fd or follow_symlinks when specifying path\n",
      "          as an open file descriptor.\n",
      "        dir_fd and follow_symlinks may not be available on your platform.\n",
      "          If they are unavailable, using them will raise a NotImplementedError.\n",
      "    \n",
      "    wait()\n",
      "        Wait for completion of a child process.\n",
      "        \n",
      "        Returns a tuple of information about the child process:\n",
      "            (pid, status)\n",
      "    \n",
      "    wait3(options)\n",
      "        Wait for completion of a child process.\n",
      "        \n",
      "        Returns a tuple of information about the child process:\n",
      "          (pid, status, rusage)\n",
      "    \n",
      "    wait4(pid, options)\n",
      "        Wait for completion of a specific child process.\n",
      "        \n",
      "        Returns a tuple of information about the child process:\n",
      "          (pid, status, rusage)\n",
      "    \n",
      "    waitid(idtype, id, options, /)\n",
      "        Returns the result of waiting for a process or processes.\n",
      "        \n",
      "          idtype\n",
      "            Must be one of be P_PID, P_PGID or P_ALL.\n",
      "          id\n",
      "            The id to wait on.\n",
      "          options\n",
      "            Constructed from the ORing of one or more of WEXITED, WSTOPPED\n",
      "            or WCONTINUED and additionally may be ORed with WNOHANG or WNOWAIT.\n",
      "        \n",
      "        Returns either waitid_result or None if WNOHANG is specified and there are\n",
      "        no children in a waitable state.\n",
      "    \n",
      "    waitpid(pid, options, /)\n",
      "        Wait for completion of a given child process.\n",
      "        \n",
      "        Returns a tuple of information regarding the child process:\n",
      "            (pid, status)\n",
      "        \n",
      "        The options argument is ignored on Windows.\n",
      "    \n",
      "    walk(top, topdown=True, onerror=None, followlinks=False)\n",
      "        Directory tree generator.\n",
      "        \n",
      "        For each directory in the directory tree rooted at top (including top\n",
      "        itself, but excluding '.' and '..'), yields a 3-tuple\n",
      "        \n",
      "            dirpath, dirnames, filenames\n",
      "        \n",
      "        dirpath is a string, the path to the directory.  dirnames is a list of\n",
      "        the names of the subdirectories in dirpath (excluding '.' and '..').\n",
      "        filenames is a list of the names of the non-directory files in dirpath.\n",
      "        Note that the names in the lists are just names, with no path components.\n",
      "        To get a full path (which begins with top) to a file or directory in\n",
      "        dirpath, do os.path.join(dirpath, name).\n",
      "        \n",
      "        If optional arg 'topdown' is true or not specified, the triple for a\n",
      "        directory is generated before the triples for any of its subdirectories\n",
      "        (directories are generated top down).  If topdown is false, the triple\n",
      "        for a directory is generated after the triples for all of its\n",
      "        subdirectories (directories are generated bottom up).\n",
      "        \n",
      "        When topdown is true, the caller can modify the dirnames list in-place\n",
      "        (e.g., via del or slice assignment), and walk will only recurse into the\n",
      "        subdirectories whose names remain in dirnames; this can be used to prune the\n",
      "        search, or to impose a specific order of visiting.  Modifying dirnames when\n",
      "        topdown is false has no effect on the behavior of os.walk(), since the\n",
      "        directories in dirnames have already been generated by the time dirnames\n",
      "        itself is generated. No matter the value of topdown, the list of\n",
      "        subdirectories is retrieved before the tuples for the directory and its\n",
      "        subdirectories are generated.\n",
      "        \n",
      "        By default errors from the os.scandir() call are ignored.  If\n",
      "        optional arg 'onerror' is specified, it should be a function; it\n",
      "        will be called with one argument, an OSError instance.  It can\n",
      "        report the error to continue with the walk, or raise the exception\n",
      "        to abort the walk.  Note that the filename is available as the\n",
      "        filename attribute of the exception object.\n",
      "        \n",
      "        By default, os.walk does not follow symbolic links to subdirectories on\n",
      "        systems that support them.  In order to get this functionality, set the\n",
      "        optional argument 'followlinks' to true.\n",
      "        \n",
      "        Caution:  if you pass a relative pathname for top, don't change the\n",
      "        current working directory between resumptions of walk.  walk never\n",
      "        changes the current directory, and assumes that the client doesn't\n",
      "        either.\n",
      "        \n",
      "        Example:\n",
      "        \n",
      "        import os\n",
      "        from os.path import join, getsize\n",
      "        for root, dirs, files in os.walk('python/Lib/email'):\n",
      "            print(root, \"consumes\", end=\"\")\n",
      "            print(sum(getsize(join(root, name)) for name in files), end=\"\")\n",
      "            print(\"bytes in\", len(files), \"non-directory files\")\n",
      "            if 'CVS' in dirs:\n",
      "                dirs.remove('CVS')  # don't visit CVS directories\n",
      "    \n",
      "    write(fd, data, /)\n",
      "        Write a bytes object to a file descriptor.\n",
      "    \n",
      "    writev(fd, buffers, /)\n",
      "        Iterate over buffers, and write the contents of each to a file descriptor.\n",
      "        \n",
      "        Returns the total number of bytes written.\n",
      "        buffers must be a sequence of bytes-like objects.\n",
      "\n",
      "DATA\n",
      "    CLD_CONTINUED = 6\n",
      "    CLD_DUMPED = 3\n",
      "    CLD_EXITED = 1\n",
      "    CLD_TRAPPED = 4\n",
      "    EX_CANTCREAT = 73\n",
      "    EX_CONFIG = 78\n",
      "    EX_DATAERR = 65\n",
      "    EX_IOERR = 74\n",
      "    EX_NOHOST = 68\n",
      "    EX_NOINPUT = 66\n",
      "    EX_NOPERM = 77\n",
      "    EX_NOUSER = 67\n",
      "    EX_OK = 0\n",
      "    EX_OSERR = 71\n",
      "    EX_OSFILE = 72\n",
      "    EX_PROTOCOL = 76\n",
      "    EX_SOFTWARE = 70\n",
      "    EX_TEMPFAIL = 75\n",
      "    EX_UNAVAILABLE = 69\n",
      "    EX_USAGE = 64\n",
      "    F_LOCK = 1\n",
      "    F_OK = 0\n",
      "    F_TEST = 3\n",
      "    F_TLOCK = 2\n",
      "    F_ULOCK = 0\n",
      "    GRND_NONBLOCK = 1\n",
      "    GRND_RANDOM = 2\n",
      "    MFD_ALLOW_SEALING = 2\n",
      "    MFD_CLOEXEC = 1\n",
      "    MFD_HUGETLB = 4\n",
      "    MFD_HUGE_16GB = -2013265920\n",
      "    MFD_HUGE_16MB = 1610612736\n",
      "    MFD_HUGE_1GB = 2013265920\n",
      "    MFD_HUGE_1MB = 1342177280\n",
      "    MFD_HUGE_256MB = 1879048192\n",
      "    MFD_HUGE_2GB = 2080374784\n",
      "    MFD_HUGE_2MB = 1409286144\n",
      "    MFD_HUGE_512KB = 1275068416\n",
      "    MFD_HUGE_64KB = 1073741824\n",
      "    MFD_HUGE_8MB = 1543503872\n",
      "    MFD_HUGE_MASK = 63\n",
      "    MFD_HUGE_SHIFT = 26\n",
      "    NGROUPS_MAX = 65536\n",
      "    O_ACCMODE = 3\n",
      "    O_APPEND = 1024\n",
      "    O_ASYNC = 8192\n",
      "    O_CLOEXEC = 524288\n",
      "    O_CREAT = 64\n",
      "    O_DIRECT = 16384\n",
      "    O_DIRECTORY = 65536\n",
      "    O_DSYNC = 4096\n",
      "    O_EXCL = 128\n",
      "    O_LARGEFILE = 0\n",
      "    O_NDELAY = 2048\n",
      "    O_NOATIME = 262144\n",
      "    O_NOCTTY = 256\n",
      "    O_NOFOLLOW = 131072\n",
      "    O_NONBLOCK = 2048\n",
      "    O_PATH = 2097152\n",
      "    O_RDONLY = 0\n",
      "    O_RDWR = 2\n",
      "    O_RSYNC = 1052672\n",
      "    O_SYNC = 1052672\n",
      "    O_TMPFILE = 4259840\n",
      "    O_TRUNC = 512\n",
      "    O_WRONLY = 1\n",
      "    POSIX_FADV_DONTNEED = 4\n",
      "    POSIX_FADV_NOREUSE = 5\n",
      "    POSIX_FADV_NORMAL = 0\n",
      "    POSIX_FADV_RANDOM = 1\n",
      "    POSIX_FADV_SEQUENTIAL = 2\n",
      "    POSIX_FADV_WILLNEED = 3\n",
      "    POSIX_SPAWN_CLOSE = 1\n",
      "    POSIX_SPAWN_DUP2 = 2\n",
      "    POSIX_SPAWN_OPEN = 0\n",
      "    PRIO_PGRP = 1\n",
      "    PRIO_PROCESS = 0\n",
      "    PRIO_USER = 2\n",
      "    P_ALL = 0\n",
      "    P_NOWAIT = 1\n",
      "    P_NOWAITO = 1\n",
      "    P_PGID = 2\n",
      "    P_PID = 1\n",
      "    P_WAIT = 0\n",
      "    RTLD_DEEPBIND = 8\n",
      "    RTLD_GLOBAL = 256\n",
      "    RTLD_LAZY = 1\n",
      "    RTLD_LOCAL = 0\n",
      "    RTLD_NODELETE = 4096\n",
      "    RTLD_NOLOAD = 4\n",
      "    RTLD_NOW = 2\n",
      "    RWF_DSYNC = 2\n",
      "    RWF_HIPRI = 1\n",
      "    RWF_NOWAIT = 8\n",
      "    RWF_SYNC = 4\n",
      "    R_OK = 4\n",
      "    SCHED_BATCH = 3\n",
      "    SCHED_FIFO = 1\n",
      "    SCHED_IDLE = 5\n",
      "    SCHED_OTHER = 0\n",
      "    SCHED_RESET_ON_FORK = 1073741824\n",
      "    SCHED_RR = 2\n",
      "    SEEK_CUR = 1\n",
      "    SEEK_DATA = 3\n",
      "    SEEK_END = 2\n",
      "    SEEK_HOLE = 4\n",
      "    SEEK_SET = 0\n",
      "    ST_APPEND = 256\n",
      "    ST_MANDLOCK = 64\n",
      "    ST_NOATIME = 1024\n",
      "    ST_NODEV = 4\n",
      "    ST_NODIRATIME = 2048\n",
      "    ST_NOEXEC = 8\n",
      "    ST_NOSUID = 2\n",
      "    ST_RDONLY = 1\n",
      "    ST_RELATIME = 4096\n",
      "    ST_SYNCHRONOUS = 16\n",
      "    ST_WRITE = 128\n",
      "    TMP_MAX = 238328\n",
      "    WCONTINUED = 8\n",
      "    WEXITED = 4\n",
      "    WNOHANG = 1\n",
      "    WNOWAIT = 16777216\n",
      "    WSTOPPED = 2\n",
      "    WUNTRACED = 2\n",
      "    W_OK = 2\n",
      "    XATTR_CREATE = 1\n",
      "    XATTR_REPLACE = 2\n",
      "    XATTR_SIZE_MAX = 65536\n",
      "    X_OK = 1\n",
      "    __all__ = ['altsep', 'curdir', 'pardir', 'sep', 'pathsep', 'linesep', ...\n",
      "    altsep = None\n",
      "    confstr_names = {'CS_GNU_LIBC_VERSION': 2, 'CS_GNU_LIBPTHREAD_VERSION'...\n",
      "    curdir = '.'\n",
      "    defpath = '/bin:/usr/bin'\n",
      "    devnull = '/dev/null'\n",
      "    environ = environ({'LS_COLORS': 'rs=0:di=01;34:ln=01;36:mh...END': 'mo...\n",
      "    environb = environ({b'LS_COLORS': b'rs=0:di=01;34:ln=01;36:...ND': b'm...\n",
      "    extsep = '.'\n",
      "    linesep = '\\n'\n",
      "    name = 'posix'\n",
      "    pardir = '..'\n",
      "    pathconf_names = {'PC_ALLOC_SIZE_MIN': 18, 'PC_ASYNC_IO': 10, 'PC_CHOW...\n",
      "    pathsep = ':'\n",
      "    sep = '/'\n",
      "    supports_bytes_environ = True\n",
      "    sysconf_names = {'SC_2_CHAR_TERM': 95, 'SC_2_C_BIND': 47, 'SC_2_C_DEV'...\n",
      "\n",
      "FILE\n",
      "    /usr/lib/python3.8/os.py\n",
      "\n",
      "\n"
     ]
    }
   ],
   "source": [
    "help(os)"
   ]
  },
  {
   "cell_type": "code",
   "execution_count": 68,
   "metadata": {
    "collapsed": true
   },
   "outputs": [
    {
     "data": {
      "text/plain": [
       "['iproute2',\n",
       " 'os-release',\n",
       " 'update-notifier',\n",
       " 'ld.so.conf.d',\n",
       " 'modules',\n",
       " 'rc4.d',\n",
       " 'default',\n",
       " 'X11',\n",
       " 'opt',\n",
       " 'bash.bashrc',\n",
       " 'locale.gen',\n",
       " 'hostname',\n",
       " 'initramfs-tools',\n",
       " 'shells',\n",
       " 'shadow-',\n",
       " 'shadow',\n",
       " 'lsb-release',\n",
       " 'cryptsetup-initramfs',\n",
       " 'subuid',\n",
       " 'mailcap',\n",
       " 'crypttab',\n",
       " 'rc2.d',\n",
       " 'polkit-1',\n",
       " 'acpi',\n",
       " 'overlayroot.conf',\n",
       " 'magic.mime',\n",
       " 'terminfo',\n",
       " 'host.conf',\n",
       " 'netplan',\n",
       " 'group-',\n",
       " 'zsh_command_not_found',\n",
       " 'cron.hourly',\n",
       " 'kernel-img.conf',\n",
       " 'apm',\n",
       " 'inputrc',\n",
       " 'python3.8',\n",
       " 'landscape',\n",
       " 'alternatives',\n",
       " 'binfmt.d',\n",
       " 'sos.conf',\n",
       " 'networks',\n",
       " 'gtk-3.0',\n",
       " 'apparmor',\n",
       " 'console-setup',\n",
       " 'groff',\n",
       " 'rc3.d',\n",
       " 'cron.d',\n",
       " 'pam.d',\n",
       " 'subuid-',\n",
       " 'update-motd.d',\n",
       " 'networkd-dispatcher',\n",
       " 'ImageMagick-6',\n",
       " 'kernel',\n",
       " 'systemd',\n",
       " 'modules-load.d',\n",
       " 'rpc',\n",
       " 'crontab',\n",
       " 'dnsmasq.d',\n",
       " 'ca-certificates.conf',\n",
       " 'bash_completion',\n",
       " 'lvm',\n",
       " 'update-manager',\n",
       " 'NetworkManager',\n",
       " 'mke2fs.conf',\n",
       " 'pollinate',\n",
       " 'ldap',\n",
       " 'securetty',\n",
       " 'rcS.d',\n",
       " 'group',\n",
       " 'sysctl.conf',\n",
       " 'mdadm',\n",
       " 'issue',\n",
       " 'ld.so.conf',\n",
       " 'protocols',\n",
       " 'updatedb.conf',\n",
       " 'python3.6',\n",
       " 'cloud',\n",
       " 'security',\n",
       " '.pwd.lock',\n",
       " 'at.deny',\n",
       " 'tmpfiles.d',\n",
       " 'depmod.d',\n",
       " 'passwd',\n",
       " 'vtrgb',\n",
       " 'vmware-tools',\n",
       " 'fuse.conf',\n",
       " 'python3',\n",
       " 'skel',\n",
       " 'logcheck',\n",
       " 'bash_completion.d',\n",
       " 'rsyslog.conf',\n",
       " 'bindresvport.blacklist',\n",
       " 'calendar',\n",
       " 'ssh',\n",
       " 'hosts.allow',\n",
       " 'mtab',\n",
       " 'passwd-',\n",
       " 'ltrace.conf',\n",
       " 'locale.alias',\n",
       " 'ufw',\n",
       " 'selinux',\n",
       " 'resolv.conf',\n",
       " 'localtime',\n",
       " 'pam.conf',\n",
       " 'environment',\n",
       " 'mailcap.order',\n",
       " 'gshadow',\n",
       " 'services',\n",
       " 'dnsmasq.d-available',\n",
       " 'cron.daily',\n",
       " 'xdg',\n",
       " 'manpath.config',\n",
       " 'rc6.d',\n",
       " 'apport',\n",
       " 'sudoers.d',\n",
       " 'init.d',\n",
       " 'adduser.conf',\n",
       " 'newt',\n",
       " 'nsswitch.conf',\n",
       " 'libaudit.conf',\n",
       " 'vim',\n",
       " 'magic',\n",
       " 'sysctl.d',\n",
       " 'issue.net',\n",
       " 'rc1.d',\n",
       " 'emacs25',\n",
       " 'ssl',\n",
       " 'dbus-1',\n",
       " 'rmt',\n",
       " 'deluser.conf',\n",
       " 'apt',\n",
       " 'gshadow-',\n",
       " 'iscsi',\n",
       " 'perl',\n",
       " 'ethertypes',\n",
       " 'libpaper.d',\n",
       " 'ghostscript',\n",
       " 'popularity-contest.conf',\n",
       " 'fonts',\n",
       " 'dpkg',\n",
       " 'cron.monthly',\n",
       " 'pm',\n",
       " 'dhcp',\n",
       " 'hosts.deny',\n",
       " 'rsyslog.d',\n",
       " 'subgid',\n",
       " 'nanorc',\n",
       " 'machine-id',\n",
       " 'overlayroot.local.conf',\n",
       " 'udev',\n",
       " 'ec2_version',\n",
       " 'papersize',\n",
       " 'rc5.d',\n",
       " 'mime.types',\n",
       " 'screenrc',\n",
       " 'timezone',\n",
       " 'emacs',\n",
       " 'cron.weekly',\n",
       " 'debconf.conf',\n",
       " 'logrotate.d',\n",
       " 'login.defs',\n",
       " 'legal',\n",
       " 'logrotate.conf',\n",
       " 'subgid-',\n",
       " 'profile.d',\n",
       " 'wgetrc',\n",
       " 'ca-certificates',\n",
       " 'fstab',\n",
       " 'ld.so.cache',\n",
       " 'network',\n",
       " 'grub.d',\n",
       " 'sudoers',\n",
       " 'hdparm.conf',\n",
       " 'hosts',\n",
       " 'profile',\n",
       " 'debian_version',\n",
       " 'gss',\n",
       " 'gai.conf',\n",
       " 'modprobe.d',\n",
       " 'byobu',\n",
       " 'apparmor.d',\n",
       " 'ucf.conf',\n",
       " 'rc0.d']"
      ]
     },
     "execution_count": 68,
     "metadata": {},
     "output_type": "execute_result"
    }
   ],
   "source": [
    "os.listdir('/etc/')"
   ]
  },
  {
   "cell_type": "code",
   "execution_count": 69,
   "metadata": {},
   "outputs": [
    {
     "ename": "FileNotFoundError",
     "evalue": "[Errno 2] No such file or directory: '/asdfa'",
     "output_type": "error",
     "traceback": [
      "\u001b[0;31m---------------------------------------------------------------------------\u001b[0m",
      "\u001b[0;31mFileNotFoundError\u001b[0m                         Traceback (most recent call last)",
      "\u001b[0;32m<ipython-input-69-ea7195fc4fbe>\u001b[0m in \u001b[0;36m<module>\u001b[0;34m\u001b[0m\n\u001b[0;32m----> 1\u001b[0;31m \u001b[0mos\u001b[0m\u001b[0;34m.\u001b[0m\u001b[0mlistdir\u001b[0m\u001b[0;34m(\u001b[0m\u001b[0;34m'/asdfa'\u001b[0m\u001b[0;34m)\u001b[0m\u001b[0;34m\u001b[0m\u001b[0;34m\u001b[0m\u001b[0m\n\u001b[0m",
      "\u001b[0;31mFileNotFoundError\u001b[0m: [Errno 2] No such file or directory: '/asdfa'"
     ]
    }
   ],
   "source": [
    "os.listdir('/asdfa')"
   ]
  },
  {
   "cell_type": "code",
   "execution_count": 70,
   "metadata": {},
   "outputs": [
    {
     "ename": "NameError",
     "evalue": "name 'listdir' is not defined",
     "output_type": "error",
     "traceback": [
      "\u001b[0;31m---------------------------------------------------------------------------\u001b[0m",
      "\u001b[0;31mNameError\u001b[0m                                 Traceback (most recent call last)",
      "\u001b[0;32m<ipython-input-70-3bba8eb648ee>\u001b[0m in \u001b[0;36m<module>\u001b[0;34m\u001b[0m\n\u001b[0;32m----> 1\u001b[0;31m \u001b[0mlistdir\u001b[0m\u001b[0;34m(\u001b[0m\u001b[0;34m'/etc'\u001b[0m\u001b[0;34m)\u001b[0m\u001b[0;34m\u001b[0m\u001b[0;34m\u001b[0m\u001b[0m\n\u001b[0m",
      "\u001b[0;31mNameError\u001b[0m: name 'listdir' is not defined"
     ]
    }
   ],
   "source": [
    "listdir('/etc')"
   ]
  },
  {
   "cell_type": "code",
   "execution_count": 71,
   "metadata": {},
   "outputs": [],
   "source": [
    "from os import listdir   # define \"listdir\" to refer to os.listdir"
   ]
  },
  {
   "cell_type": "code",
   "execution_count": 72,
   "metadata": {
    "collapsed": true
   },
   "outputs": [
    {
     "data": {
      "text/plain": [
       "['iproute2',\n",
       " 'os-release',\n",
       " 'update-notifier',\n",
       " 'ld.so.conf.d',\n",
       " 'modules',\n",
       " 'rc4.d',\n",
       " 'default',\n",
       " 'X11',\n",
       " 'opt',\n",
       " 'bash.bashrc',\n",
       " 'locale.gen',\n",
       " 'hostname',\n",
       " 'initramfs-tools',\n",
       " 'shells',\n",
       " 'shadow-',\n",
       " 'shadow',\n",
       " 'lsb-release',\n",
       " 'cryptsetup-initramfs',\n",
       " 'subuid',\n",
       " 'mailcap',\n",
       " 'crypttab',\n",
       " 'rc2.d',\n",
       " 'polkit-1',\n",
       " 'acpi',\n",
       " 'overlayroot.conf',\n",
       " 'magic.mime',\n",
       " 'terminfo',\n",
       " 'host.conf',\n",
       " 'netplan',\n",
       " 'group-',\n",
       " 'zsh_command_not_found',\n",
       " 'cron.hourly',\n",
       " 'kernel-img.conf',\n",
       " 'apm',\n",
       " 'inputrc',\n",
       " 'python3.8',\n",
       " 'landscape',\n",
       " 'alternatives',\n",
       " 'binfmt.d',\n",
       " 'sos.conf',\n",
       " 'networks',\n",
       " 'gtk-3.0',\n",
       " 'apparmor',\n",
       " 'console-setup',\n",
       " 'groff',\n",
       " 'rc3.d',\n",
       " 'cron.d',\n",
       " 'pam.d',\n",
       " 'subuid-',\n",
       " 'update-motd.d',\n",
       " 'networkd-dispatcher',\n",
       " 'ImageMagick-6',\n",
       " 'kernel',\n",
       " 'systemd',\n",
       " 'modules-load.d',\n",
       " 'rpc',\n",
       " 'crontab',\n",
       " 'dnsmasq.d',\n",
       " 'ca-certificates.conf',\n",
       " 'bash_completion',\n",
       " 'lvm',\n",
       " 'update-manager',\n",
       " 'NetworkManager',\n",
       " 'mke2fs.conf',\n",
       " 'pollinate',\n",
       " 'ldap',\n",
       " 'securetty',\n",
       " 'rcS.d',\n",
       " 'group',\n",
       " 'sysctl.conf',\n",
       " 'mdadm',\n",
       " 'issue',\n",
       " 'ld.so.conf',\n",
       " 'protocols',\n",
       " 'updatedb.conf',\n",
       " 'python3.6',\n",
       " 'cloud',\n",
       " 'security',\n",
       " '.pwd.lock',\n",
       " 'at.deny',\n",
       " 'tmpfiles.d',\n",
       " 'depmod.d',\n",
       " 'passwd',\n",
       " 'vtrgb',\n",
       " 'vmware-tools',\n",
       " 'fuse.conf',\n",
       " 'python3',\n",
       " 'skel',\n",
       " 'logcheck',\n",
       " 'bash_completion.d',\n",
       " 'rsyslog.conf',\n",
       " 'bindresvport.blacklist',\n",
       " 'calendar',\n",
       " 'ssh',\n",
       " 'hosts.allow',\n",
       " 'mtab',\n",
       " 'passwd-',\n",
       " 'ltrace.conf',\n",
       " 'locale.alias',\n",
       " 'ufw',\n",
       " 'selinux',\n",
       " 'resolv.conf',\n",
       " 'localtime',\n",
       " 'pam.conf',\n",
       " 'environment',\n",
       " 'mailcap.order',\n",
       " 'gshadow',\n",
       " 'services',\n",
       " 'dnsmasq.d-available',\n",
       " 'cron.daily',\n",
       " 'xdg',\n",
       " 'manpath.config',\n",
       " 'rc6.d',\n",
       " 'apport',\n",
       " 'sudoers.d',\n",
       " 'init.d',\n",
       " 'adduser.conf',\n",
       " 'newt',\n",
       " 'nsswitch.conf',\n",
       " 'libaudit.conf',\n",
       " 'vim',\n",
       " 'magic',\n",
       " 'sysctl.d',\n",
       " 'issue.net',\n",
       " 'rc1.d',\n",
       " 'emacs25',\n",
       " 'ssl',\n",
       " 'dbus-1',\n",
       " 'rmt',\n",
       " 'deluser.conf',\n",
       " 'apt',\n",
       " 'gshadow-',\n",
       " 'iscsi',\n",
       " 'perl',\n",
       " 'ethertypes',\n",
       " 'libpaper.d',\n",
       " 'ghostscript',\n",
       " 'popularity-contest.conf',\n",
       " 'fonts',\n",
       " 'dpkg',\n",
       " 'cron.monthly',\n",
       " 'pm',\n",
       " 'dhcp',\n",
       " 'hosts.deny',\n",
       " 'rsyslog.d',\n",
       " 'subgid',\n",
       " 'nanorc',\n",
       " 'machine-id',\n",
       " 'overlayroot.local.conf',\n",
       " 'udev',\n",
       " 'ec2_version',\n",
       " 'papersize',\n",
       " 'rc5.d',\n",
       " 'mime.types',\n",
       " 'screenrc',\n",
       " 'timezone',\n",
       " 'emacs',\n",
       " 'cron.weekly',\n",
       " 'debconf.conf',\n",
       " 'logrotate.d',\n",
       " 'login.defs',\n",
       " 'legal',\n",
       " 'logrotate.conf',\n",
       " 'subgid-',\n",
       " 'profile.d',\n",
       " 'wgetrc',\n",
       " 'ca-certificates',\n",
       " 'fstab',\n",
       " 'ld.so.cache',\n",
       " 'network',\n",
       " 'grub.d',\n",
       " 'sudoers',\n",
       " 'hdparm.conf',\n",
       " 'hosts',\n",
       " 'profile',\n",
       " 'debian_version',\n",
       " 'gss',\n",
       " 'gai.conf',\n",
       " 'modprobe.d',\n",
       " 'byobu',\n",
       " 'apparmor.d',\n",
       " 'ucf.conf',\n",
       " 'rc0.d']"
      ]
     },
     "execution_count": 72,
     "metadata": {},
     "output_type": "execute_result"
    }
   ],
   "source": [
    "listdir('/etc/')"
   ]
  },
  {
   "cell_type": "code",
   "execution_count": 73,
   "metadata": {},
   "outputs": [],
   "source": [
    "# from os import *     # NEVER EVER EVER EVER DO THIS!!!!!"
   ]
  },
  {
   "cell_type": "code",
   "execution_count": null,
   "metadata": {},
   "outputs": [],
   "source": [
    "import time\n",
    "start_time = time.time()\n",
    "import os\n",
    "def loopdaloop(location):\n",
    "    filedict = {}\n",
    "    for filename in os.listdir(location):\n",
    "        count = 0\n",
    "        if 'txt' in filename:\n",
    "            currentfile = open(filename, 'r')\n",
    "            for line in filename:\n",
    "                count += len(line)\n",
    "                filedict[filename] = (count)\n",
    "    return filedict\n",
    "    \n",
    "def getinput():\n",
    "    what_file = input(\"what directory to look at? \")\n",
    "    return what_file\n",
    "\n",
    "def main():\n",
    "    results = loopdaloop(getinput())\n",
    "    return results\n",
    "\n",
    "\n",
    "if __name__ == '__main__':   # am I being run interactively? If so, do this stuff\n",
    "    print()\n",
    "    for file, size in (main()).items():\n",
    "        print(f'The file {file} is {size} big')\n",
    "    print() \n",
    "    print(f\"My program took, {time.time() - start_time}, to run\")"
   ]
  },
  {
   "cell_type": "code",
   "execution_count": 74,
   "metadata": {},
   "outputs": [
    {
     "data": {
      "text/plain": [
       "'__main__'"
      ]
     },
     "execution_count": 74,
     "metadata": {},
     "output_type": "execute_result"
    }
   ],
   "source": [
    "__name__"
   ]
  },
  {
   "cell_type": "code",
   "execution_count": null,
   "metadata": {},
   "outputs": [],
   "source": [
    "import abcd    # inside of abcd, __name__ will be the string 'abcd'"
   ]
  },
  {
   "cell_type": "code",
   "execution_count": 75,
   "metadata": {},
   "outputs": [],
   "source": [
    "import os"
   ]
  },
  {
   "cell_type": "code",
   "execution_count": 76,
   "metadata": {},
   "outputs": [
    {
     "data": {
      "text/plain": [
       "'os'"
      ]
     },
     "execution_count": 76,
     "metadata": {},
     "output_type": "execute_result"
    }
   ],
   "source": [
    "os.__name__"
   ]
  },
  {
   "cell_type": "code",
   "execution_count": 77,
   "metadata": {},
   "outputs": [],
   "source": [
    "# JSON -- JavaScript Object Notation\n",
    "\n",
    "import json"
   ]
  },
  {
   "cell_type": "code",
   "execution_count": 78,
   "metadata": {},
   "outputs": [
    {
     "data": {
      "text/plain": [
       "{'a': 1, 'b': 2, 'c': 3, 'd': [10, 20, 30, 40]}"
      ]
     },
     "execution_count": 78,
     "metadata": {},
     "output_type": "execute_result"
    }
   ],
   "source": [
    "d = {'a':1, 'b':2, 'c':3, 'd':[10, 20, 30, 40]}\n",
    "d"
   ]
  },
  {
   "cell_type": "code",
   "execution_count": 79,
   "metadata": {},
   "outputs": [
    {
     "data": {
      "text/plain": [
       "'{\"a\": 1, \"b\": 2, \"c\": 3, \"d\": [10, 20, 30, 40]}'"
      ]
     },
     "execution_count": 79,
     "metadata": {},
     "output_type": "execute_result"
    }
   ],
   "source": [
    "# turn the dict into a JSON string\n",
    "json.dumps(d)"
   ]
  },
  {
   "cell_type": "code",
   "execution_count": 80,
   "metadata": {},
   "outputs": [],
   "source": [
    "# turn the dict into a JSON file \n",
    "with open('mydata.json', 'w') as f:\n",
    "    json.dump(d, f)"
   ]
  },
  {
   "cell_type": "code",
   "execution_count": 81,
   "metadata": {},
   "outputs": [
    {
     "name": "stdout",
     "output_type": "stream",
     "text": [
      "{\"a\": 1, \"b\": 2, \"c\": 3, \"d\": [10, 20, 30, 40]}"
     ]
    }
   ],
   "source": [
    "%cat mydata.json"
   ]
  },
  {
   "cell_type": "code",
   "execution_count": 82,
   "metadata": {},
   "outputs": [
    {
     "data": {
      "text/plain": [
       "{'a': 1, 'b': 2, 'c': 3, 'd': [10, 20, 30, 40]}"
      ]
     },
     "execution_count": 82,
     "metadata": {},
     "output_type": "execute_result"
    }
   ],
   "source": [
    "json.load(open('mydata.json'))"
   ]
  },
  {
   "cell_type": "code",
   "execution_count": 83,
   "metadata": {},
   "outputs": [
    {
     "data": {
      "text/plain": [
       "\"{'a': 1, 'b': 2, 'c': 3, 'd': [10, 20, 30, 40]}\""
      ]
     },
     "execution_count": 83,
     "metadata": {},
     "output_type": "execute_result"
    }
   ],
   "source": [
    "str(d)"
   ]
  },
  {
   "cell_type": "code",
   "execution_count": 84,
   "metadata": {},
   "outputs": [
    {
     "data": {
      "text/plain": [
       "'[{\"a\": 1, \"b\": 2}, {\"c\": 3, \"d\": 4}]'"
      ]
     },
     "execution_count": 84,
     "metadata": {},
     "output_type": "execute_result"
    }
   ],
   "source": [
    "d1 = {'a':1, 'b':2}\n",
    "d2 = {'c':3, 'd':4}\n",
    "\n",
    "mylist = [d1, d2]\n",
    "\n",
    "json.dumps(mylist)  # turn our object (mylist) into a string"
   ]
  },
  {
   "cell_type": "code",
   "execution_count": 85,
   "metadata": {},
   "outputs": [
    {
     "data": {
      "text/plain": [
       "[{'a': 1, 'b': 2}, {'c': 3, 'd': 4}]"
      ]
     },
     "execution_count": 85,
     "metadata": {},
     "output_type": "execute_result"
    }
   ],
   "source": [
    "s = json.dumps(mylist)\n",
    "\n",
    "json.loads(s)  # turn our string (s) into Python objects"
   ]
  },
  {
   "cell_type": "code",
   "execution_count": null,
   "metadata": {},
   "outputs": [],
   "source": [
    "# serialization -- taking an object, and turning it into a string \n",
    "# so that we can retrieve the data later (after being stored on disk)\n",
    "\n",
    "# load - read from a JSON-encoded file into Python objects\n",
    "# dump - write Python objects into a JSON-encoded file\n",
    "\n",
    "# loads - read from a JSON-encoded string into Python objects\n",
    "# dumps - write Python objects into a JSON-encoded file\n",
    "\n",
    "\n",
    "mylist = [10, 20, 30]\n",
    "\n",
    "json.dump(mylist, f)\n",
    "\n",
    "----\n",
    "\n",
    "mylist = json.load(f)"
   ]
  },
  {
   "cell_type": "code",
   "execution_count": 87,
   "metadata": {},
   "outputs": [
    {
     "name": "stdout",
     "output_type": "stream",
     "text": [
      "Requirement already satisfied: requests in /usr/lib/python3/dist-packages (2.18.4)\r\n"
     ]
    }
   ],
   "source": [
    "!pip3 install --user requests"
   ]
  },
  {
   "cell_type": "code",
   "execution_count": 89,
   "metadata": {},
   "outputs": [],
   "source": [
    "# program that pretends to be a Web browser\n",
    "# sending a GET requests to the server\n",
    "# retrieving the contents\n",
    "# making them available\n",
    "\n",
    "# requests package -- super easy way to work with HTTP from within Python\n",
    "import requests\n",
    "r = requests.get('https://cisco.com/')"
   ]
  },
  {
   "cell_type": "code",
   "execution_count": 90,
   "metadata": {},
   "outputs": [
    {
     "data": {
      "text/plain": [
       "<Response [200]>"
      ]
     },
     "execution_count": 90,
     "metadata": {},
     "output_type": "execute_result"
    }
   ],
   "source": [
    "r"
   ]
  },
  {
   "cell_type": "code",
   "execution_count": 91,
   "metadata": {
    "collapsed": true
   },
   "outputs": [
    {
     "data": {
      "text/plain": [
       "b'\\n\\n\\n\\n\\n\\n\\n\\n\\n\\n\\n\\n<!DOCTYPE html>\\n<html xmlns:fb=\"//www.facebook.com/2008/fbml\" xmlns:og=\"//opengraphprotocol.org/schema/\" lang=\"en\" xml:lang=\"en\"  class=\"no-touch no-js\">\\n\\n\\n\\n\\n\\n\\n\\n\\n\\n\\n\\n\\n\\n<head>\\n    \\n\\n\\n\\n\\n\\n\\n\\n\\n\\n\\n<script type=\"text/javascript\" src=\"/c/dam/cdc/t/ctm-core.js\"></script>\\n<script>\\n    window[\\'adrum-start-time\\'] = new Date().getTime();\\n    window.launchScriptUrl = \"//assets.adobedtm.com/bdb70ff75403/bbce30d3515c/launch-ce42783f3470.min.js\" ;\\n</script>\\n<script type=\"text/javascript\" src=\"/c/dam/cdc/j/launch-init.js\"></script>\\n\\n\\n\\n\\n\\n\\n\\n    \\n\\n\\n\\n\\n\\n\\n\\n\\r\\n\\r\\n      <style id=\"targetable-styles\">\\r\\n        .targetable, .mboxDefault, .targetable.hidden { visibility:hidden; }\\r\\n        .targetable { position:relative; }\\r\\n        .targetable.spinner > :not(.spinner-box) { opacity: 0 !important; }\\r\\n        .targetable.spinner > div.spinner-box { position: absolute; top: 50%; left: 50%;transform: translateX(-50%) translateY(-50%); }\\r\\n        div.spinner-box > div.spinner-wheel { position:relative; visibility:visible; width:4em; height:4em; border-radius:100%; border:.2em solid #cccccc; border-left-color:#049fd9; -webkit-animation: load 1.1s infinite linear; animation: load 1.1s infinite linear; } @-webkit-keyframes load{ 0%{ -ms-transform: rotate(7deg); -webkit-transform: rotate(7deg); transform: rotate(7deg); } 100%{ -ms-transform: rotate(360deg); -webkit-transform: rotate(360deg); transform: rotate(360deg); } } @keyframes load{ 0%{ -ms-transform: rotate(7deg); -webkit-transform: rotate(7deg); transform: rotate(7deg); } 100%{ -ms-transform: rotate(360deg); -webkit-transform: rotate(360deg); transform: rotate(360deg); } }\\r\\n        .targetable.obscured { visibility:visible; opacity:.1; transition: opacity 2s ease-in-out; -moz-transition: opacity 2s ease-in-out; -webkit-transition: opacity 2s ease-in-out; filter: blur(5px); -webkit-filter: blur(5px); -moz-filter: blur(5px); -o-filter: blur(5px); -ms-filter: blur(5px); filter: url(\\'data:image/svg+xml;utf9,<svg%20version=\\\\\"1.1\\\\\"%20xmlns=\\\\\"http://www.w3.org/2000/svg\\\\\"><filter%20id=\\\\\"blur\\\\\"><feGaussianBlur%20stdDeviation=\\\\\"3\\\\\"%20/></filter></svg>#blur\\'); filter: progid: DXImageTransform.Microsoft.Blur(PixelRadius=\\'5\\'); -webkit-transition: 2s -webkit-filter linear; -moz-transition: 2s -moz-filter linear; -o-transition: 2s -o-filter linear; }\\r\\n      </style>\\r\\n    \\r\\n\\r\\n    <!--\\r\\n      sCiscoPersonalizationEnabled:Enabled on This Page\\r\\n      bCiscoPersonalizationEnabled:true\\r\\n      sCiscoPersonalizationEnabledOn:/content/en/us/index\\r\\n    -->\\r\\n\\r\\n    <script type=\"text/javascript\" src=\"/c/dam/cdc/j/targeter-bundle_min.js\"></script>\\r\\n\\t  <script type=\"text/javascript\">\\r\\n      Targeter.load({\\r\\n                \\'delayForData\\': true,\\n        \\'safetyTimeout\\': \\'4000\\',\\n        \\'async\\': true,\\n        \\'loadLocale\\': false,\\n        \\'loadCps\\': true,\\n        \\'loadVps\\': true,\\n        \\'hideMethod\\': \\'elements\\',\\n        \\'loadProfound\\': true,\\n        \\'entity\\': \\'{\"id\":\"1531236473363629\",\"categoryId\":\"HomePages,HOME\"}\\',\\n        \\'loadBlueKai\\': true,\\n\\r\\n\\t    });\\r\\n    </script>\\r\\n\\r\\n\\r\\n\\n\\n    \\n    \\n\\n\\n\\n\\n\\n\\n\\n \\n    <title>Cisco - Global Home Page</title>\\n    \\n    \\n\\n    \\n    \\n    \\n\\n\\n\\n\\n\\n\\n\\n\\n\\n\\n\\n\\n\\n\\n\\n    <script type=\"application/ld+json\">\\n[{\\n  \"@context\": \"https://www.schema.org\",\\n  \"@type\": \"Corporation\",\\n  \"name\": \"Cisco - Global Home Page\",\\n  \"url\": \"https://www.cisco.com\",\\n  \"logo\": \"https://www.cisco.com/web/fw/i/logo-open-graph.gif\",\\n  \"description\": \"Cisco is the worldwide leader in IT, networking, and cybersecurity solutions. We help companies of all sizes transform how people connect, communicate, and collaborate.\"\\n},\\n{\\n  \"@context\": \"https://www.schema.org\",\\n  \"@type\": \"WebSite\",\\n  \"name\": \"Cisco\",\\n  \"alternateName\": \"Cisco - Global Home Page\",\\n  \"url\": \"https://www.cisco.com\",\\n\"publisher\": {\"@type\": \"Corporation\",\\n\"name\": \"Cisco\"},\\n\"potentialAction\": {\"@type\":\"SearchAction\",\\n\"target\":\"https://search.cisco.com/search?query={search_term}&locale=enUS&source=ggl_sitelinks_searchbox\",\\n\"query-input\":\"required name=search_term\"}\\n}]\\n</script>\\n\\n    <meta http-equiv=\"Content-type\" content=\"text/html;charset=UTF-8\"  />\\n    <meta name=\"description\" content=\"Cisco is the worldwide leader in IT, networking, and cybersecurity solutions. We help companies of all sizes transform how people connect, communicate, and collaborate.\"  />\\n    <meta name=\"title\" content=\"Cisco - Global Home Page\"  />\\n    <meta name=\"templateName\" content=\"responsive_homepage\"  />\\n    <meta property=\"fb:app_id\" content=\"156494687694418\"  />\\n    <meta name=\"ioContentSource\" content=\"WEM\"  />\\n    <meta name=\"concept\" content=\"Welcome to Cisco\"  />\\n    <meta name=\"docType\" content=\"Cisco.com Default Home\"  />\\n    <meta name=\"iaPath\" content=\"cisco.com#Home Pages\"  />\\n    <meta name=\"contentType\" content=\"cisco.com#US#preSales\"  />\\n    <meta name=\"locale\" content=\"US\"  />\\n    <meta name=\"language\" content=\"en\"  />\\n    <meta name=\"country\" content=\"US\"  />\\n    <meta name=\"date\" content=\"Thu Mar 19 08:55:06 PDT 2020\"  />\\n    <meta name=\"accessLevel\" content=\"Customer\"  />\\n    <meta name=\"accessLevel\" content=\"Guest\"  />\\n    <meta name=\"accessLevel\" content=\"Partner\"  />\\n    <meta name=\"entitlementExpression\" content=\"contains( &quot;0,1,2,3,4,7&quot; , $profileField[3] )\"  />\\n    <meta property=\"og:site_name\" content=\"Cisco\"  />\\n    <meta property=\"og:type\" content=\"website\"  />\\n    <meta property=\"og:title\" content=\"Cisco - Global Home Page\"  />\\n    <meta property=\"og:description\" content=\"Cisco is the worldwide leader in IT, networking, and cybersecurity solutions. We help companies of all sizes transform how people connect, communicate, and collaborate.\"  />\\n    <meta property=\"og:image\" content=\"https://www.cisco.com/web/fw/i/logo-open-graph.gif\"  />\\n    <meta property=\"og:url\" content=\"https://www.cisco.com/c/en/us/index.html\"  />\\n    <link rel=\"canonical\" href=\"https://www.cisco.com\"/>\\n\\t<link rel=\"alternate\" hreflang=\"x-default\" href=\"https://www.cisco.com\"/><link rel=\"alternate\" hreflang=\"ja-jp\" href=\"https://www.cisco.com/c/ja_jp/index.html\"/>\\n<link rel=\"alternate\" hreflang=\"uk-ua\" href=\"https://www.cisco.com/c/uk_ua/index.html\"/>\\n<link rel=\"alternate\" hreflang=\"en-mt\" href=\"https://www.cisco.com/c/en_mt/index.html\"/>\\n<link rel=\"alternate\" hreflang=\"pt-br\" href=\"https://www.cisco.com/c/pt_br/index.html\"/>\\n<link rel=\"alternate\" hreflang=\"zh-tw\" href=\"https://www.cisco.com/c/zh_tw/index.html\"/>\\n<link rel=\"alternate\" hreflang=\"ru-ru\" href=\"https://www.cisco.com/c/ru_ru/index.html\"/>\\n<link rel=\"alternate\" hreflang=\"sl-si\" href=\"https://www.cisco.com/c/sl_si/index.html\"/>\\n<link rel=\"alternate\" hreflang=\"hr-hr\" href=\"https://www.cisco.com/c/hr_hr/index.html\"/>\\n<link rel=\"alternate\" hreflang=\"cs-cz\" href=\"https://www.cisco.com/c/cs_cz/index.html\"/>\\n<link rel=\"alternate\" hreflang=\"az-az\" href=\"https://www.cisco.com/c/az_az/index.html\"/>\\n<link rel=\"alternate\" hreflang=\"es-ar\" href=\"https://www.cisco.com/c/es_ar/index.html\"/>\\n<link rel=\"alternate\" hreflang=\"de-ch\" href=\"https://www.cisco.com/c/de_ch/index.html\"/>\\n<link rel=\"alternate\" hreflang=\"bs-ba\" href=\"https://www.cisco.com/c/bs_ba/index.html\"/>\\n<link rel=\"alternate\" hreflang=\"da-dk\" href=\"https://www.cisco.com/c/da_dk/index.html\"/>\\n<link rel=\"alternate\" hreflang=\"de-de\" href=\"https://www.cisco.com/c/de_de/index.html\"/>\\n<link rel=\"alternate\" hreflang=\"sv-se\" href=\"https://www.cisco.com/c/sv_se/index.html\"/>\\n<link rel=\"alternate\" hreflang=\"ar-eg\" href=\"https://www.cisco.com/c/ar_eg/index.html\"/>\\n<link rel=\"alternate\" hreflang=\"ar-sa\" href=\"https://www.cisco.com/c/ar_sa/index.html\"/>\\n<link rel=\"alternate\" hreflang=\"es-bo\" href=\"https://www.cisco.com/c/es_mx/index.html\"/>\\n<link rel=\"alternate\" hreflang=\"no-no\" href=\"https://www.cisco.com/c/no_no/index.html\"/>\\n<link rel=\"alternate\" hreflang=\"ko-kr\" href=\"https://www.cisco.com/c/ko_kr/index.html\"/>\\n<link rel=\"alternate\" hreflang=\"mk-mk\" href=\"https://www.cisco.com/c/mk_mk/index.html\"/>\\n<link rel=\"alternate\" hreflang=\"es-pe\" href=\"https://www.cisco.com/c/es_pe/index.html\"/>\\n<link rel=\"alternate\" hreflang=\"es-hn\" href=\"https://www.cisco.com/c/es_mx/index.html\"/>\\n<link rel=\"alternate\" hreflang=\"lv-lv\" href=\"https://www.cisco.com/c/lv_lv/index.html\"/>\\n<link rel=\"alternate\" hreflang=\"es-pa\" href=\"https://www.cisco.com/c/es_pa/index.html\"/>\\n<link rel=\"alternate\" hreflang=\"en-sa\" href=\"https://www.cisco.com/c/en_sa/index.html\"/>\\n<link rel=\"alternate\" hreflang=\"nl-nl\" href=\"https://www.cisco.com/c/nl_nl/index.html\"/>\\n<link rel=\"alternate\" hreflang=\"ro-ro\" href=\"https://www.cisco.com/c/ro_ro/index.html\"/>\\n<link rel=\"alternate\" hreflang=\"en-sg\" href=\"https://www.cisco.com/c/en_sg/index.html\"/>\\n<link rel=\"alternate\" hreflang=\"es-pr\" href=\"https://www.cisco.com/c/es_mx/index.html\"/>\\n<link rel=\"alternate\" hreflang=\"fr-fr\" href=\"https://www.cisco.com/c/fr_fr/index.html\"/>\\n<link rel=\"alternate\" hreflang=\"ru-kz\" href=\"https://www.cisco.com/c/ru_kz/index.html\"/>\\n<link rel=\"alternate\" hreflang=\"zh-cn\" href=\"https://www.cisco.com/c/zh_cn/index.html\"/>\\n<link rel=\"alternate\" hreflang=\"pt-pt\" href=\"https://www.cisco.com/c/pt_pt/index.html\"/>\\n<link rel=\"alternate\" hreflang=\"es-py\" href=\"https://www.cisco.com/c/es_mx/index.html\"/>\\n<link rel=\"alternate\" hreflang=\"sr-rs\" href=\"https://www.cisco.com/c/sr_rs/index.html\"/>\\n<link rel=\"alternate\" hreflang=\"es-gt\" href=\"https://www.cisco.com/c/es_mx/index.html\"/>\\n<link rel=\"alternate\" hreflang=\"en-ae\" href=\"https://www.cisco.com/c/en_ae/index.html\"/>\\n<link rel=\"alternate\" hreflang=\"de-at\" href=\"https://www.cisco.com/c/de_at/index.html\"/>\\n<link rel=\"alternate\" hreflang=\"es-ec\" href=\"https://www.cisco.com/c/es_ec/index.html\"/>\\n<link rel=\"alternate\" hreflang=\"en-in\" href=\"https://www.cisco.com/c/en_in/index.html\"/>\\n<link rel=\"alternate\" hreflang=\"et-ee\" href=\"https://www.cisco.com/c/et_ee/index.html\"/>\\n<link rel=\"alternate\" hreflang=\"en-il\" href=\"https://www.cisco.com/c/en_il/index.html\"/>\\n<link rel=\"alternate\" hreflang=\"en-be\" href=\"https://www.cisco.com/c/en_be/index.html\"/>\\n<link rel=\"alternate\" hreflang=\"en-qa\" href=\"https://www.cisco.com/c/en_qa/index.html\"/>\\n<link rel=\"alternate\" hreflang=\"es-ve\" href=\"https://www.cisco.com/c/es_mx/index.html\"/>\\n<link rel=\"alternate\" hreflang=\"en-id\" href=\"https://www.cisco.com/c/en_id/index.html\"/>\\n<link rel=\"alternate\" hreflang=\"es-es\" href=\"https://www.cisco.com/c/es_es/index.html\"/>\\n<link rel=\"alternate\" hreflang=\"en-au\" href=\"https://www.cisco.com/c/en_au/index.html\"/>\\n<link rel=\"alternate\" hreflang=\"es-ni\" href=\"https://www.cisco.com/c/es_mx/index.html\"/>\\n<link rel=\"alternate\" hreflang=\"ru-ua\" href=\"https://www.cisco.com/c/ru_ua/index.html\"/>\\n<link rel=\"alternate\" hreflang=\"en-ph\" href=\"https://www.cisco.com/c/en_ph/index.html\"/>\\n<link rel=\"alternate\" hreflang=\"en-hk\" href=\"https://www.cisco.com/c/en_hk/index.html\"/>\\n<link rel=\"alternate\" hreflang=\"es-mx\" href=\"https://www.cisco.com/c/es_mx/index.html\"/>\\n<link rel=\"alternate\" hreflang=\"en-za\" href=\"https://www.cisco.com/c/en_za/index.html\"/>\\n<link rel=\"alternate\" hreflang=\"en-ca\" href=\"https://www.cisco.com/c/en_ca/index.html\"/>\\n<link rel=\"alternate\" hreflang=\"ar-ae\" href=\"https://www.cisco.com/c/ar_ae/index.html\"/>\\n<link rel=\"alternate\" hreflang=\"pl-pl\" href=\"https://www.cisco.com/c/pl_pl/index.html\"/>\\n<link rel=\"alternate\" hreflang=\"fr-dz\" href=\"https://www.cisco.com/c/fr_dz/index.html\"/>\\n<link rel=\"alternate\" hreflang=\"es-uy\" href=\"https://www.cisco.com/c/es_mx/index.html\"/>\\n<link rel=\"alternate\" hreflang=\"es-bz\" href=\"https://www.cisco.com/c/es_bz/index.html\"/>\\n<link rel=\"alternate\" hreflang=\"lt-lt\" href=\"https://www.cisco.com/c/lt_lt/index.html\"/>\\n<link rel=\"alternate\" hreflang=\"fr-be\" href=\"https://www.cisco.com/c/fr_be/index.html\"/>\\n<link rel=\"alternate\" hreflang=\"th-th\" href=\"https://www.cisco.com/c/th_th/index.html\"/>\\n<link rel=\"alternate\" hreflang=\"en-gb\" href=\"https://www.cisco.com/c/en_uk/index.html\"/>\\n<link rel=\"alternate\" hreflang=\"it-it\" href=\"https://www.cisco.com/c/it_it/index.html\"/>\\n<link rel=\"alternate\" hreflang=\"es-cl\" href=\"https://www.cisco.com/c/es_cl/index.html\"/>\\n<link rel=\"alternate\" hreflang=\"es-co\" href=\"https://www.cisco.com/c/es_co/index.html\"/>\\n<link rel=\"alternate\" hreflang=\"en-cy\" href=\"https://www.cisco.com/c/en_cy/index.html\"/>\\n<link rel=\"alternate\" hreflang=\"el-gr\" href=\"https://www.cisco.com/c/el_gr/index.html\"/>\\n<link rel=\"alternate\" hreflang=\"sk-sk\" href=\"https://www.cisco.com/c/sk_sk/index.html\"/>\\n<link rel=\"alternate\" hreflang=\"en-eg\" href=\"https://www.cisco.com/c/en_eg/index.html\"/>\\n<link rel=\"alternate\" hreflang=\"fr-ca\" href=\"https://www.cisco.com/c/fr_ca/index.html\"/>\\n<link rel=\"alternate\" hreflang=\"tr-tr\" href=\"https://www.cisco.com/c/tr_tr/index.html\"/>\\n<link rel=\"alternate\" hreflang=\"hu-hu\" href=\"https://www.cisco.com/c/hu_hu/index.html\"/>\\n<link rel=\"alternate\" hreflang=\"en-ng\" href=\"https://www.cisco.com/c/en_ng/index.html\"/>\\n<link rel=\"alternate\" hreflang=\"nl-be\" href=\"https://www.cisco.com/c/nl_be/index.html\"/>\\n<link rel=\"alternate\" hreflang=\"ar-qa\" href=\"https://www.cisco.com/c/ar_qa/index.html\"/>\\n<link rel=\"alternate\" hreflang=\"en-my\" href=\"https://www.cisco.com/c/en_my/index.html\"/>\\n<link rel=\"alternate\" hreflang=\"fr-ch\" href=\"https://www.cisco.com/c/fr_ch/index.html\"/>\\n<link rel=\"alternate\" hreflang=\"es-cr\" href=\"https://www.cisco.com/c/es_cr/index.html\"/>\\n<link rel=\"alternate\" hreflang=\"fi-fi\" href=\"https://www.cisco.com/c/fi_fi/index.html\"/>\\n<link rel=\"alternate\" hreflang=\"bg-bg\" href=\"https://www.cisco.com/c/bg_bg/index.html\"/>\\n<link rel=\"alternate\" hreflang=\"vi-vn\" href=\"https://www.cisco.com/c/vi_vn/index.html\"/>\\n<link rel=\"alternate\" hreflang=\"en-dz\" href=\"https://www.cisco.com/c/en_dz/index.html\"/>\\n<link rel=\"alternate\" hreflang=\"zh-hk\" href=\"https://www.cisco.com/c/zh_hk/index.html\"/>\\n<link rel=\"alternate\" hreflang=\"es-sv\" href=\"https://www.cisco.com/c/es_mx/index.html\"/>\\n<link rel=\"alternate\" hreflang=\"en-us\" href=\"https://www.cisco.com\"/>\\n\\n\\n\\n    \\n \\n\\n    <meta charset=\"utf-8\">\\n    <meta name=\"HandheldFriendly\" content=\"True\" />\\n    <meta name=\"MobileOptimized\" content=\"320\" />\\n    <meta name=\"viewport\" content=\"width=device-width, initial-scale=1.0\" />\\n    <meta http-equiv=\"cleartype\" content=\"on\">\\n\\n    \\n\\n    \\n\\n\\n\\n\\n\\n\\n\\n\\n\\n    <script type=\"text/javascript\" src=\"/etc.clientlibs/clientlibs/granite/jquery.min.js\"></script>\\n<script type=\"text/javascript\" src=\"/etc.clientlibs/clientlibs/granite/utils.min.js\"></script>\\n<script type=\"text/javascript\" src=\"/etc.clientlibs/clientlibs/granite/jquery/granite.min.js\"></script>\\n<script type=\"text/javascript\" src=\"/etc/clientlibs/foundation/jquery.min.js\"></script>\\n<script type=\"text/javascript\" src=\"/etc/clientlibs/foundation/shared.min.js\"></script>\\n<script type=\"text/javascript\" src=\"/etc.clientlibs/clientlibs/granite/lodash/modern.min.js\"></script>\\n<script type=\"text/javascript\" src=\"/etc/clientlibs/foundation/personalization/kernel.min.js\"></script>\\n<script type=\"text/javascript\">\\n    $CQ(function() {\\n        CQ_Analytics.SegmentMgr.loadSegments(\"\\\\/etc\\\\/segmentation\");\\n        CQ_Analytics.ClientContextUtils.init(\"\\\\/c\\\\/dnc\\\\/etc\\\\/clientcontext\\\\/default\", \"\\\\/content\\\\/en\\\\/us\\\\/index\");\\n\\n        \\n    });\\n</script>\\n\\n\\n\\n    <link rel=\"stylesheet\" href=\"/etc/designs/cdc/clientlibs/responsive/css/cisco-sans.min.css\" type=\"text/css\">\\n\\n\\n\\n    \\n\\n\\n\\n\\n\\n\\n\\n\\n    \\n\\n\\n\\n\\n\\n\\n\\n\\n\\n  \\n\\n\\n\\n\\n\\n\\n\\n\\n\\n\\n\\n    <!-- Search META tags -->\\n    <meta name=\"robots\" content=\"noodp\" />\\n\\n    <!-- BING Search Validation -->\\n    <meta name=\"msvalidate.01\" content=\"E92E7806156B3C869F3B8E2FBF802972\" />\\n\\n    <!-- Yandex Search Validation -->\\n    <meta name=\"yandex-verification\" content=\"d14288eb6e3058b1\" />\\n\\n    <!-- Baidu Search Validation more meta data-->\\n    <meta name=\"baidu-site-verification\" content=\"4IlrMkGw3Y\" />\\n\\n    <!--For Spotlight FB sharing-->\\n    <link rel=\"image_src\" type=\"image/jpeg\" href=\"//content.ogilvy.edgesuite.net/showcase/facebook_share_icon.jpg\"/>\\n\\n    <!--Google https Search Validation more meta data-->\\n    <meta name=\"google-site-verification\" content=\"9MlQU9MMQ1jHLMUkONKe6QzZ-ZIGRv0BCD1_rY1Zdmc\" />\\n\\n    <!-- .Search META tags -->\\n\\n<meta http-equiv=\"content-language\" content=\"en-us\">\\n\\n\\n<!-- app indexing -->\\n<link rel=\"alternate\" href=\"android-app://com.cisco.androidcisco/cisco.com/Home\"/>\\n<link rel=\"alternate\" href=\"ios-app://375704031/cisco.com/Home\"/>\\n<!-- /app indexing -->\\n\\n    <script type=\"text/javascript\" src=\"/etc/designs/cdc/clientlibs/responsive/js/foundation.min.js\"></script>\\n\\n    <link rel=\"stylesheet\" href=\"/etc/designs/cdc/clientlibs/responsive/css/homepage.min.css\" type=\"text/css\">\\n\\n    \\n\\n\\n\\n\\n\\n\\n\\n\\n\\n\\n    \\n\\n\\n\\n\\n\\n\\n\\n\\n\\n<script>\\n    cdc.wcAncillaryAssetAllocator.init([\\'cdc-search\\', \\'cdc-nav\\'], \\'en/us\\', true, false, true);\\n</script>\\n\\n    <script>\\n        sessionStorage.setItem(\"logOutIntermediateMessage\", \\'You are being logged out.\\');\\n    </script>\\n\\n    \\n    \\n\\n    \\n    <script type=\"application/ld+json\">\\n        [\\n           \\n            {\\n          \"@context\": \"http://www.schema.org\",                                                                        \\n          \"@type\": \"WebPage\",\\n          \"name\": \"Cisco - Global Home Page\",  \\t\\t  \\n          \"url\": \"https://www.cisco.com\",\\n          \"description\": \"Cisco is the worldwide leader in IT, networking, and cybersecurity solutions. We help companies of all sizes transform how people connect, communicate, and collaborate.\",\\n          \"publisher\": {\\n              \"@type\": \"Corporation\",\\n                 \"name\": \"Cisco\"\\n            }\\n        }]\\n    </script>\\n    \\n</head>\\n\\n<body id=\"wcq\" class=\"\\n\\n\\n\\n\\n\\n\\n\\n\\nfw-res cdc-homepage &nbsp; cdc-transform\">\\n    \\n    \\n\\n\\n\\n\\n\\n\\n\\n\\n\\n<div id=\"fw-skiplinks\">\\n    <ul class=\"container\">\\n        <li><a id=\"skiplink-content\" href=\"#fw-content\">Skip to content</a></li>\\n        \\n        <li><a id=\"skiplink-footer\" href=\"#fw-footer\" class=\"last\">Skip to footer</a></li>\\n    </ul>\\n</div>\\n\\n    \\n\\n\\n\\n\\n\\n\\n\\n\\n\\n\\n\\n\\n\\n\\n\\n\\n\\n\\n\\n\\n\\n\\n\\n\\n\\n\\n\\n\\n<script type=\"text/javascript\">\\n    if (window.cdc === undefined) { window.cdc = {}; }\\n    if (cdc.cdcMasthead === undefined) { cdc.cdcMasthead = {}; }\\n    if (cdc.cdcMasthead.additional === undefined) { cdc.cdcMasthead.additional = {}; }\\n    cdc.cdcMasthead.additional.env = \\'prod\\';\\n    cdc.cdcMasthead.additional.linkSwaps = {accountUrl: \"//www.cisco.com/c/en/us/about/account.html\", registrationUrl: \"https://idreg.cloudapps.cisco.com/idreg/guestRegistration.do\", profileUrl: \"https://rpfa.cloudapps.cisco.com/rpfa/profile/profile_management.do\"};\\n</script>\\n\\n<header id=\"fwt-masthead\"\\n\\n\\n\\n\\n\\n\\n\\nclass=\"cdc no-nav-wc\" data-owner=\"ID\">\\n    <div id=\"fwt-banner\">\\n        <a id=\"fwt-logo\" title=\"Cisco.com Worldwide\" href=\"/c/en/us/index.html\" aria-labelledby=\"fwt-logo-title\">\\n\\n\\n\\n\\n\\n\\n\\n\\n\\n\\n            <svg xmlns=\"http://www.w3.org/2000/svg\" width=\"108\" height=\"57\" viewBox=\"0 0 108 57\" role=\"img\">\\n                <title id=\"fwt-logo-title\">Cisco.com Worldwide</title><defs><path d=\"M0 22.769a2.348 2.348 0 0 0 3.935 1.545c.434-.403.7-.955.744-1.545v-5.2a2.34 2.34 0 0 0-4.679 0v5.2\" id=\"bar_short\" class=\"bar\"></path><path d=\"M12.95 22.769a2.349 2.349 0 0 0 2.34 2.171 2.346 2.346 0 0 0 2.339-2.171V11.112a2.341 2.341 0 0 0-4.679 0V22.77\" id=\"bar_tall\" class=\"bar\"></path><path d=\"M25.832 27.464a2.345 2.345 0 0 0 4.678 0V2.249a2.342 2.342 0 0 0-4.678 0v25.215\" id=\"bar_grande\" class=\"bar\"></path><path d=\"M24.026 56.277v-5.002l-.098.043a9.253 9.253 0 0 1-3.605.915 5.303 5.303 0 0 1-3.63-1.07 4.644 4.644 0 0 1-1.58-2.244 5.395 5.395 0 0 1-.106-3 4.6 4.6 0 0 1 1.609-2.566 4.823 4.823 0 0 1 2.528-1.09 8.332 8.332 0 0 1 4.774.895l.108.056v-5.03l-.228-.061a12.78 12.78 0 0 0-4.552-.596 10.534 10.534 0 0 0-4.065.93 9.29 9.29 0 0 0-3.329 2.572 10.014 10.014 0 0 0-.182 12.18 9.546 9.546 0 0 0 5.292 3.403c2.211.538 4.528.456 6.697-.234l.367-.101\" id=\"cisco_c\"></path></defs><g fill=\"#00bceb\" fill-rule=\"evenodd\"><use href=\"#cisco_c\"/><use href=\"#cisco_c\" x=\"49.5\"/><path d=\"M41.69 52.125l-.019 4.308.315.054c.989.185 1.987.313 2.99.385a18.1 18.1 0 0 0 2.642.051c.842-.06 1.675-.218 2.48-.468a6.862 6.862 0 0 0 2.573-1.371 5.19 5.19 0 0 0 1.498-2.148 5.912 5.912 0 0 0-.03-4.324 4.852 4.852 0 0 0-1.343-1.862 5.568 5.568 0 0 0-1.97-1.147l-3.25-1.206a1.742 1.742 0 0 1-.887-.845 1.107 1.107 0 0 1 .036-.986 1.29 1.29 0 0 1 .217-.291 1.75 1.75 0 0 1 .48-.347c.363-.18.755-.293 1.158-.337a6.76 6.76 0 0 1 2.072.022c.81.088 1.613.231 2.402.43l.168.037v-3.974l-.31-.067a21.14 21.14 0 0 0-2.444-.435 12.545 12.545 0 0 0-3.213-.014 6.945 6.945 0 0 0-3.699 1.488 4.908 4.908 0 0 0-1.58 2.178 5.984 5.984 0 0 0-.003 4.05c.242.65.63 1.237 1.136 1.714.437.422.932.78 1.47 1.065.708.38 1.458.675 2.235.878.257.077.512.158.766.243l.385.141.11.045c.38.136.726.35 1.018.628.202.19.358.423.455.683.06.237.061.485.003.723a1.536 1.536 0 0 1-.744.892 3.691 3.691 0 0 1-1.239.387 9 9 0 0 1-1.92.097 21.973 21.973 0 0 1-2.507-.334c-.433-.09-.864-.19-1.291-.303l-.16-.04zM30.546 56.607h4.73V37.846h-4.73zM85.305 43.386a4.934 4.934 0 1 1 6.157 7.711 4.934 4.934 0 0 1-6.157-7.71m-6.867 3.848A9.87 9.87 0 0 0 90.44 56.72a9.629 9.629 0 0 0 3.157-17.729 9.934 9.934 0 0 0-15.16 8.244\"></path><use href=\"#bar_short\" x=\"0\"/><use href=\"#bar_tall\" x=\"0\"/><use href=\"#bar_grande\" x=\"0\"/><use href=\"#bar_tall\" x=\"25.875\"/><use href=\"#bar_short\" x=\"51.75\"/><use href=\"#bar_tall\" x=\"51.75\"/><use href=\"#bar_grande\" x=\"51.75\"/><use href=\"#bar_tall\" x=\"77.625\"/><use href=\"#bar_short\" x=\"103.375\"/></g>\\n            </svg>\\n\\n        </a>\\n\\n\\n\\n\\n\\n\\n\\n\\n\\n\\n<div id=\"fwt-cornerstone\">\\n\\n\\n\\n\\n\\n\\n\\n\\n\\n\\n        <button id=\"fwt-nav-button\" aria-labelledby=\"fwt-nav-button-label\" aria-haspopup=\"true\" aria-expanded=\"false\">\\n            <div>\\n                <span></span>\\n                <span></span>\\n                <span></span>\\n            </div>\\n            <div class=\"nav-label active\" id=\"fwt-nav-button-label\">MENU</div>\\n            <div class=\"nav-label\" id=\"fwt-nav-button-close-label\">CLOSE</div>\\n        </button>\\n<slot name=\"masthead-title\">\\n    <div id=\"fwt-sitearea-buttons\">\\n        <button type=\"button\" name=\"Products\" role=\"tab\" disabled aria-controls=\"Products-tab\" aria-haspopup=\"true\" aria-selected=\"false\">Products</button>\\n        <button type=\"button\" name=\"Support\" role=\"tab\" disabled aria-controls=\"Support-tab\" aria-haspopup=\"true\" aria-selected=\"false\">Support</button>\\n        <button type=\"button\" name=\"Partners\" role=\"tab\" disabled aria-controls=\"Partners-tab\" aria-haspopup=\"true\" aria-selected=\"false\">Partners</button>\\n        <button type=\"button\" name=\"fwt-nav-button\" disabled aria-haspopup=\"true\" aria-expanded=\"false\">More<span></span></button>\\n    </div>\\n</slot>\\n</div>\\n\\n        <div id=\"fwt-utilities\">\\n\\n\\n\\n\\n\\n\\n\\n\\n\\n\\n            <button id=\"fwt-search-button\" disabled=\"disabled\" tabindex=\"1\" aria-label=\"Search\" aria-haspopup=\"true\" aria-expanded=\"false\" title=\"Search\">\\n<svg xmlns=\"http://www.w3.org/2000/svg\" width=\"36\" height=\"36\" viewBox=\"0 0 36 36\" role=\"img\" aria-labelledby=\"fwt-search-button-icon-title\">\\n    <title id=\"fwt-search-button-icon-title\">Search</title>\\n    <g stroke=\"#4d4c4c\" stroke-width=\"2\" fill=\"none\" fill-rule=\"evenodd\" stroke-linejoin=\"round\">\\n        <path class=\"header-search\" d=\"M14.9950142,22.6292642 C13.9190142,22.1452642 12.9100142,21.4612642 12.0260142,20.5772642 C8.12001418,16.6712642 8.12001418,10.3392642 12.0260142,6.43426418 C15.9320142,2.52826418 22.2640142,2.52826418 26.1690142,6.43426418 C30.0750142,10.3392642 30.0750142,16.6712642 26.1690142,20.5772642 C24.2450142,22.5012642 21.6200142,23.4612642 19.0980142,23.4892642 L19.0980142,34.6902642\" id=\"Stroke-1\" transform=\"translate(19.097514, 19.097514) rotate(-45.000000) translate(-19.097514, -19.097514)\"></path>\\n    </g>\\n</svg>\\n            </button>\\n<slot name=\"masthead-utilities\"></slot>\\n\\n            <button id=\"fwt-profile-button\" class=\"ellipsis-short ellipsis-medium\" aria-haspopup=\"true\" aria-expanded=\"false\"  aria-labelledby=\"fwt-profile-button-loggedout-title\" title=\"Log In\">\\n                <svg xmlns=\"http://www.w3.org/2000/svg\" width=\"36\" height=\"36\" viewBox=\"0 0 36 36\" id=\"fwt-profile-button-loggedout\" role=\"img\" >\\n                    <title id=\"fwt-profile-button-loggedout-title\">Log In</title>\\n                    <g fill=\"none\" fill-rule=\"evenodd\" stroke=\"#4d4c4c\" stroke-linecap=\"round\" stroke-linejoin=\"round\" stroke-width=\"2\">\\n                        <path d=\"M27.5 32.077V26.07c0-3.888-3.136-7.069-6.967-7.069h-4.566C12.135 19 9 22.181 9 26.07v4.006c0 .553.454 1.001.998 1.001H20.94M12 9.857C12 6.622 14.584 4 17.772 4c3.187 0 5.772 2.622 5.772 5.857 0 3.235-2.585 5.857-5.772 5.857-3.188 0-5.772-2.622-5.772-5.857z\"></path>\\n                    </g>\\n                </svg>\\n                <svg xmlns=\"http://www.w3.org/2000/svg\" width=\"36\" height=\"36\" viewBox=\"0 0 36 36\" id=\"fwt-profile-button-loggedin\" role=\"img\" >\\n                    <title id=\"fwt-profile-button-loggedin-title\">Log Out</title>\\n                    <g fill=\"none\" fill-rule=\"evenodd\">\\n                        <path stroke=\"#4d4c4c\" stroke-linecap=\"round\" stroke-linejoin=\"round\" stroke-width=\"2\" d=\"M22.857 31.36c-1.616.614-3.37.95-5.202.95C9.56 32.31 3 25.749 3 17.655S9.561 3 17.655 3 32.31 9.561 32.31 17.655c0 3.988-1.727 7.703-4.31 10.344\" x=\"0\" y=\"0\"></path>\\n                        <text fill=\"#007493\" font-family=\"CiscoSans, Arial, sans-serif\" font-weight=\"300\" font-size=\"16\" x=\"50%\" y=\"50%\" dy=\".35em\" text-anchor=\"middle\" id=\"fwt-initials\"> </text>\\n                    </g> \\n                </svg>\\n            </button>\\n\\n            <button id=\"fwt-language-button\" class=\"ellipsis-short ellipsis-medium\" aria-haspopup=\"true\" aria-expanded=\"false\" aria-labelledby=\"fwt-language-button-icon-title\" title=\"Choose Language Selection\">\\n                <svg xmlns=\"http://www.w3.org/2000/svg\" width=\"50\" height=\"36\" viewBox=\"0 0 50 36\" role=\"img\" >\\n                    <title id=\"fwt-language-button-icon-title\">Choose Language Selection</title>\\n                    <g fill=\"none\" fill-rule=\"evenodd\">\\n                        <g stroke=\"#4d4c4c\" stroke-linecap=\"round\" stroke-linejoin=\"round\" stroke-width=\"2\" transform=\"rotate(30 14.912 12.822)\">\\n                            <path d=\"M23.196 28.598c-5.967 3.308-13.83.982-17.138-4.986-3.308-5.967-1.152-13.487 4.816-16.795C16.84 3.51 24.36 5.665 27.669 11.633c1.466 2.645 2.409 6.763.314 12.125\"></path>\\n                            <ellipse cx=\"16.938\" cy=\"18.031\" rx=\"4.154\" ry=\"12.142\" transform=\"rotate(-30.001 16.938 18.03)\"></ellipse>\\n                            <path d=\"M5.42 19.568L24.63 8.694M9.368 26.463l19.21-11.04\"></path>\\n                        </g>\\n                        <text fill=\"#4d4c4c\" font-family=\"CiscoSans, Arial, sans-serif\" font-weight=\"300\" font-size=\"12\" letter-spacing=\".926\" style=\"text-transform: uppercase; direction: ltr;\">\\n                            <tspan x=\"30\" y=\"16\">us</tspan>\\n                        </text>\\n                        <text fill=\"#4d4c4c\" font-family=\"CiscoSans, Arial, sans-serif\" font-weight=\"300\" font-size=\"12\" letter-spacing=\".926\" style=\"text-transform: uppercase; direction: ltr;\">\\n                            <tspan x=\"30\" y=\"29\">en</tspan>\\n                        </text>\\n                    </g>\\n                </svg>\\n            </button> \\n\\n            <button id=\"fwt-ellipsis-button\">\\n                <svg xmlns=\"http://www.w3.org/2000/svg\" xmlns:xlink=\"http://www.w3.org/1999/xlink\" viewBox=\"0 0 32 32\" width=\"32\" height=\"32\" role=\"img\" aria-labelledby=\"fwt-ellipsis-button-icon-title\">\\n    <title id=\"fwt-ellipsis-button-icon-title\">More</title>\\n    <g id=\"fwt-ellipsis-dots\" fill=\"#4d4c4c\">\\n        <ellipse cx=\"16\" cy=\"16\" rx=\"2.65\" ry=\"2.51\" />\\n        <ellipse cx=\"16\" cy=\"16\" rx=\"2.65\" ry=\"2.51\" style=\"transform: translateY(-8.75px)\"/>\\n        <ellipse cx=\"16\" cy=\"16\" rx=\"2.65\" ry=\"2.51\" style=\"transform: translateY(8.75px)\"/>\\n    </g>\\n</svg>\\n                <svg xmlns=\"http://www.w3.org/2000/svg\" width=\"36\" height=\"36\" viewBox=\"0 0 36 36\" role=\"img\">\\n    <g fill=\"none\" fill-rule=\"evenodd\" stroke=\"#FFF\" stroke-linecap=\"round\" stroke-width=\"2\">\\n        <path d=\"M30.26 6.495L5.505 31.25M5.495 6.495L30.25 31.25\"/>\\n    </g>\\n</svg>\\n            </button>\\n\\n        </div>\\n    </div>\\n\\n    <div id=\"fwt-masthead-overlay\">\\n\\n\\n\\n\\n\\n\\n\\n\\n\\n\\n        <cdc-nav lang=\"en\"></cdc-nav>\\n        <cdc-search lang=\"en\" has-type-ahead has-close-button has-voice-search></cdc-search>\\n        <slot name=\"masthead-overlay\"></slot>\\n        <div id=\"fwt-ellipsis-profile\" class=\"ellipsis-short ellipsis-medium\">\\n\\n            <button id=\"fwt-profile_ellipsis-button\" class=\"ellipsis-short ellipsis-medium\" aria-haspopup=\"true\" aria-expanded=\"false\"  aria-labelledby=\"fwt-profile_ellipsis-button-loggedout-title\" title=\"Log In\">\\n                <svg xmlns=\"http://www.w3.org/2000/svg\" width=\"36\" height=\"36\" viewBox=\"0 0 36 36\" id=\"fwt-profile_ellipsis-button-loggedout\" role=\"img\" >\\n                    <title id=\"fwt-profile_ellipsis-button-loggedout-title\">Log In</title>\\n                    <g fill=\"none\" fill-rule=\"evenodd\" stroke=\"#4d4c4c\" stroke-linecap=\"round\" stroke-linejoin=\"round\" stroke-width=\"2\">\\n                        <path d=\"M27.5 32.077V26.07c0-3.888-3.136-7.069-6.967-7.069h-4.566C12.135 19 9 22.181 9 26.07v4.006c0 .553.454 1.001.998 1.001H20.94M12 9.857C12 6.622 14.584 4 17.772 4c3.187 0 5.772 2.622 5.772 5.857 0 3.235-2.585 5.857-5.772 5.857-3.188 0-5.772-2.622-5.772-5.857z\"></path>\\n                    </g>\\n                </svg>\\n                <svg xmlns=\"http://www.w3.org/2000/svg\" width=\"36\" height=\"36\" viewBox=\"0 0 36 36\" id=\"fwt-profile_ellipsis-button-loggedin\" role=\"img\" >\\n                    <title id=\"fwt-profile_ellipsis-button-loggedin-title\">Log Out</title>\\n                    <g fill=\"none\" fill-rule=\"evenodd\">\\n                        <path stroke=\"#4d4c4c\" stroke-linecap=\"round\" stroke-linejoin=\"round\" stroke-width=\"2\" d=\"M22.857 31.36c-1.616.614-3.37.95-5.202.95C9.56 32.31 3 25.749 3 17.655S9.561 3 17.655 3 32.31 9.561 32.31 17.655c0 3.988-1.727 7.703-4.31 10.344\" x=\"0\" y=\"0\"></path>\\n                        <text fill=\"#007493\" font-family=\"CiscoSans, Arial, sans-serif\" font-weight=\"300\" font-size=\"16\" x=\"50%\" y=\"50%\" dy=\".35em\" text-anchor=\"middle\" id=\"fwt-initials_ellipsis\"> </text>\\n                    </g> \\n                </svg><span>&nbsp;Log In</span>\\n            </button>\\n            <div id=\"fwt-profile\">\\n\\n\\n\\n\\n\\n\\n\\n\\n\\n\\n<div id=\"fwt-profile-content\">\\n\\n    <div id=\"fwt-profile-login-content\" class=\"fwt-profile-content-container\">\\n        <p class=\"profile-header\">Have an account?</p>\\n        <ul class=\"checked\">\\n            <li>\\n<svg xmlns=\"http://www.w3.org/2000/svg\" width=\"12\" height=\"11\" viewBox=\"0 0 12 11\" role=\"img\">\\n    <path fill=\"none\" fill-rule=\"evenodd\" stroke=\"#1ba0d7\" stroke-linecap=\"round\" stroke-width=\"3\" d=\"M1.882 4.95l2.903 2.903L10.09 2.55\"/>\\n</svg>&nbsp;&nbsp;Personalized content\\n            </li>\\n            <li>\\n<svg xmlns=\"http://www.w3.org/2000/svg\" width=\"12\" height=\"11\" viewBox=\"0 0 12 11\" role=\"img\">\\n    <path fill=\"none\" fill-rule=\"evenodd\" stroke=\"#1ba0d7\" stroke-linecap=\"round\" stroke-width=\"3\" d=\"M1.882 4.95l2.903 2.903L10.09 2.55\"/>\\n</svg>&nbsp;&nbsp;Your products and support\\n            </li>\\n        </ul>\\n        <a class=\"button-cta dark login-url\" href=\"/c/login/index.html?referer=/c/en/us/index.html\">Log In</a>\\n        <ul>\\n            <li><a href=\"https://idpswd.cloudapps.cisco.com/emailSubmitAction.do?exit_url=null\">Forgot your user ID and/or password?</a></li>\\n            <li><a class=\"account-url\" href=\"//www.cisco.com/c/en/us/about/account.html\">Manage account</a></li>\\n        </ul>\\n    </div>\\n    <div id=\"fwt-create-account-bar\" class=\"fwt-profile-content-container\">\\n        <p class=\"profile-header\">Need an account?</p>\\n        <a class=\"button-cta light registration-url\" href=\"https://idreg.cloudapps.cisco.com/idreg/guestRegistration.do\">Create an account</a>\\n        <ul>\\n            <li><a href=\"//www.cisco.com/c/en/us/about/help.html\">Help</a></li>\\n        </ul>\\n\\n    </div>\\n</div>\\n<button value=\"Close Profile Menu\" type=\"button\" class=\"close-button\" id=\"fwt-profile-close-button\" aria-label=\"Close Profile Menu\">\\n    <svg xmlns=\"http://www.w3.org/2000/svg\" width=\"36\" height=\"36\" viewBox=\"0 0 36 36\" role=\"img\">\\n    <g fill=\"none\" fill-rule=\"evenodd\" stroke=\"#FFF\" stroke-linecap=\"round\" stroke-width=\"2\">\\n        <path d=\"M30.26 6.495L5.505 31.25M5.495 6.495L30.25 31.25\"/>\\n    </g>\\n</svg>\\n</button>\\n\\n            </div>\\n        </div>\\n        <div id=\"fwt-ellipsis-language\" class=\"ellipsis-short ellipsis-medium\">\\n\\n            <button id=\"fwt-language_ellipsis-button\" class=\"ellipsis-short ellipsis-medium\" aria-haspopup=\"true\" aria-expanded=\"false\" aria-labelledby=\"fwt-language_ellipsis-button-icon-title\" title=\"Choose Language Selection\">\\n                <svg xmlns=\"http://www.w3.org/2000/svg\" width=\"50\" height=\"36\" viewBox=\"0 0 50 36\" role=\"img\" >\\n                    <title id=\"fwt-language_ellipsis-button-icon-title\">Choose Language Selection</title>\\n                    <g fill=\"none\" fill-rule=\"evenodd\">\\n                        <g stroke=\"#4d4c4c\" stroke-linecap=\"round\" stroke-linejoin=\"round\" stroke-width=\"2\" transform=\"rotate(30 14.912 12.822)\">\\n                            <path d=\"M23.196 28.598c-5.967 3.308-13.83.982-17.138-4.986-3.308-5.967-1.152-13.487 4.816-16.795C16.84 3.51 24.36 5.665 27.669 11.633c1.466 2.645 2.409 6.763.314 12.125\"></path>\\n                            <ellipse cx=\"16.938\" cy=\"18.031\" rx=\"4.154\" ry=\"12.142\" transform=\"rotate(-30.001 16.938 18.03)\"></ellipse>\\n                            <path d=\"M5.42 19.568L24.63 8.694M9.368 26.463l19.21-11.04\"></path>\\n                        </g>\\n                        <text fill=\"#4d4c4c\" font-family=\"CiscoSans, Arial, sans-serif\" font-weight=\"300\" font-size=\"12\" letter-spacing=\".926\" style=\"text-transform: uppercase; direction: ltr;\">\\n                            <tspan x=\"30\" y=\"16\">us</tspan>\\n                        </text>\\n                        <text fill=\"#4d4c4c\" font-family=\"CiscoSans, Arial, sans-serif\" font-weight=\"300\" font-size=\"12\" letter-spacing=\".926\" style=\"text-transform: uppercase; direction: ltr;\">\\n                            <tspan x=\"30\" y=\"29\">en</tspan>\\n                        </text>\\n                    </g>\\n                </svg>&nbsp;Choose Language Selection\\n            </button> \\n            <div id=\"fwt-language\">\\n            </div>\\n        </div>\\n        <div id=\"fwt-nav-links\">\\n            <ul>\\n                <li>\\n                    <a href=\"/c/en/us/products/index.html\">Products</a>\\n                </li>\\n                <li>\\n                    <a href=\"/c/en/us/support/index.html\">Support</a>\\n                </li>\\n                <li>\\n                    <a href=\"/c/en/us/training-events.html\">Training & Events</a>\\n                </li>\\n                <li>\\n                    <a href=\"/c/en/us/buy.html\">Buy</a>\\n                </li>\\n                <li>\\n                    <a href=\"/c/en/us/partners.html\">Partners</a>\\n                </li>\\n            </ul>\\n        </div>\\n    </div>\\n\\n</header>\\n\\n    \\n\\n\\n\\n\\n\\n\\n\\n\\n\\n<div id=\"fw-content\" class=\"container grid\">\\n      \\n    \\n\\n\\n\\n\\n\\n\\n\\n\\n\\n\\n\\n\\n\\n\\n\\n\\n\\n\\n\\n\\n\\n\\n\\n\\n\\n\\n\\n\\n\\n<div class=\"row full blowout home-row-announcement\" data-owner=\"ID\">\\n    <div class=\"col full\">\\n        \\n        \\n\\n\\n\\n\\n\\n\\n\\n\\n\\n\\n\\r\\n\\n\\n\\n\\n\\n\\n\\n\\n\\r\\n\\r\\n\\r\\n\\r\\n\\n\\n\\n\\n    \\n    <div id=\"lightbox1\" data-ltbox-type=\"video\" data-ltbox-title=\"\" data-ltbox-description=\"\" data-ltbox-content=\"6133546716001\" data-ltbox-version=\"v2\" data-ltbox-style=\"chromeless\" data-ltbox-component-id=\"lightbox_1\" data-ltbox-player-type-id=\"NJgI8K0ie\" data-ltbox-account-id=\"1384193102001\" data-ltbox-interactivity=\"interactivityenable\" data-ltbox-interactivity-override-id=\"\">\\n    </div>\\n    \\n    \\n\\n\\n\\n\\n\\n\\n\\n\\n\\n\\n\\n\\r\\n\\n\\n\\n\\n\\n\\n\\n\\n\\r\\n\\r\\n\\r\\n\\r\\n\\n\\n\\n\\n    \\n    <div id=\"lightbox2\" data-ltbox-type=\"video\" data-ltbox-title=\"\" data-ltbox-description=\"\" data-ltbox-content=\"6133546716001\" data-ltbox-version=\"v2\" data-ltbox-style=\"chromeless\" data-ltbox-component-id=\"lightbox_2\" data-ltbox-player-type-id=\"NJgI8K0ie\" data-ltbox-account-id=\"1384193102001\" data-ltbox-interactivity=\"interactivityenable\" data-ltbox-interactivity-override-id=\"\">\\n    </div>\\n    \\n    \\n\\n\\n\\n\\n\\n\\n\\n\\n\\n\\n\\n\\r\\n\\n\\n\\n\\n\\n\\n\\n\\n\\r\\n\\r\\n\\r\\n\\r\\n\\n\\n\\n\\n    \\n    <div id=\"lightbox3\" data-ltbox-type=\"video\" data-ltbox-title=\"\" data-ltbox-description=\"\" data-ltbox-content=\"5849636707001\" data-ltbox-version=\"v2\" data-ltbox-style=\"chromeless\" data-ltbox-component-id=\"lightbox_3\" data-ltbox-player-type-id=\"NJgI8K0ie\" data-ltbox-account-id=\"1384193102001\" data-ltbox-interactivity=\"interactivityenable\" data-ltbox-interactivity-override-id=\"\">\\n    </div>\\n    \\n    \\n\\n\\n\\n\\n\\n\\n\\n\\n\\n\\n\\n\\r\\n\\n\\n\\n\\n\\n\\n\\n\\n\\r\\n\\r\\n\\r\\n\\r\\n\\n\\n\\n\\n    \\n    <div id=\"lightbox4\" data-ltbox-type=\"video\" data-ltbox-title=\"\" data-ltbox-description=\"\" data-ltbox-content=\"5849636707001\" data-ltbox-version=\"v2\" data-ltbox-style=\"chromeless\" data-ltbox-component-id=\"lightbox_4\" data-ltbox-player-type-id=\"NJgI8K0ie\" data-ltbox-account-id=\"1384193102001\" data-ltbox-interactivity=\"interactivityenable\" data-ltbox-interactivity-override-id=\"\">\\n    </div>\\n    \\n    \\n\\n\\n\\n\\n\\n\\n\\n\\n\\n\\n\\n\\r\\n\\n\\n\\n\\n\\n\\n\\n\\n\\r\\n\\r\\n\\r\\n\\r\\n\\n\\n\\n\\n    \\n    <div id=\"lightbox5\" data-ltbox-type=\"video\" data-ltbox-title=\"\" data-ltbox-description=\"\" data-ltbox-content=\"6047410998001\" data-ltbox-version=\"v2\" data-ltbox-style=\"normal\" data-ltbox-component-id=\"lightbox_5\" data-ltbox-player-type-id=\"NJgI8K0ie\" data-ltbox-account-id=\"1384193102001\" data-ltbox-interactivity=\"interactivityenable\" data-ltbox-interactivity-override-id=\"\">\\n    </div>\\n    \\n    \\n\\n\\n\\n\\n\\n\\n\\n\\n\\n\\n\\n\\r\\n\\n\\n\\n\\n\\n\\n\\n\\n\\r\\n\\r\\n\\r\\n\\r\\n\\n\\n\\n\\n    \\n    <div id=\"lightbox6\" data-ltbox-type=\"video\" data-ltbox-title=\"\" data-ltbox-description=\"\" data-ltbox-content=\"5849636707001\" data-ltbox-version=\"v2\" data-ltbox-style=\"normal\" data-ltbox-component-id=\"lightbox_6\" data-ltbox-player-type-id=\"NJgI8K0ie\" data-ltbox-account-id=\"1384193102001\" data-ltbox-interactivity=\"interactivityenable\" data-ltbox-interactivity-override-id=\"\">\\n    </div>\\n    \\n    \\n\\n\\n\\n\\n\\n\\n\\n\\n\\n\\n\\n\\r\\n\\n\\n\\n\\n\\n\\n\\n\\n\\r\\n\\r\\n\\r\\n\\r\\n\\n\\n\\n\\n    \\n    <div id=\"lightbox7\" data-ltbox-type=\"video\" data-ltbox-title=\"\" data-ltbox-description=\"\" data-ltbox-content=\"6131358428001\" data-ltbox-version=\"v2\" data-ltbox-style=\"normal\" data-ltbox-component-id=\"lightbox_7\" data-ltbox-player-type-id=\"NJgI8K0ie\" data-ltbox-account-id=\"1384193102001\" data-ltbox-interactivity=\"interactivityenable\" data-ltbox-interactivity-override-id=\"\">\\n    </div>\\n    \\n    \\n\\n\\n\\n\\n\\n\\n\\n\\n\\n\\n\\n\\r\\n\\n\\n\\n\\n\\n\\n\\n\\n\\r\\n\\r\\n\\r\\n\\r\\n\\n\\n\\n\\n    \\n    <div id=\"lightbox8\" data-ltbox-type=\"video\" data-ltbox-title=\"\" data-ltbox-description=\"\" data-ltbox-content=\"6136244322001\" data-ltbox-version=\"v2\" data-ltbox-style=\"normal\" data-ltbox-component-id=\"lightbox_8\" data-ltbox-player-type-id=\"NJgI8K0ie\" data-ltbox-account-id=\"1384193102001\" data-ltbox-interactivity=\"interactivityenable\" data-ltbox-interactivity-override-id=\"\">\\n    </div>\\n    \\n    \\n\\n\\n\\n\\n\\n\\n\\n\\n\\n\\n\\n\\r\\n\\n\\n\\n\\n\\n\\n\\n\\n\\r\\n\\r\\n\\r\\n\\r\\n\\n\\n\\n\\n    \\n    <div id=\"lightbox9\" data-ltbox-type=\"video\" data-ltbox-title=\"\" data-ltbox-description=\"\" data-ltbox-content=\"6123251265001\" data-ltbox-version=\"v2\" data-ltbox-style=\"normal\" data-ltbox-component-id=\"lightbox_9\" data-ltbox-player-type-id=\"NJgI8K0ie\" data-ltbox-account-id=\"1384193102001\" data-ltbox-interactivity=\"interactivityenable\" data-ltbox-interactivity-override-id=\"\">\\n    </div>\\n    \\n    \\n\\n\\n\\n\\n\\n\\n\\n\\n\\n\\n\\n\\r\\n\\n\\n\\n\\n\\n\\n\\n\\n\\r\\n\\r\\n\\r\\n\\r\\n\\n\\n\\n\\n    \\n    <div id=\"lightbox10\" data-ltbox-type=\"video\" data-ltbox-title=\"\" data-ltbox-description=\"\" data-ltbox-content=\"6133546716001\" data-ltbox-version=\"v2\" data-ltbox-style=\"normal\" data-ltbox-component-id=\"lightbox_10\" data-ltbox-player-type-id=\"NJgI8K0ie\" data-ltbox-account-id=\"1384193102001\" data-ltbox-interactivity=\"interactivityenable\" data-ltbox-interactivity-override-id=\"\">\\n    </div>\\n    \\n    \\n\\n\\n\\n\\n\\n\\n\\n\\n\\n\\n\\n\\r\\n\\n\\n\\n\\n\\n\\n\\n\\n\\r\\n\\r\\n\\r\\n\\r\\n\\n\\n\\n\\n    \\n    <div id=\"lightbox11\" data-ltbox-type=\"video\" data-ltbox-title=\"\" data-ltbox-description=\"\" data-ltbox-content=\"6125894241001\" data-ltbox-version=\"v2\" data-ltbox-style=\"normal\" data-ltbox-component-id=\"lightbox_11\" data-ltbox-player-type-id=\"NJgI8K0ie\" data-ltbox-account-id=\"1384193102001\" data-ltbox-interactivity=\"interactivityenable\" data-ltbox-interactivity-override-id=\"\">\\n    </div>\\n    \\n    \\n\\n\\n\\n\\n\\n\\n\\n\\n\\n\\n\\n\\r\\n\\n\\n\\n\\n\\n\\n\\n\\n\\r\\n\\r\\n\\r\\n\\r\\n\\n\\n\\n\\n    \\n    <div id=\"lightbox12\" data-ltbox-type=\"video\" data-ltbox-title=\"\" data-ltbox-description=\"\" data-ltbox-content=\"6125894241001\" data-ltbox-version=\"v2\" data-ltbox-style=\"normal\" data-ltbox-component-id=\"lightbox_12\" data-ltbox-player-type-id=\"NJgI8K0ie\" data-ltbox-account-id=\"1384193102001\" data-ltbox-interactivity=\"interactivityenable\" data-ltbox-interactivity-override-id=\"\">\\n    </div>\\n    \\n    \\n\\n\\n\\n\\n\\n\\n\\n\\n\\n\\n\\n\\r\\n\\n\\n\\n\\n\\n\\n\\n\\n\\r\\n\\r\\n\\r\\n\\r\\n\\n\\n\\n\\n    \\n    <div id=\"lightbox13\" data-ltbox-type=\"video\" data-ltbox-title=\"\" data-ltbox-description=\"\" data-ltbox-content=\"6125894241001\" data-ltbox-version=\"v2\" data-ltbox-style=\"normal\" data-ltbox-component-id=\"lightbox_13\" data-ltbox-player-type-id=\"NJgI8K0ie\" data-ltbox-account-id=\"1384193102001\" data-ltbox-interactivity=\"interactivityenable\" data-ltbox-interactivity-override-id=\"\">\\n    </div>\\n    \\n    \\n\\n\\n\\n\\n\\n\\n\\n\\n\\n\\n\\n\\r\\n\\n\\n\\n\\n\\n\\n\\n\\n\\r\\n\\r\\n\\r\\n\\r\\n\\n\\n\\n\\n    \\n    <div id=\"lightbox14\" data-ltbox-type=\"video\" data-ltbox-title=\"\" data-ltbox-description=\"\" data-ltbox-content=\"6125894241001\" data-ltbox-version=\"v2\" data-ltbox-style=\"normal\" data-ltbox-component-id=\"lightbox_14\" data-ltbox-player-type-id=\"NJgI8K0ie\" data-ltbox-account-id=\"1384193102001\" data-ltbox-interactivity=\"interactivityenable\" data-ltbox-interactivity-override-id=\"\">\\n    </div>\\n    \\n    \\n\\n\\n\\n\\n\\n\\n\\n\\n\\n\\n\\n\\r\\n\\n\\n\\n\\n\\n\\n\\n\\n\\r\\n\\r\\n\\r\\n\\r\\n\\n\\n\\n\\n    \\n    <div id=\"lightbox15\" data-ltbox-type=\"video\" data-ltbox-title=\"\" data-ltbox-description=\"\" data-ltbox-content=\"6125894241001\" data-ltbox-version=\"v2\" data-ltbox-style=\"normal\" data-ltbox-component-id=\"lightbox_15\" data-ltbox-player-type-id=\"NJgI8K0ie\" data-ltbox-account-id=\"1384193102001\" data-ltbox-interactivity=\"interactivityenable\" data-ltbox-interactivity-override-id=\"\">\\n    </div>\\n    \\n    \\n\\n\\n\\n\\n\\n\\n\\n\\n\\r\\n\\n\\n\\n\\r\\n\\n\\n\\n\\r\\n\\r\\n\\r\\n\\r\\n\\r\\n\\r\\n\\r\\n\\r\\n<script type=\"text/javascript\" src=\"/etc/designs/cdc/dmr/libs/u.min.js\"></script>\\n<script type=\"text/javascript\" src=\"/etc/designs/cdc/dmr/libs/nmsp.min.js\"></script>\\n<script type=\"text/javascript\" src=\"/etc/designs/cdc/dmr/libs/log.min.js\"></script>\\n<script type=\"text/javascript\" src=\"/etc/designs/cdc/dmr/libs/metrics.min.js\"></script>\\n\\r\\n\\r\\n\\r\\n\\r\\n<!-- DM:components/html/htmlblob:V1.2.4 -->\\r\\n\\r\\n\\r\\n\\t\\r\\n\\r\\n  \\r\\n        \\t<!-- contents found: dmc-home-quicktasks --> \\r\\n\\r\\n\\r\\n\\r\\n\\t<!--  Quick Tasks Midnight Blue -->\\n\\n<style>\\n.cdc-homepage .container.grid .row.home-row-quicktasks.pal-2, .cdc-homepage .container.grid .row.home-row-quicktasks-partner.pal-2 {\\n    background-color: #0d274d;\\n}\\n.dmc-home-quicktasks.var-3.pal-2 {\\n    background: #0d274d;\\n}\\n</style>\\r\\n\\r\\n\\n\\n    </div>\\n</div>\\n\\n\\n\\n\\n\\n\\n\\n\\n\\n\\n\\n\\r\\n\\n\\n\\n\\n\\n<link rel=\"stylesheet\" href=\"/etc/designs/cdc/dmr/section/clientLib.min.css\" type=\"text/css\">\\n\\n\\n\\n\\n\\n\\n<!-- renderComponentVersion(component) -->\\n<section class=\"dmc-section targetable hidden\" id=\"section-context-banner\" data-config-metrics-group=\"Section\" data-config-metrics-title=\"section-context-banner\">\\n    \\n    \\n\\n    \\n\\n\\n\\n\\n\\n\\n\\n\\r\\n\\n\\n\\n\\r\\n\\n\\n\\n\\r\\n \\n\\t\\t\\t\\t<link rel=\"stylesheet\" href=\"/etc/designs/cdc/dmr/text/base-v2.min.css\" type=\"text/css\">\\n\\n        \\r\\n\\r\\n\\n\\t\\r\\n    \\r\\n    \\r\\n    \\r\\n    \\r\\n\\t\\r\\n  \\t\\t<link rel=\"stylesheet\" href=\"/etc/designs/cdc/dmr/context-banner/clientLib-v2.min.css\"><script src=\"/etc/designs/cdc/dmr/context-banner/clientLib-v2.min.js\" defer></script>\\r\\n\\t\\r\\n\\t\\n\\r\\n<!-- Start of Context Banner Component -->\\r\\n<!-- DM:components/context-banner/context-banner:V1.2.2 -->\\r\\n<div class=\"dm0 dmc-cxt-bnr compact dm-cmcl thmd-0\" data-config-metrics-group=\"Context Banner\" data-config-metrics-title=\"Experience a live demo of Cisco DNA technology innovations and product features.\">\\r\\n\\t\\r\\n\\t<!-- Start of content -->\\r\\n\\t<div class=\"b-cnt\">\\r\\n\\t\\t\\r\\n\\t\\t\\t<p>Experience a live demo of Cisco DNA technology innovations and product features.</p>\\r\\n\\t\\t\\r\\n\\t\\t\\r\\n\\t\\t\\r\\n\\t\\t\\t<a class=\"cta pri0\" data-cta-type=\"cta pri0\" href=\"/c/en/us/solutions/enterprise-networks/dna-software-series.html\" data-config-metrics-item=\"Register now\">Register now</a>\\r\\n\\t\\t\\r\\n\\t\\t\\r\\n\\t\\t\\r\\n\\t\\t\\r\\n\\t\\t\\r\\n\\t</div>\\r\\n\\t<!-- End of content -->\\r\\n</div>   \\r\\n<!-- End of Context Banner Component -->\\n\\n</section>\\n\\n\\n\\n\\n\\n\\n\\n\\n\\r\\n\\r\\n\\r\\n\\n\\n\\n\\n\\n\\n\\n\\n\\n\\n\\n\\n\\n\\n\\r\\n\\n\\n\\n\\n\\n\\n\\n\\n\\n\\n\\n<!-- renderComponentVersion(component) -->\\n<section class=\"dmc-section targetable spinner\" id=\"section-video-blade999999\" data-config-metrics-group=\"Section\" data-config-metrics-title=\"section-video-blade999999\">\\n    \\n    \\n\\n    \\n\\n\\n\\n\\n\\n\\n\\n\\r\\n\\n\\n\\n\\r\\n\\n\\n\\n\\r\\n\\r\\n\\r\\n\\r\\n\\r\\n\\r\\n\\r\\n\\r\\n\\r\\n\\r\\n\\r\\n\\r\\n<!-- DM:components/html/htmlblob:V1.2.4 -->\\r\\n\\r\\n\\r\\n\\t\\r\\n\\r\\n  \\r\\n\\r\\n\\r\\n\\t<!-- spinner class for personalization -- remove if personalization not needed (including \"targetable spinner\" class above) when video blade and personalization targeting anchor marquee -->\\r\\n\\r\\n\\r\\n\\n\\n</section>\\n\\n\\n\\n\\n\\n\\n\\n\\n\\r\\n\\r\\n\\r\\n\\n\\n\\n\\n\\n\\n\\n\\n\\r\\n\\n\\n\\n\\r\\n\\n\\n\\n\\r\\n\\r\\n\\r\\n\\r\\n\\r\\n\\r\\n\\r\\n\\r\\n\\r\\n\\r\\n\\r\\n\\r\\n<!-- DM:components/html/htmlblob:V1.2.4 -->\\r\\n\\r\\n\\r\\n\\t\\r\\n\\r\\n  \\r\\n\\r\\n\\r\\n\\t<!-- geo-routers pilot -->\\r\\n\\r\\n<section id=\"geo-router-pilot\">\\r\\n\\r\\n</section>\\r\\n\\r\\n\\r\\n\\r\\n<script>\\r\\nfunction openWWS(){\\r\\nvar masthead = cdc.wcUtil.getObj(\\'masthead\\');\\r\\nif (cdc.wcUtil.getMethod(\\'cdc-masthead\\', \\'getActiveElement\\')().length === 0) {\\r\\ncdc.wcUtil.getMethod(\\'cdc-masthead\\', \\'mastheadClickHandler\\')(masthead.querySelector(\\'#fwt-language-button\\'), masthead);\\r\\n}\\r\\n}\\r\\n</script>\\r\\n\\r\\n\\n\\n\\n\\n\\n\\n\\n\\n\\n\\n\\n\\n\\n\\n\\n\\n\\n\\n\\n\\n\\n\\n\\n\\n\\n\\n\\n\\n\\n\\n<div class=\"row full blowout pri-marquee no-padding blade-marq3\" data-owner=\"ID\">\\n    <div class=\"col full\">\\n        \\n        \\n\\n\\n\\n\\n\\n\\n\\n\\n\\n\\n\\n\\r\\n\\n\\n\\n\\n\\n\\n\\n\\n\\n\\n\\n<!-- renderComponentVersion(component) -->\\n<section class=\"dmc-section targetable spinner\" id=\"section-anchor-marquee\" data-config-metrics-group=\"Section\" data-config-metrics-title=\"section-anchor-marquee\">\\n    \\n    \\n\\n    \\n\\n\\n\\n\\n\\n\\n\\n\\r\\n\\n\\n\\n\\r\\n\\n\\n\\n\\r\\n\\r\\n\\r\\n\\r\\n\\r\\n\\r\\n\\r\\n\\r\\n\\r\\n\\r\\n\\r\\n    <link rel=\"stylesheet\" href=\"/etc/designs/cdc/dmr/libs/base.min.css\" type=\"text/css\">\\n<link rel=\"stylesheet\" href=\"/etc/designs/cdc/dmr/bundles/dmr.min.css\" type=\"text/css\">\\n<script type=\"text/javascript\" src=\"/etc/designs/cdc/dmr/libs/utils/dynamic-video-init.min.js\"></script>\\n<script type=\"text/javascript\" src=\"/etc/designs/cdc/dmr/libs/base.min.js\"></script>\\n<script type=\"text/javascript\" src=\"/etc/designs/cdc/dmr/bundles/dmr.min.js\"></script>\\n\\r\\n\\r\\n<!-- DM:components/html/htmlblob:V1.2.4 -->\\r\\n\\r\\n\\r\\n\\t\\r\\n\\r\\n  \\r\\n\\r\\n\\r\\n\\t    <div class=\"spinner-box\">\\r\\n        <div class=\"spinner-wheel\"></div>\\r\\n    </div>\\t\\r\\n\\r\\n\\r\\n<!-- anchor marquee -->\\r\\n    \\r\\n  \\r\\n\\r\\n\\n\\n\\n\\n\\n\\n\\n\\n\\n\\n\\n\\n\\r\\n\\n\\n\\n\\n \\n\\t\\t\\t\\t\\n        \\n\\n\\n\\n\\r\\n    \\r\\n    \\r\\n    \\r\\n    \\r\\n\\t\\r\\n  \\t\\t<link rel=\"stylesheet\" href=\"/etc/designs/cdc/dmr/anchor-marquee/clientLib-v2.min.css\"><script src=\"/etc/designs/cdc/dmr/anchor-marquee/clientLib-v2.min.js\" defer></script>\\r\\n\\t\\r\\n\\n\\n\\n\\n\\n\\n\\n\\n\\n<!-- Start of Anchor Marquee --> \\n<!-- DM:components/anchor-marquee/anchor-marquee-v2:V1.5.2 --> \\n<div class=\"dm0 dmc-mq compact var-1 nopd-thm thmd-0\" data-config-metrics-group=\"Anchor Marquee\" data-config-metrics-title=\"Our commitment to you\" data-target-cnt=\"false\">\\n      \\n    <div class=\"frame\">                \\n        \\n        <!-- Start of DM Image -->\\n        <div class=\"dm-img focal-C\" alt=\"Our commitment to you\">\\n            <picture>\\n                \\n                    <source srcset=\"/content/dam/assets/ltc/home/am-robbins-letter-support-r3a-1600x480.jpg\"  media=\"(min-width:80em)\">\\n                \\n                \\n                    <source srcset=\"/content/dam/assets/ltc/home/am-robbins-letter-support-r3a-1280x480.jpg\" media=\"(min-width:48em)\">\\n                \\n                \\n                    <source srcset=\"/content/dam/assets/ltc/home/am-robbins-letter-support-r3a-768x472.jpg\">\\n                \\n            </picture>\\n            <noscript><img src=\"/c/dam/assets/ltc/home/am-robbins-letter-support-r3a-1600x480.jpg\" alt=\"Our commitment to you\"></noscript>\\n        </div>\\n        <!-- End of DM Image -->\\n        \\n        \\n        \\n        <div class=\"inset\">\\n            \\n                 \\n\\n\\n\\n\\n\\n\\n\\n\\n\\n\\n\\n\\n\\n\\n\\n<nav id=\"fw-breadcrumb\" class=\"data-based\" data-owner=\"ID\">\\n    <ul itemscope itemtype=\"//schema.org/BreadcrumbList\">\\n        \\n    </ul>\\n</nav>\\n<script>\\n    if (window.cdc === undefined) { window.cdc = {}; }\\n    cdc.breadcrumb = (function () {\\n        var clone = document.querySelector(\\'#fw-breadcrumb\\').children[0].cloneNode(true);\\n        return {\\n            clone: clone,\\n            appendClone: function () { document.querySelector(\\'#fw-breadcrumb\\').append(this.clone); }\\n        }\\n    }());\\n</script>\\n\\n  \\n            \\n            <div class=\"text pbc w60p txt-c dsk tab mob\"> \\n            \\n            \\n                \\n                \\n                    \\n                    \\n\\t\\t\\t\\t\\t\\t\\n\\t\\t\\t\\t\\t\\t  \\n\\t\\t\\t\\t\\t\\t  \\n\\t\\t\\t\\t\\t\\t      <h1 data-short-title=\"Our commitment to you\"\\n\\t\\t\\t\\t\\t\\t      \\n\\t\\t\\t\\t\\t\\t      class = \"pri-0\"  >Our commitment to you </h1>\\n\\t\\t\\t\\t\\t\\t    \\n\\t\\t\\t\\t\\t\\t\\n                    \\n                \\n            \\n            \\n                <p  >Read how we are helping you and our communities stay safe and connected.</p>\\n            \\n                <ul class=\"ctas\">\\n                \\n                    <li>\\n                    \\n                    <a class=\"cta pri0\" href=\"/c/m/en_us/covid19/letter-to-customers-partners.html\" data-config-metrics-item=\"Read Chuck\\'s letter\">Read Chuck\\'s letter</a>\\n                    \\n                    </li>\\n                \\n                \\n                \\n                </ul>    \\n            </div>\\n        </div>\\n    </div>\\n</div>\\n<div style=\"clear:both;float:none\"></div>\\n\\n<!-- End of Anchor Marquee -->\\n\\n</section>\\n\\n\\n\\n\\n\\n\\n\\n\\n\\r\\n\\r\\n\\r\\n\\n\\n    </div>\\n</div>\\n\\n\\n\\n\\n\\n\\n\\n\\n\\n\\n\\n\\n\\n\\n\\n\\n\\n\\n\\n\\n\\n\\n\\n\\n\\n\\n\\n\\n\\n\\n\\n<div class=\"row full blowout home-row-quicktasks pal-2\" data-owner=\"ID\">\\n    <div class=\"col full\">\\n        \\n        \\n\\n\\n\\n\\n\\n\\n\\n\\n\\n\\n\\n\\n\\n\\n\\n\\n\\n\\n\\n\\n\\n\\n\\n\\n\\n\\n\\n\\n\\n<div class=\"row full\" data-owner=\"ID\">\\n    <div class=\"col full\">\\n        \\n        \\n\\n\\n\\n\\n\\n\\n\\n\\r\\n\\n\\n\\n\\r\\n\\n\\n\\n\\r\\n\\r\\n\\r\\n\\r\\n\\r\\n\\r\\n\\r\\n\\r\\n\\r\\n\\r\\n\\r\\n\\r\\n<!-- DM:components/html/htmlblob:V1.2.4 -->\\r\\n\\r\\n\\r\\n\\t\\r\\n\\r\\n  \\r\\n        \\t<!-- contents found: dmc-home-quicktasks --> \\r\\n\\r\\n\\r\\n\\r\\n\\t<div class=\"dmc-home-quicktasks var-3 pal-2\">\\n  <ul>\\n        <li> <a href=\"/c/en/us/solutions/enterprise/design-zone/index.html\" data-config-metrics-group=\"quick_tasks\" data-config-metrics-title=\"prospects\" data-config-metrics-item=\"Design Guides\" class=\"icon\"><span class=\"guide\"></span></a>\\n             <a href=\"/c/en/us/solutions/enterprise/design-zone/index.html\" data-config-metrics-group=\"quick_tasks\" data-config-metrics-title=\"prospects\" class=\"content\">Design Guides</a></li>\\n             \\n        <li> <a href=\"https://learninglocator.cloudapps.cisco.com/GlobalLearningLocator/LLocatorHome.do\" data-config-metrics-group=\"quick_tasks\" data-config-metrics-title=\"prospects\" data-config-metrics-item=\"Learning Locator\" class=\"icon\"><span class=\"center\"></span></a>\\n             <a href=\"https://learninglocator.cloudapps.cisco.com/GlobalLearningLocator/LLocatorHome.do\" data-config-metrics-group=\"quick_tasks\" data-config-metrics-title=\"prospects\" class=\"content\">Learning Locator</a></li>\\n             \\n        <li> <a href=\"/c/en/us/training-events/training-certifications/overview.html\" data-config-metrics-group=\"quick_tasks\" data-config-metrics-title=\"prospects\" data-config-metrics-item=\"Career Certifications\" class=\"icon\"><span class=\"certification\"></span></a>\\n             <a href=\"/c/en/us/training-events/training-certifications/overview.html\" data-config-metrics-group=\"quick_tasks\" data-config-metrics-title=\"prospects\" class=\"content\">Career Certifications</a></li>\\n             \\n        <li> <a href=\"https://software.cisco.com/download/navigator.html\" data-config-metrics-group=\"quick_tasks\" data-config-metrics-title=\"prospects\" data-config-metrics-item=\"Software Downloads\" class=\"icon\"><span class=\"downloads\"></span></a>\\n             <a href=\"https://software.cisco.com/download/navigator.html\" data-config-metrics-group=\"quick_tasks\" data-config-metrics-title=\"prospects\" class=\"content\">Software Downloads</a></li>\\n             \\n        <li> <a href=\"https://community.cisco.com\" data-config-metrics-group=\"quick_tasks\" data-config-metrics-title=\"prospects\" data-config-metrics-item=\"Cisco Community\" class=\"icon\"><span class=\"community\"></span></a>\\n             <a href=\"https://community.cisco.com\" data-config-metrics-group=\"quick_tasks\" data-config-metrics-title=\"prospects\" class=\"content\">Cisco Community</a></li>\\n             \\n        <li> <a href=\"https://mycase.cloudapps.cisco.com/case\" data-config-metrics-group=\"quick_tasks\" data-config-metrics-title=\"prospects\" data-config-metrics-item=\"Tech Support Cases\" class=\"icon\"><span class=\"support\"></span></a>\\n             <a href=\"https://mycase.cloudapps.cisco.com/case\" data-config-metrics-group=\"quick_tasks\" data-config-metrics-title=\"prospects\" class=\"content\">Tech Support Cases</a></li>\\n      </ul>\\n</div>\\r\\n\\r\\n\\n\\n    </div>\\n</div>\\n\\n    </div>\\n</div>\\n\\n\\n\\n\\n\\n\\n\\n\\n\\n\\n\\n\\n\\n\\n\\n\\r\\n\\n\\n\\n\\n \\n\\t\\t\\t\\t\\n        \\n\\n\\n    \\n\\n\\r\\n\\r\\n\\n\\n\\n\\t\\r\\n    \\r\\n    \\r\\n    \\r\\n    \\r\\n\\t\\r\\n  \\t\\t<link rel=\"stylesheet\" href=\"/etc/designs/cdc/dmr/blade/clientLib-v2.min.css\"><script src=\"/etc/designs/cdc/dmr/blade/clientLib-v2.min.js\" defer></script>\\r\\n\\t\\r\\n\\t\\n\\n\\n<noscript>\\n    <style>\\n        .dmr.clip-content .clip, .dmr.clip-content .clip-wrap {\\n            overflow:visible;\\n            height: auto;\\n        }\\n    </style>\\n</noscript>\\n<!-- DM:components/blade/blade:V2.0.4 -->\\n<div class=\"dm0 dmc-bld compact header-center description-center cta-center \" data-config-metrics-group=\"Blade\" data-config-metrics-title=\"This week at Cisco\">\\n    \\n        \\n        \\n            \\n        \\n    \\n    <div class=\"bl-cnt \">\\n        <div class=\"row full\">\\n            <div class=\"col full\">\\n                \\n                <div class=\"bld-text\">\\n                    \\n                    <div class=\"blade-header\">\\n\\t\\t\\t\\t\\t\\n                        \\n                        \\t<h2>This week at Cisco</h2>\\n                        \\n                        \\n                    \\n                    </div>\\n                    \\n                    \\n                        <div class=\"blade-description\">\\n                            <p>See the announcements, events, and activities happening across the globe this week.</p>\\n\\n                        </div>\\n\\t\\t\\t\\t\\t\\n                </div>\\n                \\n            </div>\\n        </div>\\n        <div class=\"row full \">\\n            \\n            <div class=\"col full\">\\n                \\n\\n            </div>\\n            \\n        </div>\\n        <div class=\"row full\">\\n            <div class=\"col full\">\\n\\t\\t\\t\\t\\n            </div>\\n        </div>\\n    </div>\\n</div>\\n\\n\\n\\n\\n\\n\\n\\n\\n\\r\\n\\r\\n\\r\\n\\n\\n\\n\\n\\n\\n\\n\\n\\n\\n\\n\\n\\n\\n\\n\\n\\n\\n\\n\\n\\n\\n\\n\\n\\n\\n\\n\\n\\n\\n\\n\\n<div class=\"row full\" data-owner=\"ID\">\\n    <div class=\"col full\">\\n        \\n        \\n\\n\\n\\n\\n\\n\\n\\n\\n\\n\\n\\n\\r\\n\\n\\n\\n\\n \\n\\n\\t\\r\\n    \\r\\n    \\r\\n    \\r\\n    \\r\\n\\t\\r\\n  \\t\\t<link rel=\"stylesheet\" href=\"/etc/designs/cdc/dmr/mosaic/clientLib-v2.min.css\">\\r\\n\\t\\r\\n\\n\\n\\n<!-- DM:components/mosaic/rows/mosaic-row-full:V1.2.0 -->\\n<!-- Mosaic full row start -->\\n<div class=\"dmc-msrow full\" data-config-metrics-group=\"Mosaic Row\">\\n    <div class=\"mscol full\" data-config-metrics-title=\"Hero Tile\">\\n        \\n\\n\\n\\n\\n\\n\\n\\n\\n\\n\\n\\n\\r\\n\\n\\n\\n\\n\\n\\n\\n\\n\\n\\n\\n<!-- renderComponentVersion(component) -->\\n<section class=\"dmc-section targetable spinner\" id=\"mosaic-hero-1\" data-config-metrics-group=\"Section\" data-config-metrics-title=\"mosaic-hero-1\">\\n    \\n    \\n\\n    \\n\\n\\n\\n\\n\\n\\n\\n\\n\\n\\n\\n\\r\\n\\n\\n\\n\\n \\n\\t\\t\\t\\t\\n        \\n\\n\\n \\n\\n\\t\\r\\n    \\r\\n    \\r\\n    \\r\\n    \\r\\n\\t\\r\\n  \\t\\t\\r\\n\\t\\r\\n\\n\\n\\n\\n<!-- DM:components/mosaic/mosaic-tile-hero:V2.0.5 -->\\n<!--Mosaic Tile, Hero start-->\\n\\n\\n<div class=\"dm0 dmc-mstl hero dm-cmcl nopd-thm compact var-2 focal-C thmp-0\">\\n    \\n        <a class=\"lnk \" href=\"/c/en/us/solutions/intent-based-networking.html\" data-config-metrics-item=\"IBN: Build a bridge between business and IT\">\\n    \\n        <div class=\"msimg\">\\n        \\n                    \\n\\n\\n\\n\\n<link rel=\"stylesheet\" href=\"/etc/designs/cdc/dmr/image/image-v2/clientLib.min.css\" type=\"text/css\">\\n\\n\\n\\n\\n\\t\\n\\t\\n\\t\\t\\n\\t\\t\\t<div class=\"dm-img\" src=\"/c/en/us/index/_jcr_content/homepagemaincontentparsys/full_9e22/Full/mosaic_row_full_2328/mosaic_row_parsys/section_container_cb/target_content_parsys/mosaic_tile_hero_bb4.img.jpg/1584630719853.jpg\" title=\"Build a bridge between business and IT\" alt=\"Build a bridge between business and IT\">\\n\\t\\t\\t\\t<noscript class=\"dmimg-ns\"><img src=\"/c/en/us/index/_jcr_content/homepagemaincontentparsys/full_9e22/Full/mosaic_row_full_2328/mosaic_row_parsys/section_container_cb/target_content_parsys/mosaic_tile_hero_bb4.img.jpg/1584630719853.jpg\" title=\"Build a bridge between business and IT\" alt=\"Build a bridge between business and IT\"></noscript>\\n\\t\\t\\t</div>\\n\\t\\t\\n\\t\\n\\n\\n                \\n    </div>\\n        \\n    <div class=\"mscnt\">\\n        \\n      \\t\\t    <p class=\"ebrw util\">IBN</p>\\n        \\n                <div class=\"inner-content\">\\n                    <h3>Build a bridge between business and IT</h3>\\n                    <p>Be the hero who brings intent-based networking to the table. Cisco can help.</p>\\r\\n\\n                </div>\\n    </div>\\n        \\n            </a>\\n            \\n</div>\\n \\n<!--Mosaic Tile, Hero, end-->\\n\\n</section>\\n\\n\\n\\n\\n\\n\\n\\n\\n\\r\\n\\r\\n\\r\\n\\n\\n    </div>\\n</div>\\n\\n\\n\\n\\n\\n\\n\\n\\n\\r\\n\\r\\n\\r\\n\\n<!-- Mosaic full row end -->\\n\\n\\n\\n\\n\\n\\n\\n\\n\\n\\n\\n\\r\\n\\n\\n\\n\\n \\n\\n\\t\\r\\n    \\r\\n    \\r\\n    \\r\\n    \\r\\n\\t\\r\\n  \\t\\t\\r\\n\\t\\r\\n\\n\\n<!-- DM:components/mosaic/rows/mosaic-row-wide-narrow:V1.2.0 -->\\n<!--Mosaic Wide-Narrow row start-->\\n<div class=\"dmc-msrow wn\" data-config-metrics-group=\"Mosaic Row\">\\n    <div class=\"mscol wide\" data-config-metrics-title=\"Wide Tile\">\\n        \\n\\n\\n\\n\\n\\n\\n\\n\\n\\n\\n\\n\\r\\n\\n\\n\\n\\n\\n\\n\\n\\n\\n\\n\\n<!-- renderComponentVersion(component) -->\\n<section class=\"dmc-section targetable hidden\" id=\"mosaic-twothird-med-1\" data-config-metrics-group=\"Section\" data-config-metrics-title=\"mosaic-twothird-med-1\">\\n    \\n    \\n\\n    \\n\\n\\n\\n\\n\\n\\n\\n\\n\\n\\n\\n\\r\\n\\n\\n\\n\\n \\n\\t\\t\\t\\t\\n        \\n\\n\\n \\n\\n\\t\\r\\n    \\r\\n    \\r\\n    \\r\\n    \\r\\n\\t\\r\\n  \\t\\t\\r\\n\\t\\r\\n\\n\\n\\n\\n\\n\\n<!-- DM:components/mosaic/mosaic-tile-wide:V2.0.3 -->\\n<div class=\"dm0 dmc-mstl wide dm-cmcl nopd-thm compact full focal-C\">\\n\\n     \\t\\t<a class=\"lnk\" href=\"/c/en/us/products/security/cyber-vision/index.html\" data-config-metrics-item=\"IoT security: Secure your industrial control systems\">\\n\\n\\n    <div class=\"msimg\">\\n        \\n        \\t\\n\\n\\n\\n\\n\\n\\n\\n\\n\\t\\n\\t\\n\\t\\t\\n\\t\\t\\t<div class=\"dm-img\" src=\"/c/en/us/index/_jcr_content/homepagemaincontentparsys/full_9e22/Full/mosaic_row_wide_narr/mosaic_col_wide_parsys/section_container_10/target_content_parsys/mosaic_tile_wide_ed7.img.jpg/1584633255046.jpg\" title=\"Secure your industrial control systems\" alt=\"Secure your industrial control systems\">\\n\\t\\t\\t\\t<noscript class=\"dmimg-ns\"><img src=\"/c/en/us/index/_jcr_content/homepagemaincontentparsys/full_9e22/Full/mosaic_row_wide_narr/mosaic_col_wide_parsys/section_container_10/target_content_parsys/mosaic_tile_wide_ed7.img.jpg/1584633255046.jpg\" title=\"Secure your industrial control systems\" alt=\"Secure your industrial control systems\"></noscript>\\n\\t\\t\\t</div>\\n\\t\\t\\n\\t\\n\\n\\n        \\n    </div>\\n\\n    <div class=\"mscnt\">\\n        \\n        <p class=\"ebrw util\">IoT security</p>\\n        \\n\\n        <div class=\"inset\">\\n            <h3>Secure your industrial control systems</h3>\\n            <div class=\"desc\"><p>Learn how OT and IT teams can work together with Cisco Cyber Vision as an essential tool to secure industrial environments.</p>\\r\\n</div>\\n        </div>\\n\\n    </div>\\n\\n</a>\\n    \\n</div>\\n\\n</section>\\n\\n\\n\\n\\n\\n\\n\\n\\n\\r\\n\\r\\n\\r\\n\\n\\n    </div>\\n    <div class=\"mscol narrow\" data-config-metrics-title=\"Narrow Tile\">\\n        \\n\\n\\n\\n\\n\\n\\n\\n\\n\\n\\n\\n\\r\\n\\n\\n\\n\\n\\n\\n\\n\\n\\n\\n\\n<!-- renderComponentVersion(component) -->\\n<section class=\"dmc-section\" id=\"mosaic-onethird-med-1\" data-config-metrics-group=\"Section\" data-config-metrics-title=\"mosaic-onethird-med-1\">\\n    \\n    \\n\\n    \\n\\n\\n\\n\\n\\n\\n\\n\\n\\n\\n\\n\\r\\n\\n\\n\\n\\n \\n\\t\\t\\t\\t\\n        \\n\\n \\n\\n\\t\\r\\n    \\r\\n    \\r\\n    \\r\\n    \\r\\n\\t\\r\\n  \\t\\t\\r\\n\\t\\r\\n\\n\\n\\n\\n\\n<!-- DM:components/mosaic/mosaic-narrow-tile:V2.0.5 -->\\n<div class=\"dm0 dmc-mstl narrow dm-cmcl nopd-thm compact var-2 focal-R\">\\n\\t\\n\\t\\t<a class=\"lnk\" href=\"/c/en/us/solutions/enterprise-networks/promotions-free-trials/upgrade-to-catalyst-9200-series-switches-promotion.html?oid=ptien018389\" data-config-metrics-item=\"Promotion: Up to 35% more in trade-in value\">\\n\\t\\n\\t\\t\\t<div class=\"msimg\">\\n                \\n                    \\n\\n\\n\\n\\n\\n\\n\\n\\n\\t\\n\\t\\n\\t\\t\\n\\t\\t\\t<div class=\"dm-img\" src=\"/c/en/us/index/_jcr_content/homepagemaincontentparsys/full_9e22/Full/mosaic_row_wide_narr/mosaic_col_narrow_parsys/section_container_c2/target_content_parsys/mosaic_narrow_tile_d.img.jpg/1584457398925.jpg\" title=\"Up to 35% more in trade in value\" alt=\"Up to 35% more in trade in value\">\\n\\t\\t\\t\\t<noscript class=\"dmimg-ns\"><img src=\"/c/en/us/index/_jcr_content/homepagemaincontentparsys/full_9e22/Full/mosaic_row_wide_narr/mosaic_col_narrow_parsys/section_container_c2/target_content_parsys/mosaic_narrow_tile_d.img.jpg/1584457398925.jpg\" title=\"Up to 35% more in trade in value\" alt=\"Up to 35% more in trade in value\"></noscript>\\n\\t\\t\\t</div>\\n\\t\\t\\n\\t\\n\\n\\n                \\n            </div>\\n            <span class=\"gradient\"></span>   \\n\\t\\n            <div class=\"mscnt\">\\n\\t\\n\\t\\t\\t\\t<p class=\"ebrw util\">Promotion</p>\\n\\t\\n\\t<div class=\"inset\">\\n\\t\\t<h3>Up to 35% more in trade-in value</h3>\\n        <div class=\"desc\"><p>Upgrade from HPE ProCurve to Cisco Catalyst 9200 Series switches.</p>\\r\\n</div>\\n    </div>\\n\\t\\t\\t</div>\\n\\t\\n\\t\\t</a>\\n\\t\\t\\n</div>\\n\\n\\n</section>\\n\\n\\n\\n\\n\\n\\n\\n\\n\\r\\n\\r\\n\\r\\n\\n\\n    </div>\\n</div>\\n\\n\\n\\n\\n\\n\\n\\n\\n\\r\\n\\r\\n\\r\\n\\n<!--Mosaic Wide-Narrow row end-->\\n\\n\\n\\n\\n\\n\\n\\n\\n\\n\\n\\n\\n\\n\\r\\n\\n\\n\\n\\n \\n\\n\\t\\r\\n    \\r\\n    \\r\\n    \\r\\n    \\r\\n\\t\\r\\n  \\t\\t\\r\\n\\t\\r\\n\\n\\n<!-- DM:components/mosaic/rows/mosaic-row-thirds:V1.2.0 -->\\n<!--Mosaic Thirds row start-->\\n<div class=\"dmc-msrow thirds\" data-config-metrics-group=\"Mosaic Row\">\\n\\n    <div class=\"mscol third\" data-config-metrics-title=\"Small Tile 1\">\\n        \\n\\n\\n\\n\\n\\n\\n\\n\\n\\n\\n\\n\\r\\n\\n\\n\\n\\n\\n\\n\\n\\n\\n\\n\\n<!-- renderComponentVersion(component) -->\\n<section class=\"dmc-section\" id=\"mosaic-onethird-small-1\" data-config-metrics-group=\"Section\" data-config-metrics-title=\"mosaic-onethird-small-1\">\\n    \\n    \\n\\n    \\n\\n\\n\\n\\n\\n\\n\\n\\n\\n\\n\\n\\r\\n\\n\\n\\n\\n \\n\\t\\t\\t\\t\\n        \\n\\n \\n\\n\\t\\r\\n    \\r\\n    \\r\\n    \\r\\n    \\r\\n\\t\\r\\n  \\t\\t\\r\\n\\t\\r\\n\\n\\n\\n\\n\\n<!-- DM:components/mosaic/mosaic-narrow-tile:V2.0.5 -->\\n<div class=\"dm0 dmc-mstl narrow dm-cmcl nopd-thm compact var-3 focal-L\">\\n\\t\\n\\t\\t<a class=\"lnk\" href=\"https://mainstayadvisor.com/go/cisco/aci/\" data-config-metrics-item=\"ROI tool: Data center network automation\">\\n\\t\\n\\t\\t\\t<div class=\"msimg\">\\n                \\n                    \\n\\n\\n\\n\\n\\n\\n\\n\\n\\t\\n\\t\\n\\t\\t\\n\\t\\t\\t<div class=\"dm-img\" src=\"/c/en/us/index/_jcr_content/homepagemaincontentparsys/full_9e22/Full/mosaic_row_thirds_f7/mosaic_col_third_1_parsys/section_container_e6/target_content_parsys/mosaic_narrow_tile_8.img.jpg/1584633306196.jpg\" title=\"Data center network automation\" alt=\"Data center network automation\">\\n\\t\\t\\t\\t<noscript class=\"dmimg-ns\"><img src=\"/c/en/us/index/_jcr_content/homepagemaincontentparsys/full_9e22/Full/mosaic_row_thirds_f7/mosaic_col_third_1_parsys/section_container_e6/target_content_parsys/mosaic_narrow_tile_8.img.jpg/1584633306196.jpg\" title=\"Data center network automation\" alt=\"Data center network automation\"></noscript>\\n\\t\\t\\t</div>\\n\\t\\t\\n\\t\\n\\n\\n                \\n            </div>\\n            <span class=\"gradient\"></span>   \\n\\t\\n            <div class=\"mscnt\">\\n\\t\\n\\t\\t\\t\\t<p class=\"ebrw util\">ROI tool</p>\\n\\t\\n\\t<div class=\"inset\">\\n\\t\\t<h3>Data center network automation</h3>\\n        <div class=\"desc\"><p>See how much you can benefit with Cisco Application&nbsp;Centric&nbsp;Infrastructure.</p>\\r\\n</div>\\n    </div>\\n\\t\\t\\t</div>\\n\\t\\n\\t\\t</a>\\n\\t\\t\\n</div>\\n\\n\\n</section>\\n\\n\\n\\n\\n\\n\\n\\n\\n\\r\\n\\r\\n\\r\\n\\n\\n    </div>\\n\\n    <div class=\"mscol third\" data-config-metrics-title=\"Small Tile 2\">\\n        \\n\\n\\n\\n\\n\\n\\n\\n\\n\\n\\n\\n\\r\\n\\n\\n\\n\\n\\n\\n\\n\\n\\n\\n\\n<!-- renderComponentVersion(component) -->\\n<section class=\"dmc-section\" id=\"mosaic-onethird-small-2\" data-config-metrics-group=\"Section\" data-config-metrics-title=\"mosaic-onethird-small-2\">\\n    \\n    \\n\\n    \\n\\n\\n\\n\\n\\n\\n\\n\\n\\n\\n\\n\\r\\n\\n\\n\\n\\n \\n\\t\\t\\t\\t\\n        \\n\\n \\n\\n\\t\\r\\n    \\r\\n    \\r\\n    \\r\\n    \\r\\n\\t\\r\\n  \\t\\t\\r\\n\\t\\r\\n\\n\\n\\n\\n\\n<!-- DM:components/mosaic/mosaic-narrow-tile:V2.0.5 -->\\n<div class=\"dm0 dmc-mstl narrow dm-cmcl nopd-thm compact var-3 focal-C\">\\n\\t\\n\\t\\t<a class=\"lnk\" href=\"https://engage2demand.cisco.com/LP=19406\" data-config-metrics-item=\"IoT white paper:  In the age of industrial IoT\">\\n\\t\\n\\t\\t\\t<div class=\"msimg\">\\n                \\n                    \\n\\n\\n\\n\\n\\n\\n\\n\\n\\t\\n\\t\\n\\t\\t\\n\\t\\t\\t<div class=\"dm-img\" src=\"/c/en/us/index/_jcr_content/homepagemaincontentparsys/full_9e22/Full/mosaic_row_thirds_f7/mosaic_col_third_2_parsys/section_container_d6/target_content_parsys/mosaic_narrow_tile_9.img.jpg/1584458920110.jpg\" title=\"IT-OT Collaboration in the Age of Industrial IoT\" alt=\"IT-OT Collaboration in the Age of Industrial IoT\">\\n\\t\\t\\t\\t<noscript class=\"dmimg-ns\"><img src=\"/c/en/us/index/_jcr_content/homepagemaincontentparsys/full_9e22/Full/mosaic_row_thirds_f7/mosaic_col_third_2_parsys/section_container_d6/target_content_parsys/mosaic_narrow_tile_9.img.jpg/1584458920110.jpg\" title=\"IT-OT Collaboration in the Age of Industrial IoT\" alt=\"IT-OT Collaboration in the Age of Industrial IoT\"></noscript>\\n\\t\\t\\t</div>\\n\\t\\t\\n\\t\\n\\n\\n                \\n            </div>\\n            <span class=\"gradient\"></span>   \\n\\t\\n            <div class=\"mscnt\">\\n\\t\\n\\t\\t\\t\\t<p class=\"ebrw util\">IoT white paper</p>\\n\\t\\n\\t<div class=\"inset\">\\n\\t\\t<h3> In the age of industrial IoT</h3>\\n        <div class=\"desc\"><p>Collaboration between IT and OT is crucial as companies use digital industrial.</p>\\r\\n</div>\\n    </div>\\n\\t\\t\\t</div>\\n\\t\\n\\t\\t</a>\\n\\t\\t\\n</div>\\n\\n\\n</section>\\n\\n\\n\\n\\n\\n\\n\\n\\n\\r\\n\\r\\n\\r\\n\\n\\n    </div>\\n\\n    <div class=\"mscol third\" data-config-metrics-title=\"Small Tile 3\">\\n        \\n\\n\\n\\n\\n\\n\\n\\n\\n\\n\\n\\n\\r\\n\\n\\n\\n\\n\\n\\n\\n\\n\\n\\n\\n<!-- renderComponentVersion(component) -->\\n<section class=\"dmc-section\" id=\"mosaic-onethird-small-3\" data-config-metrics-group=\"Section\" data-config-metrics-title=\"mosaic-onethird-small-3\">\\n    \\n    \\n\\n    \\n\\n\\n\\n\\n\\n\\n\\n\\n\\n\\n\\n\\r\\n\\n\\n\\n\\n \\n\\t\\t\\t\\t\\n        \\n\\n \\n\\n\\t\\r\\n    \\r\\n    \\r\\n    \\r\\n    \\r\\n\\t\\r\\n  \\t\\t\\r\\n\\t\\r\\n\\n\\n\\n\\n\\n<!-- DM:components/mosaic/mosaic-narrow-tile:V2.0.5 -->\\n<div class=\"dm0 dmc-mstl narrow dm-cmcl nopd-thm compact var-3 focal-C\">\\n\\t\\n\\t\\t<a class=\"lnk\" href=\"https://www.webex.com/webexremotework.html?utm_source=CDCSite&utm_medium=OwnedContent&utm_campaign=WW_US_General&TrackID=cc001191\" data-config-metrics-item=\"Remote work: Stay productive from anywhere\">\\n\\t\\n\\t\\t\\t<div class=\"msimg\">\\n                \\n                    \\n\\n\\n\\n\\n\\n\\n\\n\\n\\t\\n\\t\\n\\t\\t\\n\\t\\t\\t<div class=\"dm-img\" src=\"/c/en/us/index/_jcr_content/homepagemaincontentparsys/full_9e22/Full/mosaic_row_thirds_f7/mosaic_col_third_3_parsys/section_container_bc/target_content_parsys/mosaic_narrow_tile_7.img.jpg/1584457483268.jpg\" title=\"Stay productive from anywhere\" alt=\"Stay productive from anywhere\">\\n\\t\\t\\t\\t<noscript class=\"dmimg-ns\"><img src=\"/c/en/us/index/_jcr_content/homepagemaincontentparsys/full_9e22/Full/mosaic_row_thirds_f7/mosaic_col_third_3_parsys/section_container_bc/target_content_parsys/mosaic_narrow_tile_7.img.jpg/1584457483268.jpg\" title=\"Stay productive from anywhere\" alt=\"Stay productive from anywhere\"></noscript>\\n\\t\\t\\t</div>\\n\\t\\t\\n\\t\\n\\n\\n                \\n            </div>\\n            <span class=\"gradient\"></span>   \\n\\t\\n            <div class=\"mscnt\">\\n\\t\\n\\t\\t\\t\\t<p class=\"ebrw util\">Remote work</p>\\n\\t\\n\\t<div class=\"inset\">\\n\\t\\t<h3>Stay productive from anywhere</h3>\\n        <div class=\"desc\"><p>If you\\'re new to remote work, we\\'re here to make the change easy.</p>\\r\\n</div>\\n    </div>\\n\\t\\t\\t</div>\\n\\t\\n\\t\\t</a>\\n\\t\\t\\n</div>\\n\\n\\n</section>\\n\\n\\n\\n\\n\\n\\n\\n\\n\\r\\n\\r\\n\\r\\n\\n \\n    </div>\\n\\n</div>\\n\\n\\n\\n\\n\\n\\n\\n\\n\\r\\n\\r\\n\\r\\n\\n<!--Mosaic Thirds row end-->\\n\\n\\n\\n\\n\\n\\n\\n\\n\\n\\n\\n\\r\\n\\n\\n\\n\\n \\n\\t\\t\\t\\t\\n        \\n\\n\\n    \\n\\n\\r\\n\\r\\n\\n\\n\\n\\t\\r\\n    \\r\\n    \\r\\n    \\r\\n    \\r\\n\\t\\r\\n  \\t\\t\\r\\n\\t\\r\\n\\t\\n\\n\\n<noscript>\\n    <style>\\n        .dmr.clip-content .clip, .dmr.clip-content .clip-wrap {\\n            overflow:visible;\\n            height: auto;\\n        }\\n    </style>\\n</noscript>\\n<!-- DM:components/blade/blade:V2.0.4 -->\\n<div class=\"dm0 dmc-bld compact header-center description-center cta-center \" data-config-metrics-group=\"Blade\" data-config-metrics-title=\"Helping our communities in uncertain times\">\\n    \\n        \\n        \\n            \\n        \\n    \\n    <div class=\"bl-cnt \">\\n        <div class=\"row full\">\\n            <div class=\"col full\">\\n                \\n                <div class=\"bld-text\">\\n                    \\n                    <div class=\"blade-header\">\\n\\t\\t\\t\\t\\t\\n                        \\n                        \\t<h2>Helping our communities in uncertain times</h2>\\n                        \\n                        \\n                    \\n                    </div>\\n                    \\n                    \\n                </div>\\n                \\n            </div>\\n        </div>\\n        <div class=\"row full \">\\n            \\n            <div class=\"col full\">\\n                \\n\\n            </div>\\n            \\n        </div>\\n        <div class=\"row full\">\\n            <div class=\"col full\">\\n\\t\\t\\t\\t\\n            </div>\\n        </div>\\n    </div>\\n</div>\\n\\n\\n\\n\\n\\n\\n\\n\\n\\r\\n\\r\\n\\r\\n\\n\\n\\n\\n\\n\\n\\n\\n\\n\\n\\n\\n\\r\\n\\n\\n\\n\\n \\n\\n\\t\\r\\n    \\r\\n    \\r\\n    \\r\\n    \\r\\n\\t\\r\\n  \\t\\t\\r\\n\\t\\r\\n\\n\\n<!-- DM:components/mosaic/rows/mosaic-row-thirds:V1.2.0 -->\\n<!--Mosaic Thirds row start-->\\n<div class=\"dmc-msrow thirds\" data-config-metrics-group=\"Mosaic Row\">\\n\\n    <div class=\"mscol third\" data-config-metrics-title=\"Small Tile 1\">\\n        \\n\\n\\n\\n\\n\\n\\n\\n\\n\\n\\n\\n\\r\\n\\n\\n\\n\\n\\n\\n\\n\\n\\n\\n\\n<!-- renderComponentVersion(component) -->\\n<section class=\"dmc-section\" id=\"mosaic-onethird-small2-1\" data-config-metrics-group=\"Section\" data-config-metrics-title=\"mosaic-onethird-small2-1\">\\n    \\n    \\n\\n    \\n\\n\\n\\n\\n\\n\\n\\n\\n\\n\\n\\n\\r\\n\\n\\n\\n\\n \\n\\t\\t\\t\\t\\n        \\n\\n \\n\\n\\t\\r\\n    \\r\\n    \\r\\n    \\r\\n    \\r\\n\\t\\r\\n  \\t\\t\\r\\n\\t\\r\\n\\n\\n\\n\\n\\n<!-- DM:components/mosaic/mosaic-narrow-tile:V2.0.5 -->\\n<div class=\"dm0 dmc-mstl narrow dm-cmcl nopd-thm compact var-3 focal-C\">\\n\\t\\n\\t\\t<a class=\"lnk\" href=\"https://blogs.cisco.com/datacenter/cisco-computing-is-making-it-easier-to-ramp-and-support-your-new-remote-workers\" data-config-metrics-item=\"Data Center: New offerings help customers support remote workers\">\\n\\t\\n\\t\\t\\t<div class=\"msimg\">\\n                \\n                    \\n\\n\\n\\n\\n\\n\\n\\n\\n\\t\\n\\t\\n\\t\\t\\n\\t\\t\\t<div class=\"dm-img\" src=\"/c/en/us/index/_jcr_content/homepagemaincontentparsys/full_9e22/Full/mosaic_row_thirds_41/mosaic_col_third_1_parsys/section_container_e6/target_content_parsys/mosaic_narrow_tile_8.img.jpg/1584560303234.jpg\" title=\"New offerings help customers support remote workers\" alt=\"New offerings help customers support remote workers\">\\n\\t\\t\\t\\t<noscript class=\"dmimg-ns\"><img src=\"/c/en/us/index/_jcr_content/homepagemaincontentparsys/full_9e22/Full/mosaic_row_thirds_41/mosaic_col_third_1_parsys/section_container_e6/target_content_parsys/mosaic_narrow_tile_8.img.jpg/1584560303234.jpg\" title=\"New offerings help customers support remote workers\" alt=\"New offerings help customers support remote workers\"></noscript>\\n\\t\\t\\t</div>\\n\\t\\t\\n\\t\\n\\n\\n                \\n            </div>\\n            <span class=\"gradient\"></span>   \\n\\t\\n            <div class=\"mscnt\">\\n\\t\\n\\t\\t\\t\\t<p class=\"ebrw util\">Data Center</p>\\n\\t\\n\\t<div class=\"inset\">\\n\\t\\t<h3>New offerings help customers support remote workers</h3>\\n        <div class=\"desc\"><p>Cisco helps ramp up and support your remote workers.</p>\\r\\n</div>\\n    </div>\\n\\t\\t\\t</div>\\n\\t\\n\\t\\t</a>\\n\\t\\t\\n</div>\\n\\n\\n</section>\\n\\n\\n\\n\\n\\n\\n\\n\\n\\r\\n\\r\\n\\r\\n\\n\\n    </div>\\n\\n    <div class=\"mscol third\" data-config-metrics-title=\"Small Tile 2\">\\n        \\n\\n\\n\\n\\n\\n\\n\\n\\n\\n\\n\\n\\r\\n\\n\\n\\n\\n\\n\\n\\n\\n\\n\\n\\n<!-- renderComponentVersion(component) -->\\n<section class=\"dmc-section\" id=\"mosaic-onethird-small2-2\" data-config-metrics-group=\"Section\" data-config-metrics-title=\"mosaic-onethird-small2-2\">\\n    \\n    \\n\\n    \\n\\n\\n\\n\\n\\n\\n\\n\\n\\n\\n\\n\\r\\n\\n\\n\\n\\n \\n\\t\\t\\t\\t\\n        \\n\\n \\n\\n\\t\\r\\n    \\r\\n    \\r\\n    \\r\\n    \\r\\n\\t\\r\\n  \\t\\t\\r\\n\\t\\r\\n\\n\\n\\n\\n\\n<!-- DM:components/mosaic/mosaic-narrow-tile:V2.0.5 -->\\n<div class=\"dm0 dmc-mstl narrow dm-cmcl nopd-thm compact var-3 focal-L\">\\n\\t\\n\\t\\t<a class=\"lnk\" href=\"https://blogs.cisco.com/news/care-and-quality-when-it-matters-most-it-preparedness-for-covid-19\" data-config-metrics-item=\"Executive platform: Care and quality when it matters most\">\\n\\t\\n\\t\\t\\t<div class=\"msimg\">\\n                \\n                    \\n\\n\\n\\n\\n\\n\\n\\n\\n\\t\\n\\t\\n\\t\\t\\n\\t\\t\\t<div class=\"dm-img\" src=\"/c/en/us/index/_jcr_content/homepagemaincontentparsys/full_9e22/Full/mosaic_row_thirds_41/mosaic_col_third_2_parsys/section_container_d6/target_content_parsys/mosaic_narrow_tile_9.img.jpg/1584559776525.jpg\" title=\"Care and quality when it matters most\" alt=\"Care and quality when it matters most\">\\n\\t\\t\\t\\t<noscript class=\"dmimg-ns\"><img src=\"/c/en/us/index/_jcr_content/homepagemaincontentparsys/full_9e22/Full/mosaic_row_thirds_41/mosaic_col_third_2_parsys/section_container_d6/target_content_parsys/mosaic_narrow_tile_9.img.jpg/1584559776525.jpg\" title=\"Care and quality when it matters most\" alt=\"Care and quality when it matters most\"></noscript>\\n\\t\\t\\t</div>\\n\\t\\t\\n\\t\\n\\n\\n                \\n            </div>\\n            <span class=\"gradient\"></span>   \\n\\t\\n            <div class=\"mscnt\">\\n\\t\\n\\t\\t\\t\\t<p class=\"ebrw util\">Executive platform</p>\\n\\t\\n\\t<div class=\"inset\">\\n\\t\\t<h3>Care and quality when it matters most</h3>\\n        <div class=\"desc\"><p>IT preparedness for COVID-19.</p>\\r\\n</div>\\n    </div>\\n\\t\\t\\t</div>\\n\\t\\n\\t\\t</a>\\n\\t\\t\\n</div>\\n\\n\\n</section>\\n\\n\\n\\n\\n\\n\\n\\n\\n\\r\\n\\r\\n\\r\\n\\n\\n    </div>\\n\\n    <div class=\"mscol third\" data-config-metrics-title=\"Small Tile 3\">\\n        \\n\\n\\n\\n\\n\\n\\n\\n\\n\\n\\n\\n\\r\\n\\n\\n\\n\\n\\n\\n\\n\\n\\n\\n\\n<!-- renderComponentVersion(component) -->\\n<section class=\"dmc-section\" id=\"mosaic-onethird-small2-3\" data-config-metrics-group=\"Section\" data-config-metrics-title=\"mosaic-onethird-small2-3\">\\n    \\n    \\n\\n    \\n\\n\\n\\n\\n\\n\\n\\n\\n\\n\\n\\n\\r\\n\\n\\n\\n\\n \\n\\t\\t\\t\\t\\n        \\n\\n \\n\\n\\t\\r\\n    \\r\\n    \\r\\n    \\r\\n    \\r\\n\\t\\r\\n  \\t\\t\\r\\n\\t\\r\\n\\n\\n\\n\\n\\n<!-- DM:components/mosaic/mosaic-narrow-tile:V2.0.5 -->\\n<div class=\"dm0 dmc-mstl narrow dm-cmcl nopd-thm compact var-3 focal-C\">\\n\\t\\n\\t\\t<a class=\"lnk\" href=\"https://blogs.cisco.com/developer/business-continuity\" data-config-metrics-item=\"Blog: Cisco enables \\'work from home\\' in light of COVID-19\">\\n\\t\\n\\t\\t\\t<div class=\"msimg\">\\n                \\n                    \\n\\n\\n\\n\\n\\n\\n\\n\\n\\t\\n\\t\\n\\t\\t\\n\\t\\t\\t<div class=\"dm-img\" src=\"/c/en/us/index/_jcr_content/homepagemaincontentparsys/full_9e22/Full/mosaic_row_thirds_41/mosaic_col_third_3_parsys/section_container_bc/target_content_parsys/mosaic_narrow_tile_f.img.jpg/1584559652345.jpg\" title=\"Cisco enables \\'work from home\\' in light of COVID-19\" alt=\"Cisco enables \\'work from home\\' in light of COVID-19\">\\n\\t\\t\\t\\t<noscript class=\"dmimg-ns\"><img src=\"/c/en/us/index/_jcr_content/homepagemaincontentparsys/full_9e22/Full/mosaic_row_thirds_41/mosaic_col_third_3_parsys/section_container_bc/target_content_parsys/mosaic_narrow_tile_f.img.jpg/1584559652345.jpg\" title=\"Cisco enables \\'work from home\\' in light of COVID-19\" alt=\"Cisco enables \\'work from home\\' in light of COVID-19\"></noscript>\\n\\t\\t\\t</div>\\n\\t\\t\\n\\t\\n\\n\\n                \\n            </div>\\n            <span class=\"gradient\"></span>   \\n\\t\\n            <div class=\"mscnt\">\\n\\t\\n\\t\\t\\t\\t<p class=\"ebrw util\">Blog</p>\\n\\t\\n\\t<div class=\"inset\">\\n\\t\\t<h3>Cisco enables \\'work from home\\' in light of COVID-19</h3>\\n        <div class=\"desc\"><p>Business continuity is our priority in this unprecedented time.</p>\\r\\n</div>\\n    </div>\\n\\t\\t\\t</div>\\n\\t\\n\\t\\t</a>\\n\\t\\t\\n</div>\\n\\n\\n</section>\\n\\n\\n\\n\\n\\n\\n\\n\\n\\r\\n\\r\\n\\r\\n\\n \\n    </div>\\n\\n</div>\\n\\n\\n\\n\\n\\n\\n\\n\\n\\r\\n\\r\\n\\r\\n\\n<!--Mosaic Thirds row end-->\\n\\n    </div>\\n</div>\\n\\n\\n\\n\\n\\n\\n\\n\\n\\n\\n\\n\\r\\n\\n\\n\\n\\n \\n\\t\\t\\t\\t\\n        \\n\\n\\n    \\n\\n\\r\\n\\r\\n\\n\\n\\n\\t\\r\\n    \\r\\n    \\r\\n    \\r\\n    \\r\\n\\t\\r\\n  \\t\\t\\r\\n\\t\\r\\n\\t\\n\\n\\n<noscript>\\n    <style>\\n        .dmr.clip-content .clip, .dmr.clip-content .clip-wrap {\\n            overflow:visible;\\n            height: auto;\\n        }\\n    </style>\\n</noscript>\\n<!-- DM:components/blade/blade:V2.0.4 -->\\n<div class=\"dm0 dmc-bld compact header-center description-center cta-center blade-social\" data-config-metrics-group=\"Blade\">\\n    \\n        \\n        \\n            \\n        \\n    \\n    <div class=\"bl-cnt \">\\n        <div class=\"row full\">\\n            <div class=\"col full\">\\n                \\n            </div>\\n        </div>\\n        <div class=\"row full \">\\n            \\n            <div class=\"col full\">\\n                \\n\\n\\n\\n\\n\\n\\n\\n\\r\\n\\n\\n\\n\\r\\n\\n\\n\\n\\r\\n\\r\\n\\r\\n\\r\\n\\r\\n\\r\\n\\r\\n\\r\\n\\r\\n\\r\\n\\r\\n\\r\\n<!-- DM:components/html/htmlblob:V1.2.4 -->\\r\\n\\r\\n\\r\\n\\t\\r\\n\\r\\n  \\r\\n\\r\\n\\r\\n\\t<!-- Override to fix issues with Gallery -->\\n<style>\\n  .blade-social,\\n  .blade-social .col,\\n  .blade-social .row {\\n    display: block !important;\\n    width: 100% !important;\\n  }\\n</style>\\r\\n\\r\\n\\n\\n\\n\\n\\n\\n\\n\\n\\n\\n\\n\\n\\r\\n\\n\\n\\n\\n\\n\\n\\n\\n\\n\\n\\n<!-- renderComponentVersion(component) -->\\n<section class=\"dmc-section\" id=\"social-feed\" data-config-metrics-group=\"Section\" data-config-metrics-title=\"social-feed\">\\n    \\n    \\n\\n    \\n\\n\\n\\n\\n\\n\\n\\n\\r\\n\\n\\n\\n\\r\\n\\n\\n\\n\\r\\n\\r\\n\\r\\n\\r\\n\\r\\n\\r\\n\\r\\n\\r\\n\\r\\n\\r\\n\\r\\n\\r\\n<!-- DM:components/html/htmlblob:V1.2.4 -->\\r\\n\\r\\n\\r\\n\\t\\r\\n\\r\\n  \\r\\n\\r\\n\\r\\n\\t<div id=\"sprinklr-embed-control-1035-ZW1iZWQ6NWJjZjJhZDAxNjIzYWUxYTM0YzRlOTg0\" class=\"swe_embed_controls\"></div>\\r\\n<div id=\"sprinklr-embed-1035-ZW1iZWQ6NWJjZjJhZDAxNjIzYWUxYTM0YzRlOTg0\" class=\"swe_embed\" data-filter-product=\"\" data-filter-custom-field=\"Homepage\"></div>\\r\\n<script id=\"sprinklr-embed-loader-1035-ZW1iZWQ6NWJjZjJhZDAxNjIzYWUxYTM0YzRlOTg0\" type=\"text/javascript\" src=\"https://gallery.sprinklr.com/clients/1035/embeds/ZW1iZWQ6NWJjZjJhZDAxNjIzYWUxYTM0YzRlOTg0/script.js\">\\r\\n</script>\\r\\n\\r\\n<br><br>\\r\\n\\r\\n\\n\\n</section>\\n\\n\\n\\n\\n\\n\\n\\n\\n\\r\\n\\r\\n\\r\\n\\n\\n            </div>\\n            \\n        </div>\\n        <div class=\"row full\">\\n            <div class=\"col full\">\\n\\t\\t\\t\\t\\n            </div>\\n        </div>\\n    </div>\\n</div>\\n\\n\\n\\n\\n\\n\\n\\n\\n\\r\\n\\r\\n\\r\\n\\n\\n\\n\\n\\n\\n\\n\\n\\n\\n\\n\\n\\n\\n\\n\\n\\n\\n\\n\\n\\n\\n\\n\\n\\n\\n\\n\\n\\n\\n<div class=\"row full blowout no-padding\" data-owner=\"ID\">\\n    <div class=\"col full\">\\n        \\n        \\n\\n\\n\\n\\n\\n\\n\\n\\n\\n\\n\\n\\n\\n<div class=\"fwt-fatfooter media\">\\n    <div id=\"social-and-news\">\\n\\n        <section id=\"social\">\\n            <span id=\"ff-followus\">Follow Us</span>\\n\\n            <a id=\"ff-twitter\" href=\"//twitter.com/Cisco/\" role=\"twitter_url\" title=\"twitter\" target=\"_self\">\\n                <svg width=\"32\" height=\"32\" viewBox=\"0 0 32 32\" role=\"img\" xmlns=\"http://www.w3.org/2000/svg\" xmlns:xlink=\"http://www.w3.org/1999/xlink\"><path d=\"m31.38462,7.26845c-1.15385,0.48174 -2.30769,0.84304 -3.58974,0.96348c1.28205,-0.72261 2.30769,-3.54002 2.82051,-4.21523c-1.28205,1.27739 -2.5641,0.79565 -3.97436,0.55478c-1.28205,-0.79565 -2.94872,-0.07304 -4.74359,-0.07304c-3.46154,0 -6.28205,2.64957 -6.28205,5.90132c0,0.48174 0,0.96348 0.12821,1.32479c-5.25642,-0.24087 -9.8718,-2.52914 -12.94872,-6.31003c-0.64103,-0.84304 -0.89744,2.0948 -0.89744,3.17871c0,2.0474 1.15385,3.85393 2.82051,4.93784c-1.02564,-0.12043 -2.05128,-0.3613 -2.82051,-0.72261c0,0 0,0 0,0.12044c0,2.89044 2.17949,5.29914 5,5.78088c-0.51282,0.12044 -1.02564,0.24087 -1.66667,0.24087c-0.38461,0 -0.76923,0 -1.15384,-0.12043c0.76923,2.4087 3.07692,4.09479 5.89743,4.09479c-2.17948,1.56566 -4.87179,2.52914 -7.82051,2.52914c-0.51282,0 -1.02564,0 -1.53846,-0.12043c2.82051,1.50152 6.15385,2.64957 9.61538,2.64957c11.66667,0 17.94872,-9.03264 17.94872,-16.86092l0,-0.72261c1.28205,-0.84304 2.30769,-1.92696 3.20513,-3.13131\" fill=\"#fff\"/></svg>\\n            </a>\\n\\n            <a id=\"ff-facebook\" href=\"//www.facebook.com/Cisco/\" role=\"facebook_url\" title=\"facebook\" target=\"_self\">\\n                <svg width=\"32\" height=\"32\" viewBox=\"0 0 32 32\" role=\"img\" xmlns=\"http://www.w3.org/2000/svg\" xmlns:xlink=\"http://www.w3.org/1999/xlink\"><path d=\"m26.62006,4l-22.2403,0c-0.7622,0 -1.37976,0.59894 -1.37976,1.33804l0,21.56635c0,0.73891 0.61756,1.33803 1.37976,1.33803l11.97343,0l0,-9.38796l-3.25793,0l0,-3.65868l3.25793,0l0,-2.69815c0,-3.13113 1.97213,-4.83613 4.85266,-4.83613c1.37975,0 2.56571,0.09955 2.91135,0.14415l0,3.2722l-1.99788,0.00091c-1.56654,0 -1.86993,0.72183 -1.86993,1.7812l0,2.33582l3.7362,0l-0.48652,3.65868l-3.24968,0l0,9.38796l6.37067,0c0.76191,0 1.37975,-0.59912 1.37975,-1.33803l0,-21.56635c0,-0.7391 -0.61784,-1.33804 -1.37975,-1.33804\" fill=\"#fff\"/></svg>\\n            </a>\\n\\n            <a id=\"ff-instagram\" href=\"//www.instagram.com/cisco/\" role=\"instagram_url\" title=\"instagram\" target=\"_self\">\\n                <svg width=\"32\" height=\"32\" viewBox=\"0 0 32 32\" role=\"img\" xmlns=\"http://www.w3.org/2000/svg\" xmlns:xlink=\"http://www.w3.org/1999/xlink\"><g fill=\"#fff\"><path d=\"m22.23823,2.07724l-12.4768,0c-4.23706,0 -7.68419,3.44729 -7.68419,7.68435l0,12.4768c0,4.23723 3.44713,7.68436 7.68419,7.68436l12.4768,0c4.23739,0 7.68452,-3.4473 7.68452,-7.68436l0,-12.4768c0.00016,-4.23706 -3.44713,-7.68435 -7.68452,-7.68435zm5.21409,20.16115c0,2.87494 -2.33899,5.21377 -5.21393,5.21377l-12.47696,0c-2.87478,0.00016 -5.2136,-2.33883 -5.2136,-5.21377l0,-12.4768c0,-2.87477 2.33882,-5.21376 5.2136,-5.21376l12.4768,0c2.87494,0 5.21393,2.33899 5.21393,5.21376l0,12.4768l0.00016,0z\"/><path d=\"m15.99999,8.82524c-3.9564,0 -7.17508,3.21868 -7.17508,7.17508c0,3.95624 3.21868,7.17476 7.17508,7.17476c3.9564,0 7.17509,-3.21852 7.17509,-7.17476c0,-3.9564 -3.21869,-7.17508 -7.17509,-7.17508zm0,11.87908c-2.59395,0 -4.70449,-2.11021 -4.70449,-4.70416c0,-2.59412 2.11038,-4.7045 4.70449,-4.7045c2.59412,0 4.7045,2.11038 4.7045,4.7045c0,2.59395 -2.11054,4.70416 -4.7045,4.70416z\"/><path d=\"m23.47599,6.73035c-0.476,0 -0.9436,0.1927 -1.27976,0.53035c-0.33781,0.336 -0.532,0.80376 -0.532,1.28141c0,0.47617 0.19435,0.94377 0.532,1.28141c0.336,0.336 0.80376,0.53036 1.27976,0.53036c0.47765,0 0.94377,-0.19436 1.28141,-0.53036c0.33765,-0.33764 0.53036,-0.80541 0.53036,-1.28141c0,-0.47765 -0.19271,-0.94541 -0.53036,-1.28141c-0.336,-0.33765 -0.80376,-0.53035 -1.28141,-0.53035z\"/></g></svg>\\n            </a>\\n\\n            <a id=\"ff-linkedin\" href=\"//www.linkedin.com/company/cisco\" role=\"linkedin_url\" title=\"linkedin\" target=\"_self\">\\n                <svg width=\"32\" height=\"32\" viewBox=\"0 0 32 32\" role=\"img\" xmlns=\"http://www.w3.org/2000/svg\" xmlns:xlink=\"http://www.w3.org/1999/xlink\"><path d=\"m24.80382,24.53603l-3.70694,0l0,-5.62559c0,-1.34209 -0.02431,-3.06801 -1.92709,-3.06801c-1.92986,0 -2.22361,1.46262 -2.22361,2.97171l0,5.72189l-3.70347,0l0,-11.56902l3.55417,0l0,1.58181l0.05069,0c0.49445,-0.90976 1.70486,-1.86868 3.50903,-1.86868c3.75347,0 4.44722,2.39528 4.44722,5.51111l0,6.34478zm-15.74236,-13.1495c-1.19097,0 -2.15139,-0.934 -2.15139,-2.08552c0,-1.15084 0.96042,-2.08485 2.15139,-2.08485c1.18611,0 2.14931,0.93401 2.14931,2.08485c0,1.15152 -0.9632,2.08552 -2.14931,2.08552l0,0zm1.85486,13.1495l0,-11.56902l-3.71111,0l0,11.56902l3.71111,0zm15.73403,-20.65724l-21.30556,0c-1.01736,0 -1.84444,0.78249 -1.84444,1.74815l0,20.74545c0,0.96499 0.82708,1.74882 1.84444,1.74882l21.30556,0c1.02014,0 1.84931,-0.78383 1.84931,-1.74882l0,-20.74545c0,-0.96566 -0.82917,-1.74815 -1.84931,-1.74815l0,0z\" fill=\"#fff\" fill-rule=\"evenodd\"/></svg>\\n            </a>\\n\\n            <a id=\"ff-youtube\" href=\"//www.youtube.com/user/cisco\" role=\"youtube_url\" title=\"youtube\" target=\"_self\">\\n                <svg width=\"32\" height=\"32\" viewBox=\"0 0 32 32\" role=\"img\" xmlns=\"http://www.w3.org/2000/svg\" xmlns:xlink=\"http://www.w3.org/1999/xlink\"><path d=\"m12.73901,19.93335l-0.00144,-8.54172l8.47104,4.28574l-8.4696,4.25598zm18.59878,-10.02146c0,0 -0.30631,-2.09493 -1.24635,-3.01746c-1.19214,-1.21081 -2.52842,-1.21682 -3.14122,-1.28769c-4.38704,-0.30753 -10.96784,-0.30753 -10.96784,-0.30753l-0.01363,0c0,0 -6.58064,0 -10.96784,0.30753c-0.61283,0.07087 -1.94862,0.07688 -3.14119,1.28769c-0.93998,0.92253 -1.24586,3.01746 -1.24586,3.01746c0,0 -0.31352,2.46013 -0.31352,4.92024l0,2.30635c0,2.46008 0.31352,4.92018 0.31352,4.92018c0,0 0.30588,2.09496 1.24586,3.01749c1.19257,1.21085 2.7591,1.17254 3.45682,1.29945c2.50808,0.23321 10.65906,0.30539 10.65906,0.30539c0,0 6.58758,-0.00962 10.97462,-0.31712c0.6128,-0.07089 1.94908,-0.07687 3.14122,-1.28772c0.94004,-0.92253 1.24635,-3.01749 1.24635,-3.01749c0,0 0.31306,-2.4601 0.31306,-4.92018l0,-2.30635c0,-2.46011 -0.31306,-4.92024 -0.31306,-4.92024l0,0z\" fill=\"#fff\"/></svg>\\n            </a>\\n\\n        </section>\\n\\n        <section id=\"news\">\\n            <button id=\"ff-news-button\">News & Events<span class=\"caret\"></span></button><a id=\"ff-news\" href=\"//newsroom.cisco.com\" role=\"Newsroom_url\" title=\"Newsroom\"><svg width=\"32\" height=\"32\" viewBox=\"0 0 32 32\" role=\"img\" xmlns=\"http://www.w3.org/2000/svg\" xmlns:xlink=\"http://www.w3.org/1999/xlink\"><path d=\"m25.5,4.5l0,23l-19,0c-1.133,0 -2,-0.886 -2,-2.045l0,-20.955l19,0l0,20.955c0,1.159 0.867,2.045 2,2.045c1.133,0 2,-0.886 2,-2.045l0,-19.955c0,0.128 -2,-1 -2,-1zm-18,3.99l0,4.02c0,0.539 0.444,0.99 0.993,0.99l10.94,0c0.54748,0.00055 0.9919,-0.44252 0.993,-0.99l0,-4.02c0,-0.539 -0.445,-0.99 -0.993,-0.99l-10.94,0c-0.54748,-0.00055 -0.9919,0.44252 -0.993,0.99zm0,15.01c0,0.556 0.444,1 0.993,1l10.94,0c0.55024,-0.00221 0.99466,-0.44976 0.993,-1c0,-0.556 -0.445,-1 -0.993,-1l-10.94,0c-0.55024,0.00221 -0.99466,0.44976 -0.993,1zm0,-3c0,0.556 0.444,1 0.993,1l10.94,0c0.55024,-0.00221 0.99466,-0.44976 0.993,-1c0,-0.556 -0.445,-1 -0.993,-1l-10.94,0c-0.55024,0.00221 -0.99466,0.44976 -0.993,1zm0,-3c0,0.556 0.444,1 0.993,1l10.94,0c0.55024,-0.00221 0.99466,-0.44976 0.993,-1c0,-0.556 -0.445,-1 -0.993,-1l-10.94,0c-0.55024,0.00221 -0.99466,0.44976 -0.993,1z\" fill=\"#fff\"/></svg><span>Newsroom</span></a><a id=\"ff-events\" href=\"//www.cisco.com/c/en/us/training-events.html\" role=\"Events_url\" title=\"Events\"><svg width=\"32\" height=\"32\" viewBox=\"0 0 32 32\" role=\"img\" xmlns=\"http://www.w3.org/2000/svg\" xmlns:xlink=\"http://www.w3.org/1999/xlink\"><path d=\"m25.5,8.32l-16.01,0c-0.64,0 -1.17,0.53 -1.17,1.18c0,0.657 0.522,1.18 1.17,1.18l16.01,0c0.45287,0 0.82,0.36713 0.82,0.82l0,15c0,0.45287 -0.36713,0.82 -0.82,0.82l-19,0c-0.45287,0 -0.82,-0.36713 -0.82,-0.82l0,-21c0,-0.45287 0.36713,-0.82 0.82,-0.82l19,0c0.45287,0 0.82,0.36713 0.82,0.82l0,2c0,0.45287 -0.36713,0.82 -0.82,0.82l0,0zm-16.18,14.36l5.36,0l0,-3.36l-5.36,0l0,3.36zm7.5,0l5.36,0l0,-3.36l-5.36,0l0,3.36zm-7.5,-9.36l0,3.36l5.36,0l0,-3.36l-5.36,0zm7.5,3.36l5.36,0l0,-3.36l-5.36,0l0,3.36z\" fill=\"#fff\"/></svg><span>Events</span></a><a id=\"ff-blogs\" href=\"//blogs.cisco.com\" role=\"Blogs_url\" title=\"Blogs\"><svg width=\"32\" height=\"32\" viewBox=\"0 0 32 32\" role=\"img\" xmlns=\"http://www.w3.org/2000/svg\" xmlns:xlink=\"http://www.w3.org/1999/xlink\"><g fill=\"#fff\"><path d=\"m8.9216,24.18273l-3.5616,0c-0.50722,0 -0.9184,-0.41118 -0.9184,-0.9184l0,-14.56c0,-0.50722 0.41118,-0.9184 0.9184,-0.9184l7.84,0c0.37158,-0.00016 0.70664,0.22361 0.84886,0.56689c0.14221,0.34329 0.06356,0.73844 -0.19926,1.00111l-1.44368,1.4448c-0.308,0.308 -0.65296,0.97888 -0.72464,1.40672l-0.7504,4.50016c-0.04144,0.25088 0.14224,0.67536 0.35504,0.8176l1.48848,0.99232c0.2688,0.1792 0.8288,0.23744 1.12448,0.11984l3.51904,-1.40784c0.4424,-0.17696 1.10656,-0.65408 1.41568,-1.01584l5.98864,-6.98544c0.17445,-0.20395 0.42938,-0.32139 0.69776,-0.32144l1.12,0c0.24377,0 0.47754,0.09691 0.6498,0.26939c0.17227,0.17247 0.2689,0.40636 0.2686,0.65013l0,13.44c0,0.50722 -0.41118,0.9184 -0.9184,0.9184l-10.8192,0l-5.3312,5.3312c-0.26267,0.26282 -0.65782,0.34147 -1.00111,0.19926c-0.34328,-0.14222 -0.56705,-0.47728 -0.56689,-0.84886l0,-4.6816l0,0z\"></path><path d=\"m23.5992,2.38081c0.21868,-0.21861 0.57316,-0.21861 0.79184,0l2.37664,2.3744c0.10533,0.10506 0.16452,0.24771 0.16452,0.39648c0,0.14877 -0.05919,0.29142 -0.16452,0.39648l-8.7472,8.7472c-0.06163,0.06164 -0.1368,0.10805 -0.21952,0.13552l-3.56384,1.1872c-0.20119,0.06727 -0.42312,0.01508 -0.57325,-0.1348c-0.15012,-0.14989 -0.20266,-0.37174 -0.13571,-0.57304l1.18832,-3.56384c0.0273,-0.08222 0.07331,-0.15698 0.1344,-0.2184l8.74832,-8.7472l0,0z\"></path></g></svg><span>Blogs</span></a><a id=\"ff-communities\" href=\"https://community.cisco.com\" role=\"Community_url\" title=\"Community\"><svg width=\"32\" height=\"32\" viewBox=\"0 0 32 32\" role=\"img\" xmlns=\"http://www.w3.org/2000/svg\" xmlns:xlink=\"http://www.w3.org/1999/xlink\"><path d=\"m6.37818,10.25091c0,-2.4401 1.97809,-4.41819 4.41818,-4.41819c2.4401,0 4.41819,1.97809 4.41819,4.41819c0,2.44009 -1.97809,4.41818 -4.41819,4.41818c-2.44009,0 -4.41818,-1.97809 -4.41818,-4.41818l0,0zm14.18182,-0.25091c0,-1.09908 0.58635,-2.11467 1.53818,-2.66421c0.95183,-0.54954 2.12454,-0.54954 3.07637,0c0.95183,0.54954 1.53818,1.56513 1.53818,2.66421c0,1.69903 -1.37734,3.07636 -3.07637,3.07636c-1.69902,0 -3.07636,-1.37733 -3.07636,-3.07636l0,0zm-16.36364,10.90909c0,-1.39645 0.55548,-2.73555 1.54394,-3.72196c0.98847,-0.98642 2.32871,-1.53912 3.72515,-1.53622l2.16,0c2.90837,0 5.2691,2.35636 5.2691,5.25818l0,4.36363c0,0.23725 -0.09425,0.46478 -0.26201,0.63254c-0.16776,0.16776 -0.39529,0.26201 -0.63254,0.26201l-10.90909,0c-0.49404,0 -0.89455,-0.4005 -0.89455,-0.89455l0,-4.36363l0,0zm15.27273,-2.18509c0.05182,-2.26438 1.90231,-4.07301 4.16727,-4.07301c2.26497,0 4.11546,1.80863 4.16728,4.07301l0,6.54872c0,0.49405 -0.40051,0.89455 -0.89455,0.89455l-6.54545,0c-0.49405,0 -0.89455,-0.4005 -0.89455,-0.89455l0,-6.54872l0,0z\" fill=\"#fff\"/></svg><span>Community</span></a>\\n        </section>\\n\\n    </div>\\n</div>\\n\\n\\n\\n\\n\\n\\n\\n\\n\\r\\n\\n\\n\\n\\r\\n\\n\\n\\n\\r\\n\\r\\n\\r\\n\\r\\n\\r\\n\\r\\n\\r\\n\\r\\n\\r\\n\\r\\n\\r\\n\\r\\n<!-- DM:components/html/htmlblob:V1.2.4 -->\\r\\n\\r\\n\\r\\n\\t\\r\\n\\r\\n  \\r\\n\\r\\n\\r\\n\\t<div class=\"fwt-fatfooter new-fatfooter\">\\r\\n  <div class=\"row quarters\">\\r\\n    <div class=\"col quarter\"><a href=\"javascript: void(0);\">About Us<span class=\"caret\"></span></a> <!-- Mobile Header --> \\r\\n      <ul>\\r\\n        <li class=\"desktop-item\"><a href=\"/c/en/us/about.html\">About Us</a></li>                           <!-- desktop link --> \\r\\n        <li class=\"mobile-item\"><a href=\"/c/en/us/about.html\">About Cisco</a></li>                         <!-- mobile link --> \\r\\n\\r\\n<li><a href=\"/c/en/us/about/case-studies-customer-success-stories.html\">Customer stories</a></li>\\r\\n\\r\\n\\r\\n        <li><a href=\"https://investor.cisco.com/investor-relations/overview/default.aspx\">Investor relations</a></li>\\r\\n        <li><a href=\"/c/en/us/about/csr.html\">Social responsibility</a></li>\\r\\n        <li><a href=\"/c/en/us/about/csr/impact/environmental-sustainability.html\">Environmental sustainability</a></li>\\r\\n<li><a href=\"/c/en/us/about/corporate-social-responsibility/statement-slavery-human-trafficking.html\">Supply chain transparency</a>\\r\\n        <li><a href=\"/c/en/us/about/trust-center.html\">The Trust Center</a></li>\\r\\n      </ul>\\r\\n    </div>\\r\\n    <div class=\"col quarter\"><a href=\"javascript: void(0);\">Contact Us<span class=\"caret\"></span></a>   <!-- Mobile Header --> \\r\\n      <ul>\\r\\n        <li class=\"desktop-item\"><a href=\"/c/en/us/about/contact-cisco.html\">Contact Us</a></li>     <!--  desktop link -->\\r\\n       <li class=\"mobile-item\"><a href=\"/c/en/us/about/contact-cisco.html\">Contact Cisco</a></li>    <!-- mobile link --> \\r\\n        <li><a href=\"/c/en/us/solutions/partner-ecosystem.html\">Meet our partners</a></li>\\r\\n        <li><a href=\"https://locatr.cloudapps.cisco.com/WWChannels/LOCATR/openBasicSearch.do\">Find a reseller</a></li>\\r\\n      </ul>\\r\\n    </div>\\r\\n    <div class=\"col quarter\"><a href=\"javascript: void(0);\">Work with Us<span class=\"caret\"></span></a>    <!-- Mobile Header --> \\r\\n      <ul>\\r\\n        <li><a href=\"/c/en/us/about/careers.html\">Careers</a></li>                                         \\r\\n        <li><a href=\"/c/en/us/about/careers/we-are-cisco.html\">We Are Cisco</a></li>\\r\\n        <li><a href=\"/c/en/us/about/careers/we-are-cisco/people-deal.html\">Our People Deal</a></li>\\r\\n        <li><a href=\"/c/en/us/partners/partner-with-cisco.html\">Partner with Cisco</a></li>\\r\\n      </ul>\\r\\n    </div>\\r\\n    <div class=\"col quarter\" id=\"cisco-sites\"> <a href=\"javascript: void(0);\">Cisco Sites<span class=\"caret\"></span></a>   <!-- Mobile Header --> \\r\\n      <ul>\\r\\n        <li><a href=\"https://meraki.cisco.com/\">Meraki</a> </li>\\r\\n        <li><a href=\"https://www.webex.com/\">Webex</a> </li>\\r\\n        <li><a href=\"/c/en/us/solutions/collaboration/webex-teams.html\">Webex Teams</a> </li>\\r\\n<li><a href=\"https://umbrella.cisco.com/?utm_medium=web-referral&utm_source=cisco\">Cisco Umbrella</a></li>\\r\\n      </ul>\\r\\n    </div>\\r\\n  </div>\\r\\n</div>\\r\\n\\r\\n\\r\\n\\n\\n    </div>\\n</div>\\n \\n</div>\\n    \\n\\n\\n\\n\\n\\n\\n\\n\\n\\n\\n\\n\\n\\n\\n\\n\\n\\n\\n\\n<footer id=\"fw-footer\" class=\"container \" tabindex=\"-1\" data-owner=\"ID\">\\n    <ul>\\n        <li><a href=\"//www.cisco.com/c/en/us/about/contact-cisco.html\">Contacts</a></li>\\n        <li><a href=\"https://secure.opinionlab.com/ccc01/o.asp?id=jBjOhqOJ\">Feedback</a></li>\\n        <li><a href=\"//www.cisco.com/c/en/us/about/help.html\">Help</a></li>\\n        <li><a href=\"//www.cisco.com/c/en/us/about/sitemap.html\">Site Map</a></li>\\n        <li><a href=\"//www.cisco.com/c/en/us/about/legal/terms-conditions.html\">Terms &amp; Conditions</a></li>\\n\\n\\n        <li>\\n            <a href=\"//www.cisco.com/c/en/us/about/legal/privacy-full.html\">\\n                <span>Privacy</span>\\n                <span>Privacy Statement</span>\\n            </a>\\n        </li>\\n        <li>\\n            <a href=\"//www.cisco.com/c/en/us/about/legal/privacy-full.html#cookies\">\\n                <span>Cookies</span>\\n                <span>Cookies</span>\\n            </a>\\n        </li>\\n        <li><a href=\"//www.cisco.com/c/en/us/about/legal/trademarks.html\">Trademarks</a></li>\\n    </ul>\\n</footer>\\n   \\n    \\n    \\n\\n\\n\\n\\n\\n\\n\\n\\n\\n<div id=\"fw-overlay\"></div>\\n\\n    \\n\\n\\n\\n\\n\\n\\n\\n\\n\\n<script type=\"text/javascript\" src=\"/etc/designs/cdc/clientlibs/responsive/js/homepage.min.js\"></script>\\n\\n\\n\\n\\n\\n\\n\\n\\n\\n\\n\\n\\n\\n\\n\\n  \\n\\n\\n\\n\\n\\n\\n\\n\\n\\n\\n\\n<!-- twitter integration code -->\\n\\n<script type=\"text/javascript\">\\n$(window).load(function(){\\n\\tcdc.util.addMetricsRule(\"p[class=\\'tweet\\'] a\",\\n\\t{ lpos: \"news_social\",\\n\\tlid: \"twitter\" \\n\\t});\\n});\\n\\n\\n</script>\\n\\n<!-- /twitter integration code -->\\n\\n<!-- for cisco live video feed -->\\n    <script type=\"text/javascript\">\\n       if (window.BCL === undefined) {\\n    window.BCL = {};\\n        }\\n        BCL.currentPlayerWidth = 1.0;\\n    </script>\\n\\n\\n<script type=\"text/javascript\">\\njQuery(\"div[class=\\'menu-toggle\\']\").bind(\"mouseup\", function(){\\n  if($(this).attr(\"class\") == \"menu-toggle\")\\n                {\\n                                var metrics_luh = \" Open\";\\n                }\\n   else\\n                {\\n                                var metrics_luh = \" Close\";\\n                }\\n   trackEvent.event(\\'link\\', {element_type: \"flash\", element_name: $(this).text().trim() + metrics_luh, content_container: \"sm_luh\", campaign_page: \"CDC Home Page\"});\\n});\\nfunction doPluginsAddOn() {\\ncdc.ut.trackEvent.s_code.visitorID = cdc.ut.trackEvent._RCV(\"CP_GUTC\");\\n  if(cdc.ut.trackEvent.s_code.prop5 == \"sm_luh\")\\n  {\\n        cdc.ut.trackEvent.s_code.events = \"event5\";\\n  }\\n}\\n</script>\\n\\n<!-- campaign blade -->\\n\\n<script type=\"text/javascript\">\\nfunction doPluginsAddOn() {\\ncdc.ut.trackEvent.s_code.visitorID = cdc.ut.trackEvent._RCV(\"CP_GUTC\");\\n  if(cdc.ut.trackEvent.s_code.prop5 == \"featured_campaign\" && cdc.ut.trackEvent.s_code.prop4 == \"video click\")\\n  {\\n        cdc.ut.trackEvent.s_code.events = \"event5\";\\n  }\\n}\\njQuery(\"object[class=\\'BrightcoveExperience\\']\").parent(\"div\").one(\"mousedown\", function(){\\n   trackEvent.event(\\'link\\', {element_type: \"flash\", element_name: \"video click\", content_container: \"featured_campaign\", campaign_page: $(\"div[class=\\'campaign-links\\'] h2\").text()});\\n});\\n</script>\\n\\n<!-- /campaign blade -->\\n\\n\\n\\n                                \\n    \\n    \\n\\n    <!-- SiteCatalyst code version: H.24.4. -->\\n    <noscript><img src=\"//cisco.112.2o7.net/b/ss/cisco-mobile/5/12345\" width=\"2\" height=\"2\" border=\"0\" alt=\"\"/></noscript>\\n\\n</body>\\n</html>\\n'"
      ]
     },
     "execution_count": 91,
     "metadata": {},
     "output_type": "execute_result"
    }
   ],
   "source": [
    "r.content"
   ]
  },
  {
   "cell_type": "code",
   "execution_count": 92,
   "metadata": {},
   "outputs": [
    {
     "data": {
      "text/plain": [
       "{'Server': 'Apache', 'ETag': '\"16e61-5a13a1e9c7181\"', 'Accept-Ranges': 'bytes', 'Content-Encoding': 'gzip', 'CDCHOST': 'wemxweb-publish-prod2-02', 'X-XSS-Protection': '1; mode=block', 'X-Content-Type-Options': 'nosniff', 'X-test-debug': 'nURL=www.cisco.com,realm=0,isRealm=0,realmDomain=0,shortrealm=0', 'Content-Length': '19221', 'Content-Type': 'text/html', 'Expires': 'Thu, 19 Mar 2020 19:36:30 GMT', 'Cache-Control': 'max-age=0, no-cache, no-store', 'Pragma': 'no-cache', 'Date': 'Thu, 19 Mar 2020 19:36:30 GMT', 'Connection': 'keep-alive', 'Vary': 'Accept-Encoding', 'Content-Security-Policy': 'upgrade-insecure-requests; frame-ancestors *.cisco.com *.jasper.com *.ciscospark.com *.ciscolive.com  http://cisco.lookbookhq.com https://cisco.lookbookhq.com testcisco.marketing.adobe.com cisco.marketing.adobe.com ciscosales.my.salesforce.com test.salesforce.com zedo.com hindustantimes.com economictimes.indiatimes.com *.webex.com *.cdw.com *.cdwg.com *.cdw.ca *.meraki-go.com http://ciscopartners.lookbookhq.com https://ciscopartners.lookbookhq.com ciscolearningsystem.com ciscocustomer.lookbookhq.com cisco.lookbookhq.com ccsmedia.com itquotes.ie dteonline.com ampito-cisco.com arkphire.com *.insight.com *.ccsmedia.com *.ebuyer.com *.lambda-tek.com *.storm-technologies.com *.vohkus.com *.bechtle.com *.rainfocus.com;', 'Strict-Transport-Security': 'max-age=31536000'}"
      ]
     },
     "execution_count": 92,
     "metadata": {},
     "output_type": "execute_result"
    }
   ],
   "source": [
    "r.headers"
   ]
  },
  {
   "cell_type": "code",
   "execution_count": 96,
   "metadata": {},
   "outputs": [
    {
     "data": {
      "text/plain": [
       "{'slideshow': {'author': 'Yours Truly',\n",
       "  'date': 'date of publication',\n",
       "  'slides': [{'title': 'Wake up to WonderWidgets!', 'type': 'all'},\n",
       "   {'items': ['Why <em>WonderWidgets</em> are great',\n",
       "     'Who <em>buys</em> WonderWidgets'],\n",
       "    'title': 'Overview',\n",
       "    'type': 'all'}],\n",
       "  'title': 'Sample Slide Show'}}"
      ]
     },
     "execution_count": 96,
     "metadata": {},
     "output_type": "execute_result"
    }
   ],
   "source": [
    "# get httpbin.org/json\n",
    "r = requests.get('https://httpbin.org/json')\n",
    "json.loads(r.content)   # turn the JSON-encoded string into Python objects"
   ]
  },
  {
   "cell_type": "code",
   "execution_count": 97,
   "metadata": {},
   "outputs": [
    {
     "data": {
      "text/plain": [
       "requests.models.Response"
      ]
     },
     "execution_count": 97,
     "metadata": {},
     "output_type": "execute_result"
    }
   ],
   "source": [
    "type(r)"
   ]
  },
  {
   "cell_type": "code",
   "execution_count": 98,
   "metadata": {},
   "outputs": [],
   "source": [
    "d = json.loads(r.content) "
   ]
  },
  {
   "cell_type": "code",
   "execution_count": 99,
   "metadata": {},
   "outputs": [
    {
     "data": {
      "text/plain": [
       "dict"
      ]
     },
     "execution_count": 99,
     "metadata": {},
     "output_type": "execute_result"
    }
   ],
   "source": [
    "type(d)"
   ]
  },
  {
   "cell_type": "code",
   "execution_count": 105,
   "metadata": {},
   "outputs": [
    {
     "data": {
      "text/plain": [
       "dict_keys(['author', 'date', 'slides', 'title'])"
      ]
     },
     "execution_count": 105,
     "metadata": {},
     "output_type": "execute_result"
    }
   ],
   "source": [
    "d['slideshow'].keys()"
   ]
  },
  {
   "cell_type": "code",
   "execution_count": 106,
   "metadata": {},
   "outputs": [
    {
     "data": {
      "text/plain": [
       "dict_values(['Yours Truly', 'date of publication', [{'title': 'Wake up to WonderWidgets!', 'type': 'all'}, {'items': ['Why <em>WonderWidgets</em> are great', 'Who <em>buys</em> WonderWidgets'], 'title': 'Overview', 'type': 'all'}], 'Sample Slide Show'])"
      ]
     },
     "execution_count": 106,
     "metadata": {},
     "output_type": "execute_result"
    }
   ],
   "source": [
    "d['slideshow'].values()"
   ]
  },
  {
   "cell_type": "code",
   "execution_count": 107,
   "metadata": {},
   "outputs": [
    {
     "name": "stdout",
     "output_type": "stream",
     "text": [
      "author: Yours Truly\n",
      "date: date of publication\n",
      "slides: [{'title': 'Wake up to WonderWidgets!', 'type': 'all'}, {'items': ['Why <em>WonderWidgets</em> are great', 'Who <em>buys</em> WonderWidgets'], 'title': 'Overview', 'type': 'all'}]\n",
      "title: Sample Slide Show\n"
     ]
    }
   ],
   "source": [
    "for key, value in d['slideshow'].items():\n",
    "    print(f'{key}: {value}')"
   ]
  },
  {
   "cell_type": "code",
   "execution_count": null,
   "metadata": {},
   "outputs": [],
   "source": [
    "slideshow   value is a dict: 'author':'Yours Truly'...\n",
    "        "
   ]
  },
  {
   "cell_type": "code",
   "execution_count": 108,
   "metadata": {},
   "outputs": [
    {
     "data": {
      "text/plain": [
       "{'slideshow': {'author': 'Yours Truly',\n",
       "  'date': 'date of publication',\n",
       "  'slides': [{'title': 'Wake up to WonderWidgets!', 'type': 'all'},\n",
       "   {'items': ['Why <em>WonderWidgets</em> are great',\n",
       "     'Who <em>buys</em> WonderWidgets'],\n",
       "    'title': 'Overview',\n",
       "    'type': 'all'}],\n",
       "  'title': 'Sample Slide Show'}}"
      ]
     },
     "execution_count": 108,
     "metadata": {},
     "output_type": "execute_result"
    }
   ],
   "source": [
    "d "
   ]
  },
  {
   "cell_type": "code",
   "execution_count": 110,
   "metadata": {},
   "outputs": [],
   "source": [
    "d = {'a':1, 'b':2, 'c':3, 'd':{'x':10, 'y':20, 'z':30}}"
   ]
  },
  {
   "cell_type": "code",
   "execution_count": 111,
   "metadata": {},
   "outputs": [
    {
     "data": {
      "text/plain": [
       "{'x': 10, 'y': 20, 'z': 30}"
      ]
     },
     "execution_count": 111,
     "metadata": {},
     "output_type": "execute_result"
    }
   ],
   "source": [
    "d['d']"
   ]
  },
  {
   "cell_type": "code",
   "execution_count": 112,
   "metadata": {},
   "outputs": [
    {
     "data": {
      "text/plain": [
       "dict_keys(['x', 'y', 'z'])"
      ]
     },
     "execution_count": 112,
     "metadata": {},
     "output_type": "execute_result"
    }
   ],
   "source": [
    "d['d'].keys()"
   ]
  },
  {
   "cell_type": "code",
   "execution_count": 113,
   "metadata": {},
   "outputs": [
    {
     "data": {
      "text/plain": [
       "dict_values([10, 20, 30])"
      ]
     },
     "execution_count": 113,
     "metadata": {},
     "output_type": "execute_result"
    }
   ],
   "source": [
    "d['d'].values()"
   ]
  },
  {
   "cell_type": "code",
   "execution_count": 114,
   "metadata": {},
   "outputs": [],
   "source": [
    "d = json.loads(r.content)"
   ]
  },
  {
   "cell_type": "code",
   "execution_count": 115,
   "metadata": {},
   "outputs": [
    {
     "data": {
      "text/plain": [
       "'Yours Truly'"
      ]
     },
     "execution_count": 115,
     "metadata": {},
     "output_type": "execute_result"
    }
   ],
   "source": [
    "d['slideshow']['author']"
   ]
  },
  {
   "cell_type": "code",
   "execution_count": 119,
   "metadata": {},
   "outputs": [
    {
     "name": "stdout",
     "output_type": "stream",
     "text": [
      "Enter a URL: http://google.com/\n",
      "Date: Thu, 19 Mar 2020 20:06:25 GMT\n",
      "Expires: -1\n",
      "Cache-Control: private, max-age=0\n",
      "Content-Type: text/html; charset=ISO-8859-1\n",
      "P3P: CP=\"This is not a P3P policy! See g.co/p3phelp for more info.\"\n",
      "Content-Encoding: gzip\n",
      "Server: gws\n",
      "Content-Length: 5146\n",
      "X-XSS-Protection: 0\n",
      "X-Frame-Options: SAMEORIGIN\n",
      "Set-Cookie: 1P_JAR=2020-03-19-20; expires=Sat, 18-Apr-2020 20:06:25 GMT; path=/; domain=.google.com; Secure, NID=200=XlwJdW57D-5Gqb2K09L0iBJdwEeBBoOzuKyhjJlljGXc6NwO_KISNn6rXhfpJC88xHTx2_OAMUw7mtnCZGyCAz4bF2GshFaCBjnIr8ra8BbaIoC1-W2c4fa_hX55E7l4FqVRowX5pJTg4VBsEHZAZ979_Qh7pNPNmkz7e_Vs7-Q; expires=Fri, 18-Sep-2020 20:06:25 GMT; path=/; domain=.google.com; HttpOnly\n"
     ]
    }
   ],
   "source": [
    "# (1) Install \"requests\" on your own computer, using pip\n",
    "# (2) Write a program that asks the user to enter a URL\n",
    "# (3) Have the program retrieve the URL's contents\n",
    "# (4) Iterate over the name-value pairs in the HTTP response headers,\n",
    "#  and print them for the user\n",
    "#   Note: The .headers attribute on the HTTP response object returns a dict.\n",
    "\n",
    "url = input(\"Enter a URL: \").strip()\n",
    "\n",
    "r = requests.get(url)\n",
    "for key, value in r.headers.items():\n",
    "    print(f'{key}: {value}')\n",
    "\n"
   ]
  },
  {
   "cell_type": "code",
   "execution_count": 120,
   "metadata": {},
   "outputs": [
    {
     "ename": "TypeError",
     "evalue": "Object of type CaseInsensitiveDict is not JSON serializable",
     "output_type": "error",
     "traceback": [
      "\u001b[0;31m---------------------------------------------------------------------------\u001b[0m",
      "\u001b[0;31mTypeError\u001b[0m                                 Traceback (most recent call last)",
      "\u001b[0;32m<ipython-input-120-465f437a2009>\u001b[0m in \u001b[0;36m<module>\u001b[0;34m\u001b[0m\n\u001b[0;32m----> 1\u001b[0;31m \u001b[0mjson\u001b[0m\u001b[0;34m.\u001b[0m\u001b[0mdumps\u001b[0m\u001b[0;34m(\u001b[0m\u001b[0mr\u001b[0m\u001b[0;34m.\u001b[0m\u001b[0mheaders\u001b[0m\u001b[0;34m)\u001b[0m\u001b[0;34m\u001b[0m\u001b[0;34m\u001b[0m\u001b[0m\n\u001b[0m",
      "\u001b[0;32m/usr/lib/python3.8/json/__init__.py\u001b[0m in \u001b[0;36mdumps\u001b[0;34m(obj, skipkeys, ensure_ascii, check_circular, allow_nan, cls, indent, separators, default, sort_keys, **kw)\u001b[0m\n\u001b[1;32m    229\u001b[0m         \u001b[0mcls\u001b[0m \u001b[0;32mis\u001b[0m \u001b[0;32mNone\u001b[0m \u001b[0;32mand\u001b[0m \u001b[0mindent\u001b[0m \u001b[0;32mis\u001b[0m \u001b[0;32mNone\u001b[0m \u001b[0;32mand\u001b[0m \u001b[0mseparators\u001b[0m \u001b[0;32mis\u001b[0m \u001b[0;32mNone\u001b[0m \u001b[0;32mand\u001b[0m\u001b[0;34m\u001b[0m\u001b[0;34m\u001b[0m\u001b[0m\n\u001b[1;32m    230\u001b[0m         default is None and not sort_keys and not kw):\n\u001b[0;32m--> 231\u001b[0;31m         \u001b[0;32mreturn\u001b[0m \u001b[0m_default_encoder\u001b[0m\u001b[0;34m.\u001b[0m\u001b[0mencode\u001b[0m\u001b[0;34m(\u001b[0m\u001b[0mobj\u001b[0m\u001b[0;34m)\u001b[0m\u001b[0;34m\u001b[0m\u001b[0;34m\u001b[0m\u001b[0m\n\u001b[0m\u001b[1;32m    232\u001b[0m     \u001b[0;32mif\u001b[0m \u001b[0mcls\u001b[0m \u001b[0;32mis\u001b[0m \u001b[0;32mNone\u001b[0m\u001b[0;34m:\u001b[0m\u001b[0;34m\u001b[0m\u001b[0;34m\u001b[0m\u001b[0m\n\u001b[1;32m    233\u001b[0m         \u001b[0mcls\u001b[0m \u001b[0;34m=\u001b[0m \u001b[0mJSONEncoder\u001b[0m\u001b[0;34m\u001b[0m\u001b[0;34m\u001b[0m\u001b[0m\n",
      "\u001b[0;32m/usr/lib/python3.8/json/encoder.py\u001b[0m in \u001b[0;36mencode\u001b[0;34m(self, o)\u001b[0m\n\u001b[1;32m    197\u001b[0m         \u001b[0;31m# exceptions aren't as detailed.  The list call should be roughly\u001b[0m\u001b[0;34m\u001b[0m\u001b[0;34m\u001b[0m\u001b[0;34m\u001b[0m\u001b[0m\n\u001b[1;32m    198\u001b[0m         \u001b[0;31m# equivalent to the PySequence_Fast that ''.join() would do.\u001b[0m\u001b[0;34m\u001b[0m\u001b[0;34m\u001b[0m\u001b[0;34m\u001b[0m\u001b[0m\n\u001b[0;32m--> 199\u001b[0;31m         \u001b[0mchunks\u001b[0m \u001b[0;34m=\u001b[0m \u001b[0mself\u001b[0m\u001b[0;34m.\u001b[0m\u001b[0miterencode\u001b[0m\u001b[0;34m(\u001b[0m\u001b[0mo\u001b[0m\u001b[0;34m,\u001b[0m \u001b[0m_one_shot\u001b[0m\u001b[0;34m=\u001b[0m\u001b[0;32mTrue\u001b[0m\u001b[0;34m)\u001b[0m\u001b[0;34m\u001b[0m\u001b[0;34m\u001b[0m\u001b[0m\n\u001b[0m\u001b[1;32m    200\u001b[0m         \u001b[0;32mif\u001b[0m \u001b[0;32mnot\u001b[0m \u001b[0misinstance\u001b[0m\u001b[0;34m(\u001b[0m\u001b[0mchunks\u001b[0m\u001b[0;34m,\u001b[0m \u001b[0;34m(\u001b[0m\u001b[0mlist\u001b[0m\u001b[0;34m,\u001b[0m \u001b[0mtuple\u001b[0m\u001b[0;34m)\u001b[0m\u001b[0;34m)\u001b[0m\u001b[0;34m:\u001b[0m\u001b[0;34m\u001b[0m\u001b[0;34m\u001b[0m\u001b[0m\n\u001b[1;32m    201\u001b[0m             \u001b[0mchunks\u001b[0m \u001b[0;34m=\u001b[0m \u001b[0mlist\u001b[0m\u001b[0;34m(\u001b[0m\u001b[0mchunks\u001b[0m\u001b[0;34m)\u001b[0m\u001b[0;34m\u001b[0m\u001b[0;34m\u001b[0m\u001b[0m\n",
      "\u001b[0;32m/usr/lib/python3.8/json/encoder.py\u001b[0m in \u001b[0;36miterencode\u001b[0;34m(self, o, _one_shot)\u001b[0m\n\u001b[1;32m    255\u001b[0m                 \u001b[0mself\u001b[0m\u001b[0;34m.\u001b[0m\u001b[0mkey_separator\u001b[0m\u001b[0;34m,\u001b[0m \u001b[0mself\u001b[0m\u001b[0;34m.\u001b[0m\u001b[0mitem_separator\u001b[0m\u001b[0;34m,\u001b[0m \u001b[0mself\u001b[0m\u001b[0;34m.\u001b[0m\u001b[0msort_keys\u001b[0m\u001b[0;34m,\u001b[0m\u001b[0;34m\u001b[0m\u001b[0;34m\u001b[0m\u001b[0m\n\u001b[1;32m    256\u001b[0m                 self.skipkeys, _one_shot)\n\u001b[0;32m--> 257\u001b[0;31m         \u001b[0;32mreturn\u001b[0m \u001b[0m_iterencode\u001b[0m\u001b[0;34m(\u001b[0m\u001b[0mo\u001b[0m\u001b[0;34m,\u001b[0m \u001b[0;36m0\u001b[0m\u001b[0;34m)\u001b[0m\u001b[0;34m\u001b[0m\u001b[0;34m\u001b[0m\u001b[0m\n\u001b[0m\u001b[1;32m    258\u001b[0m \u001b[0;34m\u001b[0m\u001b[0m\n\u001b[1;32m    259\u001b[0m def _make_iterencode(markers, _default, _encoder, _indent, _floatstr,\n",
      "\u001b[0;32m/usr/lib/python3.8/json/encoder.py\u001b[0m in \u001b[0;36mdefault\u001b[0;34m(self, o)\u001b[0m\n\u001b[1;32m    177\u001b[0m \u001b[0;34m\u001b[0m\u001b[0m\n\u001b[1;32m    178\u001b[0m         \"\"\"\n\u001b[0;32m--> 179\u001b[0;31m         raise TypeError(f'Object of type {o.__class__.__name__} '\n\u001b[0m\u001b[1;32m    180\u001b[0m                         f'is not JSON serializable')\n\u001b[1;32m    181\u001b[0m \u001b[0;34m\u001b[0m\u001b[0m\n",
      "\u001b[0;31mTypeError\u001b[0m: Object of type CaseInsensitiveDict is not JSON serializable"
     ]
    }
   ],
   "source": [
    "json.dumps(r.headers)"
   ]
  },
  {
   "cell_type": "code",
   "execution_count": 121,
   "metadata": {},
   "outputs": [],
   "source": [
    "d = r.headers"
   ]
  },
  {
   "cell_type": "code",
   "execution_count": 122,
   "metadata": {},
   "outputs": [
    {
     "data": {
      "text/plain": [
       "{'Date': 'Thu, 19 Mar 2020 20:06:25 GMT', 'Expires': '-1', 'Cache-Control': 'private, max-age=0', 'Content-Type': 'text/html; charset=ISO-8859-1', 'P3P': 'CP=\"This is not a P3P policy! See g.co/p3phelp for more info.\"', 'Content-Encoding': 'gzip', 'Server': 'gws', 'Content-Length': '5146', 'X-XSS-Protection': '0', 'X-Frame-Options': 'SAMEORIGIN', 'Set-Cookie': '1P_JAR=2020-03-19-20; expires=Sat, 18-Apr-2020 20:06:25 GMT; path=/; domain=.google.com; Secure, NID=200=XlwJdW57D-5Gqb2K09L0iBJdwEeBBoOzuKyhjJlljGXc6NwO_KISNn6rXhfpJC88xHTx2_OAMUw7mtnCZGyCAz4bF2GshFaCBjnIr8ra8BbaIoC1-W2c4fa_hX55E7l4FqVRowX5pJTg4VBsEHZAZ979_Qh7pNPNmkz7e_Vs7-Q; expires=Fri, 18-Sep-2020 20:06:25 GMT; path=/; domain=.google.com; HttpOnly'}"
      ]
     },
     "execution_count": 122,
     "metadata": {},
     "output_type": "execute_result"
    }
   ],
   "source": [
    "d"
   ]
  },
  {
   "cell_type": "code",
   "execution_count": 123,
   "metadata": {},
   "outputs": [
    {
     "data": {
      "text/plain": [
       "requests.structures.CaseInsensitiveDict"
      ]
     },
     "execution_count": 123,
     "metadata": {},
     "output_type": "execute_result"
    }
   ],
   "source": [
    "type(d)"
   ]
  },
  {
   "cell_type": "code",
   "execution_count": 124,
   "metadata": {},
   "outputs": [
    {
     "data": {
      "text/plain": [
       "'Thu, 19 Mar 2020 20:06:25 GMT'"
      ]
     },
     "execution_count": 124,
     "metadata": {},
     "output_type": "execute_result"
    }
   ],
   "source": [
    "d['Date']"
   ]
  },
  {
   "cell_type": "code",
   "execution_count": 125,
   "metadata": {},
   "outputs": [
    {
     "data": {
      "text/plain": [
       "'Thu, 19 Mar 2020 20:06:25 GMT'"
      ]
     },
     "execution_count": 125,
     "metadata": {},
     "output_type": "execute_result"
    }
   ],
   "source": [
    "d['dATE']"
   ]
  },
  {
   "cell_type": "code",
   "execution_count": 126,
   "metadata": {},
   "outputs": [
    {
     "data": {
      "text/plain": [
       "{'Date': 'Thu, 19 Mar 2020 20:06:25 GMT',\n",
       " 'Expires': '-1',\n",
       " 'Cache-Control': 'private, max-age=0',\n",
       " 'Content-Type': 'text/html; charset=ISO-8859-1',\n",
       " 'P3P': 'CP=\"This is not a P3P policy! See g.co/p3phelp for more info.\"',\n",
       " 'Content-Encoding': 'gzip',\n",
       " 'Server': 'gws',\n",
       " 'Content-Length': '5146',\n",
       " 'X-XSS-Protection': '0',\n",
       " 'X-Frame-Options': 'SAMEORIGIN',\n",
       " 'Set-Cookie': '1P_JAR=2020-03-19-20; expires=Sat, 18-Apr-2020 20:06:25 GMT; path=/; domain=.google.com; Secure, NID=200=XlwJdW57D-5Gqb2K09L0iBJdwEeBBoOzuKyhjJlljGXc6NwO_KISNn6rXhfpJC88xHTx2_OAMUw7mtnCZGyCAz4bF2GshFaCBjnIr8ra8BbaIoC1-W2c4fa_hX55E7l4FqVRowX5pJTg4VBsEHZAZ979_Qh7pNPNmkz7e_Vs7-Q; expires=Fri, 18-Sep-2020 20:06:25 GMT; path=/; domain=.google.com; HttpOnly'}"
      ]
     },
     "execution_count": 126,
     "metadata": {},
     "output_type": "execute_result"
    }
   ],
   "source": [
    "dict(d)"
   ]
  },
  {
   "cell_type": "code",
   "execution_count": null,
   "metadata": {},
   "outputs": [],
   "source": []
  }
 ],
 "metadata": {
  "kernelspec": {
   "display_name": "Python 3",
   "language": "python",
   "name": "python3"
  },
  "language_info": {
   "codemirror_mode": {
    "name": "ipython",
    "version": 3
   },
   "file_extension": ".py",
   "mimetype": "text/x-python",
   "name": "python",
   "nbconvert_exporter": "python",
   "pygments_lexer": "ipython3",
   "version": "3.8.0"
  }
 },
 "nbformat": 4,
 "nbformat_minor": 4
}
